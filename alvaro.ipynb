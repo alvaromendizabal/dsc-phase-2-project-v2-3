{
 "cells": [
  {
   "cell_type": "code",
   "execution_count": 1,
   "metadata": {},
   "outputs": [],
   "source": [
    "import numpy as np\n",
    "import pandas as pd\n",
    "from scipy import stats\n",
    "import warnings\n",
    "warnings.filterwarnings(action='ignore')\n",
    "\n",
    "\n",
    "import matplotlib.pyplot as plt\n",
    "from matplotlib import ticker\n",
    "%matplotlib inline\n",
    "import seaborn as sns\n",
    "plt.style.use('seaborn-notebook')\n",
    "from yellowbrick.regressor import ResidualsPlot\n",
    "\n",
    "import statsmodels.api as sm\n",
    "from statsmodels.api import OLS\n",
    "\n",
    "from sklearn.dummy import DummyRegressor\n",
    "from sklearn.pipeline import make_pipeline\n",
    "from sklearn.compose import ColumnTransformer\n",
    "from sklearn.linear_model import LinearRegression\n",
    "from sklearn.model_selection import train_test_split\n",
    "from sklearn.metrics import r2_score, mean_squared_error, mean_absolute_error\n",
    "from sklearn.preprocessing import PolynomialFeatures, StandardScaler, OrdinalEncoder, OneHotEncoder"
   ]
  },
  {
   "cell_type": "code",
   "execution_count": 2,
   "metadata": {},
   "outputs": [
    {
     "data": {
      "text/html": [
       "<div>\n",
       "<style scoped>\n",
       "    .dataframe tbody tr th:only-of-type {\n",
       "        vertical-align: middle;\n",
       "    }\n",
       "\n",
       "    .dataframe tbody tr th {\n",
       "        vertical-align: top;\n",
       "    }\n",
       "\n",
       "    .dataframe thead th {\n",
       "        text-align: right;\n",
       "    }\n",
       "</style>\n",
       "<table border=\"1\" class=\"dataframe\">\n",
       "  <thead>\n",
       "    <tr style=\"text-align: right;\">\n",
       "      <th></th>\n",
       "      <th>id</th>\n",
       "      <th>date</th>\n",
       "      <th>price</th>\n",
       "      <th>bedrooms</th>\n",
       "      <th>bathrooms</th>\n",
       "      <th>sqft_living</th>\n",
       "      <th>sqft_lot</th>\n",
       "      <th>floors</th>\n",
       "      <th>waterfront</th>\n",
       "      <th>view</th>\n",
       "      <th>...</th>\n",
       "      <th>grade</th>\n",
       "      <th>sqft_above</th>\n",
       "      <th>sqft_basement</th>\n",
       "      <th>yr_built</th>\n",
       "      <th>yr_renovated</th>\n",
       "      <th>zipcode</th>\n",
       "      <th>lat</th>\n",
       "      <th>long</th>\n",
       "      <th>sqft_living15</th>\n",
       "      <th>sqft_lot15</th>\n",
       "    </tr>\n",
       "  </thead>\n",
       "  <tbody>\n",
       "    <tr>\n",
       "      <th>0</th>\n",
       "      <td>7129300520</td>\n",
       "      <td>10/13/2014</td>\n",
       "      <td>221900.0</td>\n",
       "      <td>3</td>\n",
       "      <td>1.00</td>\n",
       "      <td>1180</td>\n",
       "      <td>5650</td>\n",
       "      <td>1.0</td>\n",
       "      <td>NaN</td>\n",
       "      <td>NONE</td>\n",
       "      <td>...</td>\n",
       "      <td>7 Average</td>\n",
       "      <td>1180</td>\n",
       "      <td>0.0</td>\n",
       "      <td>1955</td>\n",
       "      <td>0.0</td>\n",
       "      <td>98178</td>\n",
       "      <td>47.5112</td>\n",
       "      <td>-122.257</td>\n",
       "      <td>1340</td>\n",
       "      <td>5650</td>\n",
       "    </tr>\n",
       "    <tr>\n",
       "      <th>1</th>\n",
       "      <td>6414100192</td>\n",
       "      <td>12/9/2014</td>\n",
       "      <td>538000.0</td>\n",
       "      <td>3</td>\n",
       "      <td>2.25</td>\n",
       "      <td>2570</td>\n",
       "      <td>7242</td>\n",
       "      <td>2.0</td>\n",
       "      <td>NO</td>\n",
       "      <td>NONE</td>\n",
       "      <td>...</td>\n",
       "      <td>7 Average</td>\n",
       "      <td>2170</td>\n",
       "      <td>400.0</td>\n",
       "      <td>1951</td>\n",
       "      <td>1991.0</td>\n",
       "      <td>98125</td>\n",
       "      <td>47.7210</td>\n",
       "      <td>-122.319</td>\n",
       "      <td>1690</td>\n",
       "      <td>7639</td>\n",
       "    </tr>\n",
       "    <tr>\n",
       "      <th>2</th>\n",
       "      <td>5631500400</td>\n",
       "      <td>2/25/2015</td>\n",
       "      <td>180000.0</td>\n",
       "      <td>2</td>\n",
       "      <td>1.00</td>\n",
       "      <td>770</td>\n",
       "      <td>10000</td>\n",
       "      <td>1.0</td>\n",
       "      <td>NO</td>\n",
       "      <td>NONE</td>\n",
       "      <td>...</td>\n",
       "      <td>6 Low Average</td>\n",
       "      <td>770</td>\n",
       "      <td>0.0</td>\n",
       "      <td>1933</td>\n",
       "      <td>NaN</td>\n",
       "      <td>98028</td>\n",
       "      <td>47.7379</td>\n",
       "      <td>-122.233</td>\n",
       "      <td>2720</td>\n",
       "      <td>8062</td>\n",
       "    </tr>\n",
       "    <tr>\n",
       "      <th>3</th>\n",
       "      <td>2487200875</td>\n",
       "      <td>12/9/2014</td>\n",
       "      <td>604000.0</td>\n",
       "      <td>4</td>\n",
       "      <td>3.00</td>\n",
       "      <td>1960</td>\n",
       "      <td>5000</td>\n",
       "      <td>1.0</td>\n",
       "      <td>NO</td>\n",
       "      <td>NONE</td>\n",
       "      <td>...</td>\n",
       "      <td>7 Average</td>\n",
       "      <td>1050</td>\n",
       "      <td>910.0</td>\n",
       "      <td>1965</td>\n",
       "      <td>0.0</td>\n",
       "      <td>98136</td>\n",
       "      <td>47.5208</td>\n",
       "      <td>-122.393</td>\n",
       "      <td>1360</td>\n",
       "      <td>5000</td>\n",
       "    </tr>\n",
       "    <tr>\n",
       "      <th>4</th>\n",
       "      <td>1954400510</td>\n",
       "      <td>2/18/2015</td>\n",
       "      <td>510000.0</td>\n",
       "      <td>3</td>\n",
       "      <td>2.00</td>\n",
       "      <td>1680</td>\n",
       "      <td>8080</td>\n",
       "      <td>1.0</td>\n",
       "      <td>NO</td>\n",
       "      <td>NONE</td>\n",
       "      <td>...</td>\n",
       "      <td>8 Good</td>\n",
       "      <td>1680</td>\n",
       "      <td>0.0</td>\n",
       "      <td>1987</td>\n",
       "      <td>0.0</td>\n",
       "      <td>98074</td>\n",
       "      <td>47.6168</td>\n",
       "      <td>-122.045</td>\n",
       "      <td>1800</td>\n",
       "      <td>7503</td>\n",
       "    </tr>\n",
       "    <tr>\n",
       "      <th>...</th>\n",
       "      <td>...</td>\n",
       "      <td>...</td>\n",
       "      <td>...</td>\n",
       "      <td>...</td>\n",
       "      <td>...</td>\n",
       "      <td>...</td>\n",
       "      <td>...</td>\n",
       "      <td>...</td>\n",
       "      <td>...</td>\n",
       "      <td>...</td>\n",
       "      <td>...</td>\n",
       "      <td>...</td>\n",
       "      <td>...</td>\n",
       "      <td>...</td>\n",
       "      <td>...</td>\n",
       "      <td>...</td>\n",
       "      <td>...</td>\n",
       "      <td>...</td>\n",
       "      <td>...</td>\n",
       "      <td>...</td>\n",
       "      <td>...</td>\n",
       "    </tr>\n",
       "    <tr>\n",
       "      <th>21592</th>\n",
       "      <td>263000018</td>\n",
       "      <td>5/21/2014</td>\n",
       "      <td>360000.0</td>\n",
       "      <td>3</td>\n",
       "      <td>2.50</td>\n",
       "      <td>1530</td>\n",
       "      <td>1131</td>\n",
       "      <td>3.0</td>\n",
       "      <td>NO</td>\n",
       "      <td>NONE</td>\n",
       "      <td>...</td>\n",
       "      <td>8 Good</td>\n",
       "      <td>1530</td>\n",
       "      <td>0.0</td>\n",
       "      <td>2009</td>\n",
       "      <td>0.0</td>\n",
       "      <td>98103</td>\n",
       "      <td>47.6993</td>\n",
       "      <td>-122.346</td>\n",
       "      <td>1530</td>\n",
       "      <td>1509</td>\n",
       "    </tr>\n",
       "    <tr>\n",
       "      <th>21593</th>\n",
       "      <td>6600060120</td>\n",
       "      <td>2/23/2015</td>\n",
       "      <td>400000.0</td>\n",
       "      <td>4</td>\n",
       "      <td>2.50</td>\n",
       "      <td>2310</td>\n",
       "      <td>5813</td>\n",
       "      <td>2.0</td>\n",
       "      <td>NO</td>\n",
       "      <td>NONE</td>\n",
       "      <td>...</td>\n",
       "      <td>8 Good</td>\n",
       "      <td>2310</td>\n",
       "      <td>0.0</td>\n",
       "      <td>2014</td>\n",
       "      <td>0.0</td>\n",
       "      <td>98146</td>\n",
       "      <td>47.5107</td>\n",
       "      <td>-122.362</td>\n",
       "      <td>1830</td>\n",
       "      <td>7200</td>\n",
       "    </tr>\n",
       "    <tr>\n",
       "      <th>21594</th>\n",
       "      <td>1523300141</td>\n",
       "      <td>6/23/2014</td>\n",
       "      <td>402101.0</td>\n",
       "      <td>2</td>\n",
       "      <td>0.75</td>\n",
       "      <td>1020</td>\n",
       "      <td>1350</td>\n",
       "      <td>2.0</td>\n",
       "      <td>NO</td>\n",
       "      <td>NONE</td>\n",
       "      <td>...</td>\n",
       "      <td>7 Average</td>\n",
       "      <td>1020</td>\n",
       "      <td>0.0</td>\n",
       "      <td>2009</td>\n",
       "      <td>0.0</td>\n",
       "      <td>98144</td>\n",
       "      <td>47.5944</td>\n",
       "      <td>-122.299</td>\n",
       "      <td>1020</td>\n",
       "      <td>2007</td>\n",
       "    </tr>\n",
       "    <tr>\n",
       "      <th>21595</th>\n",
       "      <td>291310100</td>\n",
       "      <td>1/16/2015</td>\n",
       "      <td>400000.0</td>\n",
       "      <td>3</td>\n",
       "      <td>2.50</td>\n",
       "      <td>1600</td>\n",
       "      <td>2388</td>\n",
       "      <td>2.0</td>\n",
       "      <td>NaN</td>\n",
       "      <td>NONE</td>\n",
       "      <td>...</td>\n",
       "      <td>8 Good</td>\n",
       "      <td>1600</td>\n",
       "      <td>0.0</td>\n",
       "      <td>2004</td>\n",
       "      <td>0.0</td>\n",
       "      <td>98027</td>\n",
       "      <td>47.5345</td>\n",
       "      <td>-122.069</td>\n",
       "      <td>1410</td>\n",
       "      <td>1287</td>\n",
       "    </tr>\n",
       "    <tr>\n",
       "      <th>21596</th>\n",
       "      <td>1523300157</td>\n",
       "      <td>10/15/2014</td>\n",
       "      <td>325000.0</td>\n",
       "      <td>2</td>\n",
       "      <td>0.75</td>\n",
       "      <td>1020</td>\n",
       "      <td>1076</td>\n",
       "      <td>2.0</td>\n",
       "      <td>NO</td>\n",
       "      <td>NONE</td>\n",
       "      <td>...</td>\n",
       "      <td>7 Average</td>\n",
       "      <td>1020</td>\n",
       "      <td>0.0</td>\n",
       "      <td>2008</td>\n",
       "      <td>0.0</td>\n",
       "      <td>98144</td>\n",
       "      <td>47.5941</td>\n",
       "      <td>-122.299</td>\n",
       "      <td>1020</td>\n",
       "      <td>1357</td>\n",
       "    </tr>\n",
       "  </tbody>\n",
       "</table>\n",
       "<p>21597 rows × 21 columns</p>\n",
       "</div>"
      ],
      "text/plain": [
       "               id        date     price  bedrooms  bathrooms  sqft_living  \\\n",
       "0      7129300520  10/13/2014  221900.0         3       1.00         1180   \n",
       "1      6414100192   12/9/2014  538000.0         3       2.25         2570   \n",
       "2      5631500400   2/25/2015  180000.0         2       1.00          770   \n",
       "3      2487200875   12/9/2014  604000.0         4       3.00         1960   \n",
       "4      1954400510   2/18/2015  510000.0         3       2.00         1680   \n",
       "...           ...         ...       ...       ...        ...          ...   \n",
       "21592   263000018   5/21/2014  360000.0         3       2.50         1530   \n",
       "21593  6600060120   2/23/2015  400000.0         4       2.50         2310   \n",
       "21594  1523300141   6/23/2014  402101.0         2       0.75         1020   \n",
       "21595   291310100   1/16/2015  400000.0         3       2.50         1600   \n",
       "21596  1523300157  10/15/2014  325000.0         2       0.75         1020   \n",
       "\n",
       "       sqft_lot  floors waterfront  view  ...          grade sqft_above  \\\n",
       "0          5650     1.0        NaN  NONE  ...      7 Average       1180   \n",
       "1          7242     2.0         NO  NONE  ...      7 Average       2170   \n",
       "2         10000     1.0         NO  NONE  ...  6 Low Average        770   \n",
       "3          5000     1.0         NO  NONE  ...      7 Average       1050   \n",
       "4          8080     1.0         NO  NONE  ...         8 Good       1680   \n",
       "...         ...     ...        ...   ...  ...            ...        ...   \n",
       "21592      1131     3.0         NO  NONE  ...         8 Good       1530   \n",
       "21593      5813     2.0         NO  NONE  ...         8 Good       2310   \n",
       "21594      1350     2.0         NO  NONE  ...      7 Average       1020   \n",
       "21595      2388     2.0        NaN  NONE  ...         8 Good       1600   \n",
       "21596      1076     2.0         NO  NONE  ...      7 Average       1020   \n",
       "\n",
       "       sqft_basement yr_built  yr_renovated  zipcode      lat     long  \\\n",
       "0                0.0     1955           0.0    98178  47.5112 -122.257   \n",
       "1              400.0     1951        1991.0    98125  47.7210 -122.319   \n",
       "2                0.0     1933           NaN    98028  47.7379 -122.233   \n",
       "3              910.0     1965           0.0    98136  47.5208 -122.393   \n",
       "4                0.0     1987           0.0    98074  47.6168 -122.045   \n",
       "...              ...      ...           ...      ...      ...      ...   \n",
       "21592            0.0     2009           0.0    98103  47.6993 -122.346   \n",
       "21593            0.0     2014           0.0    98146  47.5107 -122.362   \n",
       "21594            0.0     2009           0.0    98144  47.5944 -122.299   \n",
       "21595            0.0     2004           0.0    98027  47.5345 -122.069   \n",
       "21596            0.0     2008           0.0    98144  47.5941 -122.299   \n",
       "\n",
       "       sqft_living15  sqft_lot15  \n",
       "0               1340        5650  \n",
       "1               1690        7639  \n",
       "2               2720        8062  \n",
       "3               1360        5000  \n",
       "4               1800        7503  \n",
       "...              ...         ...  \n",
       "21592           1530        1509  \n",
       "21593           1830        7200  \n",
       "21594           1020        2007  \n",
       "21595           1410        1287  \n",
       "21596           1020        1357  \n",
       "\n",
       "[21597 rows x 21 columns]"
      ]
     },
     "execution_count": 2,
     "metadata": {},
     "output_type": "execute_result"
    }
   ],
   "source": [
    "# specify index_col=0 to avoid creating an \"Unnamed: 0\" column.\n",
    "# specify parse date to avoid object dtype for dates\n",
    "df = pd.read_csv('./data/kc_house_data.csv') \n",
    "df"
   ]
  },
  {
   "cell_type": "code",
   "execution_count": 3,
   "metadata": {
    "scrolled": true
   },
   "outputs": [
    {
     "data": {
      "text/plain": [
       "21597"
      ]
     },
     "execution_count": 3,
     "metadata": {},
     "output_type": "execute_result"
    }
   ],
   "source": [
    "len(df)"
   ]
  },
  {
   "cell_type": "code",
   "execution_count": 4,
   "metadata": {},
   "outputs": [
    {
     "name": "stdout",
     "output_type": "stream",
     "text": [
      "<class 'pandas.core.frame.DataFrame'>\n",
      "RangeIndex: 21597 entries, 0 to 21596\n",
      "Data columns (total 21 columns):\n",
      " #   Column         Non-Null Count  Dtype  \n",
      "---  ------         --------------  -----  \n",
      " 0   id             21597 non-null  int64  \n",
      " 1   date           21597 non-null  object \n",
      " 2   price          21597 non-null  float64\n",
      " 3   bedrooms       21597 non-null  int64  \n",
      " 4   bathrooms      21597 non-null  float64\n",
      " 5   sqft_living    21597 non-null  int64  \n",
      " 6   sqft_lot       21597 non-null  int64  \n",
      " 7   floors         21597 non-null  float64\n",
      " 8   waterfront     19221 non-null  object \n",
      " 9   view           21534 non-null  object \n",
      " 10  condition      21597 non-null  object \n",
      " 11  grade          21597 non-null  object \n",
      " 12  sqft_above     21597 non-null  int64  \n",
      " 13  sqft_basement  21597 non-null  object \n",
      " 14  yr_built       21597 non-null  int64  \n",
      " 15  yr_renovated   17755 non-null  float64\n",
      " 16  zipcode        21597 non-null  int64  \n",
      " 17  lat            21597 non-null  float64\n",
      " 18  long           21597 non-null  float64\n",
      " 19  sqft_living15  21597 non-null  int64  \n",
      " 20  sqft_lot15     21597 non-null  int64  \n",
      "dtypes: float64(6), int64(9), object(6)\n",
      "memory usage: 3.5+ MB\n"
     ]
    }
   ],
   "source": [
    "df.info()"
   ]
  },
  {
   "cell_type": "markdown",
   "metadata": {},
   "source": [
    "# Fill NaNs and Drop Duplicates"
   ]
  },
  {
   "cell_type": "markdown",
   "metadata": {},
   "source": [
    "### Duplicates"
   ]
  },
  {
   "cell_type": "code",
   "execution_count": 5,
   "metadata": {},
   "outputs": [
    {
     "data": {
      "text/plain": [
       "177"
      ]
     },
     "execution_count": 5,
     "metadata": {},
     "output_type": "execute_result"
    }
   ],
   "source": [
    "df['id'].duplicated().sum()"
   ]
  },
  {
   "cell_type": "code",
   "execution_count": 6,
   "metadata": {},
   "outputs": [
    {
     "data": {
      "text/html": [
       "<div>\n",
       "<style scoped>\n",
       "    .dataframe tbody tr th:only-of-type {\n",
       "        vertical-align: middle;\n",
       "    }\n",
       "\n",
       "    .dataframe tbody tr th {\n",
       "        vertical-align: top;\n",
       "    }\n",
       "\n",
       "    .dataframe thead th {\n",
       "        text-align: right;\n",
       "    }\n",
       "</style>\n",
       "<table border=\"1\" class=\"dataframe\">\n",
       "  <thead>\n",
       "    <tr style=\"text-align: right;\">\n",
       "      <th></th>\n",
       "      <th>id</th>\n",
       "      <th>date</th>\n",
       "      <th>price</th>\n",
       "      <th>bedrooms</th>\n",
       "      <th>bathrooms</th>\n",
       "      <th>sqft_living</th>\n",
       "      <th>sqft_lot</th>\n",
       "      <th>floors</th>\n",
       "      <th>waterfront</th>\n",
       "      <th>view</th>\n",
       "      <th>...</th>\n",
       "      <th>grade</th>\n",
       "      <th>sqft_above</th>\n",
       "      <th>sqft_basement</th>\n",
       "      <th>yr_built</th>\n",
       "      <th>yr_renovated</th>\n",
       "      <th>zipcode</th>\n",
       "      <th>lat</th>\n",
       "      <th>long</th>\n",
       "      <th>sqft_living15</th>\n",
       "      <th>sqft_lot15</th>\n",
       "    </tr>\n",
       "  </thead>\n",
       "  <tbody>\n",
       "    <tr>\n",
       "      <th>0</th>\n",
       "      <td>7129300520</td>\n",
       "      <td>10/13/2014</td>\n",
       "      <td>221900.0</td>\n",
       "      <td>3</td>\n",
       "      <td>1.00</td>\n",
       "      <td>1180</td>\n",
       "      <td>5650</td>\n",
       "      <td>1.0</td>\n",
       "      <td>NaN</td>\n",
       "      <td>NONE</td>\n",
       "      <td>...</td>\n",
       "      <td>7 Average</td>\n",
       "      <td>1180</td>\n",
       "      <td>0.0</td>\n",
       "      <td>1955</td>\n",
       "      <td>0.0</td>\n",
       "      <td>98178</td>\n",
       "      <td>47.5112</td>\n",
       "      <td>-122.257</td>\n",
       "      <td>1340</td>\n",
       "      <td>5650</td>\n",
       "    </tr>\n",
       "    <tr>\n",
       "      <th>1</th>\n",
       "      <td>6414100192</td>\n",
       "      <td>12/9/2014</td>\n",
       "      <td>538000.0</td>\n",
       "      <td>3</td>\n",
       "      <td>2.25</td>\n",
       "      <td>2570</td>\n",
       "      <td>7242</td>\n",
       "      <td>2.0</td>\n",
       "      <td>NO</td>\n",
       "      <td>NONE</td>\n",
       "      <td>...</td>\n",
       "      <td>7 Average</td>\n",
       "      <td>2170</td>\n",
       "      <td>400.0</td>\n",
       "      <td>1951</td>\n",
       "      <td>1991.0</td>\n",
       "      <td>98125</td>\n",
       "      <td>47.7210</td>\n",
       "      <td>-122.319</td>\n",
       "      <td>1690</td>\n",
       "      <td>7639</td>\n",
       "    </tr>\n",
       "    <tr>\n",
       "      <th>2</th>\n",
       "      <td>5631500400</td>\n",
       "      <td>2/25/2015</td>\n",
       "      <td>180000.0</td>\n",
       "      <td>2</td>\n",
       "      <td>1.00</td>\n",
       "      <td>770</td>\n",
       "      <td>10000</td>\n",
       "      <td>1.0</td>\n",
       "      <td>NO</td>\n",
       "      <td>NONE</td>\n",
       "      <td>...</td>\n",
       "      <td>6 Low Average</td>\n",
       "      <td>770</td>\n",
       "      <td>0.0</td>\n",
       "      <td>1933</td>\n",
       "      <td>NaN</td>\n",
       "      <td>98028</td>\n",
       "      <td>47.7379</td>\n",
       "      <td>-122.233</td>\n",
       "      <td>2720</td>\n",
       "      <td>8062</td>\n",
       "    </tr>\n",
       "    <tr>\n",
       "      <th>3</th>\n",
       "      <td>2487200875</td>\n",
       "      <td>12/9/2014</td>\n",
       "      <td>604000.0</td>\n",
       "      <td>4</td>\n",
       "      <td>3.00</td>\n",
       "      <td>1960</td>\n",
       "      <td>5000</td>\n",
       "      <td>1.0</td>\n",
       "      <td>NO</td>\n",
       "      <td>NONE</td>\n",
       "      <td>...</td>\n",
       "      <td>7 Average</td>\n",
       "      <td>1050</td>\n",
       "      <td>910.0</td>\n",
       "      <td>1965</td>\n",
       "      <td>0.0</td>\n",
       "      <td>98136</td>\n",
       "      <td>47.5208</td>\n",
       "      <td>-122.393</td>\n",
       "      <td>1360</td>\n",
       "      <td>5000</td>\n",
       "    </tr>\n",
       "    <tr>\n",
       "      <th>4</th>\n",
       "      <td>1954400510</td>\n",
       "      <td>2/18/2015</td>\n",
       "      <td>510000.0</td>\n",
       "      <td>3</td>\n",
       "      <td>2.00</td>\n",
       "      <td>1680</td>\n",
       "      <td>8080</td>\n",
       "      <td>1.0</td>\n",
       "      <td>NO</td>\n",
       "      <td>NONE</td>\n",
       "      <td>...</td>\n",
       "      <td>8 Good</td>\n",
       "      <td>1680</td>\n",
       "      <td>0.0</td>\n",
       "      <td>1987</td>\n",
       "      <td>0.0</td>\n",
       "      <td>98074</td>\n",
       "      <td>47.6168</td>\n",
       "      <td>-122.045</td>\n",
       "      <td>1800</td>\n",
       "      <td>7503</td>\n",
       "    </tr>\n",
       "    <tr>\n",
       "      <th>...</th>\n",
       "      <td>...</td>\n",
       "      <td>...</td>\n",
       "      <td>...</td>\n",
       "      <td>...</td>\n",
       "      <td>...</td>\n",
       "      <td>...</td>\n",
       "      <td>...</td>\n",
       "      <td>...</td>\n",
       "      <td>...</td>\n",
       "      <td>...</td>\n",
       "      <td>...</td>\n",
       "      <td>...</td>\n",
       "      <td>...</td>\n",
       "      <td>...</td>\n",
       "      <td>...</td>\n",
       "      <td>...</td>\n",
       "      <td>...</td>\n",
       "      <td>...</td>\n",
       "      <td>...</td>\n",
       "      <td>...</td>\n",
       "      <td>...</td>\n",
       "    </tr>\n",
       "    <tr>\n",
       "      <th>21592</th>\n",
       "      <td>263000018</td>\n",
       "      <td>5/21/2014</td>\n",
       "      <td>360000.0</td>\n",
       "      <td>3</td>\n",
       "      <td>2.50</td>\n",
       "      <td>1530</td>\n",
       "      <td>1131</td>\n",
       "      <td>3.0</td>\n",
       "      <td>NO</td>\n",
       "      <td>NONE</td>\n",
       "      <td>...</td>\n",
       "      <td>8 Good</td>\n",
       "      <td>1530</td>\n",
       "      <td>0.0</td>\n",
       "      <td>2009</td>\n",
       "      <td>0.0</td>\n",
       "      <td>98103</td>\n",
       "      <td>47.6993</td>\n",
       "      <td>-122.346</td>\n",
       "      <td>1530</td>\n",
       "      <td>1509</td>\n",
       "    </tr>\n",
       "    <tr>\n",
       "      <th>21593</th>\n",
       "      <td>6600060120</td>\n",
       "      <td>2/23/2015</td>\n",
       "      <td>400000.0</td>\n",
       "      <td>4</td>\n",
       "      <td>2.50</td>\n",
       "      <td>2310</td>\n",
       "      <td>5813</td>\n",
       "      <td>2.0</td>\n",
       "      <td>NO</td>\n",
       "      <td>NONE</td>\n",
       "      <td>...</td>\n",
       "      <td>8 Good</td>\n",
       "      <td>2310</td>\n",
       "      <td>0.0</td>\n",
       "      <td>2014</td>\n",
       "      <td>0.0</td>\n",
       "      <td>98146</td>\n",
       "      <td>47.5107</td>\n",
       "      <td>-122.362</td>\n",
       "      <td>1830</td>\n",
       "      <td>7200</td>\n",
       "    </tr>\n",
       "    <tr>\n",
       "      <th>21594</th>\n",
       "      <td>1523300141</td>\n",
       "      <td>6/23/2014</td>\n",
       "      <td>402101.0</td>\n",
       "      <td>2</td>\n",
       "      <td>0.75</td>\n",
       "      <td>1020</td>\n",
       "      <td>1350</td>\n",
       "      <td>2.0</td>\n",
       "      <td>NO</td>\n",
       "      <td>NONE</td>\n",
       "      <td>...</td>\n",
       "      <td>7 Average</td>\n",
       "      <td>1020</td>\n",
       "      <td>0.0</td>\n",
       "      <td>2009</td>\n",
       "      <td>0.0</td>\n",
       "      <td>98144</td>\n",
       "      <td>47.5944</td>\n",
       "      <td>-122.299</td>\n",
       "      <td>1020</td>\n",
       "      <td>2007</td>\n",
       "    </tr>\n",
       "    <tr>\n",
       "      <th>21595</th>\n",
       "      <td>291310100</td>\n",
       "      <td>1/16/2015</td>\n",
       "      <td>400000.0</td>\n",
       "      <td>3</td>\n",
       "      <td>2.50</td>\n",
       "      <td>1600</td>\n",
       "      <td>2388</td>\n",
       "      <td>2.0</td>\n",
       "      <td>NaN</td>\n",
       "      <td>NONE</td>\n",
       "      <td>...</td>\n",
       "      <td>8 Good</td>\n",
       "      <td>1600</td>\n",
       "      <td>0.0</td>\n",
       "      <td>2004</td>\n",
       "      <td>0.0</td>\n",
       "      <td>98027</td>\n",
       "      <td>47.5345</td>\n",
       "      <td>-122.069</td>\n",
       "      <td>1410</td>\n",
       "      <td>1287</td>\n",
       "    </tr>\n",
       "    <tr>\n",
       "      <th>21596</th>\n",
       "      <td>1523300157</td>\n",
       "      <td>10/15/2014</td>\n",
       "      <td>325000.0</td>\n",
       "      <td>2</td>\n",
       "      <td>0.75</td>\n",
       "      <td>1020</td>\n",
       "      <td>1076</td>\n",
       "      <td>2.0</td>\n",
       "      <td>NO</td>\n",
       "      <td>NONE</td>\n",
       "      <td>...</td>\n",
       "      <td>7 Average</td>\n",
       "      <td>1020</td>\n",
       "      <td>0.0</td>\n",
       "      <td>2008</td>\n",
       "      <td>0.0</td>\n",
       "      <td>98144</td>\n",
       "      <td>47.5941</td>\n",
       "      <td>-122.299</td>\n",
       "      <td>1020</td>\n",
       "      <td>1357</td>\n",
       "    </tr>\n",
       "  </tbody>\n",
       "</table>\n",
       "<p>21420 rows × 21 columns</p>\n",
       "</div>"
      ],
      "text/plain": [
       "               id        date     price  bedrooms  bathrooms  sqft_living  \\\n",
       "0      7129300520  10/13/2014  221900.0         3       1.00         1180   \n",
       "1      6414100192   12/9/2014  538000.0         3       2.25         2570   \n",
       "2      5631500400   2/25/2015  180000.0         2       1.00          770   \n",
       "3      2487200875   12/9/2014  604000.0         4       3.00         1960   \n",
       "4      1954400510   2/18/2015  510000.0         3       2.00         1680   \n",
       "...           ...         ...       ...       ...        ...          ...   \n",
       "21592   263000018   5/21/2014  360000.0         3       2.50         1530   \n",
       "21593  6600060120   2/23/2015  400000.0         4       2.50         2310   \n",
       "21594  1523300141   6/23/2014  402101.0         2       0.75         1020   \n",
       "21595   291310100   1/16/2015  400000.0         3       2.50         1600   \n",
       "21596  1523300157  10/15/2014  325000.0         2       0.75         1020   \n",
       "\n",
       "       sqft_lot  floors waterfront  view  ...          grade sqft_above  \\\n",
       "0          5650     1.0        NaN  NONE  ...      7 Average       1180   \n",
       "1          7242     2.0         NO  NONE  ...      7 Average       2170   \n",
       "2         10000     1.0         NO  NONE  ...  6 Low Average        770   \n",
       "3          5000     1.0         NO  NONE  ...      7 Average       1050   \n",
       "4          8080     1.0         NO  NONE  ...         8 Good       1680   \n",
       "...         ...     ...        ...   ...  ...            ...        ...   \n",
       "21592      1131     3.0         NO  NONE  ...         8 Good       1530   \n",
       "21593      5813     2.0         NO  NONE  ...         8 Good       2310   \n",
       "21594      1350     2.0         NO  NONE  ...      7 Average       1020   \n",
       "21595      2388     2.0        NaN  NONE  ...         8 Good       1600   \n",
       "21596      1076     2.0         NO  NONE  ...      7 Average       1020   \n",
       "\n",
       "       sqft_basement yr_built  yr_renovated  zipcode      lat     long  \\\n",
       "0                0.0     1955           0.0    98178  47.5112 -122.257   \n",
       "1              400.0     1951        1991.0    98125  47.7210 -122.319   \n",
       "2                0.0     1933           NaN    98028  47.7379 -122.233   \n",
       "3              910.0     1965           0.0    98136  47.5208 -122.393   \n",
       "4                0.0     1987           0.0    98074  47.6168 -122.045   \n",
       "...              ...      ...           ...      ...      ...      ...   \n",
       "21592            0.0     2009           0.0    98103  47.6993 -122.346   \n",
       "21593            0.0     2014           0.0    98146  47.5107 -122.362   \n",
       "21594            0.0     2009           0.0    98144  47.5944 -122.299   \n",
       "21595            0.0     2004           0.0    98027  47.5345 -122.069   \n",
       "21596            0.0     2008           0.0    98144  47.5941 -122.299   \n",
       "\n",
       "       sqft_living15  sqft_lot15  \n",
       "0               1340        5650  \n",
       "1               1690        7639  \n",
       "2               2720        8062  \n",
       "3               1360        5000  \n",
       "4               1800        7503  \n",
       "...              ...         ...  \n",
       "21592           1530        1509  \n",
       "21593           1830        7200  \n",
       "21594           1020        2007  \n",
       "21595           1410        1287  \n",
       "21596           1020        1357  \n",
       "\n",
       "[21420 rows x 21 columns]"
      ]
     },
     "execution_count": 6,
     "metadata": {},
     "output_type": "execute_result"
    }
   ],
   "source": [
    "df.drop_duplicates(subset=['id'])"
   ]
  },
  {
   "cell_type": "markdown",
   "metadata": {},
   "source": [
    "### NaNs"
   ]
  },
  {
   "cell_type": "code",
   "execution_count": 7,
   "metadata": {
    "scrolled": true
   },
   "outputs": [
    {
     "data": {
      "text/plain": [
       "id                  0\n",
       "date                0\n",
       "price               0\n",
       "bedrooms            0\n",
       "bathrooms           0\n",
       "sqft_living         0\n",
       "sqft_lot            0\n",
       "floors              0\n",
       "waterfront       2376\n",
       "view               63\n",
       "condition           0\n",
       "grade               0\n",
       "sqft_above          0\n",
       "sqft_basement       0\n",
       "yr_built            0\n",
       "yr_renovated     3842\n",
       "zipcode             0\n",
       "lat                 0\n",
       "long                0\n",
       "sqft_living15       0\n",
       "sqft_lot15          0\n",
       "dtype: int64"
      ]
     },
     "execution_count": 7,
     "metadata": {},
     "output_type": "execute_result"
    }
   ],
   "source": [
    "df.isna().sum()"
   ]
  },
  {
   "cell_type": "code",
   "execution_count": 8,
   "metadata": {
    "scrolled": false
   },
   "outputs": [
    {
     "name": "stdout",
     "output_type": "stream",
     "text": [
      "NONE         19422\n",
      "AVERAGE        957\n",
      "GOOD           508\n",
      "FAIR           330\n",
      "EXCELLENT      317\n",
      "Name: view, dtype: int64\n"
     ]
    }
   ],
   "source": [
    "view_count = print(df['view'].value_counts())"
   ]
  },
  {
   "cell_type": "code",
   "execution_count": 9,
   "metadata": {},
   "outputs": [],
   "source": [
    "df['view'].fillna('NONE', inplace=True)"
   ]
  },
  {
   "cell_type": "code",
   "execution_count": 10,
   "metadata": {
    "scrolled": false
   },
   "outputs": [
    {
     "name": "stdout",
     "output_type": "stream",
     "text": [
      "NO     19075\n",
      "YES      146\n",
      "Name: waterfront, dtype: int64\n"
     ]
    }
   ],
   "source": [
    "waterfront_count = print(df['waterfront'].value_counts())"
   ]
  },
  {
   "cell_type": "code",
   "execution_count": 11,
   "metadata": {},
   "outputs": [],
   "source": [
    "df['waterfront'].fillna('NO', inplace=True)"
   ]
  },
  {
   "cell_type": "code",
   "execution_count": 12,
   "metadata": {
    "scrolled": false
   },
   "outputs": [
    {
     "name": "stdout",
     "output_type": "stream",
     "text": [
      "0.0       17011\n",
      "2014.0       73\n",
      "2013.0       31\n",
      "2003.0       31\n",
      "2007.0       30\n",
      "          ...  \n",
      "1951.0        1\n",
      "1953.0        1\n",
      "1946.0        1\n",
      "1976.0        1\n",
      "1948.0        1\n",
      "Name: yr_renovated, Length: 70, dtype: int64\n"
     ]
    }
   ],
   "source": [
    "yr_renovated_count = print(df['yr_renovated'].value_counts())"
   ]
  },
  {
   "cell_type": "code",
   "execution_count": 13,
   "metadata": {},
   "outputs": [],
   "source": [
    "df['yr_renovated'].fillna(0, inplace=True)"
   ]
  },
  {
   "cell_type": "code",
   "execution_count": 14,
   "metadata": {},
   "outputs": [],
   "source": [
    "df.drop(['date', 'id'], axis=1, inplace=True)"
   ]
  },
  {
   "cell_type": "markdown",
   "metadata": {},
   "source": [
    "# Helper Functions"
   ]
  },
  {
   "cell_type": "markdown",
   "metadata": {},
   "source": [
    "ohe executes 2 transformations, test and train. data for any given input variable: First, we use OneHotEncoder to split up our categorical variables. Second, we run a linear regression on encoded values using .fit(). Then, it takes in a training df ('df'), a test df ('df2') and a column name. Next, it returns the training df and the test df concatenated with newly encoded columns. Lastly, we return a list of these newly encoded column names. "
   ]
  },
  {
   "cell_type": "code",
   "execution_count": 15,
   "metadata": {},
   "outputs": [],
   "source": [
    "def ohe(df, df2, column):\n",
    "    for col in column:\n",
    "        train = df[[col]]\n",
    "        ohe = OneHotEncoder(drop='first', sparse=False, handle_unknown=\"ignore\")\n",
    "        ohe.fit(train)\n",
    "        encoded_train = ohe.transform(train)\n",
    "        col_labels = [f\"{col}_{f}\" for f in ohe.get_feature_names()]\n",
    "        encoded_train = pd.DataFrame(encoded_train, columns=col_labels, index=df.index)\n",
    "        df = pd.concat([df, encoded_train], axis=1)\n",
    "        \n",
    "        test = df2[[col]]\n",
    "        encoded_test = ohe.transform(test)\n",
    "        col_labels = [f\"{col}_{f}\" for f in ohe.get_feature_names()]\n",
    "        encoded_test = pd.DataFrame(encoded_test, columns=col_labels, index=df2.index)\n",
    "        df2 = pd.concat([df2, encoded_test], axis=1)\n",
    "        \n",
    "    return df, df2, encoded_train.columns.tolist()"
   ]
  },
  {
   "cell_type": "markdown",
   "metadata": {},
   "source": [
    "We run a Standard Scaler to scale all the values in the test data and training data so that our models results are in comparable units. Then, we score the scaled data to get the R2 to assess the strength of our model."
   ]
  },
  {
   "cell_type": "code",
   "execution_count": 16,
   "metadata": {},
   "outputs": [],
   "source": [
    "def scale_score(x, y, x2, y2):\n",
    "    scaler = StandardScaler()\n",
    "    scaler.fit(x)\n",
    "    X_train_scaled = scaler.transform(x)\n",
    "    X_test_scaled = scaler.transform(x2)\n",
    "\n",
    "    lr = LinearRegression()\n",
    "    lr.fit(X_train_scaled,y_train)\n",
    "\n",
    "    train_preds = lr.predict(X_train_scaled)\n",
    "    test_preds = lr.predict(X_test_scaled)\n",
    "    \n",
    "    print(f\"\"\"training score: {r2_score(y_train, train_preds)}\n",
    "    test score: {r2_score(y_test, test_preds)}\"\"\")\n",
    "    \n",
    "    return X_train_scaled, X_test_scaled, train_preds, test_preds"
   ]
  },
  {
   "cell_type": "markdown",
   "metadata": {},
   "source": [
    "Uses price and predictions to calculate Mean Absolute Error (MAE), Mean Squared Error (MSE) and Root Mean Squared Error (RSME) for the training and testing data sets. We will compare these values to evaluate model performance."
   ]
  },
  {
   "cell_type": "code",
   "execution_count": 17,
   "metadata": {},
   "outputs": [],
   "source": [
    "def get_train_test_metrics(y_train, train_preds,\n",
    "               y_test, test_preds):\n",
    "    \"\"\"\n",
    "    Prints different training and testing metrics, namely R2, MAE, MSE, RMSE\n",
    "    \"\"\"\n",
    "    print(\"\\nTraining Metrics:\")\n",
    "    print(f\"R2: {r2_score(y_train, train_preds):.3f}\")\n",
    "    print(f\"Mean Absolute Error: {mean_absolute_error(y_train, train_preds):.3f}\")\n",
    "    print(f\"Mean Squared Error: {mean_squared_error(y_train, train_preds):.3f}\")\n",
    "    print(f\"Root Mean Squared Error: {mean_squared_error(y_train, train_preds, squared=False):.3f}\")\n",
    "    \n",
    "    print(\"\\nTesting Metrics:\")\n",
    "    print(f\"R2: {r2_score(y_test, test_preds):.3f}\")\n",
    "    print(f\"Mean Absolute Error: {mean_absolute_error(y_test, test_preds):.3f}\")\n",
    "    print(f\"Mean Squared Error: {mean_squared_error(y_test, test_preds):.3f}\")\n",
    "    print(f\"Root Mean Squared Error: {mean_squared_error(y_test, test_preds, squared=False):.3f}\")"
   ]
  },
  {
   "cell_type": "markdown",
   "metadata": {},
   "source": [
    "# Outliers"
   ]
  },
  {
   "cell_type": "markdown",
   "metadata": {},
   "source": [
    "### Price"
   ]
  },
  {
   "cell_type": "code",
   "execution_count": 18,
   "metadata": {},
   "outputs": [
    {
     "name": "stdout",
     "output_type": "stream",
     "text": [
      "price_min: -162500.0 \n",
      "price_max: 1129500.0\n"
     ]
    }
   ],
   "source": [
    "# calculate 25, 75, iqr, whiskers for 'price'\n",
    "price_q75, price_q25 = np.percentile(df['price'], [75, 25])\n",
    "price_iqr = price_q75 - price_q25\n",
    "price_min = price_q25 - (1.5 * price_iqr)\n",
    "price_max = price_q75 + (1.5 * price_iqr)\n",
    "\n",
    "print(f\"\"\"price_min: {price_min} \n",
    "price_max: {price_max}\"\"\")"
   ]
  },
  {
   "cell_type": "code",
   "execution_count": 19,
   "metadata": {},
   "outputs": [],
   "source": [
    "df = df[df['price'] >= price_min]\n",
    "df = df[df['price'] <= price_max]"
   ]
  },
  {
   "cell_type": "markdown",
   "metadata": {},
   "source": [
    "### Grade"
   ]
  },
  {
   "cell_type": "code",
   "execution_count": 20,
   "metadata": {},
   "outputs": [
    {
     "name": "stdout",
     "output_type": "stream",
     "text": [
      "7 Average        8962\n",
      "8 Good           5943\n",
      "9 Better         2319\n",
      "6 Low Average    2037\n",
      "10 Very Good      766\n",
      "5 Fair            242\n",
      "11 Excellent      137\n",
      "4 Low              27\n",
      "12 Luxury           5\n",
      "3 Poor              1\n",
      "Name: grade, dtype: int64\n"
     ]
    }
   ],
   "source": [
    "grade_count = print(df['grade'].value_counts())"
   ]
  },
  {
   "cell_type": "code",
   "execution_count": 21,
   "metadata": {},
   "outputs": [],
   "source": [
    "df = df[df['grade'] != '3 Poor']\n",
    "df = df[df['grade'] != '12 Luxury']"
   ]
  },
  {
   "cell_type": "markdown",
   "metadata": {},
   "source": [
    "# Train Test Split"
   ]
  },
  {
   "cell_type": "code",
   "execution_count": 22,
   "metadata": {},
   "outputs": [],
   "source": [
    "y = df['price']\n",
    "X = df.drop('price', axis=1)\n",
    "X_train, X_test, y_train, y_test = train_test_split(X, y, random_state=42, test_size=.25)"
   ]
  },
  {
   "cell_type": "markdown",
   "metadata": {},
   "source": [
    "# Categorical Variables"
   ]
  },
  {
   "cell_type": "markdown",
   "metadata": {},
   "source": [
    "### Bedroom"
   ]
  },
  {
   "cell_type": "code",
   "execution_count": 23,
   "metadata": {},
   "outputs": [
    {
     "data": {
      "text/plain": [
       "3     9596\n",
       "4     6302\n",
       "2     2736\n",
       "5     1333\n",
       "6      225\n",
       "1      194\n",
       "7       30\n",
       "8        9\n",
       "9        4\n",
       "10       2\n",
       "11       1\n",
       "33       1\n",
       "Name: bedrooms, dtype: int64"
      ]
     },
     "execution_count": 23,
     "metadata": {},
     "output_type": "execute_result"
    }
   ],
   "source": [
    "bed_count = df['bedrooms'].value_counts()\n",
    "bed_count"
   ]
  },
  {
   "cell_type": "code",
   "execution_count": 24,
   "metadata": {},
   "outputs": [],
   "source": [
    "#drop the 33 bedroom outlier \n",
    "df = df[df['bedrooms'] != 33]\n",
    "df = df[df['bedrooms'] != 11]\n",
    "df = df[df['bedrooms'] != 10]\n",
    "#df = df[df['bedrooms'] != 9]\n",
    "#df = df[df['bedrooms'] != 8]\n",
    "#df = df[df['bedrooms'] != 7]"
   ]
  },
  {
   "cell_type": "markdown",
   "metadata": {},
   "source": [
    "### Condition"
   ]
  },
  {
   "cell_type": "code",
   "execution_count": 25,
   "metadata": {},
   "outputs": [
    {
     "data": {
      "text/plain": [
       "Average      13263\n",
       "Good          5412\n",
       "Very Good     1558\n",
       "Fair           168\n",
       "Poor            28\n",
       "Name: condition, dtype: int64"
      ]
     },
     "execution_count": 25,
     "metadata": {},
     "output_type": "execute_result"
    }
   ],
   "source": [
    "condition_count = df['condition'].value_counts()\n",
    "condition_count"
   ]
  },
  {
   "cell_type": "code",
   "execution_count": 26,
   "metadata": {},
   "outputs": [],
   "source": [
    "X_train, X_test, encoded_condition = ohe(X_train, X_test, ['condition'])"
   ]
  },
  {
   "cell_type": "code",
   "execution_count": 27,
   "metadata": {},
   "outputs": [],
   "source": [
    "X_train['condition'] = X_train['condition'].map({'Very Good': 5, 'Good': 4, 'Average': 3, 'Fair': 2, 'Poor': 1})"
   ]
  },
  {
   "cell_type": "code",
   "execution_count": 28,
   "metadata": {},
   "outputs": [],
   "source": [
    "X_test['condition'] = X_test['condition'].map({'Very Good': 5, 'Good': 4, 'Average': 3, 'Fair': 2, 'Poor': 1})"
   ]
  },
  {
   "cell_type": "code",
   "execution_count": 29,
   "metadata": {},
   "outputs": [],
   "source": [
    "#df['condition'] = df['condition'].cat.reorder_categories(['Poor', 'Fair', 'Average', 'Good', 'Very Good'])"
   ]
  },
  {
   "cell_type": "code",
   "execution_count": 30,
   "metadata": {},
   "outputs": [],
   "source": [
    "#df['condition'] = df['condition'].astype('category')"
   ]
  },
  {
   "cell_type": "code",
   "execution_count": 31,
   "metadata": {},
   "outputs": [],
   "source": [
    "#df['condition'].cat.codes"
   ]
  },
  {
   "cell_type": "code",
   "execution_count": 32,
   "metadata": {},
   "outputs": [],
   "source": [
    "#condition = df[['condition']]"
   ]
  },
  {
   "cell_type": "code",
   "execution_count": 33,
   "metadata": {},
   "outputs": [],
   "source": [
    "#condition_list = ['Poor', 'Fair', 'Average', 'Good', 'Very Good'] "
   ]
  },
  {
   "cell_type": "code",
   "execution_count": 34,
   "metadata": {},
   "outputs": [],
   "source": [
    "#condition_list = ['Poor', 'Fair', 'Average', 'Good', 'Very Good'] \n",
    "#ode = OrdinalEncoder(categories=[condition_list])\n",
    "#ode.fit(condition)"
   ]
  },
  {
   "cell_type": "code",
   "execution_count": 35,
   "metadata": {},
   "outputs": [],
   "source": [
    "#ord_cond = pd.DataFrame(ode.transform(condition), columns=condition.columns)"
   ]
  },
  {
   "cell_type": "code",
   "execution_count": 36,
   "metadata": {},
   "outputs": [],
   "source": [
    "#df['condition_ord'] = ord_cond"
   ]
  },
  {
   "cell_type": "markdown",
   "metadata": {},
   "source": [
    "### Grade"
   ]
  },
  {
   "cell_type": "code",
   "execution_count": 37,
   "metadata": {},
   "outputs": [
    {
     "name": "stdout",
     "output_type": "stream",
     "text": [
      "7 Average        8958\n",
      "8 Good           5943\n",
      "9 Better         2319\n",
      "6 Low Average    2037\n",
      "10 Very Good      766\n",
      "5 Fair            242\n",
      "11 Excellent      137\n",
      "4 Low              27\n",
      "Name: grade, dtype: int64\n"
     ]
    }
   ],
   "source": [
    "grade_count = print(df['grade'].value_counts())"
   ]
  },
  {
   "cell_type": "code",
   "execution_count": 38,
   "metadata": {},
   "outputs": [],
   "source": [
    "X_train, X_test, encoded_grade = ohe(X_train, X_test, ['grade'])"
   ]
  },
  {
   "cell_type": "code",
   "execution_count": 39,
   "metadata": {},
   "outputs": [],
   "source": [
    "#X_train, X_test, ord_grade = ode(X_train, X_test, ['grade'])"
   ]
  },
  {
   "cell_type": "markdown",
   "metadata": {},
   "source": [
    "### Floors"
   ]
  },
  {
   "cell_type": "code",
   "execution_count": 40,
   "metadata": {},
   "outputs": [
    {
     "name": "stdout",
     "output_type": "stream",
     "text": [
      "1.0    10436\n",
      "2.0     7479\n",
      "1.5     1828\n",
      "3.0      570\n",
      "2.5      110\n",
      "3.5        6\n",
      "Name: floors, dtype: int64\n"
     ]
    }
   ],
   "source": [
    "floor_count = print(df['floors'].value_counts())"
   ]
  },
  {
   "cell_type": "code",
   "execution_count": 41,
   "metadata": {},
   "outputs": [],
   "source": [
    "X_train, X_test, encoded_floors = ohe(X_train, X_test, ['floors'])"
   ]
  },
  {
   "cell_type": "code",
   "execution_count": 42,
   "metadata": {},
   "outputs": [],
   "source": [
    "#X_train['floors'] = X_train['floors'].map({1.0: 1, 1.5: 1, 2.0: 2, 2.5: 2, 3.0: 3, 3.5: 3, 4.0: 4})"
   ]
  },
  {
   "cell_type": "code",
   "execution_count": 43,
   "metadata": {},
   "outputs": [],
   "source": [
    "#X_test['floors'] = X_test['floors'].map({1.0: 1, 1.5: 1, 2.0: 2, 2.5: 2, 3.0: 3, 3.5: 3, 4.0: 4})"
   ]
  },
  {
   "cell_type": "markdown",
   "metadata": {},
   "source": [
    "### View"
   ]
  },
  {
   "cell_type": "code",
   "execution_count": 44,
   "metadata": {},
   "outputs": [
    {
     "data": {
      "text/plain": [
       "0"
      ]
     },
     "execution_count": 44,
     "metadata": {},
     "output_type": "execute_result"
    }
   ],
   "source": [
    "X_train['view'].isna().sum()"
   ]
  },
  {
   "cell_type": "code",
   "execution_count": 45,
   "metadata": {},
   "outputs": [
    {
     "data": {
      "text/plain": [
       "NONE         18859\n",
       "AVERAGE        804\n",
       "GOOD           347\n",
       "FAIR           274\n",
       "EXCELLENT      145\n",
       "Name: view, dtype: int64"
      ]
     },
     "execution_count": 45,
     "metadata": {},
     "output_type": "execute_result"
    }
   ],
   "source": [
    "view_count = df['view'].value_counts()\n",
    "view_count"
   ]
  },
  {
   "cell_type": "code",
   "execution_count": 46,
   "metadata": {},
   "outputs": [],
   "source": [
    "X_train['view'].fillna('NONE', inplace=True)\n",
    "X_test['view'].fillna('NONE', inplace=True)"
   ]
  },
  {
   "cell_type": "code",
   "execution_count": 47,
   "metadata": {},
   "outputs": [],
   "source": [
    "X_train, X_test, encoded_view = ohe(X_train, X_test, ['view'])"
   ]
  },
  {
   "cell_type": "code",
   "execution_count": 48,
   "metadata": {},
   "outputs": [],
   "source": [
    "X_train['view'] = X_train['view'].map({'EXCELLENT': 5, 'GOOD': 4, 'AVERAGE': 3, 'FAIR': 2, 'NONE': 1})"
   ]
  },
  {
   "cell_type": "code",
   "execution_count": 49,
   "metadata": {},
   "outputs": [],
   "source": [
    "X_test['view'] = X_test['view'].map({'EXCELLENT': 5, 'GOOD': 4, 'AVERAGE': 3, 'FAIR': 2, 'NONE': 1})"
   ]
  },
  {
   "cell_type": "markdown",
   "metadata": {},
   "source": [
    "### Waterfront"
   ]
  },
  {
   "cell_type": "code",
   "execution_count": 50,
   "metadata": {},
   "outputs": [
    {
     "name": "stdout",
     "output_type": "stream",
     "text": [
      "NO     20378\n",
      "YES       51\n",
      "Name: waterfront, dtype: int64\n"
     ]
    }
   ],
   "source": [
    "waterfront_count = print(df['waterfront'].value_counts())"
   ]
  },
  {
   "cell_type": "code",
   "execution_count": 51,
   "metadata": {},
   "outputs": [],
   "source": [
    "X_train, X_test, encoded_waterfront = ohe(X_train, X_test, ['waterfront'])"
   ]
  },
  {
   "cell_type": "code",
   "execution_count": 52,
   "metadata": {},
   "outputs": [],
   "source": [
    "X_train['waterfront'] = X_train['waterfront'].map({'NO': 0, 'YES': 1})"
   ]
  },
  {
   "cell_type": "code",
   "execution_count": 53,
   "metadata": {},
   "outputs": [],
   "source": [
    "X_test['waterfront'] = X_test['waterfront'].map({'NO': 0, 'YES': 1})"
   ]
  },
  {
   "cell_type": "markdown",
   "metadata": {},
   "source": [
    "### Zipcode"
   ]
  },
  {
   "cell_type": "code",
   "execution_count": 54,
   "metadata": {},
   "outputs": [
    {
     "name": "stdout",
     "output_type": "stream",
     "text": [
      "98103    587\n",
      "98038    586\n",
      "98052    563\n",
      "98115    558\n",
      "98042    547\n",
      "        ... \n",
      "98102     88\n",
      "98109     86\n",
      "98024     73\n",
      "98148     57\n",
      "98039      6\n",
      "Name: zipcode, Length: 70, dtype: int64\n"
     ]
    }
   ],
   "source": [
    "zipcode_count = print(df['zipcode'].sort_values().value_counts())"
   ]
  },
  {
   "cell_type": "code",
   "execution_count": 55,
   "metadata": {},
   "outputs": [],
   "source": [
    "X_train, X_test, encoded_zipcode = ohe(X_train, X_test, ['zipcode'])"
   ]
  },
  {
   "cell_type": "markdown",
   "metadata": {},
   "source": [
    "# Mutlitcollinearity"
   ]
  },
  {
   "cell_type": "code",
   "execution_count": 56,
   "metadata": {},
   "outputs": [
    {
     "data": {
      "text/html": [
       "<div>\n",
       "<style scoped>\n",
       "    .dataframe tbody tr th:only-of-type {\n",
       "        vertical-align: middle;\n",
       "    }\n",
       "\n",
       "    .dataframe tbody tr th {\n",
       "        vertical-align: top;\n",
       "    }\n",
       "\n",
       "    .dataframe thead th {\n",
       "        text-align: right;\n",
       "    }\n",
       "</style>\n",
       "<table border=\"1\" class=\"dataframe\">\n",
       "  <thead>\n",
       "    <tr style=\"text-align: right;\">\n",
       "      <th></th>\n",
       "      <th>price</th>\n",
       "      <th>bedrooms</th>\n",
       "      <th>bathrooms</th>\n",
       "      <th>sqft_living</th>\n",
       "      <th>sqft_lot</th>\n",
       "      <th>floors</th>\n",
       "      <th>sqft_above</th>\n",
       "      <th>yr_built</th>\n",
       "      <th>yr_renovated</th>\n",
       "      <th>zipcode</th>\n",
       "      <th>lat</th>\n",
       "      <th>long</th>\n",
       "      <th>sqft_living15</th>\n",
       "      <th>sqft_lot15</th>\n",
       "    </tr>\n",
       "  </thead>\n",
       "  <tbody>\n",
       "    <tr>\n",
       "      <th>price</th>\n",
       "      <td>1.000000</td>\n",
       "      <td>0.301195</td>\n",
       "      <td>0.454385</td>\n",
       "      <td>0.620917</td>\n",
       "      <td>0.093421</td>\n",
       "      <td>0.273238</td>\n",
       "      <td>0.529086</td>\n",
       "      <td>0.060893</td>\n",
       "      <td>0.081802</td>\n",
       "      <td>-0.018027</td>\n",
       "      <td>0.431294</td>\n",
       "      <td>0.072038</td>\n",
       "      <td>0.561366</td>\n",
       "      <td>0.082159</td>\n",
       "    </tr>\n",
       "    <tr>\n",
       "      <th>bedrooms</th>\n",
       "      <td>0.301195</td>\n",
       "      <td>1.000000</td>\n",
       "      <td>0.505787</td>\n",
       "      <td>0.602817</td>\n",
       "      <td>0.025823</td>\n",
       "      <td>0.160233</td>\n",
       "      <td>0.479232</td>\n",
       "      <td>0.168882</td>\n",
       "      <td>0.000290</td>\n",
       "      <td>-0.153899</td>\n",
       "      <td>-0.032907</td>\n",
       "      <td>0.146817</td>\n",
       "      <td>0.384861</td>\n",
       "      <td>0.023063</td>\n",
       "    </tr>\n",
       "    <tr>\n",
       "      <th>bathrooms</th>\n",
       "      <td>0.454385</td>\n",
       "      <td>0.505787</td>\n",
       "      <td>1.000000</td>\n",
       "      <td>0.716027</td>\n",
       "      <td>0.064783</td>\n",
       "      <td>0.502837</td>\n",
       "      <td>0.637711</td>\n",
       "      <td>0.545189</td>\n",
       "      <td>0.023364</td>\n",
       "      <td>-0.206867</td>\n",
       "      <td>-0.008972</td>\n",
       "      <td>0.248961</td>\n",
       "      <td>0.528498</td>\n",
       "      <td>0.064850</td>\n",
       "    </tr>\n",
       "    <tr>\n",
       "      <th>sqft_living</th>\n",
       "      <td>0.620917</td>\n",
       "      <td>0.602817</td>\n",
       "      <td>0.716027</td>\n",
       "      <td>1.000000</td>\n",
       "      <td>0.159063</td>\n",
       "      <td>0.340421</td>\n",
       "      <td>0.852842</td>\n",
       "      <td>0.354158</td>\n",
       "      <td>0.019137</td>\n",
       "      <td>-0.204104</td>\n",
       "      <td>0.011106</td>\n",
       "      <td>0.286876</td>\n",
       "      <td>0.737984</td>\n",
       "      <td>0.172988</td>\n",
       "    </tr>\n",
       "    <tr>\n",
       "      <th>sqft_lot</th>\n",
       "      <td>0.093421</td>\n",
       "      <td>0.025823</td>\n",
       "      <td>0.064783</td>\n",
       "      <td>0.159063</td>\n",
       "      <td>1.000000</td>\n",
       "      <td>-0.017092</td>\n",
       "      <td>0.162746</td>\n",
       "      <td>0.042344</td>\n",
       "      <td>0.007370</td>\n",
       "      <td>-0.129864</td>\n",
       "      <td>-0.094727</td>\n",
       "      <td>0.222306</td>\n",
       "      <td>0.143186</td>\n",
       "      <td>0.709190</td>\n",
       "    </tr>\n",
       "    <tr>\n",
       "      <th>floors</th>\n",
       "      <td>0.273238</td>\n",
       "      <td>0.160233</td>\n",
       "      <td>0.502837</td>\n",
       "      <td>0.340421</td>\n",
       "      <td>-0.017092</td>\n",
       "      <td>1.000000</td>\n",
       "      <td>0.529161</td>\n",
       "      <td>0.512063</td>\n",
       "      <td>-0.003744</td>\n",
       "      <td>-0.064674</td>\n",
       "      <td>0.036310</td>\n",
       "      <td>0.135835</td>\n",
       "      <td>0.268484</td>\n",
       "      <td>-0.021340</td>\n",
       "    </tr>\n",
       "    <tr>\n",
       "      <th>sqft_above</th>\n",
       "      <td>0.529086</td>\n",
       "      <td>0.479232</td>\n",
       "      <td>0.637711</td>\n",
       "      <td>0.852842</td>\n",
       "      <td>0.162746</td>\n",
       "      <td>0.529161</td>\n",
       "      <td>1.000000</td>\n",
       "      <td>0.462493</td>\n",
       "      <td>-0.002248</td>\n",
       "      <td>-0.270940</td>\n",
       "      <td>-0.044201</td>\n",
       "      <td>0.390694</td>\n",
       "      <td>0.717239</td>\n",
       "      <td>0.176013</td>\n",
       "    </tr>\n",
       "    <tr>\n",
       "      <th>yr_built</th>\n",
       "      <td>0.060893</td>\n",
       "      <td>0.168882</td>\n",
       "      <td>0.545189</td>\n",
       "      <td>0.354158</td>\n",
       "      <td>0.042344</td>\n",
       "      <td>0.512063</td>\n",
       "      <td>0.462493</td>\n",
       "      <td>1.000000</td>\n",
       "      <td>-0.196879</td>\n",
       "      <td>-0.343388</td>\n",
       "      <td>-0.154728</td>\n",
       "      <td>0.410044</td>\n",
       "      <td>0.363162</td>\n",
       "      <td>0.062039</td>\n",
       "    </tr>\n",
       "    <tr>\n",
       "      <th>yr_renovated</th>\n",
       "      <td>0.081802</td>\n",
       "      <td>0.000290</td>\n",
       "      <td>0.023364</td>\n",
       "      <td>0.019137</td>\n",
       "      <td>0.007370</td>\n",
       "      <td>-0.003744</td>\n",
       "      <td>-0.002248</td>\n",
       "      <td>-0.196879</td>\n",
       "      <td>1.000000</td>\n",
       "      <td>0.068665</td>\n",
       "      <td>0.023036</td>\n",
       "      <td>-0.059177</td>\n",
       "      <td>-0.034558</td>\n",
       "      <td>0.005620</td>\n",
       "    </tr>\n",
       "    <tr>\n",
       "      <th>zipcode</th>\n",
       "      <td>-0.018027</td>\n",
       "      <td>-0.153899</td>\n",
       "      <td>-0.206867</td>\n",
       "      <td>-0.204104</td>\n",
       "      <td>-0.129864</td>\n",
       "      <td>-0.064674</td>\n",
       "      <td>-0.270940</td>\n",
       "      <td>-0.343388</td>\n",
       "      <td>0.068665</td>\n",
       "      <td>1.000000</td>\n",
       "      <td>0.276198</td>\n",
       "      <td>-0.563850</td>\n",
       "      <td>-0.284042</td>\n",
       "      <td>-0.147493</td>\n",
       "    </tr>\n",
       "    <tr>\n",
       "      <th>lat</th>\n",
       "      <td>0.431294</td>\n",
       "      <td>-0.032907</td>\n",
       "      <td>-0.008972</td>\n",
       "      <td>0.011106</td>\n",
       "      <td>-0.094727</td>\n",
       "      <td>0.036310</td>\n",
       "      <td>-0.044201</td>\n",
       "      <td>-0.154728</td>\n",
       "      <td>0.023036</td>\n",
       "      <td>0.276198</td>\n",
       "      <td>1.000000</td>\n",
       "      <td>-0.132389</td>\n",
       "      <td>0.019308</td>\n",
       "      <td>-0.095899</td>\n",
       "    </tr>\n",
       "    <tr>\n",
       "      <th>long</th>\n",
       "      <td>0.072038</td>\n",
       "      <td>0.146817</td>\n",
       "      <td>0.248961</td>\n",
       "      <td>0.286876</td>\n",
       "      <td>0.222306</td>\n",
       "      <td>0.135835</td>\n",
       "      <td>0.390694</td>\n",
       "      <td>0.410044</td>\n",
       "      <td>-0.059177</td>\n",
       "      <td>-0.563850</td>\n",
       "      <td>-0.132389</td>\n",
       "      <td>1.000000</td>\n",
       "      <td>0.374587</td>\n",
       "      <td>0.249975</td>\n",
       "    </tr>\n",
       "    <tr>\n",
       "      <th>sqft_living15</th>\n",
       "      <td>0.561366</td>\n",
       "      <td>0.384861</td>\n",
       "      <td>0.528498</td>\n",
       "      <td>0.737984</td>\n",
       "      <td>0.143186</td>\n",
       "      <td>0.268484</td>\n",
       "      <td>0.717239</td>\n",
       "      <td>0.363162</td>\n",
       "      <td>-0.034558</td>\n",
       "      <td>-0.284042</td>\n",
       "      <td>0.019308</td>\n",
       "      <td>0.374587</td>\n",
       "      <td>1.000000</td>\n",
       "      <td>0.180016</td>\n",
       "    </tr>\n",
       "    <tr>\n",
       "      <th>sqft_lot15</th>\n",
       "      <td>0.082159</td>\n",
       "      <td>0.023063</td>\n",
       "      <td>0.064850</td>\n",
       "      <td>0.172988</td>\n",
       "      <td>0.709190</td>\n",
       "      <td>-0.021340</td>\n",
       "      <td>0.176013</td>\n",
       "      <td>0.062039</td>\n",
       "      <td>0.005620</td>\n",
       "      <td>-0.147493</td>\n",
       "      <td>-0.095899</td>\n",
       "      <td>0.249975</td>\n",
       "      <td>0.180016</td>\n",
       "      <td>1.000000</td>\n",
       "    </tr>\n",
       "  </tbody>\n",
       "</table>\n",
       "</div>"
      ],
      "text/plain": [
       "                  price  bedrooms  bathrooms  sqft_living  sqft_lot    floors  \\\n",
       "price          1.000000  0.301195   0.454385     0.620917  0.093421  0.273238   \n",
       "bedrooms       0.301195  1.000000   0.505787     0.602817  0.025823  0.160233   \n",
       "bathrooms      0.454385  0.505787   1.000000     0.716027  0.064783  0.502837   \n",
       "sqft_living    0.620917  0.602817   0.716027     1.000000  0.159063  0.340421   \n",
       "sqft_lot       0.093421  0.025823   0.064783     0.159063  1.000000 -0.017092   \n",
       "floors         0.273238  0.160233   0.502837     0.340421 -0.017092  1.000000   \n",
       "sqft_above     0.529086  0.479232   0.637711     0.852842  0.162746  0.529161   \n",
       "yr_built       0.060893  0.168882   0.545189     0.354158  0.042344  0.512063   \n",
       "yr_renovated   0.081802  0.000290   0.023364     0.019137  0.007370 -0.003744   \n",
       "zipcode       -0.018027 -0.153899  -0.206867    -0.204104 -0.129864 -0.064674   \n",
       "lat            0.431294 -0.032907  -0.008972     0.011106 -0.094727  0.036310   \n",
       "long           0.072038  0.146817   0.248961     0.286876  0.222306  0.135835   \n",
       "sqft_living15  0.561366  0.384861   0.528498     0.737984  0.143186  0.268484   \n",
       "sqft_lot15     0.082159  0.023063   0.064850     0.172988  0.709190 -0.021340   \n",
       "\n",
       "               sqft_above  yr_built  yr_renovated   zipcode       lat  \\\n",
       "price            0.529086  0.060893      0.081802 -0.018027  0.431294   \n",
       "bedrooms         0.479232  0.168882      0.000290 -0.153899 -0.032907   \n",
       "bathrooms        0.637711  0.545189      0.023364 -0.206867 -0.008972   \n",
       "sqft_living      0.852842  0.354158      0.019137 -0.204104  0.011106   \n",
       "sqft_lot         0.162746  0.042344      0.007370 -0.129864 -0.094727   \n",
       "floors           0.529161  0.512063     -0.003744 -0.064674  0.036310   \n",
       "sqft_above       1.000000  0.462493     -0.002248 -0.270940 -0.044201   \n",
       "yr_built         0.462493  1.000000     -0.196879 -0.343388 -0.154728   \n",
       "yr_renovated    -0.002248 -0.196879      1.000000  0.068665  0.023036   \n",
       "zipcode         -0.270940 -0.343388      0.068665  1.000000  0.276198   \n",
       "lat             -0.044201 -0.154728      0.023036  0.276198  1.000000   \n",
       "long             0.390694  0.410044     -0.059177 -0.563850 -0.132389   \n",
       "sqft_living15    0.717239  0.363162     -0.034558 -0.284042  0.019308   \n",
       "sqft_lot15       0.176013  0.062039      0.005620 -0.147493 -0.095899   \n",
       "\n",
       "                   long  sqft_living15  sqft_lot15  \n",
       "price          0.072038       0.561366    0.082159  \n",
       "bedrooms       0.146817       0.384861    0.023063  \n",
       "bathrooms      0.248961       0.528498    0.064850  \n",
       "sqft_living    0.286876       0.737984    0.172988  \n",
       "sqft_lot       0.222306       0.143186    0.709190  \n",
       "floors         0.135835       0.268484   -0.021340  \n",
       "sqft_above     0.390694       0.717239    0.176013  \n",
       "yr_built       0.410044       0.363162    0.062039  \n",
       "yr_renovated  -0.059177      -0.034558    0.005620  \n",
       "zipcode       -0.563850      -0.284042   -0.147493  \n",
       "lat           -0.132389       0.019308   -0.095899  \n",
       "long           1.000000       0.374587    0.249975  \n",
       "sqft_living15  0.374587       1.000000    0.180016  \n",
       "sqft_lot15     0.249975       0.180016    1.000000  "
      ]
     },
     "execution_count": 56,
     "metadata": {},
     "output_type": "execute_result"
    }
   ],
   "source": [
    "df.corr()"
   ]
  },
  {
   "cell_type": "code",
   "execution_count": 57,
   "metadata": {},
   "outputs": [
    {
     "data": {
      "image/png": "[encoded data removed]",
      "text/plain": [
       "<Figure size 576x396 with 2 Axes>"
      ]
     },
     "metadata": {},
     "output_type": "display_data"
    }
   ],
   "source": [
    "sns.heatmap(df.corr());"
   ]
  },
  {
   "cell_type": "code",
   "execution_count": 58,
   "metadata": {
    "scrolled": true
   },
   "outputs": [
    {
     "data": {
      "text/plain": [
       "price            1.000000\n",
       "sqft_living      0.620917\n",
       "sqft_living15    0.561366\n",
       "sqft_above       0.529086\n",
       "bathrooms        0.454385\n",
       "lat              0.431294\n",
       "bedrooms         0.301195\n",
       "floors           0.273238\n",
       "sqft_lot         0.093421\n",
       "sqft_lot15       0.082159\n",
       "yr_renovated     0.081802\n",
       "long             0.072038\n",
       "yr_built         0.060893\n",
       "zipcode          0.018027\n",
       "Name: price, dtype: float64"
      ]
     },
     "execution_count": 58,
     "metadata": {},
     "output_type": "execute_result"
    }
   ],
   "source": [
    "df.corr()['price'].abs().sort_values(ascending=False)"
   ]
  },
  {
   "cell_type": "code",
   "execution_count": 59,
   "metadata": {
    "scrolled": true
   },
   "outputs": [
    {
     "data": {
      "image/png": "[encoded data removed]",
      "text/plain": [
       "<Figure size 1008x648 with 2 Axes>"
      ]
     },
     "metadata": {},
     "output_type": "display_data"
    }
   ],
   "source": [
    "with sns.axes_style(\"darkgrid\"):\n",
    "    fig, ax = plt.subplots(figsize=(14, 9))\n",
    "    \n",
    "    mask = np.triu(np.ones_like(df.corr(), dtype=bool))\n",
    "    ax = sns.heatmap(abs(df.corr()),mask=mask,annot=True)\n",
    "    fig.savefig('images/Corelation_Heatmap_22',bbox_inches=\"tight\");"
   ]
  },
  {
   "cell_type": "code",
   "execution_count": 60,
   "metadata": {},
   "outputs": [],
   "source": [
    "df.drop(['sqft_above', 'sqft_living15', 'sqft_lot', 'sqft_lot15'], axis=1, inplace=True)"
   ]
  },
  {
   "cell_type": "markdown",
   "metadata": {},
   "source": [
    "# Models"
   ]
  },
  {
   "cell_type": "code",
   "execution_count": 61,
   "metadata": {},
   "outputs": [
    {
     "name": "stdout",
     "output_type": "stream",
     "text": [
      "basemodel_dummy_score: 0.0\n",
      "\n",
      "test_dummy_score: -6.76953825662352e-07\n"
     ]
    }
   ],
   "source": [
    "dummy = DummyRegressor()\n",
    "dummy.fit(X_train, y_train)\n",
    "basemodel_dummy_score = dummy.score(X_train, y_train)\n",
    "test_dummy_score = dummy.score(X_test, y_test)\n",
    "\n",
    "print(f\"\"\"basemodel_dummy_score: {basemodel_dummy_score}\n",
    "\n",
    "test_dummy_score: {test_dummy_score}\"\"\")"
   ]
  },
  {
   "cell_type": "markdown",
   "metadata": {},
   "source": [
    "### Model 1"
   ]
  },
  {
   "cell_type": "code",
   "execution_count": 62,
   "metadata": {},
   "outputs": [],
   "source": [
    "cols = ['sqft_living']\n",
    "\n",
    "y = y_train\n",
    "x = X_train.filter(cols, axis=1)\n",
    "\n",
    "y2 = y_test\n",
    "x2 = X_test.filter(cols, axis=1)"
   ]
  },
  {
   "cell_type": "code",
   "execution_count": 63,
   "metadata": {
    "scrolled": true
   },
   "outputs": [
    {
     "name": "stdout",
     "output_type": "stream",
     "text": [
      "training score: 0.38991917757990846\n",
      "    test score: 0.3719569549202053\n"
     ]
    }
   ],
   "source": [
    "X_train_scaled, X_test_scaled, train_preds, test_preds = scale_score(x, y, x2, y2)"
   ]
  },
  {
   "cell_type": "code",
   "execution_count": 64,
   "metadata": {
    "scrolled": true
   },
   "outputs": [
    {
     "name": "stdout",
     "output_type": "stream",
     "text": [
      "\n",
      "Training Metrics:\n",
      "R2: 0.390\n",
      "Mean Absolute Error: 130910.843\n",
      "Mean Squared Error: 26477478264.624\n",
      "Root Mean Squared Error: 162719.016\n",
      "\n",
      "Testing Metrics:\n",
      "R2: 0.372\n",
      "Mean Absolute Error: 131618.178\n",
      "Mean Squared Error: 26557815557.122\n",
      "Root Mean Squared Error: 162965.688\n"
     ]
    }
   ],
   "source": [
    "get_train_test_metrics(y_train, train_preds, y_test, test_preds)"
   ]
  },
  {
   "cell_type": "markdown",
   "metadata": {},
   "source": [
    "### Model 2"
   ]
  },
  {
   "cell_type": "code",
   "execution_count": 65,
   "metadata": {},
   "outputs": [],
   "source": [
    "cols = encoded_zipcode\n",
    "\n",
    "y = y_train\n",
    "x = X_train.filter(cols, axis=1)\n",
    "\n",
    "y2 = y_test\n",
    "x2 = X_test.filter(cols, axis=1)"
   ]
  },
  {
   "cell_type": "code",
   "execution_count": 66,
   "metadata": {
    "scrolled": true
   },
   "outputs": [
    {
     "name": "stdout",
     "output_type": "stream",
     "text": [
      "training score: 0.4794539210972316\n",
      "    test score: 0.48490694104359067\n"
     ]
    }
   ],
   "source": [
    "X_train_scaled, X_test_scaled, train_preds, test_preds=scale_score(x, y, x2, y2)"
   ]
  },
  {
   "cell_type": "code",
   "execution_count": 67,
   "metadata": {},
   "outputs": [
    {
     "name": "stdout",
     "output_type": "stream",
     "text": [
      "\n",
      "Training Metrics:\n",
      "R2: 0.479\n",
      "Mean Absolute Error: 113616.417\n",
      "Mean Squared Error: 22591674714.851\n",
      "Root Mean Squared Error: 150305.272\n",
      "\n",
      "Testing Metrics:\n",
      "R2: 0.485\n",
      "Mean Absolute Error: 110499.090\n",
      "Mean Squared Error: 21781542780.687\n",
      "Root Mean Squared Error: 147585.713\n"
     ]
    }
   ],
   "source": [
    "get_train_test_metrics(y_train, train_preds, y_test, test_preds)"
   ]
  },
  {
   "cell_type": "markdown",
   "metadata": {},
   "source": [
    "### Model 3"
   ]
  },
  {
   "cell_type": "code",
   "execution_count": 68,
   "metadata": {},
   "outputs": [],
   "source": [
    "cols = encoded_grade\n",
    "\n",
    "y = y_train\n",
    "x = X_train.filter(cols, axis=1)\n",
    "\n",
    "y2 = y_test\n",
    "x2 = X_test.filter(cols, axis=1)"
   ]
  },
  {
   "cell_type": "code",
   "execution_count": 69,
   "metadata": {},
   "outputs": [
    {
     "name": "stdout",
     "output_type": "stream",
     "text": [
      "training score: 0.4081763809004818\n",
      "    test score: 0.39477183353892764\n"
     ]
    }
   ],
   "source": [
    "X_train_scaled, X_test_scaled, train_preds, test_preds = scale_score(x, y, x2, y2)"
   ]
  },
  {
   "cell_type": "code",
   "execution_count": 70,
   "metadata": {},
   "outputs": [
    {
     "name": "stdout",
     "output_type": "stream",
     "text": [
      "\n",
      "Training Metrics:\n",
      "R2: 0.408\n",
      "Mean Absolute Error: 126490.993\n",
      "Mean Squared Error: 25685116521.182\n",
      "Root Mean Squared Error: 160265.768\n",
      "\n",
      "Testing Metrics:\n",
      "R2: 0.395\n",
      "Mean Absolute Error: 125935.505\n",
      "Mean Squared Error: 25593051528.508\n",
      "Root Mean Squared Error: 159978.285\n"
     ]
    }
   ],
   "source": [
    "get_train_test_metrics(y_train, train_preds, y_test, test_preds)"
   ]
  },
  {
   "cell_type": "markdown",
   "metadata": {},
   "source": [
    "### Model 4"
   ]
  },
  {
   "cell_type": "code",
   "execution_count": 71,
   "metadata": {},
   "outputs": [],
   "source": [
    "cols = encoded_view\n",
    "\n",
    "y = y_train\n",
    "x = X_train.filter(cols, axis=1)\n",
    "\n",
    "y2 = y_test\n",
    "x2 = X_test.filter(cols, axis=1)"
   ]
  },
  {
   "cell_type": "code",
   "execution_count": 72,
   "metadata": {},
   "outputs": [
    {
     "name": "stdout",
     "output_type": "stream",
     "text": [
      "training score: 0.061913619354723504\n",
      "    test score: 0.04866153141727547\n"
     ]
    }
   ],
   "source": [
    "X_train_scaled, X_test_scaled, train_preds, test_preds = scale_score(x, y, x2, y2)"
   ]
  },
  {
   "cell_type": "code",
   "execution_count": 73,
   "metadata": {
    "scrolled": true
   },
   "outputs": [
    {
     "name": "stdout",
     "output_type": "stream",
     "text": [
      "\n",
      "Training Metrics:\n",
      "R2: 0.062\n",
      "Mean Absolute Error: 163159.728\n",
      "Mean Squared Error: 40712903669.626\n",
      "Root Mean Squared Error: 201774.388\n",
      "\n",
      "Testing Metrics:\n",
      "R2: 0.049\n",
      "Mean Absolute Error: 161175.163\n",
      "Mean Squared Error: 40228885231.593\n",
      "Root Mean Squared Error: 200571.397\n"
     ]
    }
   ],
   "source": [
    "get_train_test_metrics(y_train, train_preds, y_test, test_preds)"
   ]
  },
  {
   "cell_type": "markdown",
   "metadata": {},
   "source": [
    "### Model 5"
   ]
  },
  {
   "cell_type": "code",
   "execution_count": 74,
   "metadata": {},
   "outputs": [],
   "source": [
    "cols = encoded_waterfront\n",
    "\n",
    "y = y_train\n",
    "x = X_train.filter(cols, axis=1)\n",
    "\n",
    "y2 = y_test\n",
    "x2 = X_test.filter(cols, axis=1)"
   ]
  },
  {
   "cell_type": "code",
   "execution_count": 75,
   "metadata": {},
   "outputs": [
    {
     "name": "stdout",
     "output_type": "stream",
     "text": [
      "training score: 0.001791755442365206\n",
      "    test score: 0.004084040537254419\n"
     ]
    }
   ],
   "source": [
    "X_train_scaled, X_test_scaled, train_preds, test_preds = scale_score(x, y, x2, y2)"
   ]
  },
  {
   "cell_type": "code",
   "execution_count": 76,
   "metadata": {},
   "outputs": [
    {
     "name": "stdout",
     "output_type": "stream",
     "text": [
      "\n",
      "Training Metrics:\n",
      "R2: 0.002\n",
      "Mean Absolute Error: 168862.699\n",
      "Mean Squared Error: 43322189663.330\n",
      "Root Mean Squared Error: 208139.832\n",
      "\n",
      "Testing Metrics:\n",
      "R2: 0.004\n",
      "Mean Absolute Error: 165867.168\n",
      "Mean Squared Error: 42113916504.633\n",
      "Root Mean Squared Error: 205216.755\n"
     ]
    }
   ],
   "source": [
    "get_train_test_metrics(y_train, train_preds, y_test, test_preds)"
   ]
  },
  {
   "cell_type": "markdown",
   "metadata": {},
   "source": [
    "### Model 6"
   ]
  },
  {
   "cell_type": "code",
   "execution_count": 77,
   "metadata": {},
   "outputs": [],
   "source": [
    "cols = encoded_grade + encoded_zipcode\n",
    "\n",
    "y = y_train\n",
    "x = X_train.filter(cols, axis=1)\n",
    "\n",
    "y2 = y_test\n",
    "x2 = X_test.filter(cols, axis=1)"
   ]
  },
  {
   "cell_type": "code",
   "execution_count": 78,
   "metadata": {},
   "outputs": [
    {
     "name": "stdout",
     "output_type": "stream",
     "text": [
      "training score: 0.7095247433229348\n",
      "    test score: 0.7156031400228218\n"
     ]
    }
   ],
   "source": [
    "X_train_scaled, X_test_scaled, train_preds, test_preds = scale_score(x, y, x2, y2)"
   ]
  },
  {
   "cell_type": "code",
   "execution_count": 79,
   "metadata": {},
   "outputs": [
    {
     "name": "stdout",
     "output_type": "stream",
     "text": [
      "\n",
      "Training Metrics:\n",
      "R2: 0.710\n",
      "Mean Absolute Error: 82586.838\n",
      "Mean Squared Error: 12606612128.159\n",
      "Root Mean Squared Error: 112279.170\n",
      "\n",
      "Testing Metrics:\n",
      "R2: 0.716\n",
      "Mean Absolute Error: 81138.467\n",
      "Mean Squared Error: 12026181026.078\n",
      "Root Mean Squared Error: 109663.946\n"
     ]
    }
   ],
   "source": [
    "get_train_test_metrics(y_train, train_preds, y_test, test_preds)"
   ]
  },
  {
   "cell_type": "markdown",
   "metadata": {},
   "source": [
    "### Model 7"
   ]
  },
  {
   "cell_type": "code",
   "execution_count": 80,
   "metadata": {},
   "outputs": [],
   "source": [
    "cols = encoded_grade + encoded_view + encoded_zipcode\n",
    "\n",
    "y = y_train\n",
    "x = X_train.filter(cols, axis=1)\n",
    "\n",
    "y2 = y_test\n",
    "x2 = X_test.filter(cols, axis=1)"
   ]
  },
  {
   "cell_type": "code",
   "execution_count": 81,
   "metadata": {},
   "outputs": [
    {
     "name": "stdout",
     "output_type": "stream",
     "text": [
      "training score: 0.7349797970209856\n",
      "    test score: 0.7336034764958378\n"
     ]
    }
   ],
   "source": [
    "X_train_scaled, X_test_scaled, train_preds, test_preds = scale_score(x, y, x2, y2)"
   ]
  },
  {
   "cell_type": "code",
   "execution_count": 82,
   "metadata": {},
   "outputs": [
    {
     "name": "stdout",
     "output_type": "stream",
     "text": [
      "\n",
      "Training Metrics:\n",
      "R2: 0.735\n",
      "Mean Absolute Error: 79404.179\n",
      "Mean Squared Error: 11501864025.536\n",
      "Root Mean Squared Error: 107246.744\n",
      "\n",
      "Testing Metrics:\n",
      "R2: 0.734\n",
      "Mean Absolute Error: 78878.683\n",
      "Mean Squared Error: 11265007696.062\n",
      "Root Mean Squared Error: 106136.741\n"
     ]
    }
   ],
   "source": [
    "get_train_test_metrics(y_train, train_preds, y_test, test_preds)"
   ]
  },
  {
   "cell_type": "markdown",
   "metadata": {},
   "source": [
    "### Model 8"
   ]
  },
  {
   "cell_type": "code",
   "execution_count": 83,
   "metadata": {},
   "outputs": [],
   "source": [
    "cols = ['sqft_living'] + encoded_grade + encoded_zipcode\n",
    "\n",
    "y = y_train\n",
    "x = X_train.filter(cols, axis=1)\n",
    "\n",
    "y2 = y_test\n",
    "x2 = X_test.filter(cols, axis=1)"
   ]
  },
  {
   "cell_type": "code",
   "execution_count": 84,
   "metadata": {},
   "outputs": [
    {
     "name": "stdout",
     "output_type": "stream",
     "text": [
      "training score: 0.7992309701818452\n",
      "    test score: 0.8087553872026194\n"
     ]
    }
   ],
   "source": [
    "X_train_scaled, X_test_scaled, train_preds, test_preds = scale_score(x, y, x2, y2)"
   ]
  },
  {
   "cell_type": "code",
   "execution_count": 85,
   "metadata": {},
   "outputs": [
    {
     "name": "stdout",
     "output_type": "stream",
     "text": [
      "\n",
      "Training Metrics:\n",
      "R2: 0.799\n",
      "Mean Absolute Error: 67173.637\n",
      "Mean Squared Error: 8713366209.632\n",
      "Root Mean Squared Error: 93345.413\n",
      "\n",
      "Testing Metrics:\n",
      "R2: 0.809\n",
      "Mean Absolute Error: 65508.488\n",
      "Mean Squared Error: 8087087649.097\n",
      "Root Mean Squared Error: 89928.236\n"
     ]
    }
   ],
   "source": [
    "get_train_test_metrics(y_train, train_preds, y_test, test_preds)"
   ]
  },
  {
   "cell_type": "code",
   "execution_count": 86,
   "metadata": {},
   "outputs": [
    {
     "data": {
      "image/png": "[encoded data removed]",
      "text/plain": [
       "<Figure size 576x396 with 2 Axes>"
      ]
     },
     "metadata": {},
     "output_type": "display_data"
    }
   ],
   "source": [
    "lr = LinearRegression()\n",
    "\n",
    "visualizer = ResidualsPlot(lr)\n",
    "\n",
    "visualizer.fit(X_train_scaled, y_train)  # Fit the training data to the visualizer\n",
    "visualizer.score(X_test_scaled, y_test)  # Evaluate the model on the test data\n",
    "visualizer.show()  \n",
    "plt.show()"
   ]
  },
  {
   "cell_type": "markdown",
   "metadata": {},
   "source": [
    "### Model 9"
   ]
  },
  {
   "cell_type": "code",
   "execution_count": 87,
   "metadata": {},
   "outputs": [],
   "source": [
    "cols = ['sqft_living'] + encoded_grade + encoded_view + encoded_zipcode\n",
    "\n",
    "y = y_train\n",
    "x = X_train.filter(cols, axis=1)\n",
    "\n",
    "y2 = y_test\n",
    "x2 = X_test.filter(cols, axis=1)"
   ]
  },
  {
   "cell_type": "code",
   "execution_count": 88,
   "metadata": {
    "scrolled": true
   },
   "outputs": [
    {
     "name": "stdout",
     "output_type": "stream",
     "text": [
      "training score: 0.8145123177667856\n",
      "    test score: 0.8184777698361034\n"
     ]
    }
   ],
   "source": [
    "X_train_scaled, X_test_scaled, train_preds, test_preds = scale_score(x, y, x2, y2)"
   ]
  },
  {
   "cell_type": "code",
   "execution_count": 89,
   "metadata": {
    "scrolled": true
   },
   "outputs": [
    {
     "name": "stdout",
     "output_type": "stream",
     "text": [
      "\n",
      "Training Metrics:\n",
      "R2: 0.815\n",
      "Mean Absolute Error: 64957.139\n",
      "Mean Squared Error: 8050156461.571\n",
      "Root Mean Squared Error: 89722.664\n",
      "\n",
      "Testing Metrics:\n",
      "R2: 0.818\n",
      "Mean Absolute Error: 64064.448\n",
      "Mean Squared Error: 7675960980.665\n",
      "Root Mean Squared Error: 87612.562\n"
     ]
    }
   ],
   "source": [
    "get_train_test_metrics(y_train, train_preds, y_test, test_preds)"
   ]
  },
  {
   "cell_type": "code",
   "execution_count": 90,
   "metadata": {},
   "outputs": [
    {
     "data": {
      "image/png": "[encoded data removed]",
      "text/plain": [
       "<Figure size 576x396 with 2 Axes>"
      ]
     },
     "metadata": {},
     "output_type": "display_data"
    }
   ],
   "source": [
    "lr = LinearRegression()\n",
    "\n",
    "visualizer = ResidualsPlot(lr)\n",
    "\n",
    "visualizer.fit(X_train_scaled, y_train)  # Fit the training data to the visualizer\n",
    "visualizer.score(X_test_scaled, y_test)  # Evaluate the model on the test data\n",
    "visualizer.show()  \n",
    "plt.show()"
   ]
  },
  {
   "cell_type": "markdown",
   "metadata": {},
   "source": [
    "### Model 10"
   ]
  },
  {
   "cell_type": "code",
   "execution_count": 91,
   "metadata": {},
   "outputs": [],
   "source": [
    "cols = ['sqft_living'] + encoded_grade + encoded_view + encoded_waterfront + encoded_zipcode\n",
    "\n",
    "y = y_train\n",
    "x = X_train.filter(cols, axis=1)\n",
    "\n",
    "y2 = y_test\n",
    "x2 = X_test.filter(cols, axis=1)"
   ]
  },
  {
   "cell_type": "code",
   "execution_count": 92,
   "metadata": {},
   "outputs": [
    {
     "name": "stdout",
     "output_type": "stream",
     "text": [
      "training score: 0.8150078682601786\n",
      "    test score: 0.8200857079887502\n"
     ]
    }
   ],
   "source": [
    "X_train_scaled, X_test_scaled, train_preds, test_preds = scale_score(x, y, x2, y2)"
   ]
  },
  {
   "cell_type": "code",
   "execution_count": 93,
   "metadata": {
    "scrolled": true
   },
   "outputs": [
    {
     "name": "stdout",
     "output_type": "stream",
     "text": [
      "\n",
      "Training Metrics:\n",
      "R2: 0.815\n",
      "Mean Absolute Error: 64937.176\n",
      "Mean Squared Error: 8028649594.061\n",
      "Root Mean Squared Error: 89602.732\n",
      "\n",
      "Testing Metrics:\n",
      "R2: 0.820\n",
      "Mean Absolute Error: 63873.393\n",
      "Mean Squared Error: 7607966716.227\n",
      "Root Mean Squared Error: 87223.659\n"
     ]
    }
   ],
   "source": [
    "get_train_test_metrics(y_train, train_preds, y_test, test_preds)"
   ]
  },
  {
   "cell_type": "code",
   "execution_count": 94,
   "metadata": {},
   "outputs": [
    {
     "data": {
      "image/png": "[encoded data removed]",
      "text/plain": [
       "<Figure size 576x396 with 2 Axes>"
      ]
     },
     "metadata": {},
     "output_type": "display_data"
    }
   ],
   "source": [
    "lr = LinearRegression()\n",
    "\n",
    "visualizer = ResidualsPlot(lr)\n",
    "\n",
    "visualizer.fit(X_train_scaled, y_train)  # Fit the training data to the visualizer\n",
    "visualizer.score(X_test_scaled, y_test)  # Evaluate the model on the test data\n",
    "visualizer.show()  \n",
    "plt.show()"
   ]
  },
  {
   "cell_type": "markdown",
   "metadata": {},
   "source": [
    "### Model 11"
   ]
  },
  {
   "cell_type": "code",
   "execution_count": 95,
   "metadata": {},
   "outputs": [],
   "source": [
    "cols_over = ['bathrooms', 'bedrooms', 'floors', 'sqft_living', 'yr_built'] + encoded_zipcode + encoded_grade + encoded_view + encoded_waterfront\n",
    "\n",
    "y = y_train\n",
    "x = X_train.filter(cols_over, axis=1)\n",
    "\n",
    "y2 = y_test\n",
    "x2 = X_test.filter(cols_over, axis=1)"
   ]
  },
  {
   "cell_type": "code",
   "execution_count": 96,
   "metadata": {},
   "outputs": [
    {
     "name": "stdout",
     "output_type": "stream",
     "text": [
      "training score: 0.8210888543890182\n",
      "    test score: 0.8255629438604213\n"
     ]
    }
   ],
   "source": [
    "X_train_scaled, X_test_scaled, train_preds, test_preds = scale_score(x, y, x2, y2)"
   ]
  },
  {
   "cell_type": "code",
   "execution_count": 97,
   "metadata": {
    "scrolled": false
   },
   "outputs": [
    {
     "name": "stdout",
     "output_type": "stream",
     "text": [
      "\n",
      "Training Metrics:\n",
      "R2: 0.821\n",
      "Mean Absolute Error: 64222.189\n",
      "Mean Squared Error: 7764735089.398\n",
      "Root Mean Squared Error: 88117.734\n",
      "\n",
      "Testing Metrics:\n",
      "R2: 0.826\n",
      "Mean Absolute Error: 62927.410\n",
      "Mean Squared Error: 7376352942.008\n",
      "Root Mean Squared Error: 85885.697\n"
     ]
    }
   ],
   "source": [
    "get_train_test_metrics(y_train, train_preds, y_test, test_preds)"
   ]
  },
  {
   "cell_type": "markdown",
   "metadata": {},
   "source": [
    "# Visualizations"
   ]
  },
  {
   "cell_type": "markdown",
   "metadata": {},
   "source": [
    "### Homes Sold by Zipcode"
   ]
  },
  {
   "cell_type": "markdown",
   "metadata": {},
   "source": [
    "Download geoJSON with all the zipcodes in King County from [gis-kingcounty.opendata.arcgis.com](https://gis-kingcounty.opendata.arcgis.com/datasets/zipcodes-for-king-county-and-surrounding-area-shorelines-zipcode-shore-area/explore?location=47.503298%2C-121.477600%2C8.93)"
   ]
  },
  {
   "cell_type": "code",
   "execution_count": 98,
   "metadata": {},
   "outputs": [],
   "source": [
    "import json\n",
    "import geojson\n",
    "from geojson import FeatureCollection, dump\n",
    "\n",
    "with open('./data/Zipcodes_for_King_County_and_Surrounding_Area_(Shorelines)___zipcode_shore_area.geojson', 'r') as f:\n",
    "    kcmap = json.load(f)"
   ]
  },
  {
   "cell_type": "code",
   "execution_count": 99,
   "metadata": {},
   "outputs": [
    {
     "data": {
      "text/plain": [
       "dict_keys(['type', 'name', 'crs', 'features'])"
      ]
     },
     "execution_count": 99,
     "metadata": {},
     "output_type": "execute_result"
    }
   ],
   "source": [
    "# explore geoJSON keys\n",
    "kcmap.keys()"
   ]
  },
  {
   "cell_type": "code",
   "execution_count": 100,
   "metadata": {},
   "outputs": [
    {
     "data": {
      "text/plain": [
       "{'type': 'Feature',\n",
       " 'properties': {'OBJECTID': 5,\n",
       "  'ZIP': 98005,\n",
       "  'ZIPCODE': '98005',\n",
       "  'COUNTY': '033',\n",
       "  'ZIP_TYPE': 'Standard',\n",
       "  'Shape_Length': 116930.3541309374,\n",
       "  'Shape_Area': 211273337.58027354,\n",
       "  'COUNTY_NAME': 'King County',\n",
       "  'PREFERRED_CITY': 'BELLEVUE'},\n",
       " 'geometry': {'type': 'Polygon',\n",
       "  'coordinates': [[[-122.15876244900666, 47.66064678238712],\n",
       "    [-122.16407641552944, 47.660732623897495],\n",
       "    [-122.1641794661331, 47.65770313243692],\n",
       "    [-122.1642153249363, 47.65664665025667],\n",
       "    [-122.16427974586392, 47.65476402444478],\n",
       "    [-122.16432519628637, 47.65342848863274],\n",
       "    [-122.16439725494905, 47.65136899213959],\n",
       "    [-122.16457840705058, 47.646161602561484],\n",
       "    [-122.16459333020681, 47.64616191340921],\n",
       "    [-122.16646188266024, 47.64620011379997],\n",
       "    [-122.16765650568387, 47.64622453266358],\n",
       "    [-122.16914466666523, 47.646254925251085],\n",
       "    [-122.16981003902191, 47.646268534726396],\n",
       "    [-122.17230051974857, 47.64631577037875],\n",
       "    [-122.1723079553757, 47.64631586116785],\n",
       "    [-122.17318596317038, 47.64632684893126],\n",
       "    [-122.17819964901405, 47.646389457637696],\n",
       "    [-122.18027229565241, 47.64639941979232],\n",
       "    [-122.18027891828164, 47.64639945113043],\n",
       "    [-122.18113506936955, 47.64640528672054],\n",
       "    [-122.1824149645126, 47.64641174188266],\n",
       "    [-122.18314483484735, 47.64641537604536],\n",
       "    [-122.18427052153481, 47.646421030695215],\n",
       "    [-122.18422968465516, 47.646361437197456],\n",
       "    [-122.18421904458854, 47.646345923575225],\n",
       "    [-122.18421795307803, 47.64600559701795],\n",
       "    [-122.18542049245329, 47.64601018584338],\n",
       "    [-122.18553367926783, 47.6460229763382],\n",
       "    [-122.18554037395293, 47.645521955313235],\n",
       "    [-122.18542117839773, 47.645523022511945],\n",
       "    [-122.1835576305327, 47.645514176609396],\n",
       "    [-122.18252552716713, 47.64550927905554],\n",
       "    [-122.18112338566466, 47.64550257793592],\n",
       "    [-122.18027520746988, 47.64549852084464],\n",
       "    [-122.18027808524997, 47.644983057634064],\n",
       "    [-122.18028283881968, 47.644137449348804],\n",
       "    [-122.18028568465901, 47.643697512324934],\n",
       "    [-122.18028799989568, 47.643475497388586],\n",
       "    [-122.18029053953431, 47.643231602118064],\n",
       "    [-122.18181316283705, 47.64323872303239],\n",
       "    [-122.18280543291186, 47.64324336103804],\n",
       "    [-122.18374358907565, 47.643247732859315],\n",
       "    [-122.1846040678876, 47.64325172464212],\n",
       "    [-122.18542795505905, 47.643255574132695],\n",
       "    [-122.18554715510945, 47.64325815629461],\n",
       "    [-122.18554892535722, 47.64273019959218],\n",
       "    [-122.18555035878012, 47.64227978811235],\n",
       "    [-122.18543061342653, 47.64229999499032],\n",
       "    [-122.18422544273196, 47.64228764325933],\n",
       "    [-122.18301927826964, 47.64227526588301],\n",
       "    [-122.18302506571821, 47.64176948231848],\n",
       "    [-122.1830262397545, 47.64126931128249],\n",
       "    [-122.18422325720337, 47.64128374633374],\n",
       "    [-122.18423895317498, 47.64078549217521],\n",
       "    [-122.18543298461506, 47.64080095334973],\n",
       "    [-122.18555485214394, 47.64081116191613],\n",
       "    [-122.1855551592642, 47.64070766759018],\n",
       "    [-122.1855555983272, 47.64062781519315],\n",
       "    [-122.18555853779783, 47.640089754327],\n",
       "    [-122.18555698720368, 47.640089761775286],\n",
       "    [-122.18555810858844, 47.639728773843835],\n",
       "    [-122.18555823945272, 47.639686686015],\n",
       "    [-122.18543736939824, 47.63968513281727],\n",
       "    [-122.18463361658628, 47.63967479902792],\n",
       "    [-122.18433966425641, 47.63967101867021],\n",
       "    [-122.18382986206592, 47.63966445958913],\n",
       "    [-122.18382613856309, 47.63966441190188],\n",
       "    [-122.18302404016252, 47.63965408826318],\n",
       "    [-122.18302402868304, 47.63965841376109],\n",
       "    [-122.18302389037353, 47.63970779718597],\n",
       "    [-122.18223075496722, 47.63969690654389],\n",
       "    [-122.1822326842973, 47.6390955830944],\n",
       "    [-122.18269914188329, 47.63910157169866],\n",
       "    [-122.18302554940986, 47.63910579134147],\n",
       "    [-122.18316486948446, 47.639107564305995],\n",
       "    [-122.18359090724233, 47.63911304412046],\n",
       "    [-122.18383103580337, 47.63911614597168],\n",
       "    [-122.18444282144128, 47.639124025561934],\n",
       "    [-122.18543973773423, 47.63913684044041],\n",
       "    [-122.18556369584083, 47.63914303464373],\n",
       "    [-122.18556870502277, 47.6382249230557],\n",
       "    [-122.18557817720345, 47.637258470635544],\n",
       "    [-122.18545561843837, 47.63726348526516],\n",
       "    [-122.18377457051774, 47.63724628210921],\n",
       "    [-122.18153115956741, 47.637222278990976],\n",
       "    [-122.18134867523061, 47.637219946518556],\n",
       "    [-122.18095669384125, 47.637214938277],\n",
       "    [-122.1808305434194, 47.63721333034362],\n",
       "    [-122.18036558950597, 47.63720740149517],\n",
       "    [-122.18036868698789, 47.636868067466544],\n",
       "    [-122.18037194953631, 47.63651036069836],\n",
       "    [-122.18037336318156, 47.63635552762945],\n",
       "    [-122.1803737381793, 47.636314402800345],\n",
       "    [-122.18038581383601, 47.635400902979576],\n",
       "    [-122.18159859771806, 47.63541146217585],\n",
       "    [-122.18163630311327, 47.63532520210788],\n",
       "    [-122.1817880287701, 47.63510692588269],\n",
       "    [-122.18179886884549, 47.635091311183345],\n",
       "    [-122.18197060862721, 47.63484425984218],\n",
       "    [-122.18225369134036, 47.63443703921477],\n",
       "    [-122.18239173635193, 47.634238434274934],\n",
       "    [-122.1833136473958, 47.63291566493961],\n",
       "    [-122.1836862115036, 47.63269022633382],\n",
       "    [-122.1847422336835, 47.632882337468416],\n",
       "    [-122.18512493424205, 47.63297458591945],\n",
       "    [-122.18510397409528, 47.63286343644589],\n",
       "    [-122.18474972111292, 47.63237772052959],\n",
       "    [-122.18453369133681, 47.6319269894601],\n",
       "    [-122.18447001065704, 47.631752101242625],\n",
       "    [-122.18443058581582, 47.631644617402856],\n",
       "    [-122.18439352676928, 47.63149047105487],\n",
       "    [-122.18435527643605, 47.631331367750924],\n",
       "    [-122.18428068395916, 47.63092058801079],\n",
       "    [-122.1841747348709, 47.6303319506572],\n",
       "    [-122.18399860479768, 47.62936469569583],\n",
       "    [-122.18385189851136, 47.62856516780282],\n",
       "    [-122.18371199471054, 47.62778642225488],\n",
       "    [-122.1835648827185, 47.62697576671896],\n",
       "    [-122.18346028936719, 47.62641014479496],\n",
       "    [-122.18336865990672, 47.62591449887849],\n",
       "    [-122.18332387375008, 47.62566908891853],\n",
       "    [-122.18322605112718, 47.625132864797216],\n",
       "    [-122.1831232653249, 47.6245823812095],\n",
       "    [-122.18295059630944, 47.623593669575136],\n",
       "    [-122.18294793029413, 47.623577356659496],\n",
       "    [-122.18288014931487, 47.62316407704633],\n",
       "    [-122.18285466214675, 47.622867759377726],\n",
       "    [-122.18391478040643, 47.62284958849673],\n",
       "    [-122.18464588614225, 47.622855256377505],\n",
       "    [-122.18498556180124, 47.622856131049204],\n",
       "    [-122.18474111907335, 47.622741679877386],\n",
       "    [-122.18468577534418, 47.62260926653449],\n",
       "    [-122.18468282226742, 47.62220221272366],\n",
       "    [-122.18327113898809, 47.622208268831876],\n",
       "    [-122.1829371178184, 47.62201591201336],\n",
       "    [-122.18301500208784, 47.62173221521108],\n",
       "    [-122.18314246202988, 47.621373706876994],\n",
       "    [-122.18327413942994, 47.62100322104093],\n",
       "    [-122.18332787867622, 47.620846922606255],\n",
       "    [-122.1837315579852, 47.619701339577325],\n",
       "    [-122.18387197411587, 47.619269601881484],\n",
       "    [-122.18390664031021, 47.6191085720809],\n",
       "    [-122.18402303809563, 47.61856812820177],\n",
       "    [-122.18405881274077, 47.618273164745055],\n",
       "    [-122.1840816532322, 47.61808482869162],\n",
       "    [-122.18420622980996, 47.618087575339636],\n",
       "    [-122.1842168318432, 47.61790099402164],\n",
       "    [-122.18466066307643, 47.61789874647013],\n",
       "    [-122.18552593850146, 47.61789433120119],\n",
       "    [-122.18564907161426, 47.61788290127685],\n",
       "    [-122.18564751815326, 47.61728752165664],\n",
       "    [-122.18564104221632, 47.6169403874796],\n",
       "    [-122.18543999172785, 47.616932505125966],\n",
       "    [-122.18503672399989, 47.61693488273688],\n",
       "    [-122.18503306311933, 47.616798653182855],\n",
       "    [-122.18485783383161, 47.616802681076585],\n",
       "    [-122.18458014211237, 47.61680326956083],\n",
       "    [-122.18403762963119, 47.61680599994701],\n",
       "    [-122.18391416986766, 47.616211595714844],\n",
       "    [-122.18378931601454, 47.61572101120236],\n",
       "    [-122.1836804828585, 47.61529467687934],\n",
       "    [-122.1836172699204, 47.615051289888186],\n",
       "    [-122.18344931996765, 47.614378138982666],\n",
       "    [-122.18342403210153, 47.61419604156971],\n",
       "    [-122.18339207739716, 47.613965941088196],\n",
       "    [-122.18337808104407, 47.61356106924829],\n",
       "    [-122.18340199675906, 47.6132311556738],\n",
       "    [-122.18345118450956, 47.61293571243245],\n",
       "    [-122.18368404994172, 47.61206971060911],\n",
       "    [-122.18382098448943, 47.61157006665911],\n",
       "    [-122.18408796310517, 47.610596014249104],\n",
       "    [-122.18412423598612, 47.61046729234383],\n",
       "    [-122.1843967069603, 47.60950032750015],\n",
       "    [-122.18448522216144, 47.60919906724421],\n",
       "    [-122.18549651448508, 47.60877763187785],\n",
       "    [-122.18548598528089, 47.60792022370963],\n",
       "    [-122.18528797387768, 47.60789688486731],\n",
       "    [-122.1847469623593, 47.607896073063],\n",
       "    [-122.1847465781602, 47.6078962668181],\n",
       "    [-122.18473101386982, 47.60760981213419],\n",
       "    [-122.184650721699, 47.6071816317368],\n",
       "    [-122.18449182013374, 47.606734558035704],\n",
       "    [-122.18428418725256, 47.606342434871905],\n",
       "    [-122.18450010155259, 47.6063664429424],\n",
       "    [-122.1845053826545, 47.606677584554],\n",
       "    [-122.1852698534074, 47.60667815535891],\n",
       "    [-122.18547083102236, 47.606683666655016],\n",
       "    [-122.18544986311366, 47.60497241091691],\n",
       "    [-122.1854467489244, 47.60494336719419],\n",
       "    [-122.18492150983067, 47.604360411854294],\n",
       "    [-122.18398381970096, 47.603109809505376],\n",
       "    [-122.18456647815957, 47.60285814521621],\n",
       "    [-122.18550045740376, 47.60244623334479],\n",
       "    [-122.18675011412502, 47.60191928918517],\n",
       "    [-122.18667151850806, 47.60182418035749],\n",
       "    [-122.1864600925871, 47.601597745306634],\n",
       "    [-122.18655248754149, 47.60146226516852],\n",
       "    [-122.18649344819754, 47.60142433381518],\n",
       "    [-122.18616987098339, 47.601416994898834],\n",
       "    [-122.18608165405998, 47.601318649471835],\n",
       "    [-122.18617233235085, 47.601207565672894],\n",
       "    [-122.18622556392594, 47.60112190593538],\n",
       "    [-122.18624060683452, 47.60110969005001],\n",
       "    [-122.1862970196706, 47.60106048732006],\n",
       "    [-122.1863492397225, 47.601009223150214],\n",
       "    [-122.1863971125042, 47.60095603647942],\n",
       "    [-122.18644048090471, 47.60090112111569],\n",
       "    [-122.18634300047985, 47.600889610065465],\n",
       "    [-122.18638400112727, 47.60081441352509],\n",
       "    [-122.18642228313463, 47.600693593692036],\n",
       "    [-122.18646481418543, 47.60055923583174],\n",
       "    [-122.18840712379219, 47.59436247058463],\n",
       "    [-122.18842332163098, 47.59431078994082],\n",
       "    [-122.18846261011873, 47.59418820247834],\n",
       "    [-122.18849717269859, 47.59402017469388],\n",
       "    [-122.1885518315212, 47.59367232022792],\n",
       "    [-122.18858625787612, 47.59336301956512],\n",
       "    [-122.18859393003741, 47.59311389914645],\n",
       "    [-122.18859192062405, 47.59290081316999],\n",
       "    [-122.18857912097636, 47.59267666050748],\n",
       "    [-122.18854040972722, 47.59242561126522],\n",
       "    [-122.18850558742908, 47.59218660753024],\n",
       "    [-122.1884380973012, 47.59192864875001],\n",
       "    [-122.18835217217793, 47.591649141473795],\n",
       "    [-122.18816923869258, 47.59121359835474],\n",
       "    [-122.18789915760436, 47.59072588868464],\n",
       "    [-122.1876525955637, 47.59031770184619],\n",
       "    [-122.18693119307555, 47.58925374507747],\n",
       "    [-122.18670101321138, 47.5889167060046],\n",
       "    [-122.1862973355687, 47.58823953122961],\n",
       "    [-122.18606797882481, 47.58780453725816],\n",
       "    [-122.18590808966242, 47.58742917874329],\n",
       "    [-122.18573592404628, 47.587009256348544],\n",
       "    [-122.18502500509273, 47.584337204069655],\n",
       "    [-122.18498585540054, 47.58395597848858],\n",
       "    [-122.18502417218376, 47.58350031878819],\n",
       "    [-122.18511481673139, 47.58312885822493],\n",
       "    [-122.18525911092837, 47.58273131487912],\n",
       "    [-122.1854149863432, 47.582458037025845],\n",
       "    [-122.18647247096344, 47.58080534804717],\n",
       "    [-122.18708760639464, 47.579739165432045],\n",
       "    [-122.18755401244275, 47.57928589322277],\n",
       "    [-122.18746101222423, 47.5792905377172],\n",
       "    [-122.18445937761037, 47.579440355273206],\n",
       "    [-122.18406992884945, 47.579482331954985],\n",
       "    [-122.17939129102278, 47.58006179063208],\n",
       "    [-122.17932110267489, 47.5800704824303],\n",
       "    [-122.17911062213827, 47.58009654011197],\n",
       "    [-122.17433441193562, 47.580440470989245],\n",
       "    [-122.17433057734243, 47.58044074378354],\n",
       "    [-122.17428870526392, 47.58044376281109],\n",
       "    [-122.17293853751211, 47.58047428654521],\n",
       "    [-122.17231540163291, 47.58049622287746],\n",
       "    [-122.1707719913447, 47.5805505472813],\n",
       "    [-122.16951633715654, 47.58043502559622],\n",
       "    [-122.16825447174351, 47.580432318323545],\n",
       "    [-122.16812642023125, 47.58041849684164],\n",
       "    [-122.1669254551775, 47.58028886737664],\n",
       "    [-122.16623996042301, 47.58021487084545],\n",
       "    [-122.16615554343923, 47.58021458797985],\n",
       "    [-122.164426068774, 47.58020879302524],\n",
       "    [-122.16442588741712, 47.58020879240604],\n",
       "    [-122.15932023890771, 47.58002042682356],\n",
       "    [-122.1547989828877, 47.579810483900246],\n",
       "    [-122.15361278982247, 47.57975537660596],\n",
       "    [-122.15361192234461, 47.58129811640042],\n",
       "    [-122.15307417557698, 47.58130951269151],\n",
       "    [-122.15284691584075, 47.58133822510211],\n",
       "    [-122.15266334382964, 47.581376657514745],\n",
       "    [-122.15248695422746, 47.58142827708381],\n",
       "    [-122.15227968606756, 47.581510333065424],\n",
       "    [-122.1520728297991, 47.581621475376544],\n",
       "    [-122.15192317192204, 47.581726991316536],\n",
       "    [-122.15178523843203, 47.58183143888844],\n",
       "    [-122.15165302397632, 47.58198572245118],\n",
       "    [-122.15153364100345, 47.5821298492151],\n",
       "    [-122.15137262009404, 47.582236428348956],\n",
       "    [-122.15121257379472, 47.58229668537995],\n",
       "    [-122.15104031122358, 47.58233221475485],\n",
       "    [-122.15091911210646, 47.58234718857206],\n",
       "    [-122.15091853924038, 47.582482921647355],\n",
       "    [-122.15091849414459, 47.58248914626657],\n",
       "    [-122.15091793234892, 47.582622274415144],\n",
       "    [-122.15103891705222, 47.58262298123468],\n",
       "    [-122.15116123875777, 47.582623675175185],\n",
       "    [-122.15116257011056, 47.582474064807904],\n",
       "    [-122.15121860829308, 47.58247440528163],\n",
       "    [-122.1512225193143, 47.582474420282814],\n",
       "    [-122.15127972561426, 47.582474640256535],\n",
       "    [-122.15223155567875, 47.58247832181544],\n",
       "    [-122.15222644722063, 47.58308340456689],\n",
       "    [-122.15222612004384, 47.5831224803453],\n",
       "    [-122.1522257888152, 47.58316155617068],\n",
       "    [-122.15222478032278, 47.583281078783294],\n",
       "    [-122.15222452877182, 47.5833109820504],\n",
       "    [-122.15222427316921, 47.58334088536448],\n",
       "    [-122.15222377914506, 47.58339977051704],\n",
       "    [-122.15222305520419, 47.583485413733754],\n",
       "    [-122.15221797341805, 47.58408739782514],\n",
       "    [-122.15361744982003, 47.584088768902454],\n",
       "    [-122.15468279297457, 47.58408980736457],\n",
       "    [-122.15468403531004, 47.584099795364466],\n",
       "    [-122.15468510486748, 47.584108085396714],\n",
       "    [-122.15468620278509, 47.58411637509949],\n",
       "    [-122.15468733716581, 47.58412466437859],\n",
       "    [-122.15468850388864, 47.58413295054004],\n",
       "    [-122.15468970295362, 47.58414123358386],\n",
       "    [-122.15469093449981, 47.58414951899218],\n",
       "    [-122.15469219817956, 47.58415779305961],\n",
       "    [-122.15469349846155, 47.5841660721855],\n",
       "    [-122.15469482689522, 47.58417434275866],\n",
       "    [-122.15469619193121, 47.584182618390386],\n",
       "    [-122.15469758923985, 47.58419088816332],\n",
       "    [-122.15469901889072, 47.584199154818634],\n",
       "    [-122.15470048088388, 47.584207418356264],\n",
       "    [-122.15470197528887, 47.584215681517314],\n",
       "    [-122.1547024076421, 47.58421802629825],\n",
       "    [-122.15435313121428, 47.584218760521914],\n",
       "    [-122.15361654520572, 47.584222649657995],\n",
       "    [-122.15266042494046, 47.58422957715098],\n",
       "    [-122.15180881724503, 47.584861862534254],\n",
       "    [-122.15167024097775, 47.584936622611124],\n",
       "    [-122.15153978461008, 47.585007011050685],\n",
       "    [-122.15149415476782, 47.58503163017048],\n",
       "    [-122.15126635693062, 47.58515454319256],\n",
       "    [-122.1511890520318, 47.58508970755306],\n",
       "    [-122.15096036808805, 47.58489790753858],\n",
       "    [-122.15095274964328, 47.58489152493151],\n",
       "    [-122.15089499457213, 47.58489134402251],\n",
       "    [-122.15089029485212, 47.58546339841995],\n",
       "    [-122.15088985194708, 47.585517638188826],\n",
       "    [-122.15088138980296, 47.58654762675915],\n",
       "    [-122.15087540215889, 47.58727666118643],\n",
       "    [-122.15094095849626, 47.58727751949355],\n",
       "    [-122.15274188832531, 47.58730087209129],\n",
       "    [-122.15359592320652, 47.58731193466148],\n",
       "    [-122.15359597274796, 47.587301103603934],\n",
       "    [-122.15481244323847, 47.5873061123495],\n",
       "    [-122.15481983461045, 47.587983661155555],\n",
       "    [-122.15483289868433, 47.588170520322834],\n",
       "    [-122.15484154137805, 47.588248026505305],\n",
       "    [-122.15484452875684, 47.58833696903216],\n",
       "    [-122.1548475600729, 47.588426045401285],\n",
       "    [-122.15485234180463, 47.588566511964906],\n",
       "    [-122.15485535076083, 47.588606810281156],\n",
       "    [-122.15485777215706, 47.58878665046152],\n",
       "    [-122.15472356085701, 47.58878612587209],\n",
       "    [-122.15463414315145, 47.58878576626194],\n",
       "    [-122.15460358091795, 47.58878565516198],\n",
       "    [-122.15443107254588, 47.58878510896678],\n",
       "    [-122.15428750430719, 47.58878463770293],\n",
       "    [-122.15428884922073, 47.58878333339333],\n",
       "    [-122.15416084607578, 47.58878292797439],\n",
       "    [-122.15396038353863, 47.58896559551999],\n",
       "    [-122.15377499303968, 47.58913453454341],\n",
       "    [-122.15377496530279, 47.58913455954246],\n",
       "    [-122.15357952558317, 47.58933847259332],\n",
       "    [-122.15357632507228, 47.58947628170017],\n",
       "    [-122.15356422017369, 47.59003615522233],\n",
       "    [-122.15354467792721, 47.59094043938002],\n",
       "    [-122.1535272481691, 47.59174777304028],\n",
       "    [-122.15350119593926, 47.59224119956309],\n",
       "    [-122.15351360872724, 47.59237839149121],\n",
       "    [-122.15351332659857, 47.5923869247979],\n",
       "    [-122.15351279320738, 47.592425824755246],\n",
       "    [-122.15351175372436, 47.59246474703756],\n",
       "    [-122.15351072185732, 47.592503650038154],\n",
       "    [-122.15351018357667, 47.59254251714939],\n",
       "    [-122.15350578709955, 47.5927488929571],\n",
       "    [-122.1534434480694, 47.592748270157976],\n",
       "    [-122.15342352924968, 47.59274807083975],\n",
       "    [-122.153298286634, 47.59274677957231],\n",
       "    [-122.15258293616806, 47.59273944936536],\n",
       "    [-122.15208261901738, 47.59273686054221],\n",
       "    [-122.15189969208265, 47.5931908752326],\n",
       "    [-122.15257575275662, 47.593196329380355],\n",
       "    [-122.15257511446474, 47.593438067590796],\n",
       "    [-122.15261082411708, 47.59343805924771],\n",
       "    [-122.15260726776066, 47.593656135858794],\n",
       "    [-122.15340216694044, 47.593660958142365],\n",
       "    [-122.15339313551713, 47.594108622288566],\n",
       "    [-122.15285229253061, 47.594105434887766],\n",
       "    [-122.15284460092724, 47.59455673285028],\n",
       "    [-122.15338014175619, 47.59455860543867],\n",
       "    [-122.15346656830692, 47.594558745865605],\n",
       "    [-122.15344710661589, 47.59546106576884],\n",
       "    [-122.15413812699904, 47.595460801489246],\n",
       "    [-122.15446428827654, 47.59546148336439],\n",
       "    [-122.15479024618227, 47.595462136506185],\n",
       "    [-122.15513582431493, 47.595462840413376],\n",
       "    [-122.15546064696771, 47.595463480148574],\n",
       "    [-122.15580488779075, 47.595464194824366],\n",
       "    [-122.1561455564601, 47.59546486773995],\n",
       "    [-122.15615622741647, 47.59498343131401],\n",
       "    [-122.15615626318139, 47.594981648666035],\n",
       "    [-122.15616326421807, 47.59456331850708],\n",
       "    [-122.15648667135294, 47.59456430073576],\n",
       "    [-122.15676641930055, 47.594565131927844],\n",
       "    [-122.1568133627643, 47.59456516157788],\n",
       "    [-122.15713873117473, 47.594565321243216],\n",
       "    [-122.15750840791962, 47.59456549340216],\n",
       "    [-122.15755676623833, 47.59456553095289],\n",
       "    [-122.15817152583205, 47.59456572395513],\n",
       "    [-122.15831760029432, 47.59456576922034],\n",
       "    [-122.15835432461265, 47.59456578016773],\n",
       "    [-122.15837419461798, 47.59456578452483],\n",
       "    [-122.15857689228802, 47.59456729760253],\n",
       "    [-122.1587207149505, 47.59456837211778],\n",
       "    [-122.15884548693292, 47.59456930376363],\n",
       "    [-122.15881714882302, 47.596374186148786],\n",
       "    [-122.15880459102587, 47.597213380389576],\n",
       "    [-122.15878222097346, 47.59822282364219],\n",
       "    [-122.15876235402695, 47.5991284294818],\n",
       "    [-122.15874556521251, 47.59977288859408],\n",
       "    [-122.15873898880604, 47.600051103229525],\n",
       "    [-122.15870237081096, 47.60005096225339],\n",
       "    [-122.15863110517778, 47.60005068747374],\n",
       "    [-122.15849967048703, 47.60005018400988],\n",
       "    [-122.15829696632578, 47.60004941367568],\n",
       "    [-122.15822701829704, 47.60004914249118],\n",
       "    [-122.15767746509677, 47.600047041148095],\n",
       "    [-122.15765788311597, 47.60004696748666],\n",
       "    [-122.15740643861102, 47.60004600067417],\n",
       "    [-122.15714007408053, 47.600044960146136],\n",
       "    [-122.15661123838564, 47.600042941610475],\n",
       "    [-122.1563528205699, 47.60004194390316],\n",
       "    [-122.15607323189347, 47.600040561121084],\n",
       "    [-122.1557754908292, 47.60003952575216],\n",
       "    [-122.15554910362971, 47.600038729688556],\n",
       "    [-122.15501844784634, 47.60003686199903],\n",
       "    [-122.15477008693587, 47.60003599063297],\n",
       "    [-122.15449573878155, 47.60003503664658],\n",
       "    [-122.15396297499807, 47.6000331610961],\n",
       "    [-122.15334839564166, 47.600022937342246],\n",
       "    [-122.15334837132573, 47.60002293762439],\n",
       "    [-122.15277065173066, 47.600021742605826],\n",
       "    [-122.1527122951215, 47.60002088392799],\n",
       "    [-122.15244373960155, 47.600019748141484],\n",
       "    [-122.15233798093033, 47.600019351135764],\n",
       "    [-122.15198317883085, 47.60001801320692],\n",
       "    [-122.15155107883703, 47.6000163853429],\n",
       "    [-122.15154960425832, 47.600101894635884],\n",
       "    [-122.15154793421544, 47.60019825312],\n",
       "    [-122.1515447991261, 47.60037937773286],\n",
       "    [-122.15154472962504, 47.60038351605389],\n",
       "    [-122.15154166799823, 47.60056049955697],\n",
       "    [-122.15154145843461, 47.60057255260242],\n",
       "    [-122.15153914108852, 47.60070673750757],\n",
       "    [-122.151538536918, 47.600741624121454],\n",
       "    [-122.15153407028676, 47.60099982504569],\n",
       "    [-122.1518260620624, 47.600999345165924],\n",
       "    [-122.15207561104286, 47.60099893425966],\n",
       "    [-122.15208300915226, 47.600998922536924],\n",
       "    [-122.15236192759606, 47.60099846394968],\n",
       "    [-122.15246318625206, 47.60099829620668],\n",
       "    [-122.15263985283806, 47.600998005228504],\n",
       "    [-122.15294745554903, 47.60099749498747],\n",
       "    [-122.15307526632495, 47.60099728468356],\n",
       "    [-122.153340365625, 47.601003084712936],\n",
       "    [-122.1533389679144, 47.60138848777116],\n",
       "    [-122.15337995662236, 47.60169980936276],\n",
       "    [-122.15344560184053, 47.60219842875749],\n",
       "    [-122.15344058139478, 47.60264907333649],\n",
       "    [-122.15285521066966, 47.60264658527025],\n",
       "    [-122.15285257643197, 47.60272720828616],\n",
       "    [-122.1528591175038, 47.60309056487366],\n",
       "    [-122.15245613929531, 47.60308887933235],\n",
       "    [-122.15246493346311, 47.60355434803617],\n",
       "    [-122.15327782915286, 47.60355769753057],\n",
       "    [-122.15344813799814, 47.60356166328534],\n",
       "    [-122.15345883899379, 47.604472738856465],\n",
       "    [-122.15346953624137, 47.6053838117159],\n",
       "    [-122.15334518639817, 47.605378797265615],\n",
       "    [-122.1533029563856, 47.605377806565514],\n",
       "    [-122.15303284277569, 47.605377073789434],\n",
       "    [-122.15268516982097, 47.60537468979054],\n",
       "    [-122.15086996303215, 47.6053621904993],\n",
       "    [-122.15087015661258, 47.60581821969501],\n",
       "    [-122.15335004278049, 47.60583238716625],\n",
       "    [-122.153474921342, 47.60583326893979],\n",
       "    [-122.15348036869044, 47.60628789322163],\n",
       "    [-122.15347878713077, 47.60628787866887],\n",
       "    [-122.15335625701728, 47.60628675920143],\n",
       "    [-122.14854626210423, 47.60625980637689],\n",
       "    [-122.14816869583531, 47.60625768413005],\n",
       "    [-122.1481776493291, 47.606625128972695],\n",
       "    [-122.14822009130235, 47.60865931284794],\n",
       "    [-122.1482428263619, 47.60981080567644],\n",
       "    [-122.1482453329913, 47.609894919828385],\n",
       "    [-122.14939546912231, 47.6099024947341],\n",
       "    [-122.15352392042038, 47.60992959892294],\n",
       "    [-122.15352404209268, 47.60992960025319],\n",
       "    [-122.15352987428656, 47.610420454841154],\n",
       "    [-122.15354550003498, 47.611735674817766],\n",
       "    [-122.1535557288123, 47.61259684232042],\n",
       "    [-122.15357780164304, 47.614445600935625],\n",
       "    [-122.15358035174127, 47.614659565122395],\n",
       "    [-122.1534528802642, 47.614657210740454],\n",
       "    [-122.1529998083565, 47.614653527058096],\n",
       "    [-122.1529993219013, 47.614653532699215],\n",
       "    [-122.15292687380384, 47.61465250558137],\n",
       "    [-122.15279970004144, 47.61465069539466],\n",
       "    [-122.1528008250124, 47.61486287466134],\n",
       "    [-122.15292919547377, 47.614863963568034],\n",
       "    [-122.15312779312045, 47.61486563626127],\n",
       "    [-122.15345516056338, 47.61486839228986],\n",
       "    [-122.15358276834456, 47.61486946600092],\n",
       "    [-122.15358331892277, 47.61491569478176],\n",
       "    [-122.15358826874318, 47.61533142004476],\n",
       "    [-122.15358858463848, 47.61535797229752],\n",
       "    [-122.15359483330832, 47.61588185153083],\n",
       "    [-122.15359513556936, 47.61590722698397],\n",
       "    [-122.15346614465328, 47.61590544064396],\n",
       "    [-122.15319716768443, 47.6159017153727],\n",
       "    [-122.15293709481426, 47.61589811379581],\n",
       "    [-122.15287317145709, 47.61589759236181],\n",
       "    [-122.15228413158353, 47.61589276906701],\n",
       "    [-122.1522897331859, 47.616243471646534],\n",
       "    [-122.15277923654274, 47.61624886638288],\n",
       "    [-122.1527811769044, 47.616624082811086],\n",
       "    [-122.15278533100414, 47.616747913340646],\n",
       "    [-122.15295204013817, 47.61674639167504],\n",
       "    [-122.15295707330017, 47.61701358556043],\n",
       "    [-122.15295777895811, 47.617041407585255],\n",
       "    [-122.15296240640414, 47.61714487133119],\n",
       "    [-122.1536099785724, 47.61715207905975],\n",
       "    [-122.15361522345158, 47.61771129303787],\n",
       "    [-122.1536148009976, 47.61771126503611],\n",
       "    [-122.15348338061689, 47.61770284747648],\n",
       "    [-122.15344319290574, 47.617700272885195],\n",
       "    [-122.15283977593816, 47.617693728461624],\n",
       "    [-122.15243993879452, 47.617689397594745],\n",
       "    [-122.15244078284864, 47.617978602576784],\n",
       "    [-122.15244995588888, 47.618911564822696],\n",
       "    [-122.15245300417016, 47.61940910061297],\n",
       "    [-122.15245997975904, 47.61987599136556],\n",
       "    [-122.15246691910075, 47.62034208738527],\n",
       "    [-122.15247389317882, 47.620808588798006],\n",
       "    [-122.15352041880435, 47.62081724065497],\n",
       "    [-122.15364418843396, 47.62080097401761],\n",
       "    [-122.15365205831768, 47.621639051835274],\n",
       "    [-122.15365252781599, 47.62168887205854],\n",
       "    [-122.15366051448146, 47.62253905121836],\n",
       "    [-122.15309128451987, 47.62253385473276],\n",
       "    [-122.1530913085469, 47.62253400251631],\n",
       "    [-122.15310643916844, 47.62261885862607],\n",
       "    [-122.15310873466676, 47.62297823647571],\n",
       "    [-122.15304412932286, 47.622978272694226],\n",
       "    [-122.15304695623905, 47.62317124443521],\n",
       "    [-122.15246500098293, 47.623164448442786],\n",
       "    [-122.15209092645392, 47.62316005856451],\n",
       "    [-122.15209821862268, 47.62391040506588],\n",
       "    [-122.15250624964852, 47.62391450562523],\n",
       "    [-122.15250577964173, 47.62414691380357],\n",
       "    [-122.15300680154043, 47.62414938641899],\n",
       "    [-122.15300720476654, 47.62410276958177],\n",
       "    [-122.1531250791039, 47.62412718211631],\n",
       "    [-122.1531473520022, 47.624164704381585],\n",
       "    [-122.15318033823768, 47.62418120919647],\n",
       "    [-122.15331631256272, 47.62417409375912],\n",
       "    [-122.15336052849429, 47.6242016003729],\n",
       "    [-122.15345294819171, 47.62418824483023],\n",
       "    [-122.15367539142159, 47.624132581633276],\n",
       "    [-122.15367761249351, 47.62437125952726],\n",
       "    [-122.15368508116032, 47.62516568278278],\n",
       "    [-122.15352159123528, 47.625162471009624],\n",
       "    [-122.15292288139736, 47.625161352469554],\n",
       "    [-122.15244724472271, 47.62516086095118],\n",
       "    [-122.15245328735402, 47.62559748923292],\n",
       "    [-122.15356491799521, 47.62561004300101],\n",
       "    [-122.15368933738053, 47.6256174890216],\n",
       "    [-122.15371133610142, 47.62795700006169],\n",
       "    [-122.15371771222644, 47.628643945532396],\n",
       "    [-122.15355661857349, 47.62868555775489],\n",
       "    [-122.15338654581663, 47.62868566566613],\n",
       "    [-122.15313292501072, 47.628737053013005],\n",
       "    [-122.1530667538182, 47.62874135999034],\n",
       "    [-122.15307828924271, 47.62919602380621],\n",
       "    [-122.15334335116046, 47.62921003240637],\n",
       "    [-122.15337096945116, 47.629206682347295],\n",
       "    [-122.15360202401902, 47.62917862376585],\n",
       "    [-122.15372256307224, 47.629166452746944],\n",
       "    [-122.15372507707296, 47.629436946871024],\n",
       "    [-122.15372923215224, 47.62987355593082],\n",
       "    [-122.15297553446455, 47.6303410499368],\n",
       "    [-122.15249713368789, 47.63057650517431],\n",
       "    [-122.15186775863515, 47.630759930453756],\n",
       "    [-122.15186701828206, 47.630812172046966],\n",
       "    [-122.15191698989062, 47.63091148578761],\n",
       "    [-122.15255658701227, 47.63091640842197],\n",
       "    [-122.15256124554351, 47.63145977257252],\n",
       "    [-122.15266014577244, 47.63156882300316],\n",
       "    [-122.15275882118173, 47.63167762918786],\n",
       "    [-122.15275271638482, 47.632204365139366],\n",
       "    [-122.15356171624144, 47.63220886244655],\n",
       "    [-122.15355749140124, 47.63248205320217],\n",
       "    [-122.1524614161538, 47.63247205930298],\n",
       "    [-122.15106333865609, 47.63245926663388],\n",
       "    [-122.14946240872051, 47.63244460713495],\n",
       "    [-122.1483901432033, 47.632434786840435],\n",
       "    [-122.1483814068096, 47.63333730081808],\n",
       "    [-122.14975889474448, 47.63334893625547],\n",
       "    [-122.15072209580964, 47.63335707222273],\n",
       "    [-122.15207217353245, 47.63336844575656],\n",
       "    [-122.15286897120708, 47.63427786150407],\n",
       "    [-122.15295948311501, 47.63427861652397],\n",
       "    [-122.15309021987736, 47.63427970853545],\n",
       "    [-122.15317276323371, 47.63424763113338],\n",
       "    [-122.1533501720735, 47.634249599300624],\n",
       "    [-122.15348580732937, 47.63425110292203],\n",
       "    [-122.15348495791581, 47.634283003711126],\n",
       "    [-122.15357491356656, 47.634283737273584],\n",
       "    [-122.15369965452375, 47.63428289928002],\n",
       "    [-122.15369210458545, 47.63472965468372],\n",
       "    [-122.15368442948059, 47.6351885827875],\n",
       "    [-122.15356130298917, 47.63518263228683],\n",
       "    [-122.15307432647533, 47.63517865453425],\n",
       "    [-122.15178584309407, 47.63516800206414],\n",
       "    [-122.15050487038464, 47.63515739069971],\n",
       "    [-122.1494487245548, 47.63514862981497],\n",
       "    [-122.14836307362948, 47.63513962141778],\n",
       "    [-122.1483571801201, 47.63571515698842],\n",
       "    [-122.14834553717455, 47.636635767995685],\n",
       "    [-122.14912097427518, 47.6366423304466],\n",
       "    [-122.14963518589896, 47.63664669584882],\n",
       "    [-122.1504260871362, 47.636653396904066],\n",
       "    [-122.15113868505392, 47.63665940856748],\n",
       "    [-122.15223415162158, 47.63666865828261],\n",
       "    [-122.15222660149911, 47.63697562086865],\n",
       "    [-122.15239723527934, 47.636977052188655],\n",
       "    [-122.15239721333316, 47.63697698663757],\n",
       "    [-122.15240459857627, 47.63697706558469],\n",
       "    [-122.15244752501252, 47.636977473048304],\n",
       "    [-122.15352821680636, 47.636987868661436],\n",
       "    [-122.15365434606198, 47.636986490992804],\n",
       "    [-122.15364697821568, 47.637426227737436],\n",
       "    [-122.15352002017734, 47.63743511132647],\n",
       "    [-122.15311523489318, 47.6374323327824],\n",
       "    [-122.15311521496314, 47.637432346722875],\n",
       "    [-122.15305465302357, 47.6374704536341],\n",
       "    [-122.1527365645323, 47.63767059686049],\n",
       "    [-122.15272886549987, 47.63788250810555],\n",
       "    [-122.15272784506847, 47.6379105667307],\n",
       "    [-122.15271253659003, 47.6383318519253],\n",
       "    [-122.15218543340373, 47.63832868873726],\n",
       "    [-122.15201276466064, 47.63832765351543],\n",
       "    [-122.15193392813691, 47.63832716824091],\n",
       "    [-122.15194219192941, 47.63797627510469],\n",
       "    [-122.1522209343506, 47.63787867054017],\n",
       "    [-122.15219403179067, 47.63787843380721],\n",
       "    [-122.1519250866226, 47.637876037777886],\n",
       "    [-122.15147224154448, 47.63787198660316],\n",
       "    [-122.15103019482089, 47.6378680581618],\n",
       "    [-122.15102137017809, 47.63832018821665],\n",
       "    [-122.15148002151061, 47.63832444545332],\n",
       "    [-122.1514794913785, 47.63836755409965],\n",
       "    [-122.15147438063002, 47.63877398876341],\n",
       "    [-122.15275994349415, 47.638783061921224],\n",
       "    [-122.15349521522977, 47.63878821787184],\n",
       "    [-122.15362426704253, 47.638789128780985],\n",
       "    [-122.153600338961, 47.64020370108763],\n",
       "    [-122.15348010197997, 47.640192021948415],\n",
       "    [-122.152736170577, 47.64018564717263],\n",
       "    [-122.15217795977053, 47.640181835198575],\n",
       "    [-122.15094730221588, 47.64017340563145],\n",
       "    [-122.15093487099934, 47.641029268478725],\n",
       "    [-122.15092824421144, 47.64148365154271],\n",
       "    [-122.15092166906454, 47.6419347930879],\n",
       "    [-122.1509142987504, 47.642441826269824],\n",
       "    [-122.15090982989673, 47.64274872279785],\n",
       "    [-122.15090186449204, 47.64329569023842],\n",
       "    [-122.15089609679829, 47.64369400814085],\n",
       "    [-122.15088880756035, 47.644194492718064],\n",
       "    [-122.15088153742438, 47.64469253404108],\n",
       "    [-122.15087894864052, 47.64486995598507],\n",
       "    [-122.15181244193455, 47.644878944416575],\n",
       "    [-122.15207777778177, 47.644881580348255],\n",
       "    [-122.15211844678223, 47.64488198947889],\n",
       "    [-122.15210775863473, 47.64547021569659],\n",
       "    [-122.15216554610082, 47.645470780258144],\n",
       "    [-122.1521685968744, 47.645758887365886],\n",
       "    [-122.1523132705935, 47.64593607059634],\n",
       "    [-122.15237755447454, 47.64610282525846],\n",
       "    [-122.15212048976022, 47.646525917835596],\n",
       "    [-122.15212071086778, 47.64672357809171],\n",
       "    [-122.15158970472754, 47.64671689739194],\n",
       "    [-122.15159808662057, 47.64707793184006],\n",
       "    [-122.15095634978539, 47.64708110937085],\n",
       "    [-122.1507184598922, 47.647601694872584],\n",
       "    [-122.15081059480447, 47.647642854014414],\n",
       "    [-122.15199507134456, 47.64762823890586],\n",
       "    [-122.15198992708746, 47.647761228015355],\n",
       "    [-122.15193733555371, 47.64790005840102],\n",
       "    [-122.15185246298614, 47.6479869390672],\n",
       "    [-122.1517780626473, 47.64806309279044],\n",
       "    [-122.15171632208238, 47.64812629527064],\n",
       "    [-122.15156674564756, 47.64845867131179],\n",
       "    [-122.15150408075826, 47.64854738393551],\n",
       "    [-122.15149923105965, 47.648586725859246],\n",
       "    [-122.15148963105639, 47.648584818954426],\n",
       "    [-122.15141028167577, 47.64856903659205],\n",
       "    [-122.1513496437706, 47.64858741814898],\n",
       "    [-122.15132888461342, 47.64862966689913],\n",
       "    [-122.1512416249245, 47.64865623122209],\n",
       "    [-122.15119395801578, 47.648735085737],\n",
       "    [-122.15115360911557, 47.64888943570576],\n",
       "    [-122.15120011823052, 47.648978140464884],\n",
       "    [-122.15114623200819, 47.64901142270832],\n",
       "    [-122.15114763154342, 47.649089218572485],\n",
       "    [-122.15073219514333, 47.64908873631116],\n",
       "    [-122.15075737725162, 47.64914111391847],\n",
       "    [-122.15078593231203, 47.6491419625743],\n",
       "    [-122.15092617784265, 47.64929153043447],\n",
       "    [-122.15095847419121, 47.64954906152899],\n",
       "    [-122.1508884556828, 47.649790113196126],\n",
       "    [-122.15086558523022, 47.6498882330624],\n",
       "    [-122.15085667609601, 47.650178948896134],\n",
       "    [-122.15085081115593, 47.65037009621398],\n",
       "    [-122.15086750124306, 47.65057733245954],\n",
       "    [-122.15086824531102, 47.650625912855496],\n",
       "    [-122.1507734803283, 47.65077855886272],\n",
       "    [-122.1507355733125, 47.6508396150598],\n",
       "    [-122.1505714791568, 47.65096645012607],\n",
       "    [-122.14930245462462, 47.65096213145709],\n",
       "    [-122.14834562549939, 47.650962101640346],\n",
       "    [-122.14837157344188, 47.65220978000859],\n",
       "    [-122.148386345054, 47.652835524593335],\n",
       "    [-122.14839394558167, 47.653300954346605],\n",
       "    [-122.14839743187682, 47.653453549435056],\n",
       "    [-122.14833523385359, 47.653453672646805],\n",
       "    [-122.14720910615462, 47.65345534618628],\n",
       "    [-122.14586435806213, 47.65345735683501],\n",
       "    [-122.14585879707951, 47.65433803488913],\n",
       "    [-122.14585125700769, 47.65524979579419],\n",
       "    [-122.14351633046385, 47.65525526664809],\n",
       "    [-122.14339122719224, 47.65525547466351],\n",
       "    [-122.14338234823072, 47.65626254168974],\n",
       "    [-122.14337612464662, 47.65696866467327],\n",
       "    [-122.1458380056113, 47.65695449330716],\n",
       "    [-122.14583695638636, 47.65702867338063],\n",
       "    [-122.14583564207405, 47.657121449229045],\n",
       "    [-122.14583293636962, 47.658004501628646],\n",
       "    [-122.14582200631475, 47.658828322616344],\n",
       "    [-122.14647129302405, 47.65882444979147],\n",
       "    [-122.14836170190321, 47.6588131461534],\n",
       "    [-122.14835359760366, 47.65970714941172],\n",
       "    [-122.14829160793765, 47.65970682043835],\n",
       "    [-122.14828867449805, 47.66033790757686],\n",
       "    [-122.14828820787297, 47.660437070525326],\n",
       "    [-122.14828782471226, 47.66051947684524],\n",
       "    [-122.14834830844181, 47.66051831518109],\n",
       "    [-122.14833997633221, 47.66060239260067],\n",
       "    [-122.14848323813347, 47.6606012101307],\n",
       "    [-122.15020792456403, 47.66058689845418],\n",
       "    [-122.15342110857401, 47.6605602050178],\n",
       "    [-122.15342129507397, 47.66056019737254],\n",
       "    [-122.1535436146346, 47.660562212490625],\n",
       "    [-122.15358216955104, 47.66056279380671],\n",
       "    [-122.15370956789108, 47.66056486777861],\n",
       "    [-122.1537704679398, 47.66056587546856],\n",
       "    [-122.15383136701611, 47.660566844750846],\n",
       "    [-122.153892283299, 47.66056785218752],\n",
       "    [-122.15395318615874, 47.66056881039328],\n",
       "    [-122.15401357918445, 47.66056982931583],\n",
       "    [-122.15407447820027, 47.66057079572704],\n",
       "    [-122.15413539050479, 47.66057180582186],\n",
       "    [-122.15419628525886, 47.66057276399179],\n",
       "    [-122.15425719749842, 47.66057377128035],\n",
       "    [-122.15431809253565, 47.660574740349446],\n",
       "    [-122.15437900058318, 47.66057574213782],\n",
       "    [-122.1544399036701, 47.66057670830663],\n",
       "    [-122.15450080381649, 47.660577718347206],\n",
       "    [-122.15456120365441, 47.66057868480474],\n",
       "    [-122.15462210380548, 47.66057969478048],\n",
       "    [-122.15468300683189, 47.6605806580782],\n",
       "    [-122.15474391510239, 47.66058166789471],\n",
       "    [-122.15480482212104, 47.66058262833914],\n",
       "    [-122.15486572633885, 47.66058363813756],\n",
       "    [-122.15492662538668, 47.66058460409319],\n",
       "    [-122.15498752953948, 47.66058561108542],\n",
       "    [-122.15504792533822, 47.660586577331955],\n",
       "    [-122.155108829426, 47.66058758151826],\n",
       "    [-122.15516973254033, 47.66058854729684],\n",
       "    [-122.15523063677216, 47.660589556900135],\n",
       "    [-122.15529154485462, 47.660590558200596],\n",
       "    [-122.15535243993081, 47.66059152671674],\n",
       "    [-122.15541335221471, 47.66059253338711],\n",
       "    [-122.15547425114372, 47.660593493567816],\n",
       "    [-122.15553515531754, 47.66059450026725],\n",
       "    [-122.15559555939099, 47.66059547161139],\n",
       "    [-122.15565645559415, 47.66059648382234],\n",
       "    [-122.15571735865936, 47.66059744656703],\n",
       "    [-122.1557782587154, 47.660598450442514],\n",
       "    [-122.1558391699697, 47.66059941576896],\n",
       "    [-122.15590007010012, 47.66060042232039],\n",
       "    [-122.15596096498997, 47.660601382288],\n",
       "    [-122.15602188555145, 47.660602394020884],\n",
       "    [-122.15608227341365, 47.66060336529542],\n",
       "    [-122.15614317754105, 47.660604368928674],\n",
       "    [-122.15620407649739, 47.660605328719235],\n",
       "    [-122.1562649888837, 47.66060633767523],\n",
       "    [-122.15632588392674, 47.66060730292995],\n",
       "    [-122.15638679205108, 47.66060830364475],\n",
       "    [-122.15644769122581, 47.660609271528294],\n",
       "    [-122.15650859949434, 47.66061027766012],\n",
       "    [-122.15656950259148, 47.66061123994924],\n",
       "    [-122.15662989942625, 47.66061224373213],\n",
       "    [-122.15669080287682, 47.66061321966182],\n",
       "    [-122.15675170290035, 47.66061422027577],\n",
       "    [-122.15681260593686, 47.66061517969381],\n",
       "    [-122.15687351841632, 47.66061619106556],\n",
       "    [-122.15693442152715, 47.66061715315954],\n",
       "    [-122.15839459015983, 47.66064083245654],\n",
       "    [-122.15876244900666, 47.66064678238712]]]}}"
      ]
     },
     "execution_count": 100,
     "metadata": {},
     "output_type": "execute_result"
    }
   ],
   "source": [
    "# note the keys and values; 'properties' has zipcodes\n",
    "kcmap['features'][4]"
   ]
  },
  {
   "cell_type": "markdown",
   "metadata": {},
   "source": [
    "geoJSON contains all zipcodes in king county. We can access integer type zipcodes via 'Feature' then 'ZIP'."
   ]
  },
  {
   "cell_type": "code",
   "execution_count": 101,
   "metadata": {},
   "outputs": [],
   "source": [
    "# Extract zipcodes list from geoJSON that matches the zips in the df\n",
    "coordinates = []\n",
    "for coords in kcmap['features']:\n",
    "    if (int(coords['properties']['ZIP']) in df['zipcode'].unique()):\n",
    "        coordinates.append(coords)\n",
    "        \n",
    "# Create new geoJSON using 'w' with extracted zipcodes\n",
    "with open('./data/Filtered_King_County_Zipcodes', 'w') as f:\n",
    "    dump(FeatureCollection(coordinates), f)"
   ]
  },
  {
   "cell_type": "code",
   "execution_count": 102,
   "metadata": {},
   "outputs": [],
   "source": [
    "# Import folium for geospatial data visualization \n",
    "import folium \n",
    "\n",
    "# Run the new geoJSON\n",
    "geojson_zips = f\"./data/Filtered_King_County_Zipcodes\"\n",
    "\n",
    "\n",
    "# Create a dataframe using the zipcode column and then create a column with 0 value\n",
    "zipcode_choropleth = pd.DataFrame(df.zipcode)\n",
    "zipcode_choropleth['Homes_Sold_Count'] = 0 # Group by zipcode, then count and reset the index\n",
    "zipcode_choropleth = zipcode_choropleth.groupby('zipcode').count().reset_index()\n",
    "\n",
    "\n",
    "# Set the king county coordinates that folium will map onto\n",
    "kc_coordinates = (47.4081, -121.9949)\n",
    "\n",
    "\n",
    "# Create the folium map and set zoom\n",
    "zipcodes_map = folium.Map(kc_coordinates, zoom_start=5)\n",
    "\n",
    "\n",
    "# Specify map parameters\n",
    "folium.Choropleth(\n",
    "    geo_data=geojson_zips,\n",
    "    name=\"choropleth\",\n",
    "    data=zipcode_choropleth,\n",
    "    columns=[\"zipcode\", \"Homes_Sold_Count\"],\n",
    "    key_on=\"feature.properties.ZIP\",\n",
    "    fill_color=\"OrRd\",\n",
    "    fill_opacity=0.4,\n",
    "    line_opacity=0.9,\n",
    "    legend_name=\"Homes Sold\",\n",
    "    highlight=True).add_to(zipcodes_map)\n",
    "\n",
    "\n",
    "# Set TileLayer; OpenStreetMap is default\n",
    "folium.TileLayer('OpenStreetMap').add_to(zipcodes_map)\n",
    "folium.LayerControl().add_to(zipcodes_map)\n",
    "\n",
    "# Fit map boundaries\n",
    "zipcodes_map.fit_bounds(zipcodes_map.get_bounds())\n",
    "zipcodes_map.save('./maps/choropeth_zipcode_sales.html')\n",
    "\n",
    "#zipcodes_map"
   ]
  },
  {
   "cell_type": "code",
   "execution_count": 103,
   "metadata": {},
   "outputs": [],
   "source": [
    "# Divide 'price' into five parts, each containing a fifth (20%)\n",
    "df['price_color'] = pd.qcut(df['price'],\n",
    "                            q=[0, .2, .4, .6, .8, 1],\n",
    "                            labels=['#8B8000',\n",
    "                                    '#006400',\n",
    "                                    '#00008B',\n",
    "                                    '#8F40AB',\n",
    "                                    '#8B0000'])"
   ]
  },
  {
   "cell_type": "code",
   "execution_count": 104,
   "metadata": {},
   "outputs": [],
   "source": [
    "# Green Lake, zipcode 91803, had the most sales\n",
    "# Set green lake coordinates\n",
    "greenlake_coordinates = (47.6802, -122.3284)\n",
    "pent_sales_map = folium.Map(location=greenlake_coordinates, tiles='stamentoner', zoom_start=12.5)"
   ]
  },
  {
   "cell_type": "code",
   "execution_count": 105,
   "metadata": {},
   "outputs": [],
   "source": [
    "# property class produces a series that contains longitude and latitude\n",
    "for property in df.iterrows():\n",
    "    folium.Circle(location=[property[1].lat,property[1].long], # Circle function creates a CircleMarker\n",
    "                  radius=1,\n",
    "                  fill=True,\n",
    "                  color=property[1].price_color, # and populates the map with each cicrle representing a 20% range\n",
    "                  weight= 2,\n",
    "                  opacity=0.9).add_to(pent_sales_map)\n",
    "\n",
    "# Save map in html file\n",
    "pent_sales_map.save('maps/pent_sales.html')"
   ]
  },
  {
   "cell_type": "code",
   "execution_count": 106,
   "metadata": {},
   "outputs": [],
   "source": [
    "#       0 - 20%       20 - 40%       40 - 60%       60 - 80%       80 - 100%\n",
    "#       Yellow         Green          BLue           Purple           Red\n",
    "\n",
    "#pent_sales_map"
   ]
  },
  {
   "cell_type": "code",
   "execution_count": 107,
   "metadata": {},
   "outputs": [
    {
     "name": "stdout",
     "output_type": "stream",
     "text": [
      "Average price of homes sold in Green Lake 566694.0\n",
      "\n",
      "Average price of homes sold in zipcodes neighboring Green Lake: 577573.62\n",
      "\n",
      "Average price of all homes sold in King County: 476563.13\n"
     ]
    }
   ],
   "source": [
    "# calculate mean sale price of homes in Greenlake and neighboring zipcodes\n",
    "# compare it to the mean price of all homes sold in King Count\n",
    "greenlake_avg = np.mean(df.loc[df.zipcode.isin([98103])].price)\n",
    "greenlake_neighbor_avg = np.mean(df.loc[df.zipcode.isin([98103, 98117, 98107, 98115, 98105, 98195])].price)\n",
    "kingcounty_avg = np.mean(df.price)\n",
    "\n",
    "print(f\"\"\"Average price of homes sold in Green Lake {np.round(greenlake_avg)}\n",
    "\n",
    "Average price of homes sold in zipcodes neighboring Green Lake: {np.round(greenlake_neighbor_avg, 2)}\n",
    "\n",
    "Average price of all homes sold in King County: {np.round(kingcounty_avg, 2)}\"\"\")"
   ]
  },
  {
   "cell_type": "code",
   "execution_count": 108,
   "metadata": {},
   "outputs": [
    {
     "data": {
      "text/plain": [
       "zipcode_x0_98103  bathrooms\n",
       "0.0               2.50         3795\n",
       "                  1.00         2773\n",
       "                  1.75         2211\n",
       "                  2.25         1422\n",
       "                  2.00         1373\n",
       "                  1.50         1037\n",
       "                  2.75          843\n",
       "                  3.00          455\n",
       "                  3.50          396\n",
       "                  3.25          306\n",
       "                  4.00           61\n",
       "                  0.75           60\n",
       "                  3.75           57\n",
       "                  4.50           36\n",
       "                  4.25           20\n",
       "                  5.00            8\n",
       "                  1.25            6\n",
       "                  4.75            4\n",
       "                  5.25            2\n",
       "                  0.50            1\n",
       "                  5.50            1\n",
       "                  5.75            1\n",
       "                  6.75            1\n",
       "                  7.50            1\n",
       "1.0               1.00          132\n",
       "                  2.50           60\n",
       "                  2.00           59\n",
       "                  1.75           51\n",
       "                  1.50           46\n",
       "                  2.25           36\n",
       "                  3.25           20\n",
       "                  3.00           19\n",
       "                  2.75           14\n",
       "                  3.50            8\n",
       "                  3.75            4\n",
       "                  4.00            2\n",
       "                  4.50            2\n",
       "                  0.75            1\n",
       "Name: bathrooms, dtype: int64"
      ]
     },
     "execution_count": 108,
     "metadata": {},
     "output_type": "execute_result"
    }
   ],
   "source": [
    "X_train['bathrooms'].groupby(X_train['zipcode_x0_98103']).value_counts()"
   ]
  },
  {
   "cell_type": "code",
   "execution_count": 109,
   "metadata": {},
   "outputs": [
    {
     "data": {
      "text/plain": [
       "zipcode_x0_98103  bedrooms\n",
       "0.0               3           6997\n",
       "                  4           4586\n",
       "                  2           1948\n",
       "                  5            997\n",
       "                  6            164\n",
       "                  1            144\n",
       "                  7             22\n",
       "                  8              7\n",
       "                  9              2\n",
       "                  10             2\n",
       "                  11             1\n",
       "1.0               3            220\n",
       "                  2            130\n",
       "                  4             70\n",
       "                  5             15\n",
       "                  1             12\n",
       "                  6              5\n",
       "                  7              1\n",
       "                  9              1\n",
       "Name: bedrooms, dtype: int64"
      ]
     },
     "execution_count": 109,
     "metadata": {},
     "output_type": "execute_result"
    }
   ],
   "source": [
    "X_train['bedrooms'].groupby(X_train['zipcode_x0_98103']).value_counts()"
   ]
  },
  {
   "cell_type": "code",
   "execution_count": 110,
   "metadata": {},
   "outputs": [
    {
     "data": {
      "text/plain": [
       "zipcode_x0_98103  grade        \n",
       "0.0               7 Average        6462\n",
       "                  8 Good           4259\n",
       "                  9 Better         1729\n",
       "                  6 Low Average    1517\n",
       "                  10 Very Good      573\n",
       "                  5 Fair            191\n",
       "                  11 Excellent      115\n",
       "                  4 Low              24\n",
       "1.0               7 Average         227\n",
       "                  8 Good            173\n",
       "                  6 Low Average      32\n",
       "                  9 Better           17\n",
       "                  5 Fair              4\n",
       "                  11 Excellent        1\n",
       "Name: grade, dtype: int64"
      ]
     },
     "execution_count": 110,
     "metadata": {},
     "output_type": "execute_result"
    }
   ],
   "source": [
    "X_train['grade'].groupby(X_train['zipcode_x0_98103']).value_counts()"
   ]
  },
  {
   "cell_type": "code",
   "execution_count": 111,
   "metadata": {},
   "outputs": [
    {
     "data": {
      "text/plain": [
       "1850.0"
      ]
     },
     "execution_count": 111,
     "metadata": {},
     "output_type": "execute_result"
    }
   ],
   "source": [
    "np.median(X_train['sqft_living'])"
   ]
  },
  {
   "cell_type": "code",
   "execution_count": 112,
   "metadata": {},
   "outputs": [
    {
     "data": {
      "text/plain": [
       "zipcode_x0_98103  view\n",
       "0.0               1       13709\n",
       "                  3         586\n",
       "                  4         255\n",
       "                  2         217\n",
       "                  5         103\n",
       "1.0               1         426\n",
       "                  3          19\n",
       "                  4           6\n",
       "                  5           3\n",
       "Name: view, dtype: int64"
      ]
     },
     "execution_count": 112,
     "metadata": {},
     "output_type": "execute_result"
    }
   ],
   "source": [
    "X_train['view'].groupby(X_train['zipcode_x0_98103']).value_counts()"
   ]
  },
  {
   "cell_type": "code",
   "execution_count": 113,
   "metadata": {},
   "outputs": [
    {
     "data": {
      "text/plain": [
       "zipcode_x0_98103  waterfront\n",
       "0.0               0             14831\n",
       "                  1                39\n",
       "1.0               0               454\n",
       "Name: waterfront, dtype: int64"
      ]
     },
     "execution_count": 113,
     "metadata": {},
     "output_type": "execute_result"
    }
   ],
   "source": [
    "X_train['waterfront'].groupby(X_train['zipcode_x0_98103']).value_counts()"
   ]
  },
  {
   "cell_type": "code",
   "execution_count": 114,
   "metadata": {
    "scrolled": false
   },
   "outputs": [
    {
     "data": {
      "text/plain": [
       "98103    454\n",
       "98038    432\n",
       "98115    428\n",
       "98042    422\n",
       "98052    417\n",
       "        ... \n",
       "98109     70\n",
       "98102     64\n",
       "98024     59\n",
       "98148     44\n",
       "98039      3\n",
       "Name: zipcode, Length: 70, dtype: int64"
      ]
     },
     "execution_count": 114,
     "metadata": {},
     "output_type": "execute_result"
    }
   ],
   "source": [
    "X_train['zipcode'].value_counts()"
   ]
  },
  {
   "cell_type": "code",
   "execution_count": 115,
   "metadata": {},
   "outputs": [],
   "source": [
    "common_home = pd.DataFrame(columns = X_train.columns)\n",
    "\n",
    "for num in range(0, 1):\n",
    "    common_home = common_home.append(pd.Series(0, index=common_home.columns), ignore_index=True)"
   ]
  },
  {
   "cell_type": "code",
   "execution_count": 116,
   "metadata": {},
   "outputs": [],
   "source": [
    "#common_home['bathrooms'].replace(0, X_train['bathrooms'].value_counts().index[0], inplace=True)\n",
    "#common_home['bedrooms'].replace(0, X_train['bedrooms'].value_counts().index[0], inplace=True)\n",
    "common_home['grade'].replace(0, X_train['grade'].value_counts().index[0], inplace=True)\n",
    "#common_home['floors'].replace(0, X_train['floors'].value_counts().index[0], inplace=True)\n",
    "common_home['sqft_living'].replace(0, np.median(X_train['sqft_living']), inplace=True)\n",
    "common_home['view'].replace(0, X_train['view'].value_counts().index[0], inplace=True)\n",
    "common_home['waterfront'].replace(0, X_train['waterfront'].value_counts().index[1], inplace=True)\n",
    "#common_home['yr_built'].replace(0, X_train['yr_built'].value_counts().index[0], inplace=True)\n",
    "#common_home['yr_renovated'].replace(0, X_train['yr_built'].value_counts().index[0], inplace=True)\n",
    "common_home['zipcode'].replace(0, X_train['zipcode'].value_counts().index[0], inplace=True)\n",
    "\n",
    "#common_home['zipcode_x0_98103'].replace(0, 1, inplace=True)\n"
   ]
  },
  {
   "cell_type": "code",
   "execution_count": 117,
   "metadata": {},
   "outputs": [
    {
     "data": {
      "text/html": [
       "<div>\n",
       "<style scoped>\n",
       "    .dataframe tbody tr th:only-of-type {\n",
       "        vertical-align: middle;\n",
       "    }\n",
       "\n",
       "    .dataframe tbody tr th {\n",
       "        vertical-align: top;\n",
       "    }\n",
       "\n",
       "    .dataframe thead th {\n",
       "        text-align: right;\n",
       "    }\n",
       "</style>\n",
       "<table border=\"1\" class=\"dataframe\">\n",
       "  <thead>\n",
       "    <tr style=\"text-align: right;\">\n",
       "      <th></th>\n",
       "      <th>sqft_living</th>\n",
       "      <th>grade_x0_11 Excellent</th>\n",
       "      <th>grade_x0_4 Low</th>\n",
       "      <th>grade_x0_5 Fair</th>\n",
       "      <th>grade_x0_6 Low Average</th>\n",
       "      <th>grade_x0_7 Average</th>\n",
       "      <th>grade_x0_8 Good</th>\n",
       "      <th>grade_x0_9 Better</th>\n",
       "      <th>view_x0_EXCELLENT</th>\n",
       "      <th>view_x0_FAIR</th>\n",
       "      <th>...</th>\n",
       "      <th>zipcode_x0_98146</th>\n",
       "      <th>zipcode_x0_98148</th>\n",
       "      <th>zipcode_x0_98155</th>\n",
       "      <th>zipcode_x0_98166</th>\n",
       "      <th>zipcode_x0_98168</th>\n",
       "      <th>zipcode_x0_98177</th>\n",
       "      <th>zipcode_x0_98178</th>\n",
       "      <th>zipcode_x0_98188</th>\n",
       "      <th>zipcode_x0_98198</th>\n",
       "      <th>zipcode_x0_98199</th>\n",
       "    </tr>\n",
       "  </thead>\n",
       "  <tbody>\n",
       "    <tr>\n",
       "      <th>0</th>\n",
       "      <td>1850.0</td>\n",
       "      <td>0</td>\n",
       "      <td>0</td>\n",
       "      <td>0</td>\n",
       "      <td>0</td>\n",
       "      <td>0</td>\n",
       "      <td>0</td>\n",
       "      <td>0</td>\n",
       "      <td>0</td>\n",
       "      <td>0</td>\n",
       "      <td>...</td>\n",
       "      <td>0</td>\n",
       "      <td>0</td>\n",
       "      <td>0</td>\n",
       "      <td>0</td>\n",
       "      <td>0</td>\n",
       "      <td>0</td>\n",
       "      <td>0</td>\n",
       "      <td>0</td>\n",
       "      <td>0</td>\n",
       "      <td>0</td>\n",
       "    </tr>\n",
       "  </tbody>\n",
       "</table>\n",
       "<p>1 rows × 82 columns</p>\n",
       "</div>"
      ],
      "text/plain": [
       "   sqft_living grade_x0_11 Excellent grade_x0_4 Low grade_x0_5 Fair  \\\n",
       "0       1850.0                     0              0               0   \n",
       "\n",
       "  grade_x0_6 Low Average grade_x0_7 Average grade_x0_8 Good grade_x0_9 Better  \\\n",
       "0                      0                  0               0                 0   \n",
       "\n",
       "  view_x0_EXCELLENT view_x0_FAIR  ... zipcode_x0_98146 zipcode_x0_98148  \\\n",
       "0                 0            0  ...                0                0   \n",
       "\n",
       "  zipcode_x0_98155 zipcode_x0_98166 zipcode_x0_98168 zipcode_x0_98177  \\\n",
       "0                0                0                0                0   \n",
       "\n",
       "  zipcode_x0_98178 zipcode_x0_98188 zipcode_x0_98198 zipcode_x0_98199  \n",
       "0                0                0                0                0  \n",
       "\n",
       "[1 rows x 82 columns]"
      ]
     },
     "execution_count": 117,
     "metadata": {},
     "output_type": "execute_result"
    }
   ],
   "source": [
    "common_home[cols]"
   ]
  },
  {
   "cell_type": "code",
   "execution_count": 118,
   "metadata": {},
   "outputs": [
    {
     "data": {
      "text/plain": [
       "LinearRegression()"
      ]
     },
     "execution_count": 118,
     "metadata": {},
     "output_type": "execute_result"
    }
   ],
   "source": [
    "lr.fit(X_train.filter(cols, axis=1), y_train)"
   ]
  },
  {
   "cell_type": "code",
   "execution_count": 119,
   "metadata": {},
   "outputs": [],
   "source": [
    "prediction = lr.predict(common_home[cols])[0]"
   ]
  },
  {
   "cell_type": "code",
   "execution_count": 120,
   "metadata": {},
   "outputs": [
    {
     "data": {
      "text/plain": [
       "array([440671., 529139.])"
      ]
     },
     "execution_count": 120,
     "metadata": {},
     "output_type": "execute_result"
    }
   ],
   "source": [
    "common_home_pred = (prediction - (88467.472/2), prediction + (88467.472/2))\n",
    "np.round(common_home_pred, 0)"
   ]
  },
  {
   "cell_type": "code",
   "execution_count": 121,
   "metadata": {},
   "outputs": [
    {
     "data": {
      "image/png": "[encoded data removed]",
      "text/plain": [
       "<Figure size 720x720 with 1 Axes>"
      ]
     },
     "metadata": {},
     "output_type": "display_data"
    }
   ],
   "source": [
    "vis_data = y_test.to_frame()\n",
    "vis_data['prediction'] = test_preds\n",
    "vis_data.sort_values(by='price', ascending=False)[925:930]\n",
    "y = np.arange(5)\n",
    "h = 0.6\n",
    "\n",
    "fig, ax = plt.subplots(figsize=(10,10))\n",
    "\n",
    "\n",
    "ax.set_title(f'Price vs Predictions')\n",
    "ax.set_ylabel('Price')\n",
    "ax.get_xaxis().set_visible(False)\n",
    "\n",
    "ax.yaxis.set_major_formatter(ticker.StrMethodFormatter('${x:,.0f}'))\n",
    "ax.bar(y-h/3, vis_data.sort_values(by='price', ascending=False)[925:930]['price'], h/1.5, color='#177F75')\n",
    "ax.bar(y+h/3, vis_data.sort_values(by='price', ascending=False)[925:930]['prediction'], h/1.5, color='#22287F')\n",
    "\n",
    "ylabels = ['{:,.0f}'.format(x) + 'K' for x in ax.get_yticks()/1000]\n",
    "ax.set_yticklabels(ylabels)\n",
    "\n",
    "ax.legend(['Actual Price', 'Predicted Price']);\n",
    "ax.grid(False)\n",
    "\n",
    "fig.savefig('./images/price_vs_preds.jpg',\n",
    "            transparent = False,bbox_inches=\"tight\");"
   ]
  },
  {
   "cell_type": "code",
   "execution_count": null,
   "metadata": {},
   "outputs": [],
   "source": []
  }
 ],
 "metadata": {
  "kernelspec": {
   "display_name": "Python (learn-env)",
   "language": "python",
   "name": "learn-env"
  },
  "language_info": {
   "codemirror_mode": {
    "name": "ipython",
    "version": 3
   },
   "file_extension": ".py",
   "mimetype": "text/x-python",
   "name": "python",
   "nbconvert_exporter": "python",
   "pygments_lexer": "ipython3",
   "version": "3.9.12"
  }
 },
 "nbformat": 4,
 "nbformat_minor": 4
}
