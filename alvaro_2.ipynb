{
 "cells": [
  {
   "cell_type": "code",
   "execution_count": 1,
   "metadata": {},
   "outputs": [],
   "source": [
    "import numpy as np\n",
    "import pandas as pd\n",
    "from scipy import stats\n",
    "\n",
    "import warnings\n",
    "warnings.filterwarnings(action='ignore')\n",
    "\n",
    "import folium\n",
    "KC_coord = (47.4081,-121.9949)\n",
    "Seattle_coord = (47.6062,-122.3321)\n",
    "import matplotlib.pyplot as plt\n",
    "from matplotlib import ticker\n",
    "%matplotlib inline\n",
    "import seaborn as sns\n",
    "plt.style.use('seaborn-notebook')\n",
    "from yellowbrick.regressor import ResidualsPlot\n",
    "\n",
    "import statsmodels.api as sm\n",
    "from statsmodels.api import OLS\n",
    "\n",
    "from sklearn.dummy import DummyRegressor\n",
    "from sklearn.pipeline import make_pipeline\n",
    "from sklearn.compose import ColumnTransformer\n",
    "from sklearn.linear_model import LinearRegression\n",
    "from sklearn.model_selection import train_test_split\n",
    "from sklearn.metrics import r2_score, mean_squared_error, mean_absolute_error\n",
    "from sklearn.preprocessing import PolynomialFeatures, StandardScaler, OrdinalEncoder, OneHotEncoder"
   ]
  },
  {
   "cell_type": "code",
   "execution_count": 2,
   "metadata": {
    "scrolled": true
   },
   "outputs": [
    {
     "data": {
      "text/html": [
       "<div>\n",
       "<style scoped>\n",
       "    .dataframe tbody tr th:only-of-type {\n",
       "        vertical-align: middle;\n",
       "    }\n",
       "\n",
       "    .dataframe tbody tr th {\n",
       "        vertical-align: top;\n",
       "    }\n",
       "\n",
       "    .dataframe thead th {\n",
       "        text-align: right;\n",
       "    }\n",
       "</style>\n",
       "<table border=\"1\" class=\"dataframe\">\n",
       "  <thead>\n",
       "    <tr style=\"text-align: right;\">\n",
       "      <th></th>\n",
       "      <th>id</th>\n",
       "      <th>date</th>\n",
       "      <th>price</th>\n",
       "      <th>bedrooms</th>\n",
       "      <th>bathrooms</th>\n",
       "      <th>sqft_living</th>\n",
       "      <th>sqft_lot</th>\n",
       "      <th>floors</th>\n",
       "      <th>waterfront</th>\n",
       "      <th>greenbelt</th>\n",
       "      <th>...</th>\n",
       "      <th>sewer_system</th>\n",
       "      <th>sqft_above</th>\n",
       "      <th>sqft_basement</th>\n",
       "      <th>sqft_garage</th>\n",
       "      <th>sqft_patio</th>\n",
       "      <th>yr_built</th>\n",
       "      <th>yr_renovated</th>\n",
       "      <th>address</th>\n",
       "      <th>lat</th>\n",
       "      <th>long</th>\n",
       "    </tr>\n",
       "  </thead>\n",
       "  <tbody>\n",
       "    <tr>\n",
       "      <th>0</th>\n",
       "      <td>7399300360</td>\n",
       "      <td>2022-05-24</td>\n",
       "      <td>675000.0</td>\n",
       "      <td>4</td>\n",
       "      <td>1.0</td>\n",
       "      <td>1180</td>\n",
       "      <td>7140</td>\n",
       "      <td>1.0</td>\n",
       "      <td>NO</td>\n",
       "      <td>NO</td>\n",
       "      <td>...</td>\n",
       "      <td>PUBLIC</td>\n",
       "      <td>1180</td>\n",
       "      <td>0</td>\n",
       "      <td>0</td>\n",
       "      <td>40</td>\n",
       "      <td>1969</td>\n",
       "      <td>0</td>\n",
       "      <td>2102 Southeast 21st Court, Renton, Washington ...</td>\n",
       "      <td>47.461975</td>\n",
       "      <td>-122.19052</td>\n",
       "    </tr>\n",
       "    <tr>\n",
       "      <th>1</th>\n",
       "      <td>8910500230</td>\n",
       "      <td>2021-12-13</td>\n",
       "      <td>920000.0</td>\n",
       "      <td>5</td>\n",
       "      <td>2.5</td>\n",
       "      <td>2770</td>\n",
       "      <td>6703</td>\n",
       "      <td>1.0</td>\n",
       "      <td>NO</td>\n",
       "      <td>NO</td>\n",
       "      <td>...</td>\n",
       "      <td>PUBLIC</td>\n",
       "      <td>1570</td>\n",
       "      <td>1570</td>\n",
       "      <td>0</td>\n",
       "      <td>240</td>\n",
       "      <td>1950</td>\n",
       "      <td>0</td>\n",
       "      <td>11231 Greenwood Avenue North, Seattle, Washing...</td>\n",
       "      <td>47.711525</td>\n",
       "      <td>-122.35591</td>\n",
       "    </tr>\n",
       "    <tr>\n",
       "      <th>2</th>\n",
       "      <td>1180000275</td>\n",
       "      <td>2021-09-29</td>\n",
       "      <td>311000.0</td>\n",
       "      <td>6</td>\n",
       "      <td>2.0</td>\n",
       "      <td>2880</td>\n",
       "      <td>6156</td>\n",
       "      <td>1.0</td>\n",
       "      <td>NO</td>\n",
       "      <td>NO</td>\n",
       "      <td>...</td>\n",
       "      <td>PUBLIC</td>\n",
       "      <td>1580</td>\n",
       "      <td>1580</td>\n",
       "      <td>0</td>\n",
       "      <td>0</td>\n",
       "      <td>1956</td>\n",
       "      <td>0</td>\n",
       "      <td>8504 South 113th Street, Seattle, Washington 9...</td>\n",
       "      <td>47.502045</td>\n",
       "      <td>-122.22520</td>\n",
       "    </tr>\n",
       "    <tr>\n",
       "      <th>3</th>\n",
       "      <td>1604601802</td>\n",
       "      <td>2021-12-14</td>\n",
       "      <td>775000.0</td>\n",
       "      <td>3</td>\n",
       "      <td>3.0</td>\n",
       "      <td>2160</td>\n",
       "      <td>1400</td>\n",
       "      <td>2.0</td>\n",
       "      <td>NO</td>\n",
       "      <td>NO</td>\n",
       "      <td>...</td>\n",
       "      <td>PUBLIC</td>\n",
       "      <td>1090</td>\n",
       "      <td>1070</td>\n",
       "      <td>200</td>\n",
       "      <td>270</td>\n",
       "      <td>2010</td>\n",
       "      <td>0</td>\n",
       "      <td>4079 Letitia Avenue South, Seattle, Washington...</td>\n",
       "      <td>47.566110</td>\n",
       "      <td>-122.29020</td>\n",
       "    </tr>\n",
       "    <tr>\n",
       "      <th>4</th>\n",
       "      <td>8562780790</td>\n",
       "      <td>2021-08-24</td>\n",
       "      <td>592500.0</td>\n",
       "      <td>2</td>\n",
       "      <td>2.0</td>\n",
       "      <td>1120</td>\n",
       "      <td>758</td>\n",
       "      <td>2.0</td>\n",
       "      <td>NO</td>\n",
       "      <td>NO</td>\n",
       "      <td>...</td>\n",
       "      <td>PUBLIC</td>\n",
       "      <td>1120</td>\n",
       "      <td>550</td>\n",
       "      <td>550</td>\n",
       "      <td>30</td>\n",
       "      <td>2012</td>\n",
       "      <td>0</td>\n",
       "      <td>2193 Northwest Talus Drive, Issaquah, Washingt...</td>\n",
       "      <td>47.532470</td>\n",
       "      <td>-122.07188</td>\n",
       "    </tr>\n",
       "    <tr>\n",
       "      <th>...</th>\n",
       "      <td>...</td>\n",
       "      <td>...</td>\n",
       "      <td>...</td>\n",
       "      <td>...</td>\n",
       "      <td>...</td>\n",
       "      <td>...</td>\n",
       "      <td>...</td>\n",
       "      <td>...</td>\n",
       "      <td>...</td>\n",
       "      <td>...</td>\n",
       "      <td>...</td>\n",
       "      <td>...</td>\n",
       "      <td>...</td>\n",
       "      <td>...</td>\n",
       "      <td>...</td>\n",
       "      <td>...</td>\n",
       "      <td>...</td>\n",
       "      <td>...</td>\n",
       "      <td>...</td>\n",
       "      <td>...</td>\n",
       "      <td>...</td>\n",
       "    </tr>\n",
       "    <tr>\n",
       "      <th>30150</th>\n",
       "      <td>7834800180</td>\n",
       "      <td>2021-11-30</td>\n",
       "      <td>1555000.0</td>\n",
       "      <td>5</td>\n",
       "      <td>2.0</td>\n",
       "      <td>1910</td>\n",
       "      <td>4000</td>\n",
       "      <td>1.5</td>\n",
       "      <td>NO</td>\n",
       "      <td>NO</td>\n",
       "      <td>...</td>\n",
       "      <td>PUBLIC</td>\n",
       "      <td>1600</td>\n",
       "      <td>1130</td>\n",
       "      <td>0</td>\n",
       "      <td>210</td>\n",
       "      <td>1921</td>\n",
       "      <td>0</td>\n",
       "      <td>4673 Eastern Avenue North, Seattle, Washington...</td>\n",
       "      <td>47.664740</td>\n",
       "      <td>-122.32940</td>\n",
       "    </tr>\n",
       "    <tr>\n",
       "      <th>30151</th>\n",
       "      <td>194000695</td>\n",
       "      <td>2021-06-16</td>\n",
       "      <td>1313000.0</td>\n",
       "      <td>3</td>\n",
       "      <td>2.0</td>\n",
       "      <td>2020</td>\n",
       "      <td>5800</td>\n",
       "      <td>2.0</td>\n",
       "      <td>NO</td>\n",
       "      <td>NO</td>\n",
       "      <td>...</td>\n",
       "      <td>PUBLIC</td>\n",
       "      <td>2020</td>\n",
       "      <td>0</td>\n",
       "      <td>0</td>\n",
       "      <td>520</td>\n",
       "      <td>2011</td>\n",
       "      <td>0</td>\n",
       "      <td>4131 44th Avenue Southwest, Seattle, Washingto...</td>\n",
       "      <td>47.565610</td>\n",
       "      <td>-122.38851</td>\n",
       "    </tr>\n",
       "    <tr>\n",
       "      <th>30152</th>\n",
       "      <td>7960100080</td>\n",
       "      <td>2022-05-27</td>\n",
       "      <td>800000.0</td>\n",
       "      <td>3</td>\n",
       "      <td>2.0</td>\n",
       "      <td>1620</td>\n",
       "      <td>3600</td>\n",
       "      <td>1.0</td>\n",
       "      <td>NO</td>\n",
       "      <td>NO</td>\n",
       "      <td>...</td>\n",
       "      <td>PUBLIC</td>\n",
       "      <td>940</td>\n",
       "      <td>920</td>\n",
       "      <td>240</td>\n",
       "      <td>110</td>\n",
       "      <td>1995</td>\n",
       "      <td>0</td>\n",
       "      <td>910 Martin Luther King Jr Way, Seattle, Washin...</td>\n",
       "      <td>47.610395</td>\n",
       "      <td>-122.29585</td>\n",
       "    </tr>\n",
       "    <tr>\n",
       "      <th>30153</th>\n",
       "      <td>2781280080</td>\n",
       "      <td>2022-02-24</td>\n",
       "      <td>775000.0</td>\n",
       "      <td>3</td>\n",
       "      <td>2.5</td>\n",
       "      <td>2570</td>\n",
       "      <td>2889</td>\n",
       "      <td>2.0</td>\n",
       "      <td>NO</td>\n",
       "      <td>NO</td>\n",
       "      <td>...</td>\n",
       "      <td>PUBLIC</td>\n",
       "      <td>1830</td>\n",
       "      <td>740</td>\n",
       "      <td>480</td>\n",
       "      <td>100</td>\n",
       "      <td>2006</td>\n",
       "      <td>0</td>\n",
       "      <td>17127 114th Avenue Southeast, Renton, Washingt...</td>\n",
       "      <td>47.449490</td>\n",
       "      <td>-122.18908</td>\n",
       "    </tr>\n",
       "    <tr>\n",
       "      <th>30154</th>\n",
       "      <td>9557800100</td>\n",
       "      <td>2022-04-29</td>\n",
       "      <td>500000.0</td>\n",
       "      <td>3</td>\n",
       "      <td>1.5</td>\n",
       "      <td>1200</td>\n",
       "      <td>11058</td>\n",
       "      <td>1.0</td>\n",
       "      <td>NO</td>\n",
       "      <td>NO</td>\n",
       "      <td>...</td>\n",
       "      <td>PUBLIC</td>\n",
       "      <td>1200</td>\n",
       "      <td>0</td>\n",
       "      <td>420</td>\n",
       "      <td>0</td>\n",
       "      <td>1965</td>\n",
       "      <td>0</td>\n",
       "      <td>18615 7th Avenue South, Burien, Washington 981...</td>\n",
       "      <td>47.435840</td>\n",
       "      <td>-122.32634</td>\n",
       "    </tr>\n",
       "  </tbody>\n",
       "</table>\n",
       "<p>30155 rows × 25 columns</p>\n",
       "</div>"
      ],
      "text/plain": [
       "               id       date      price  bedrooms  bathrooms  sqft_living  \\\n",
       "0      7399300360 2022-05-24   675000.0         4        1.0         1180   \n",
       "1      8910500230 2021-12-13   920000.0         5        2.5         2770   \n",
       "2      1180000275 2021-09-29   311000.0         6        2.0         2880   \n",
       "3      1604601802 2021-12-14   775000.0         3        3.0         2160   \n",
       "4      8562780790 2021-08-24   592500.0         2        2.0         1120   \n",
       "...           ...        ...        ...       ...        ...          ...   \n",
       "30150  7834800180 2021-11-30  1555000.0         5        2.0         1910   \n",
       "30151   194000695 2021-06-16  1313000.0         3        2.0         2020   \n",
       "30152  7960100080 2022-05-27   800000.0         3        2.0         1620   \n",
       "30153  2781280080 2022-02-24   775000.0         3        2.5         2570   \n",
       "30154  9557800100 2022-04-29   500000.0         3        1.5         1200   \n",
       "\n",
       "       sqft_lot  floors waterfront greenbelt  ... sewer_system sqft_above  \\\n",
       "0          7140     1.0         NO        NO  ...       PUBLIC       1180   \n",
       "1          6703     1.0         NO        NO  ...       PUBLIC       1570   \n",
       "2          6156     1.0         NO        NO  ...       PUBLIC       1580   \n",
       "3          1400     2.0         NO        NO  ...       PUBLIC       1090   \n",
       "4           758     2.0         NO        NO  ...       PUBLIC       1120   \n",
       "...         ...     ...        ...       ...  ...          ...        ...   \n",
       "30150      4000     1.5         NO        NO  ...       PUBLIC       1600   \n",
       "30151      5800     2.0         NO        NO  ...       PUBLIC       2020   \n",
       "30152      3600     1.0         NO        NO  ...       PUBLIC        940   \n",
       "30153      2889     2.0         NO        NO  ...       PUBLIC       1830   \n",
       "30154     11058     1.0         NO        NO  ...       PUBLIC       1200   \n",
       "\n",
       "      sqft_basement sqft_garage sqft_patio yr_built  yr_renovated  \\\n",
       "0                 0           0         40     1969             0   \n",
       "1              1570           0        240     1950             0   \n",
       "2              1580           0          0     1956             0   \n",
       "3              1070         200        270     2010             0   \n",
       "4               550         550         30     2012             0   \n",
       "...             ...         ...        ...      ...           ...   \n",
       "30150          1130           0        210     1921             0   \n",
       "30151             0           0        520     2011             0   \n",
       "30152           920         240        110     1995             0   \n",
       "30153           740         480        100     2006             0   \n",
       "30154             0         420          0     1965             0   \n",
       "\n",
       "                                                 address        lat       long  \n",
       "0      2102 Southeast 21st Court, Renton, Washington ...  47.461975 -122.19052  \n",
       "1      11231 Greenwood Avenue North, Seattle, Washing...  47.711525 -122.35591  \n",
       "2      8504 South 113th Street, Seattle, Washington 9...  47.502045 -122.22520  \n",
       "3      4079 Letitia Avenue South, Seattle, Washington...  47.566110 -122.29020  \n",
       "4      2193 Northwest Talus Drive, Issaquah, Washingt...  47.532470 -122.07188  \n",
       "...                                                  ...        ...        ...  \n",
       "30150  4673 Eastern Avenue North, Seattle, Washington...  47.664740 -122.32940  \n",
       "30151  4131 44th Avenue Southwest, Seattle, Washingto...  47.565610 -122.38851  \n",
       "30152  910 Martin Luther King Jr Way, Seattle, Washin...  47.610395 -122.29585  \n",
       "30153  17127 114th Avenue Southeast, Renton, Washingt...  47.449490 -122.18908  \n",
       "30154  18615 7th Avenue South, Burien, Washington 981...  47.435840 -122.32634  \n",
       "\n",
       "[30155 rows x 25 columns]"
      ]
     },
     "execution_count": 2,
     "metadata": {},
     "output_type": "execute_result"
    }
   ],
   "source": [
    "# specify index_col=0 to avoid creating an \"Unnamed: 0\" column.\n",
    "# specify parse date to avoid object dtype for dates\n",
    "df = pd.read_csv('./data/kc_house_data_22.csv', parse_dates=['date']) \n",
    "df"
   ]
  },
  {
   "cell_type": "code",
   "execution_count": 3,
   "metadata": {},
   "outputs": [
    {
     "data": {
      "text/plain": [
       "30155"
      ]
     },
     "execution_count": 3,
     "metadata": {},
     "output_type": "execute_result"
    }
   ],
   "source": [
    "len(df)"
   ]
  },
  {
   "cell_type": "code",
   "execution_count": 4,
   "metadata": {
    "scrolled": true
   },
   "outputs": [
    {
     "data": {
      "image/png": "[encoded data removed]",
      "text/plain": [
       "<Figure size 576x396 with 2 Axes>"
      ]
     },
     "metadata": {},
     "output_type": "display_data"
    }
   ],
   "source": [
    "sns.heatmap(df.corr());"
   ]
  },
  {
   "cell_type": "code",
   "execution_count": 5,
   "metadata": {},
   "outputs": [
    {
     "data": {
      "text/html": [
       "<div>\n",
       "<style scoped>\n",
       "    .dataframe tbody tr th:only-of-type {\n",
       "        vertical-align: middle;\n",
       "    }\n",
       "\n",
       "    .dataframe tbody tr th {\n",
       "        vertical-align: top;\n",
       "    }\n",
       "\n",
       "    .dataframe thead th {\n",
       "        text-align: right;\n",
       "    }\n",
       "</style>\n",
       "<table border=\"1\" class=\"dataframe\">\n",
       "  <thead>\n",
       "    <tr style=\"text-align: right;\">\n",
       "      <th></th>\n",
       "      <th>id</th>\n",
       "      <th>date</th>\n",
       "      <th>price</th>\n",
       "      <th>bedrooms</th>\n",
       "      <th>bathrooms</th>\n",
       "      <th>sqft_living</th>\n",
       "      <th>sqft_lot</th>\n",
       "      <th>floors</th>\n",
       "      <th>waterfront</th>\n",
       "      <th>greenbelt</th>\n",
       "      <th>...</th>\n",
       "      <th>sqft_above</th>\n",
       "      <th>sqft_basement</th>\n",
       "      <th>sqft_garage</th>\n",
       "      <th>sqft_patio</th>\n",
       "      <th>yr_built</th>\n",
       "      <th>yr_renovated</th>\n",
       "      <th>address</th>\n",
       "      <th>lat</th>\n",
       "      <th>long</th>\n",
       "      <th>zipcode</th>\n",
       "    </tr>\n",
       "  </thead>\n",
       "  <tbody>\n",
       "    <tr>\n",
       "      <th>0</th>\n",
       "      <td>7399300360</td>\n",
       "      <td>2022-05-24</td>\n",
       "      <td>675000.0</td>\n",
       "      <td>4</td>\n",
       "      <td>1.0</td>\n",
       "      <td>1180</td>\n",
       "      <td>7140</td>\n",
       "      <td>1.0</td>\n",
       "      <td>NO</td>\n",
       "      <td>NO</td>\n",
       "      <td>...</td>\n",
       "      <td>1180</td>\n",
       "      <td>0</td>\n",
       "      <td>0</td>\n",
       "      <td>40</td>\n",
       "      <td>1969</td>\n",
       "      <td>0</td>\n",
       "      <td>2102 Southeast 21st Court, Renton, Washington ...</td>\n",
       "      <td>47.461975</td>\n",
       "      <td>-122.19052</td>\n",
       "      <td>98055</td>\n",
       "    </tr>\n",
       "    <tr>\n",
       "      <th>1</th>\n",
       "      <td>8910500230</td>\n",
       "      <td>2021-12-13</td>\n",
       "      <td>920000.0</td>\n",
       "      <td>5</td>\n",
       "      <td>2.5</td>\n",
       "      <td>2770</td>\n",
       "      <td>6703</td>\n",
       "      <td>1.0</td>\n",
       "      <td>NO</td>\n",
       "      <td>NO</td>\n",
       "      <td>...</td>\n",
       "      <td>1570</td>\n",
       "      <td>1570</td>\n",
       "      <td>0</td>\n",
       "      <td>240</td>\n",
       "      <td>1950</td>\n",
       "      <td>0</td>\n",
       "      <td>11231 Greenwood Avenue North, Seattle, Washing...</td>\n",
       "      <td>47.711525</td>\n",
       "      <td>-122.35591</td>\n",
       "      <td>98133</td>\n",
       "    </tr>\n",
       "    <tr>\n",
       "      <th>2</th>\n",
       "      <td>1180000275</td>\n",
       "      <td>2021-09-29</td>\n",
       "      <td>311000.0</td>\n",
       "      <td>6</td>\n",
       "      <td>2.0</td>\n",
       "      <td>2880</td>\n",
       "      <td>6156</td>\n",
       "      <td>1.0</td>\n",
       "      <td>NO</td>\n",
       "      <td>NO</td>\n",
       "      <td>...</td>\n",
       "      <td>1580</td>\n",
       "      <td>1580</td>\n",
       "      <td>0</td>\n",
       "      <td>0</td>\n",
       "      <td>1956</td>\n",
       "      <td>0</td>\n",
       "      <td>8504 South 113th Street, Seattle, Washington 9...</td>\n",
       "      <td>47.502045</td>\n",
       "      <td>-122.22520</td>\n",
       "      <td>98178</td>\n",
       "    </tr>\n",
       "    <tr>\n",
       "      <th>3</th>\n",
       "      <td>1604601802</td>\n",
       "      <td>2021-12-14</td>\n",
       "      <td>775000.0</td>\n",
       "      <td>3</td>\n",
       "      <td>3.0</td>\n",
       "      <td>2160</td>\n",
       "      <td>1400</td>\n",
       "      <td>2.0</td>\n",
       "      <td>NO</td>\n",
       "      <td>NO</td>\n",
       "      <td>...</td>\n",
       "      <td>1090</td>\n",
       "      <td>1070</td>\n",
       "      <td>200</td>\n",
       "      <td>270</td>\n",
       "      <td>2010</td>\n",
       "      <td>0</td>\n",
       "      <td>4079 Letitia Avenue South, Seattle, Washington...</td>\n",
       "      <td>47.566110</td>\n",
       "      <td>-122.29020</td>\n",
       "      <td>98118</td>\n",
       "    </tr>\n",
       "    <tr>\n",
       "      <th>4</th>\n",
       "      <td>8562780790</td>\n",
       "      <td>2021-08-24</td>\n",
       "      <td>592500.0</td>\n",
       "      <td>2</td>\n",
       "      <td>2.0</td>\n",
       "      <td>1120</td>\n",
       "      <td>758</td>\n",
       "      <td>2.0</td>\n",
       "      <td>NO</td>\n",
       "      <td>NO</td>\n",
       "      <td>...</td>\n",
       "      <td>1120</td>\n",
       "      <td>550</td>\n",
       "      <td>550</td>\n",
       "      <td>30</td>\n",
       "      <td>2012</td>\n",
       "      <td>0</td>\n",
       "      <td>2193 Northwest Talus Drive, Issaquah, Washingt...</td>\n",
       "      <td>47.532470</td>\n",
       "      <td>-122.07188</td>\n",
       "      <td>98027</td>\n",
       "    </tr>\n",
       "  </tbody>\n",
       "</table>\n",
       "<p>5 rows × 26 columns</p>\n",
       "</div>"
      ],
      "text/plain": [
       "           id       date     price  bedrooms  bathrooms  sqft_living  \\\n",
       "0  7399300360 2022-05-24  675000.0         4        1.0         1180   \n",
       "1  8910500230 2021-12-13  920000.0         5        2.5         2770   \n",
       "2  1180000275 2021-09-29  311000.0         6        2.0         2880   \n",
       "3  1604601802 2021-12-14  775000.0         3        3.0         2160   \n",
       "4  8562780790 2021-08-24  592500.0         2        2.0         1120   \n",
       "\n",
       "   sqft_lot  floors waterfront greenbelt  ... sqft_above sqft_basement  \\\n",
       "0      7140     1.0         NO        NO  ...       1180             0   \n",
       "1      6703     1.0         NO        NO  ...       1570          1570   \n",
       "2      6156     1.0         NO        NO  ...       1580          1580   \n",
       "3      1400     2.0         NO        NO  ...       1090          1070   \n",
       "4       758     2.0         NO        NO  ...       1120           550   \n",
       "\n",
       "  sqft_garage sqft_patio yr_built yr_renovated  \\\n",
       "0           0         40     1969            0   \n",
       "1           0        240     1950            0   \n",
       "2           0          0     1956            0   \n",
       "3         200        270     2010            0   \n",
       "4         550         30     2012            0   \n",
       "\n",
       "                                             address        lat       long  \\\n",
       "0  2102 Southeast 21st Court, Renton, Washington ...  47.461975 -122.19052   \n",
       "1  11231 Greenwood Avenue North, Seattle, Washing...  47.711525 -122.35591   \n",
       "2  8504 South 113th Street, Seattle, Washington 9...  47.502045 -122.22520   \n",
       "3  4079 Letitia Avenue South, Seattle, Washington...  47.566110 -122.29020   \n",
       "4  2193 Northwest Talus Drive, Issaquah, Washingt...  47.532470 -122.07188   \n",
       "\n",
       "   zipcode  \n",
       "0    98055  \n",
       "1    98133  \n",
       "2    98178  \n",
       "3    98118  \n",
       "4    98027  \n",
       "\n",
       "[5 rows x 26 columns]"
      ]
     },
     "execution_count": 5,
     "metadata": {},
     "output_type": "execute_result"
    }
   ],
   "source": [
    "zipcode = []\n",
    "\n",
    "for zips in df['address']:\n",
    "    zipcode.append(int(zips[-20:-15]))\n",
    "    \n",
    "df['zipcode'] = zipcode\n",
    "df.head()"
   ]
  },
  {
   "cell_type": "code",
   "execution_count": 6,
   "metadata": {},
   "outputs": [
    {
     "name": "stdout",
     "output_type": "stream",
     "text": [
      "<class 'pandas.core.frame.DataFrame'>\n",
      "RangeIndex: 30155 entries, 0 to 30154\n",
      "Data columns (total 26 columns):\n",
      " #   Column         Non-Null Count  Dtype         \n",
      "---  ------         --------------  -----         \n",
      " 0   id             30155 non-null  int64         \n",
      " 1   date           30155 non-null  datetime64[ns]\n",
      " 2   price          30155 non-null  float64       \n",
      " 3   bedrooms       30155 non-null  int64         \n",
      " 4   bathrooms      30155 non-null  float64       \n",
      " 5   sqft_living    30155 non-null  int64         \n",
      " 6   sqft_lot       30155 non-null  int64         \n",
      " 7   floors         30155 non-null  float64       \n",
      " 8   waterfront     30155 non-null  object        \n",
      " 9   greenbelt      30155 non-null  object        \n",
      " 10  nuisance       30155 non-null  object        \n",
      " 11  view           30155 non-null  object        \n",
      " 12  condition      30155 non-null  object        \n",
      " 13  grade          30155 non-null  object        \n",
      " 14  heat_source    30123 non-null  object        \n",
      " 15  sewer_system   30141 non-null  object        \n",
      " 16  sqft_above     30155 non-null  int64         \n",
      " 17  sqft_basement  30155 non-null  int64         \n",
      " 18  sqft_garage    30155 non-null  int64         \n",
      " 19  sqft_patio     30155 non-null  int64         \n",
      " 20  yr_built       30155 non-null  int64         \n",
      " 21  yr_renovated   30155 non-null  int64         \n",
      " 22  address        30155 non-null  object        \n",
      " 23  lat            30155 non-null  float64       \n",
      " 24  long           30155 non-null  float64       \n",
      " 25  zipcode        30155 non-null  int64         \n",
      "dtypes: datetime64[ns](1), float64(5), int64(11), object(9)\n",
      "memory usage: 6.0+ MB\n"
     ]
    }
   ],
   "source": [
    "df.info()"
   ]
  },
  {
   "cell_type": "markdown",
   "metadata": {},
   "source": [
    "# Helper Functions"
   ]
  },
  {
   "cell_type": "markdown",
   "metadata": {},
   "source": [
    "ohe executes 2 transformations, test and train. data for any given input variable: First, we use OneHotEncoder to split up our categorical variables. Second, we run a linear regression on encoded values using .fit(). Then, it takes in a training df ('df'), a test df ('df2') and a column name. Next, it returns the training df and the test df concatenated with newly encoded columns. Lastly, we return a list of these newly encoded column names. "
   ]
  },
  {
   "cell_type": "code",
   "execution_count": 7,
   "metadata": {},
   "outputs": [],
   "source": [
    "def ohe(df, df2, column):\n",
    "    for col in column:\n",
    "        train = df[[col]]\n",
    "        ohe = OneHotEncoder(drop='first', sparse=False, handle_unknown=\"ignore\")\n",
    "        ohe.fit(train)\n",
    "        encoded_train = ohe.transform(train)\n",
    "        col_labels = [f\"{col}_{f}\" for f in ohe.get_feature_names()]\n",
    "        encoded_train = pd.DataFrame(encoded_train, columns=col_labels, index=df.index)\n",
    "        df = pd.concat([df, encoded_train], axis=1)\n",
    "        \n",
    "        test = df2[[col]]\n",
    "        encoded_test = ohe.transform(test)\n",
    "        col_labels = [f\"{col}_{f}\" for f in ohe.get_feature_names()]\n",
    "        encoded_test = pd.DataFrame(encoded_test, columns=col_labels, index=df2.index)\n",
    "        df2 = pd.concat([df2, encoded_test], axis=1)\n",
    "        \n",
    "    return df, df2, encoded_train.columns.tolist()"
   ]
  },
  {
   "cell_type": "markdown",
   "metadata": {},
   "source": [
    "We run a Standard Scaler to scale all the values in the test data and training data so that our models results are in comparable units. Then, we score the scaled data to get the R2 to assess the strength of our model."
   ]
  },
  {
   "cell_type": "code",
   "execution_count": 8,
   "metadata": {},
   "outputs": [],
   "source": [
    "def scale_score(x, y, x2, y2):\n",
    "    scaler = StandardScaler()\n",
    "    scaler.fit(x)\n",
    "    X_train_scaled = scaler.transform(x)\n",
    "    X_test_scaled = scaler.transform(x2)\n",
    "\n",
    "    lr = LinearRegression()\n",
    "    lr.fit(X_train_scaled,y_train)\n",
    "\n",
    "    train_preds = lr.predict(X_train_scaled)\n",
    "    test_preds = lr.predict(X_test_scaled)\n",
    "    \n",
    "    print(f\"\"\"training score: {r2_score(y_train, train_preds)}\n",
    "    test score: {r2_score(y_test, test_preds)}\"\"\")\n",
    "    \n",
    "    return X_train_scaled, X_test_scaled, train_preds, test_preds"
   ]
  },
  {
   "cell_type": "markdown",
   "metadata": {},
   "source": [
    "Uses price and predictions to calculate Mean Absolute Error (MAE), Mean Squared Error (MSE) and Root Mean Squared Error (RSME) for the training and testing data sets. We will compare these values to evaluate model performance."
   ]
  },
  {
   "cell_type": "code",
   "execution_count": 9,
   "metadata": {},
   "outputs": [],
   "source": [
    "def get_train_test_metrics(y_train, train_preds,\n",
    "               y_test, test_preds):\n",
    "    \"\"\"\n",
    "    Prints different training and testing metrics, namely R2, MAE, MSE, RMSE\n",
    "    \"\"\"\n",
    "    print(\"\\nTraining Metrics:\")\n",
    "    print(f\"R2: {r2_score(y_train, train_preds):.3f}\")\n",
    "    print(f\"Mean Absolute Error: {mean_absolute_error(y_train, train_preds):.3f}\")\n",
    "    print(f\"Mean Squared Error: {mean_squared_error(y_train, train_preds):.3f}\")\n",
    "    print(f\"Root Mean Squared Error: {mean_squared_error(y_train, train_preds, squared=False):.3f}\")\n",
    "    \n",
    "    print(\"\\nTesting Metrics:\")\n",
    "    print(f\"R2: {r2_score(y_test, test_preds):.3f}\")\n",
    "    print(f\"Mean Absolute Error: {mean_absolute_error(y_test, test_preds):.3f}\")\n",
    "    print(f\"Mean Squared Error: {mean_squared_error(y_test, test_preds):.3f}\")\n",
    "    print(f\"Root Mean Squared Error: {mean_squared_error(y_test, test_preds, squared=False):.3f}\")"
   ]
  },
  {
   "cell_type": "markdown",
   "metadata": {},
   "source": [
    "# Outliers"
   ]
  },
  {
   "cell_type": "markdown",
   "metadata": {},
   "source": [
    "### Bedrooms"
   ]
  },
  {
   "cell_type": "code",
   "execution_count": 10,
   "metadata": {},
   "outputs": [
    {
     "name": "stdout",
     "output_type": "stream",
     "text": [
      "3     12754\n",
      "4      9597\n",
      "2      3936\n",
      "5      2798\n",
      "6       498\n",
      "1       391\n",
      "7        80\n",
      "0        44\n",
      "8        38\n",
      "9        14\n",
      "10        3\n",
      "11        1\n",
      "13        1\n",
      "Name: bedrooms, dtype: int64\n"
     ]
    }
   ],
   "source": [
    "bedrooms_count = print(df['bedrooms'].value_counts())"
   ]
  },
  {
   "cell_type": "code",
   "execution_count": 11,
   "metadata": {},
   "outputs": [],
   "source": [
    "#drop the 33 bedroom outlier\n",
    "df = df[df['bedrooms'] != 0]\n",
    "df = df[df['bedrooms'] != 7]\n",
    "df = df[df['bedrooms'] != 8]\n",
    "df = df[df['bedrooms'] != 9]\n",
    "df = df[df['bedrooms'] != 10]\n",
    "df = df[df['bedrooms'] != 11]\n",
    "df = df[df['bedrooms'] != 33]"
   ]
  },
  {
   "cell_type": "code",
   "execution_count": 12,
   "metadata": {},
   "outputs": [],
   "source": [
    "df['bedrooms_bin']=pd.cut(df['bedrooms'], bins=[0,1,2,3,4,5,6], labels=['1_bed','2_bed','3_bed','4_bed','5_bed','6_bed'])"
   ]
  },
  {
   "cell_type": "markdown",
   "metadata": {},
   "source": [
    "### Price"
   ]
  },
  {
   "cell_type": "code",
   "execution_count": 13,
   "metadata": {},
   "outputs": [
    {
     "name": "stdout",
     "output_type": "stream",
     "text": [
      "price_min: -335000.0 \n",
      "price_max: 2281000.0\n"
     ]
    }
   ],
   "source": [
    "# calculate 25, 75, iqr, whiskers for 'price'\n",
    "price_q75, price_q25 = np.percentile(df['price'], [75, 25])\n",
    "price_iqr = price_q75 - price_q25\n",
    "price_min = price_q25 - (1.5 * price_iqr)\n",
    "price_max = price_q75 + (1.5 * price_iqr)\n",
    "\n",
    "print(f\"\"\"price_min: {price_min} \n",
    "price_max: {price_max}\"\"\")"
   ]
  },
  {
   "cell_type": "code",
   "execution_count": 14,
   "metadata": {},
   "outputs": [],
   "source": [
    "df = df[df['price'] >= price_min]\n",
    "df = df[df['price'] <= price_max]"
   ]
  },
  {
   "cell_type": "markdown",
   "metadata": {},
   "source": [
    "### Sqft Lot"
   ]
  },
  {
   "cell_type": "code",
   "execution_count": 15,
   "metadata": {},
   "outputs": [
    {
     "name": "stdout",
     "output_type": "stream",
     "text": [
      "sqft_lot_min: -3347.5 \n",
      "sqft_lot_max: 18232.5\n"
     ]
    }
   ],
   "source": [
    "# calculate 25, 75, iqr, whiskers for 'sqft_lot'\n",
    "sqft_lot_q25, sqft_lot_q75 = np.percentile(df['sqft_lot'], [25, 75])\n",
    "sqft_lot_iqr = sqft_lot_q75 - sqft_lot_q25\n",
    "sqft_lot_min = sqft_lot_q25 - (1.5 * sqft_lot_iqr)\n",
    "sqft_lot_max = sqft_lot_q75 + (1.5 * sqft_lot_iqr)\n",
    "\n",
    "\n",
    "print(f\"\"\"sqft_lot_min: {sqft_lot_min} \n",
    "sqft_lot_max: {sqft_lot_max}\"\"\")"
   ]
  },
  {
   "cell_type": "code",
   "execution_count": 16,
   "metadata": {},
   "outputs": [],
   "source": [
    "# set df to include everything within the whiskers except the outliers\n",
    "df = df[df['sqft_lot'] >= sqft_lot_min]\n",
    "df = df[df['sqft_lot'] <= sqft_lot_max]"
   ]
  },
  {
   "cell_type": "markdown",
   "metadata": {},
   "source": [
    "### Condition"
   ]
  },
  {
   "cell_type": "code",
   "execution_count": 17,
   "metadata": {},
   "outputs": [
    {
     "name": "stdout",
     "output_type": "stream",
     "text": [
      "Average      15493\n",
      "Good          6545\n",
      "Very Good     2660\n",
      "Fair           156\n",
      "Poor            41\n",
      "Name: condition, dtype: int64\n"
     ]
    }
   ],
   "source": [
    "floor_count = print(df['condition'].value_counts())"
   ]
  },
  {
   "cell_type": "code",
   "execution_count": 18,
   "metadata": {},
   "outputs": [],
   "source": [
    "df = df[df['condition'] != 'Poor']"
   ]
  },
  {
   "cell_type": "markdown",
   "metadata": {},
   "source": [
    "### Floors"
   ]
  },
  {
   "cell_type": "code",
   "execution_count": 19,
   "metadata": {
    "scrolled": false
   },
   "outputs": [
    {
     "name": "stdout",
     "output_type": "stream",
     "text": [
      "1.0    11828\n",
      "2.0     9717\n",
      "1.5     2035\n",
      "3.0     1110\n",
      "2.5      120\n",
      "4.0       29\n",
      "3.5       15\n",
      "Name: floors, dtype: int64\n"
     ]
    }
   ],
   "source": [
    "floor_count = print(df['floors'].value_counts())"
   ]
  },
  {
   "cell_type": "code",
   "execution_count": 20,
   "metadata": {},
   "outputs": [],
   "source": [
    "df = df[df['floors'] != 4.0]\n",
    "#df = df[df['floors'] != 2.5]\n",
    "#df = df[df['floors'] != 3.5]"
   ]
  },
  {
   "cell_type": "markdown",
   "metadata": {},
   "source": [
    "### Grade"
   ]
  },
  {
   "cell_type": "code",
   "execution_count": 21,
   "metadata": {},
   "outputs": [
    {
     "name": "stdout",
     "output_type": "stream",
     "text": [
      "7 Average        10604\n",
      "8 Good            8135\n",
      "9 Better          2685\n",
      "6 Low Average     2533\n",
      "10 Very Good       495\n",
      "5 Fair             286\n",
      "11 Excellent        54\n",
      "4 Low               27\n",
      "3 Poor               3\n",
      "12 Luxury            3\n",
      "Name: grade, dtype: int64\n"
     ]
    }
   ],
   "source": [
    "grade_count = print(df['grade'].value_counts())"
   ]
  },
  {
   "cell_type": "code",
   "execution_count": 22,
   "metadata": {},
   "outputs": [],
   "source": [
    "df = df[df['grade'] != '3 Poor']\n",
    "df = df[df['grade'] != '4 Low']\n",
    "df = df[df['grade'] != '11 Excellent']\n",
    "df = df[df['grade'] != '12 Luxury']"
   ]
  },
  {
   "cell_type": "markdown",
   "metadata": {},
   "source": [
    "# Train-Test Split"
   ]
  },
  {
   "cell_type": "code",
   "execution_count": 23,
   "metadata": {},
   "outputs": [],
   "source": [
    "y = df['price']\n",
    "X = df.drop('price', axis=1)\n",
    "X_train, X_test, y_train, y_test = train_test_split(X, y, random_state=42, test_size=.25)"
   ]
  },
  {
   "cell_type": "markdown",
   "metadata": {},
   "source": [
    "# Categorical Variables"
   ]
  },
  {
   "cell_type": "code",
   "execution_count": 24,
   "metadata": {},
   "outputs": [
    {
     "name": "stdout",
     "output_type": "stream",
     "text": [
      "<class 'pandas.core.frame.DataFrame'>\n",
      "Int64Index: 24738 entries, 0 to 30154\n",
      "Data columns (total 27 columns):\n",
      " #   Column         Non-Null Count  Dtype         \n",
      "---  ------         --------------  -----         \n",
      " 0   id             24738 non-null  int64         \n",
      " 1   date           24738 non-null  datetime64[ns]\n",
      " 2   price          24738 non-null  float64       \n",
      " 3   bedrooms       24738 non-null  int64         \n",
      " 4   bathrooms      24738 non-null  float64       \n",
      " 5   sqft_living    24738 non-null  int64         \n",
      " 6   sqft_lot       24738 non-null  int64         \n",
      " 7   floors         24738 non-null  float64       \n",
      " 8   waterfront     24738 non-null  object        \n",
      " 9   greenbelt      24738 non-null  object        \n",
      " 10  nuisance       24738 non-null  object        \n",
      " 11  view           24738 non-null  object        \n",
      " 12  condition      24738 non-null  object        \n",
      " 13  grade          24738 non-null  object        \n",
      " 14  heat_source    24727 non-null  object        \n",
      " 15  sewer_system   24730 non-null  object        \n",
      " 16  sqft_above     24738 non-null  int64         \n",
      " 17  sqft_basement  24738 non-null  int64         \n",
      " 18  sqft_garage    24738 non-null  int64         \n",
      " 19  sqft_patio     24738 non-null  int64         \n",
      " 20  yr_built       24738 non-null  int64         \n",
      " 21  yr_renovated   24738 non-null  int64         \n",
      " 22  address        24738 non-null  object        \n",
      " 23  lat            24738 non-null  float64       \n",
      " 24  long           24738 non-null  float64       \n",
      " 25  zipcode        24738 non-null  int64         \n",
      " 26  bedrooms_bin   24738 non-null  category      \n",
      "dtypes: category(1), datetime64[ns](1), float64(5), int64(11), object(9)\n",
      "memory usage: 5.1+ MB\n"
     ]
    }
   ],
   "source": [
    "df.info()"
   ]
  },
  {
   "cell_type": "code",
   "execution_count": 25,
   "metadata": {},
   "outputs": [
    {
     "data": {
      "text/plain": [
       "id                0\n",
       "date              0\n",
       "price             0\n",
       "bedrooms          0\n",
       "bathrooms         0\n",
       "sqft_living       0\n",
       "sqft_lot          0\n",
       "floors            0\n",
       "waterfront        0\n",
       "greenbelt         0\n",
       "nuisance          0\n",
       "view              0\n",
       "condition         0\n",
       "grade             0\n",
       "heat_source      11\n",
       "sewer_system      8\n",
       "sqft_above        0\n",
       "sqft_basement     0\n",
       "sqft_garage       0\n",
       "sqft_patio        0\n",
       "yr_built          0\n",
       "yr_renovated      0\n",
       "address           0\n",
       "lat               0\n",
       "long              0\n",
       "zipcode           0\n",
       "bedrooms_bin      0\n",
       "dtype: int64"
      ]
     },
     "execution_count": 25,
     "metadata": {},
     "output_type": "execute_result"
    }
   ],
   "source": [
    "df.isna().sum()"
   ]
  },
  {
   "cell_type": "code",
   "execution_count": 26,
   "metadata": {},
   "outputs": [],
   "source": [
    "df.dropna(inplace=True)"
   ]
  },
  {
   "cell_type": "code",
   "execution_count": 27,
   "metadata": {
    "scrolled": true
   },
   "outputs": [
    {
     "data": {
      "text/plain": [
       "id               0\n",
       "date             0\n",
       "price            0\n",
       "bedrooms         0\n",
       "bathrooms        0\n",
       "sqft_living      0\n",
       "sqft_lot         0\n",
       "floors           0\n",
       "waterfront       0\n",
       "greenbelt        0\n",
       "nuisance         0\n",
       "view             0\n",
       "condition        0\n",
       "grade            0\n",
       "heat_source      0\n",
       "sewer_system     0\n",
       "sqft_above       0\n",
       "sqft_basement    0\n",
       "sqft_garage      0\n",
       "sqft_patio       0\n",
       "yr_built         0\n",
       "yr_renovated     0\n",
       "address          0\n",
       "lat              0\n",
       "long             0\n",
       "zipcode          0\n",
       "bedrooms_bin     0\n",
       "dtype: int64"
      ]
     },
     "execution_count": 27,
     "metadata": {},
     "output_type": "execute_result"
    }
   ],
   "source": [
    "df.isna().sum()"
   ]
  },
  {
   "cell_type": "code",
   "execution_count": 28,
   "metadata": {},
   "outputs": [
    {
     "data": {
      "text/html": [
       "<div>\n",
       "<style scoped>\n",
       "    .dataframe tbody tr th:only-of-type {\n",
       "        vertical-align: middle;\n",
       "    }\n",
       "\n",
       "    .dataframe tbody tr th {\n",
       "        vertical-align: top;\n",
       "    }\n",
       "\n",
       "    .dataframe thead th {\n",
       "        text-align: right;\n",
       "    }\n",
       "</style>\n",
       "<table border=\"1\" class=\"dataframe\">\n",
       "  <thead>\n",
       "    <tr style=\"text-align: right;\">\n",
       "      <th></th>\n",
       "      <th>price</th>\n",
       "      <th>bedrooms</th>\n",
       "      <th>bathrooms</th>\n",
       "      <th>sqft_living</th>\n",
       "      <th>sqft_lot</th>\n",
       "      <th>floors</th>\n",
       "      <th>waterfront</th>\n",
       "      <th>view</th>\n",
       "      <th>condition</th>\n",
       "      <th>grade</th>\n",
       "      <th>sqft_above</th>\n",
       "      <th>sqft_patio</th>\n",
       "      <th>yr_built</th>\n",
       "      <th>yr_renovated</th>\n",
       "      <th>address</th>\n",
       "      <th>lat</th>\n",
       "      <th>long</th>\n",
       "      <th>zipcode</th>\n",
       "      <th>bedrooms_bin</th>\n",
       "    </tr>\n",
       "  </thead>\n",
       "  <tbody>\n",
       "    <tr>\n",
       "      <th>0</th>\n",
       "      <td>675000.0</td>\n",
       "      <td>4</td>\n",
       "      <td>1.0</td>\n",
       "      <td>1180</td>\n",
       "      <td>7140</td>\n",
       "      <td>1.0</td>\n",
       "      <td>NO</td>\n",
       "      <td>NONE</td>\n",
       "      <td>Good</td>\n",
       "      <td>7 Average</td>\n",
       "      <td>1180</td>\n",
       "      <td>40</td>\n",
       "      <td>1969</td>\n",
       "      <td>0</td>\n",
       "      <td>2102 Southeast 21st Court, Renton, Washington ...</td>\n",
       "      <td>47.461975</td>\n",
       "      <td>-122.19052</td>\n",
       "      <td>98055</td>\n",
       "      <td>4_bed</td>\n",
       "    </tr>\n",
       "    <tr>\n",
       "      <th>1</th>\n",
       "      <td>920000.0</td>\n",
       "      <td>5</td>\n",
       "      <td>2.5</td>\n",
       "      <td>2770</td>\n",
       "      <td>6703</td>\n",
       "      <td>1.0</td>\n",
       "      <td>NO</td>\n",
       "      <td>AVERAGE</td>\n",
       "      <td>Average</td>\n",
       "      <td>7 Average</td>\n",
       "      <td>1570</td>\n",
       "      <td>240</td>\n",
       "      <td>1950</td>\n",
       "      <td>0</td>\n",
       "      <td>11231 Greenwood Avenue North, Seattle, Washing...</td>\n",
       "      <td>47.711525</td>\n",
       "      <td>-122.35591</td>\n",
       "      <td>98133</td>\n",
       "      <td>5_bed</td>\n",
       "    </tr>\n",
       "    <tr>\n",
       "      <th>2</th>\n",
       "      <td>311000.0</td>\n",
       "      <td>6</td>\n",
       "      <td>2.0</td>\n",
       "      <td>2880</td>\n",
       "      <td>6156</td>\n",
       "      <td>1.0</td>\n",
       "      <td>NO</td>\n",
       "      <td>AVERAGE</td>\n",
       "      <td>Average</td>\n",
       "      <td>7 Average</td>\n",
       "      <td>1580</td>\n",
       "      <td>0</td>\n",
       "      <td>1956</td>\n",
       "      <td>0</td>\n",
       "      <td>8504 South 113th Street, Seattle, Washington 9...</td>\n",
       "      <td>47.502045</td>\n",
       "      <td>-122.22520</td>\n",
       "      <td>98178</td>\n",
       "      <td>6_bed</td>\n",
       "    </tr>\n",
       "    <tr>\n",
       "      <th>3</th>\n",
       "      <td>775000.0</td>\n",
       "      <td>3</td>\n",
       "      <td>3.0</td>\n",
       "      <td>2160</td>\n",
       "      <td>1400</td>\n",
       "      <td>2.0</td>\n",
       "      <td>NO</td>\n",
       "      <td>AVERAGE</td>\n",
       "      <td>Average</td>\n",
       "      <td>9 Better</td>\n",
       "      <td>1090</td>\n",
       "      <td>270</td>\n",
       "      <td>2010</td>\n",
       "      <td>0</td>\n",
       "      <td>4079 Letitia Avenue South, Seattle, Washington...</td>\n",
       "      <td>47.566110</td>\n",
       "      <td>-122.29020</td>\n",
       "      <td>98118</td>\n",
       "      <td>3_bed</td>\n",
       "    </tr>\n",
       "    <tr>\n",
       "      <th>4</th>\n",
       "      <td>592500.0</td>\n",
       "      <td>2</td>\n",
       "      <td>2.0</td>\n",
       "      <td>1120</td>\n",
       "      <td>758</td>\n",
       "      <td>2.0</td>\n",
       "      <td>NO</td>\n",
       "      <td>NONE</td>\n",
       "      <td>Average</td>\n",
       "      <td>7 Average</td>\n",
       "      <td>1120</td>\n",
       "      <td>30</td>\n",
       "      <td>2012</td>\n",
       "      <td>0</td>\n",
       "      <td>2193 Northwest Talus Drive, Issaquah, Washingt...</td>\n",
       "      <td>47.532470</td>\n",
       "      <td>-122.07188</td>\n",
       "      <td>98027</td>\n",
       "      <td>2_bed</td>\n",
       "    </tr>\n",
       "  </tbody>\n",
       "</table>\n",
       "</div>"
      ],
      "text/plain": [
       "      price  bedrooms  bathrooms  sqft_living  sqft_lot  floors waterfront  \\\n",
       "0  675000.0         4        1.0         1180      7140     1.0         NO   \n",
       "1  920000.0         5        2.5         2770      6703     1.0         NO   \n",
       "2  311000.0         6        2.0         2880      6156     1.0         NO   \n",
       "3  775000.0         3        3.0         2160      1400     2.0         NO   \n",
       "4  592500.0         2        2.0         1120       758     2.0         NO   \n",
       "\n",
       "      view condition      grade  sqft_above  sqft_patio  yr_built  \\\n",
       "0     NONE      Good  7 Average        1180          40      1969   \n",
       "1  AVERAGE   Average  7 Average        1570         240      1950   \n",
       "2  AVERAGE   Average  7 Average        1580           0      1956   \n",
       "3  AVERAGE   Average   9 Better        1090         270      2010   \n",
       "4     NONE   Average  7 Average        1120          30      2012   \n",
       "\n",
       "   yr_renovated                                            address        lat  \\\n",
       "0             0  2102 Southeast 21st Court, Renton, Washington ...  47.461975   \n",
       "1             0  11231 Greenwood Avenue North, Seattle, Washing...  47.711525   \n",
       "2             0  8504 South 113th Street, Seattle, Washington 9...  47.502045   \n",
       "3             0  4079 Letitia Avenue South, Seattle, Washington...  47.566110   \n",
       "4             0  2193 Northwest Talus Drive, Issaquah, Washingt...  47.532470   \n",
       "\n",
       "        long  zipcode bedrooms_bin  \n",
       "0 -122.19052    98055        4_bed  \n",
       "1 -122.35591    98133        5_bed  \n",
       "2 -122.22520    98178        6_bed  \n",
       "3 -122.29020    98118        3_bed  \n",
       "4 -122.07188    98027        2_bed  "
      ]
     },
     "execution_count": 28,
     "metadata": {},
     "output_type": "execute_result"
    }
   ],
   "source": [
    "#drop the 33 bedroom outlier \n",
    "df.drop(['id', 'date', 'heat_source', 'nuisance', 'greenbelt', 'sewer_system', 'sqft_garage', 'sqft_basement'], axis=1, inplace=True)\n",
    "df.head()"
   ]
  },
  {
   "cell_type": "markdown",
   "metadata": {},
   "source": [
    "### Bedroom Bins"
   ]
  },
  {
   "cell_type": "code",
   "execution_count": 29,
   "metadata": {},
   "outputs": [],
   "source": [
    "X_train, X_test, encoded_bedrooms_bins = ohe(X_train, X_test, ['bedrooms_bin'])"
   ]
  },
  {
   "cell_type": "code",
   "execution_count": 30,
   "metadata": {},
   "outputs": [
    {
     "data": {
      "text/html": [
       "<div>\n",
       "<style scoped>\n",
       "    .dataframe tbody tr th:only-of-type {\n",
       "        vertical-align: middle;\n",
       "    }\n",
       "\n",
       "    .dataframe tbody tr th {\n",
       "        vertical-align: top;\n",
       "    }\n",
       "\n",
       "    .dataframe thead th {\n",
       "        text-align: right;\n",
       "    }\n",
       "</style>\n",
       "<table border=\"1\" class=\"dataframe\">\n",
       "  <thead>\n",
       "    <tr style=\"text-align: right;\">\n",
       "      <th></th>\n",
       "      <th>id</th>\n",
       "      <th>date</th>\n",
       "      <th>bedrooms</th>\n",
       "      <th>bathrooms</th>\n",
       "      <th>sqft_living</th>\n",
       "      <th>sqft_lot</th>\n",
       "      <th>floors</th>\n",
       "      <th>waterfront</th>\n",
       "      <th>greenbelt</th>\n",
       "      <th>nuisance</th>\n",
       "      <th>...</th>\n",
       "      <th>address</th>\n",
       "      <th>lat</th>\n",
       "      <th>long</th>\n",
       "      <th>zipcode</th>\n",
       "      <th>bedrooms_bin</th>\n",
       "      <th>bedrooms_bin_x0_2_bed</th>\n",
       "      <th>bedrooms_bin_x0_3_bed</th>\n",
       "      <th>bedrooms_bin_x0_4_bed</th>\n",
       "      <th>bedrooms_bin_x0_5_bed</th>\n",
       "      <th>bedrooms_bin_x0_6_bed</th>\n",
       "    </tr>\n",
       "  </thead>\n",
       "  <tbody>\n",
       "    <tr>\n",
       "      <th>5083</th>\n",
       "      <td>6404600231</td>\n",
       "      <td>2022-02-06</td>\n",
       "      <td>4</td>\n",
       "      <td>2.5</td>\n",
       "      <td>2320</td>\n",
       "      <td>7746</td>\n",
       "      <td>2.0</td>\n",
       "      <td>NO</td>\n",
       "      <td>NO</td>\n",
       "      <td>NO</td>\n",
       "      <td>...</td>\n",
       "      <td>13445 22nd Avenue South, SeaTac, Washington 98...</td>\n",
       "      <td>47.481915</td>\n",
       "      <td>-122.30531</td>\n",
       "      <td>98168</td>\n",
       "      <td>4_bed</td>\n",
       "      <td>0.0</td>\n",
       "      <td>0.0</td>\n",
       "      <td>1.0</td>\n",
       "      <td>0.0</td>\n",
       "      <td>0.0</td>\n",
       "    </tr>\n",
       "    <tr>\n",
       "      <th>5521</th>\n",
       "      <td>1708400810</td>\n",
       "      <td>2021-10-07</td>\n",
       "      <td>2</td>\n",
       "      <td>1.0</td>\n",
       "      <td>980</td>\n",
       "      <td>5012</td>\n",
       "      <td>1.0</td>\n",
       "      <td>NO</td>\n",
       "      <td>NO</td>\n",
       "      <td>NO</td>\n",
       "      <td>...</td>\n",
       "      <td>5212 21st Avenue South, Seattle, Washington 98...</td>\n",
       "      <td>47.555505</td>\n",
       "      <td>-122.30587</td>\n",
       "      <td>98108</td>\n",
       "      <td>2_bed</td>\n",
       "      <td>1.0</td>\n",
       "      <td>0.0</td>\n",
       "      <td>0.0</td>\n",
       "      <td>0.0</td>\n",
       "      <td>0.0</td>\n",
       "    </tr>\n",
       "    <tr>\n",
       "      <th>28442</th>\n",
       "      <td>6154900050</td>\n",
       "      <td>2021-11-18</td>\n",
       "      <td>2</td>\n",
       "      <td>2.0</td>\n",
       "      <td>1620</td>\n",
       "      <td>6030</td>\n",
       "      <td>1.0</td>\n",
       "      <td>NO</td>\n",
       "      <td>NO</td>\n",
       "      <td>NO</td>\n",
       "      <td>...</td>\n",
       "      <td>1118 Northwest 103rd Street, Seattle, Washingt...</td>\n",
       "      <td>47.703560</td>\n",
       "      <td>-122.37088</td>\n",
       "      <td>98177</td>\n",
       "      <td>2_bed</td>\n",
       "      <td>1.0</td>\n",
       "      <td>0.0</td>\n",
       "      <td>0.0</td>\n",
       "      <td>0.0</td>\n",
       "      <td>0.0</td>\n",
       "    </tr>\n",
       "    <tr>\n",
       "      <th>1573</th>\n",
       "      <td>3679401230</td>\n",
       "      <td>2022-04-20</td>\n",
       "      <td>4</td>\n",
       "      <td>2.0</td>\n",
       "      <td>1750</td>\n",
       "      <td>6221</td>\n",
       "      <td>1.0</td>\n",
       "      <td>NO</td>\n",
       "      <td>NO</td>\n",
       "      <td>YES</td>\n",
       "      <td>...</td>\n",
       "      <td>4526 15th Avenue South, Seattle, Washington 98...</td>\n",
       "      <td>47.562640</td>\n",
       "      <td>-122.31320</td>\n",
       "      <td>98108</td>\n",
       "      <td>4_bed</td>\n",
       "      <td>0.0</td>\n",
       "      <td>0.0</td>\n",
       "      <td>1.0</td>\n",
       "      <td>0.0</td>\n",
       "      <td>0.0</td>\n",
       "    </tr>\n",
       "    <tr>\n",
       "      <th>21587</th>\n",
       "      <td>2891101020</td>\n",
       "      <td>2021-11-19</td>\n",
       "      <td>3</td>\n",
       "      <td>1.0</td>\n",
       "      <td>1340</td>\n",
       "      <td>7368</td>\n",
       "      <td>1.0</td>\n",
       "      <td>NO</td>\n",
       "      <td>NO</td>\n",
       "      <td>NO</td>\n",
       "      <td>...</td>\n",
       "      <td>1613 19th Drive Northeast, Auburn, Washington ...</td>\n",
       "      <td>47.324085</td>\n",
       "      <td>-122.20792</td>\n",
       "      <td>98002</td>\n",
       "      <td>3_bed</td>\n",
       "      <td>0.0</td>\n",
       "      <td>1.0</td>\n",
       "      <td>0.0</td>\n",
       "      <td>0.0</td>\n",
       "      <td>0.0</td>\n",
       "    </tr>\n",
       "  </tbody>\n",
       "</table>\n",
       "<p>5 rows × 31 columns</p>\n",
       "</div>"
      ],
      "text/plain": [
       "               id       date  bedrooms  bathrooms  sqft_living  sqft_lot  \\\n",
       "5083   6404600231 2022-02-06         4        2.5         2320      7746   \n",
       "5521   1708400810 2021-10-07         2        1.0          980      5012   \n",
       "28442  6154900050 2021-11-18         2        2.0         1620      6030   \n",
       "1573   3679401230 2022-04-20         4        2.0         1750      6221   \n",
       "21587  2891101020 2021-11-19         3        1.0         1340      7368   \n",
       "\n",
       "       floors waterfront greenbelt nuisance  ...  \\\n",
       "5083      2.0         NO        NO       NO  ...   \n",
       "5521      1.0         NO        NO       NO  ...   \n",
       "28442     1.0         NO        NO       NO  ...   \n",
       "1573      1.0         NO        NO      YES  ...   \n",
       "21587     1.0         NO        NO       NO  ...   \n",
       "\n",
       "                                                 address        lat  \\\n",
       "5083   13445 22nd Avenue South, SeaTac, Washington 98...  47.481915   \n",
       "5521   5212 21st Avenue South, Seattle, Washington 98...  47.555505   \n",
       "28442  1118 Northwest 103rd Street, Seattle, Washingt...  47.703560   \n",
       "1573   4526 15th Avenue South, Seattle, Washington 98...  47.562640   \n",
       "21587  1613 19th Drive Northeast, Auburn, Washington ...  47.324085   \n",
       "\n",
       "            long zipcode bedrooms_bin  bedrooms_bin_x0_2_bed  \\\n",
       "5083  -122.30531   98168        4_bed                    0.0   \n",
       "5521  -122.30587   98108        2_bed                    1.0   \n",
       "28442 -122.37088   98177        2_bed                    1.0   \n",
       "1573  -122.31320   98108        4_bed                    0.0   \n",
       "21587 -122.20792   98002        3_bed                    0.0   \n",
       "\n",
       "       bedrooms_bin_x0_3_bed  bedrooms_bin_x0_4_bed  bedrooms_bin_x0_5_bed  \\\n",
       "5083                     0.0                    1.0                    0.0   \n",
       "5521                     0.0                    0.0                    0.0   \n",
       "28442                    0.0                    0.0                    0.0   \n",
       "1573                     0.0                    1.0                    0.0   \n",
       "21587                    1.0                    0.0                    0.0   \n",
       "\n",
       "       bedrooms_bin_x0_6_bed  \n",
       "5083                     0.0  \n",
       "5521                     0.0  \n",
       "28442                    0.0  \n",
       "1573                     0.0  \n",
       "21587                    0.0  \n",
       "\n",
       "[5 rows x 31 columns]"
      ]
     },
     "execution_count": 30,
     "metadata": {},
     "output_type": "execute_result"
    }
   ],
   "source": [
    "X_train.head()"
   ]
  },
  {
   "cell_type": "markdown",
   "metadata": {},
   "source": [
    "### Condition"
   ]
  },
  {
   "cell_type": "code",
   "execution_count": 31,
   "metadata": {},
   "outputs": [
    {
     "data": {
      "text/plain": [
       "Average      15378\n",
       "Good          6532\n",
       "Very Good     2657\n",
       "Fair           152\n",
       "Name: condition, dtype: int64"
      ]
     },
     "execution_count": 31,
     "metadata": {},
     "output_type": "execute_result"
    }
   ],
   "source": [
    "condition_count = df['condition'].value_counts()\n",
    "condition_count"
   ]
  },
  {
   "cell_type": "code",
   "execution_count": 32,
   "metadata": {},
   "outputs": [],
   "source": [
    "X_train, X_test, encoded_condition = ohe(X_train, X_test, ['condition'])"
   ]
  },
  {
   "cell_type": "code",
   "execution_count": 33,
   "metadata": {},
   "outputs": [],
   "source": [
    "X_train['condition'] = X_train['condition'].map({'Very Good': 5, 'Good': 4, 'Average': 3, 'Fair': 2, 'Poor': 1})"
   ]
  },
  {
   "cell_type": "code",
   "execution_count": 34,
   "metadata": {},
   "outputs": [],
   "source": [
    "X_test['condition'] = X_test['condition'].map({'Very Good': 5, 'Good': 4, 'Average': 3, 'Fair': 2, 'Poor': 1})"
   ]
  },
  {
   "cell_type": "markdown",
   "metadata": {},
   "source": [
    "### Floors"
   ]
  },
  {
   "cell_type": "code",
   "execution_count": 35,
   "metadata": {},
   "outputs": [
    {
     "name": "stdout",
     "output_type": "stream",
     "text": [
      "1.0    11794\n",
      "2.0     9654\n",
      "1.5     2028\n",
      "3.0     1108\n",
      "2.5      120\n",
      "3.5       15\n",
      "Name: floors, dtype: int64\n"
     ]
    }
   ],
   "source": [
    "floor_count = print(df['floors'].value_counts())"
   ]
  },
  {
   "cell_type": "code",
   "execution_count": 36,
   "metadata": {},
   "outputs": [],
   "source": [
    "X_train, X_test, encoded_floors = ohe(X_train, X_test, ['floors'])"
   ]
  },
  {
   "cell_type": "code",
   "execution_count": 37,
   "metadata": {},
   "outputs": [],
   "source": [
    "X_train['floors'] = X_train['floors'].map({1.0: 1, 1.5: 1, 2.0: 2, 2.5: 2, 3.0: 3, 3.5: 3, 4.0: 4})"
   ]
  },
  {
   "cell_type": "code",
   "execution_count": 38,
   "metadata": {},
   "outputs": [],
   "source": [
    "X_test['floors'] = X_test['floors'].map({1.0: 1, 1.5: 1, 2.0: 2, 2.5: 2, 3.0: 3, 3.5: 3, 4.0: 4})"
   ]
  },
  {
   "cell_type": "markdown",
   "metadata": {},
   "source": [
    "### Grade"
   ]
  },
  {
   "cell_type": "code",
   "execution_count": 39,
   "metadata": {},
   "outputs": [],
   "source": [
    "X_train, X_test, encoded_grade = ohe(X_train, X_test, ['grade'])"
   ]
  },
  {
   "cell_type": "markdown",
   "metadata": {},
   "source": [
    "### View"
   ]
  },
  {
   "cell_type": "code",
   "execution_count": 40,
   "metadata": {},
   "outputs": [
    {
     "data": {
      "text/plain": [
       "0"
      ]
     },
     "execution_count": 40,
     "metadata": {},
     "output_type": "execute_result"
    }
   ],
   "source": [
    "X_train['view'].isna().sum()"
   ]
  },
  {
   "cell_type": "code",
   "execution_count": 41,
   "metadata": {},
   "outputs": [
    {
     "data": {
      "text/plain": [
       "NONE         22552\n",
       "AVERAGE       1335\n",
       "GOOD           492\n",
       "EXCELLENT      179\n",
       "FAIR           161\n",
       "Name: view, dtype: int64"
      ]
     },
     "execution_count": 41,
     "metadata": {},
     "output_type": "execute_result"
    }
   ],
   "source": [
    "view_count = df['view'].value_counts()\n",
    "view_count"
   ]
  },
  {
   "cell_type": "code",
   "execution_count": 42,
   "metadata": {},
   "outputs": [],
   "source": [
    "X_train['view'].fillna('NONE', inplace=True)\n",
    "X_test['view'].fillna('NONE', inplace=True)"
   ]
  },
  {
   "cell_type": "code",
   "execution_count": 43,
   "metadata": {},
   "outputs": [],
   "source": [
    "X_train, X_test, encoded_view = ohe(X_train, X_test, ['view'])"
   ]
  },
  {
   "cell_type": "code",
   "execution_count": 44,
   "metadata": {},
   "outputs": [],
   "source": [
    "X_train['view'] = X_train['view'].map({'EXCELLENT': 5, 'GOOD': 4, 'AVERAGE': 3, 'FAIR': 2, 'NONE': 1})"
   ]
  },
  {
   "cell_type": "code",
   "execution_count": 45,
   "metadata": {},
   "outputs": [],
   "source": [
    "X_test['view'] = X_test['view'].map({'EXCELLENT': 5, 'GOOD': 4, 'AVERAGE': 3, 'FAIR': 2, 'NONE': 1})"
   ]
  },
  {
   "cell_type": "markdown",
   "metadata": {},
   "source": [
    "### Waterfront"
   ]
  },
  {
   "cell_type": "code",
   "execution_count": 46,
   "metadata": {},
   "outputs": [],
   "source": [
    "X_train['waterfront'].fillna('NO', inplace=True)\n",
    "X_test['waterfront'].fillna('NO', inplace=True)"
   ]
  },
  {
   "cell_type": "code",
   "execution_count": 47,
   "metadata": {},
   "outputs": [],
   "source": [
    "waterfront_train = X_train[['waterfront']]\n",
    "\n",
    "encoder_waterfront = OrdinalEncoder()\n",
    "encoder_waterfront.fit(waterfront_train)\n",
    "encoder_waterfront.categories_[0]\n",
    "\n",
    "waterfront_encoded_train = encoder_waterfront.transform(waterfront_train)\n",
    "waterfront_encoded_train = waterfront_encoded_train.flatten()\n",
    "\n",
    "X_train['waterfront'] = waterfront_encoded_train"
   ]
  },
  {
   "cell_type": "code",
   "execution_count": 48,
   "metadata": {},
   "outputs": [],
   "source": [
    "waterfront_test = X_test[['waterfront']]\n",
    "\n",
    "encoder_waterfront = OrdinalEncoder()\n",
    "encoder_waterfront.fit(waterfront_test)\n",
    "encoder_waterfront.categories_[0]\n",
    "\n",
    "waterfront_encoded_test = encoder_waterfront.transform(waterfront_test)\n",
    "waterfront_encoded_test = waterfront_encoded_train.flatten()\n",
    "\n",
    "X_train['waterfront'] = waterfront_encoded_test"
   ]
  },
  {
   "cell_type": "markdown",
   "metadata": {},
   "source": [
    "### Zipcode"
   ]
  },
  {
   "cell_type": "code",
   "execution_count": 49,
   "metadata": {},
   "outputs": [],
   "source": [
    "X_train, X_test, encoded_zipcode = ohe(X_train, X_test, ['zipcode'])"
   ]
  },
  {
   "cell_type": "markdown",
   "metadata": {},
   "source": [
    "# Models"
   ]
  },
  {
   "cell_type": "code",
   "execution_count": 50,
   "metadata": {},
   "outputs": [
    {
     "name": "stdout",
     "output_type": "stream",
     "text": [
      "basemodel_dummy_score: 0.0\n",
      "\n",
      "test_dummy_score: -0.000414179069886611\n"
     ]
    }
   ],
   "source": [
    "dummy = DummyRegressor()\n",
    "dummy.fit(X_train, y_train)\n",
    "basemodel_dummy_score = dummy.score(X_train, y_train)\n",
    "test_dummy_score = dummy.score(X_test, y_test)\n",
    "\n",
    "print(f\"\"\"basemodel_dummy_score: {basemodel_dummy_score}\n",
    "\n",
    "test_dummy_score: {test_dummy_score}\"\"\")"
   ]
  },
  {
   "cell_type": "code",
   "execution_count": 51,
   "metadata": {},
   "outputs": [
    {
     "data": {
      "text/plain": [
       "price           1.000000\n",
       "sqft_living     0.552073\n",
       "sqft_above      0.447778\n",
       "bathrooms       0.420383\n",
       "bedrooms        0.317601\n",
       "sqft_patio      0.226753\n",
       "floors          0.180248\n",
       "lat             0.082080\n",
       "yr_renovated    0.065214\n",
       "sqft_lot        0.054432\n",
       "yr_built        0.047294\n",
       "long            0.027572\n",
       "zipcode         0.024684\n",
       "Name: price, dtype: float64"
      ]
     },
     "execution_count": 51,
     "metadata": {},
     "output_type": "execute_result"
    }
   ],
   "source": [
    "df.corr()['price'].abs().sort_values(ascending=False)"
   ]
  },
  {
   "cell_type": "code",
   "execution_count": 52,
   "metadata": {},
   "outputs": [
    {
     "data": {
      "image/png": "[encoded data removed]",
      "text/plain": [
       "<Figure size 1008x648 with 2 Axes>"
      ]
     },
     "metadata": {},
     "output_type": "display_data"
    }
   ],
   "source": [
    "with sns.axes_style(\"darkgrid\"):\n",
    "    fig, ax = plt.subplots(figsize=(14, 9))\n",
    "    \n",
    "    mask = np.triu(np.ones_like(df.corr(), dtype=bool))\n",
    "    ax = sns.heatmap(abs(df.corr()),mask=mask,annot=True)\n",
    "    fig.savefig('images/Corelation_Heatmap_22',bbox_inches=\"tight\")"
   ]
  },
  {
   "cell_type": "markdown",
   "metadata": {},
   "source": [
    "### Model 1"
   ]
  },
  {
   "cell_type": "code",
   "execution_count": 53,
   "metadata": {},
   "outputs": [],
   "source": [
    "cols = ['sqft_living']\n",
    "\n",
    "y = y_train\n",
    "x = X_train.filter(cols, axis=1)\n",
    "\n",
    "y2 = y_test\n",
    "x2 = X_test.filter(cols, axis=1)"
   ]
  },
  {
   "cell_type": "code",
   "execution_count": 54,
   "metadata": {},
   "outputs": [
    {
     "name": "stdout",
     "output_type": "stream",
     "text": [
      "training score: 0.3049085845081817\n",
      "    test score: 0.30400212450688635\n"
     ]
    }
   ],
   "source": [
    "X_train_scaled, X_test_scaled, train_preds, test_preds = scale_score(x, y, x2, y2)"
   ]
  },
  {
   "cell_type": "code",
   "execution_count": 55,
   "metadata": {
    "scrolled": true
   },
   "outputs": [
    {
     "data": {
      "text/html": [
       "<table class=\"simpletable\">\n",
       "<caption>OLS Regression Results</caption>\n",
       "<tr>\n",
       "  <th>Dep. Variable:</th>          <td>price</td>      <th>  R-squared:         </th>  <td>   0.305</td>  \n",
       "</tr>\n",
       "<tr>\n",
       "  <th>Model:</th>                   <td>OLS</td>       <th>  Adj. R-squared:    </th>  <td>   0.305</td>  \n",
       "</tr>\n",
       "<tr>\n",
       "  <th>Method:</th>             <td>Least Squares</td>  <th>  F-statistic:       </th>  <td>1.084e+04</td> \n",
       "</tr>\n",
       "<tr>\n",
       "  <th>Date:</th>             <td>Mon, 01 Aug 2022</td> <th>  Prob (F-statistic):</th>   <td>  0.00</td>   \n",
       "</tr>\n",
       "<tr>\n",
       "  <th>Time:</th>                 <td>19:33:21</td>     <th>  Log-Likelihood:    </th> <td>-3.5085e+05</td>\n",
       "</tr>\n",
       "<tr>\n",
       "  <th>No. Observations:</th>      <td> 24719</td>      <th>  AIC:               </th>  <td>7.017e+05</td> \n",
       "</tr>\n",
       "<tr>\n",
       "  <th>Df Residuals:</th>          <td> 24717</td>      <th>  BIC:               </th>  <td>7.017e+05</td> \n",
       "</tr>\n",
       "<tr>\n",
       "  <th>Df Model:</th>              <td>     1</td>      <th>                     </th>      <td> </td>     \n",
       "</tr>\n",
       "<tr>\n",
       "  <th>Covariance Type:</th>      <td>nonrobust</td>    <th>                     </th>      <td> </td>     \n",
       "</tr>\n",
       "</table>\n",
       "<table class=\"simpletable\">\n",
       "<tr>\n",
       "       <td></td>          <th>coef</th>     <th>std err</th>      <th>t</th>      <th>P>|t|</th>  <th>[0.025</th>    <th>0.975]</th>  \n",
       "</tr>\n",
       "<tr>\n",
       "  <th>const</th>       <td> 3.186e+05</td> <td> 6222.930</td> <td>   51.190</td> <td> 0.000</td> <td> 3.06e+05</td> <td> 3.31e+05</td>\n",
       "</tr>\n",
       "<tr>\n",
       "  <th>sqft_living</th> <td>  313.4653</td> <td>    3.011</td> <td>  104.096</td> <td> 0.000</td> <td>  307.563</td> <td>  319.368</td>\n",
       "</tr>\n",
       "</table>\n",
       "<table class=\"simpletable\">\n",
       "<tr>\n",
       "  <th>Omnibus:</th>       <td>1394.887</td> <th>  Durbin-Watson:     </th> <td>   2.012</td>\n",
       "</tr>\n",
       "<tr>\n",
       "  <th>Prob(Omnibus):</th>  <td> 0.000</td>  <th>  Jarque-Bera (JB):  </th> <td>1748.518</td>\n",
       "</tr>\n",
       "<tr>\n",
       "  <th>Skew:</th>           <td> 0.561</td>  <th>  Prob(JB):          </th> <td>    0.00</td>\n",
       "</tr>\n",
       "<tr>\n",
       "  <th>Kurtosis:</th>       <td> 3.662</td>  <th>  Cond. No.          </th> <td>5.72e+03</td>\n",
       "</tr>\n",
       "</table><br/><br/>Notes:<br/>[1] Standard Errors assume that the covariance matrix of the errors is correctly specified.<br/>[2] The condition number is large, 5.72e+03. This might indicate that there are<br/>strong multicollinearity or other numerical problems."
      ],
      "text/plain": [
       "<class 'statsmodels.iolib.summary.Summary'>\n",
       "\"\"\"\n",
       "                            OLS Regression Results                            \n",
       "==============================================================================\n",
       "Dep. Variable:                  price   R-squared:                       0.305\n",
       "Model:                            OLS   Adj. R-squared:                  0.305\n",
       "Method:                 Least Squares   F-statistic:                 1.084e+04\n",
       "Date:                Mon, 01 Aug 2022   Prob (F-statistic):               0.00\n",
       "Time:                        19:33:21   Log-Likelihood:            -3.5085e+05\n",
       "No. Observations:               24719   AIC:                         7.017e+05\n",
       "Df Residuals:                   24717   BIC:                         7.017e+05\n",
       "Df Model:                           1                                         \n",
       "Covariance Type:            nonrobust                                         \n",
       "===============================================================================\n",
       "                  coef    std err          t      P>|t|      [0.025      0.975]\n",
       "-------------------------------------------------------------------------------\n",
       "const        3.186e+05   6222.930     51.190      0.000    3.06e+05    3.31e+05\n",
       "sqft_living   313.4653      3.011    104.096      0.000     307.563     319.368\n",
       "==============================================================================\n",
       "Omnibus:                     1394.887   Durbin-Watson:                   2.012\n",
       "Prob(Omnibus):                  0.000   Jarque-Bera (JB):             1748.518\n",
       "Skew:                           0.561   Prob(JB):                         0.00\n",
       "Kurtosis:                       3.662   Cond. No.                     5.72e+03\n",
       "==============================================================================\n",
       "\n",
       "Notes:\n",
       "[1] Standard Errors assume that the covariance matrix of the errors is correctly specified.\n",
       "[2] The condition number is large, 5.72e+03. This might indicate that there are\n",
       "strong multicollinearity or other numerical problems.\n",
       "\"\"\""
      ]
     },
     "execution_count": 55,
     "metadata": {},
     "output_type": "execute_result"
    }
   ],
   "source": [
    "y_sqft_liv = df['price']\n",
    "X_sqft_liv = df[['sqft_living']]\n",
    "\n",
    "model = sm.OLS(y_sqft_liv, sm.add_constant(X_sqft_liv)).fit()\n",
    "model_summary = model.summary()\n",
    "model_summary"
   ]
  },
  {
   "cell_type": "markdown",
   "metadata": {},
   "source": [
    "### Model 2"
   ]
  },
  {
   "cell_type": "code",
   "execution_count": 56,
   "metadata": {},
   "outputs": [],
   "source": [
    "cols = ['bathrooms', 'sqft_living', 'sqft_living15'] + encoded_zipcode\n",
    "\n",
    "y = y_train\n",
    "x = X_train.filter(cols, axis=1)\n",
    "\n",
    "y2 = y_test\n",
    "x2 = X_test.filter(cols, axis=1)"
   ]
  },
  {
   "cell_type": "code",
   "execution_count": 57,
   "metadata": {
    "scrolled": true
   },
   "outputs": [
    {
     "name": "stdout",
     "output_type": "stream",
     "text": [
      "training score: 0.6814252565014915\n",
      "    test score: 0.6732723197161194\n"
     ]
    }
   ],
   "source": [
    "X_train_scaled, X_test_scaled, train_preds, test_preds=scale_score(x, y, x2, y2)"
   ]
  },
  {
   "cell_type": "code",
   "execution_count": 58,
   "metadata": {},
   "outputs": [
    {
     "name": "stdout",
     "output_type": "stream",
     "text": [
      "\n",
      "Training Metrics:\n",
      "R2: 0.681\n",
      "Mean Absolute Error: 168228.781\n",
      "Mean Squared Error: 57316854564.579\n",
      "Root Mean Squared Error: 239409.387\n",
      "\n",
      "Testing Metrics:\n",
      "R2: 0.673\n",
      "Mean Absolute Error: 172119.903\n",
      "Mean Squared Error: 58067584962.570\n",
      "Root Mean Squared Error: 240972.166\n"
     ]
    }
   ],
   "source": [
    "get_train_test_metrics(y_train, train_preds, y_test, test_preds)"
   ]
  },
  {
   "cell_type": "markdown",
   "metadata": {},
   "source": [
    "### Model 2b"
   ]
  },
  {
   "cell_type": "code",
   "execution_count": 59,
   "metadata": {},
   "outputs": [],
   "source": [
    "cols = ['bathrooms', 'sqft_living', 'sqft_living15', 'zipcode']\n",
    "\n",
    "y = y_train\n",
    "x = X_train.filter(cols, axis=1)\n",
    "\n",
    "y2 = y_test\n",
    "x2 = X_test.filter(cols, axis=1)"
   ]
  },
  {
   "cell_type": "code",
   "execution_count": 60,
   "metadata": {},
   "outputs": [
    {
     "name": "stdout",
     "output_type": "stream",
     "text": [
      "training score: 0.3070623600172696\n",
      "    test score: 0.30486190592750106\n"
     ]
    }
   ],
   "source": [
    "X_train_scaled, X_test_scaled, train_preds, test_preds = scale_score(x, y, x2, y2)"
   ]
  },
  {
   "cell_type": "code",
   "execution_count": 61,
   "metadata": {},
   "outputs": [
    {
     "name": "stdout",
     "output_type": "stream",
     "text": [
      "\n",
      "Training Metrics:\n",
      "R2: 0.307\n",
      "Mean Absolute Error: 274874.891\n",
      "Mean Squared Error: 124670918658.052\n",
      "Root Mean Squared Error: 353087.693\n",
      "\n",
      "Testing Metrics:\n",
      "R2: 0.305\n",
      "Mean Absolute Error: 274839.442\n",
      "Mean Squared Error: 123543221998.217\n",
      "Root Mean Squared Error: 351487.158\n"
     ]
    }
   ],
   "source": [
    "get_train_test_metrics(y_train, train_preds, y_test, test_preds)"
   ]
  },
  {
   "cell_type": "markdown",
   "metadata": {},
   "source": [
    "### Model 3"
   ]
  },
  {
   "cell_type": "code",
   "execution_count": 62,
   "metadata": {},
   "outputs": [],
   "source": [
    "cols = ['bedrooms', 'sqft_living', 'sqft_living15']\n",
    "\n",
    "y = y_train\n",
    "x = X_train.filter(cols, axis=1)\n",
    "\n",
    "y2 = y_test\n",
    "x2 = X_test.filter(cols, axis=1)"
   ]
  },
  {
   "cell_type": "code",
   "execution_count": 63,
   "metadata": {},
   "outputs": [
    {
     "name": "stdout",
     "output_type": "stream",
     "text": [
      "training score: 0.3094590627465559\n",
      "    test score: 0.3116381467324051\n"
     ]
    }
   ],
   "source": [
    "X_train_scaled, X_test_scaled, train_preds, test_preds = scale_score(x, y, x2, y2)"
   ]
  },
  {
   "cell_type": "code",
   "execution_count": 64,
   "metadata": {
    "scrolled": true
   },
   "outputs": [
    {
     "name": "stdout",
     "output_type": "stream",
     "text": [
      "\n",
      "Training Metrics:\n",
      "R2: 0.309\n",
      "Mean Absolute Error: 274028.334\n",
      "Mean Squared Error: 124239712278.474\n",
      "Root Mean Squared Error: 352476.541\n",
      "\n",
      "Testing Metrics:\n",
      "R2: 0.312\n",
      "Mean Absolute Error: 272387.923\n",
      "Mean Squared Error: 122338916509.549\n",
      "Root Mean Squared Error: 349769.805\n"
     ]
    }
   ],
   "source": [
    "get_train_test_metrics(y_train, train_preds, y_test, test_preds)"
   ]
  },
  {
   "cell_type": "markdown",
   "metadata": {},
   "source": [
    "### Model 3b"
   ]
  },
  {
   "cell_type": "code",
   "execution_count": 65,
   "metadata": {},
   "outputs": [],
   "source": [
    "cols = ['sqft_living', 'sqft_living15'] + encoded_bedrooms_bins + encoded_zipcode\n",
    "\n",
    "y = y_train\n",
    "x = X_train.filter(cols, axis=1)\n",
    "\n",
    "y2 = y_test\n",
    "x2 = X_test.filter(cols, axis=1)"
   ]
  },
  {
   "cell_type": "code",
   "execution_count": 66,
   "metadata": {},
   "outputs": [
    {
     "name": "stdout",
     "output_type": "stream",
     "text": [
      "training score: 0.6829205518102813\n",
      "    test score: 0.6751667741698847\n"
     ]
    }
   ],
   "source": [
    "X_train_scaled, X_test_scaled, train_preds, test_preds = scale_score(x, y, x2, y2)"
   ]
  },
  {
   "cell_type": "code",
   "execution_count": 67,
   "metadata": {},
   "outputs": [
    {
     "name": "stdout",
     "output_type": "stream",
     "text": [
      "\n",
      "Training Metrics:\n",
      "R2: 0.683\n",
      "Mean Absolute Error: 167911.467\n",
      "Mean Squared Error: 57047826258.054\n",
      "Root Mean Squared Error: 238846.868\n",
      "\n",
      "Testing Metrics:\n",
      "R2: 0.675\n",
      "Mean Absolute Error: 171817.579\n",
      "Mean Squared Error: 57730893578.308\n",
      "Root Mean Squared Error: 240272.540\n"
     ]
    }
   ],
   "source": [
    "get_train_test_metrics(y_train, train_preds, y_test, test_preds)"
   ]
  },
  {
   "cell_type": "markdown",
   "metadata": {},
   "source": [
    "### Model 4"
   ]
  },
  {
   "cell_type": "code",
   "execution_count": 68,
   "metadata": {},
   "outputs": [],
   "source": [
    "cols = ['bedrooms', 'sqft_living'] + encoded_condition + encoded_zipcode \n",
    "\n",
    "y = y_train\n",
    "x = X_train.filter(cols, axis=1)\n",
    "\n",
    "y2 = y_test\n",
    "x2 = X_test.filter(cols, axis=1)"
   ]
  },
  {
   "cell_type": "code",
   "execution_count": 69,
   "metadata": {},
   "outputs": [
    {
     "name": "stdout",
     "output_type": "stream",
     "text": [
      "training score: 0.6878669967544242\n",
      "    test score: 0.6785025829398846\n"
     ]
    }
   ],
   "source": [
    "X_train_scaled, X_test_scaled, train_preds, test_preds = scale_score(x, y, x2, y2)"
   ]
  },
  {
   "cell_type": "code",
   "execution_count": 70,
   "metadata": {},
   "outputs": [
    {
     "name": "stdout",
     "output_type": "stream",
     "text": [
      "\n",
      "Training Metrics:\n",
      "R2: 0.688\n",
      "Mean Absolute Error: 165577.142\n",
      "Mean Squared Error: 56157879169.463\n",
      "Root Mean Squared Error: 236976.537\n",
      "\n",
      "Testing Metrics:\n",
      "R2: 0.679\n",
      "Mean Absolute Error: 170059.878\n",
      "Mean Squared Error: 57138037904.119\n",
      "Root Mean Squared Error: 239035.641\n"
     ]
    }
   ],
   "source": [
    "get_train_test_metrics(y_train, train_preds, y_test, test_preds)"
   ]
  },
  {
   "cell_type": "markdown",
   "metadata": {},
   "source": [
    "### Model 4b"
   ]
  },
  {
   "cell_type": "code",
   "execution_count": 71,
   "metadata": {},
   "outputs": [],
   "source": [
    "cols = ['sqft_living'] + encoded_bedrooms_bins + encoded_condition + encoded_zipcode\n",
    "\n",
    "y = y_train\n",
    "x = X_train.filter(cols, axis=1)\n",
    "\n",
    "y2 = y_test\n",
    "x2 = X_test.filter(cols, axis=1)"
   ]
  },
  {
   "cell_type": "code",
   "execution_count": 72,
   "metadata": {},
   "outputs": [
    {
     "name": "stdout",
     "output_type": "stream",
     "text": [
      "training score: 0.6891754540007229\n",
      "    test score: 0.6802072780295368\n"
     ]
    }
   ],
   "source": [
    "X_train_scaled, X_test_scaled, train_preds, test_preds = scale_score(x, y, x2, y2)"
   ]
  },
  {
   "cell_type": "code",
   "execution_count": 73,
   "metadata": {},
   "outputs": [
    {
     "name": "stdout",
     "output_type": "stream",
     "text": [
      "\n",
      "Training Metrics:\n",
      "R2: 0.689\n",
      "Mean Absolute Error: 165327.572\n",
      "Mean Squared Error: 55922466114.220\n",
      "Root Mean Squared Error: 236479.314\n",
      "\n",
      "Testing Metrics:\n",
      "R2: 0.680\n",
      "Mean Absolute Error: 169806.002\n",
      "Mean Squared Error: 56835071449.401\n",
      "Root Mean Squared Error: 238401.073\n"
     ]
    }
   ],
   "source": [
    "get_train_test_metrics(y_train, train_preds, y_test, test_preds)"
   ]
  },
  {
   "cell_type": "markdown",
   "metadata": {},
   "source": [
    "### Model 5"
   ]
  },
  {
   "cell_type": "code",
   "execution_count": 74,
   "metadata": {},
   "outputs": [],
   "source": [
    "cols = ['bathrooms', 'bedrooms', 'condition', 'sqft_living', 'view'] + encoded_zipcode\n",
    "\n",
    "y = y_train\n",
    "x = X_train.filter(cols, axis=1)\n",
    "\n",
    "y2 = y_test\n",
    "x2 = X_test.filter(cols, axis=1)"
   ]
  },
  {
   "cell_type": "code",
   "execution_count": 75,
   "metadata": {},
   "outputs": [
    {
     "name": "stdout",
     "output_type": "stream",
     "text": [
      "training score: 0.6963134082029376\n",
      "    test score: 0.6869026898414115\n"
     ]
    }
   ],
   "source": [
    "X_train_scaled, X_test_scaled, train_preds, test_preds = scale_score(x, y, x2, y2)"
   ]
  },
  {
   "cell_type": "code",
   "execution_count": 76,
   "metadata": {},
   "outputs": [
    {
     "name": "stdout",
     "output_type": "stream",
     "text": [
      "\n",
      "Training Metrics:\n",
      "R2: 0.696\n",
      "Mean Absolute Error: 163172.795\n",
      "Mean Squared Error: 54638230338.326\n",
      "Root Mean Squared Error: 233748.220\n",
      "\n",
      "Testing Metrics:\n",
      "R2: 0.687\n",
      "Mean Absolute Error: 167432.117\n",
      "Mean Squared Error: 55645131270.756\n",
      "Root Mean Squared Error: 235892.203\n"
     ]
    }
   ],
   "source": [
    "get_train_test_metrics(y_train, train_preds, y_test, test_preds)"
   ]
  },
  {
   "cell_type": "markdown",
   "metadata": {},
   "source": [
    "### Model 5b"
   ]
  },
  {
   "cell_type": "code",
   "execution_count": 77,
   "metadata": {},
   "outputs": [],
   "source": [
    "cols = ['bathrooms', 'sqft_living'] + encoded_bedrooms_bins + encoded_condition + encoded_view + encoded_zipcode\n",
    "\n",
    "y = y_train\n",
    "x = X_train.filter(cols, axis=1)\n",
    "\n",
    "y2 = y_test\n",
    "x2 = X_test.filter(cols, axis=1)"
   ]
  },
  {
   "cell_type": "code",
   "execution_count": 78,
   "metadata": {},
   "outputs": [
    {
     "name": "stdout",
     "output_type": "stream",
     "text": [
      "training score: 0.6989500678285613\n",
      "    test score: 0.6899127643538581\n"
     ]
    }
   ],
   "source": [
    "X_train_scaled, X_test_scaled, train_preds, test_preds = scale_score(x, y, x2, y2)"
   ]
  },
  {
   "cell_type": "code",
   "execution_count": 79,
   "metadata": {},
   "outputs": [
    {
     "name": "stdout",
     "output_type": "stream",
     "text": [
      "\n",
      "Training Metrics:\n",
      "R2: 0.699\n",
      "Mean Absolute Error: 162739.991\n",
      "Mean Squared Error: 54163851752.508\n",
      "Root Mean Squared Error: 232731.287\n",
      "\n",
      "Testing Metrics:\n",
      "R2: 0.690\n",
      "Mean Absolute Error: 166946.121\n",
      "Mean Squared Error: 55110166625.754\n",
      "Root Mean Squared Error: 234755.547\n"
     ]
    }
   ],
   "source": [
    "get_train_test_metrics(y_train, train_preds, y_test, test_preds)"
   ]
  },
  {
   "cell_type": "markdown",
   "metadata": {},
   "source": [
    "### Model 6"
   ]
  },
  {
   "cell_type": "code",
   "execution_count": 80,
   "metadata": {},
   "outputs": [],
   "source": [
    "cols = ['bathrooms', 'bedrooms', 'sqft_living', 'yr_built'] + encoded_condition + encoded_view + encoded_zipcode\n",
    "\n",
    "y = y_train\n",
    "x = X_train.filter(cols, axis=1)\n",
    "\n",
    "y2 = y_test\n",
    "x2 = X_test.filter(cols, axis=1)"
   ]
  },
  {
   "cell_type": "code",
   "execution_count": 81,
   "metadata": {},
   "outputs": [
    {
     "name": "stdout",
     "output_type": "stream",
     "text": [
      "training score: 0.6976801208263421\n",
      "    test score: 0.6882297593773921\n"
     ]
    }
   ],
   "source": [
    "X_train_scaled, X_test_scaled, train_preds, test_preds = scale_score(x, y, x2, y2)"
   ]
  },
  {
   "cell_type": "code",
   "execution_count": 82,
   "metadata": {},
   "outputs": [
    {
     "name": "stdout",
     "output_type": "stream",
     "text": [
      "\n",
      "Training Metrics:\n",
      "R2: 0.698\n",
      "Mean Absolute Error: 162936.988\n",
      "Mean Squared Error: 54392336179.213\n",
      "Root Mean Squared Error: 233221.646\n",
      "\n",
      "Testing Metrics:\n",
      "R2: 0.688\n",
      "Mean Absolute Error: 167176.571\n",
      "Mean Squared Error: 55409278211.214\n",
      "Root Mean Squared Error: 235391.755\n"
     ]
    }
   ],
   "source": [
    "get_train_test_metrics(y_train, train_preds, y_test, test_preds)"
   ]
  },
  {
   "cell_type": "markdown",
   "metadata": {},
   "source": [
    "### Model 6b"
   ]
  },
  {
   "cell_type": "code",
   "execution_count": 83,
   "metadata": {},
   "outputs": [],
   "source": [
    "cols = ['bathrooms', 'sqft_living', 'yr_built'] + encoded_bedrooms_bins + encoded_condition + encoded_view + encoded_zipcode\n",
    "\n",
    "y = y_train\n",
    "x = X_train.filter(cols, axis=1)\n",
    "\n",
    "y2 = y_test\n",
    "x2 = X_test.filter(cols, axis=1)"
   ]
  },
  {
   "cell_type": "code",
   "execution_count": 84,
   "metadata": {},
   "outputs": [
    {
     "name": "stdout",
     "output_type": "stream",
     "text": [
      "training score: 0.6989517615281766\n",
      "    test score: 0.6899027601660042\n"
     ]
    }
   ],
   "source": [
    "X_train_scaled, X_test_scaled, train_preds, test_preds = scale_score(x, y, x2, y2)"
   ]
  },
  {
   "cell_type": "code",
   "execution_count": 85,
   "metadata": {},
   "outputs": [
    {
     "name": "stdout",
     "output_type": "stream",
     "text": [
      "\n",
      "Training Metrics:\n",
      "R2: 0.699\n",
      "Mean Absolute Error: 162749.536\n",
      "Mean Squared Error: 54163547027.992\n",
      "Root Mean Squared Error: 232730.632\n",
      "\n",
      "Testing Metrics:\n",
      "R2: 0.690\n",
      "Mean Absolute Error: 166953.530\n",
      "Mean Squared Error: 55111944617.223\n",
      "Root Mean Squared Error: 234759.333\n"
     ]
    }
   ],
   "source": [
    "get_train_test_metrics(y_train, train_preds, y_test, test_preds)"
   ]
  },
  {
   "cell_type": "markdown",
   "metadata": {},
   "source": [
    "### Model 7"
   ]
  },
  {
   "cell_type": "code",
   "execution_count": 86,
   "metadata": {},
   "outputs": [],
   "source": [
    "cols = ['bathrooms', 'bedrooms', 'sqft_living', 'sqft_living15', 'yr_built'] + encoded_condition + encoded_view + encoded_zipcode\n",
    "\n",
    "y = y_train\n",
    "x = X_train.filter(cols, axis=1)\n",
    "\n",
    "y2 = y_test\n",
    "x2 = X_test.filter(cols, axis=1)"
   ]
  },
  {
   "cell_type": "code",
   "execution_count": 87,
   "metadata": {},
   "outputs": [
    {
     "name": "stdout",
     "output_type": "stream",
     "text": [
      "training score: 0.6976801208263421\n",
      "    test score: 0.6882297593773921\n"
     ]
    }
   ],
   "source": [
    "X_train_scaled, X_test_scaled, train_preds, test_preds = scale_score(x, y, x2, y2)"
   ]
  },
  {
   "cell_type": "code",
   "execution_count": 88,
   "metadata": {},
   "outputs": [
    {
     "name": "stdout",
     "output_type": "stream",
     "text": [
      "\n",
      "Training Metrics:\n",
      "R2: 0.698\n",
      "Mean Absolute Error: 162936.988\n",
      "Mean Squared Error: 54392336179.213\n",
      "Root Mean Squared Error: 233221.646\n",
      "\n",
      "Testing Metrics:\n",
      "R2: 0.688\n",
      "Mean Absolute Error: 167176.571\n",
      "Mean Squared Error: 55409278211.214\n",
      "Root Mean Squared Error: 235391.755\n"
     ]
    }
   ],
   "source": [
    "get_train_test_metrics(y_train, train_preds, y_test, test_preds)"
   ]
  },
  {
   "cell_type": "markdown",
   "metadata": {},
   "source": [
    "### Model 7b"
   ]
  },
  {
   "cell_type": "code",
   "execution_count": 89,
   "metadata": {},
   "outputs": [],
   "source": [
    "cols = ['bathrooms', 'sqft_living', 'sqft_living15', 'yr_built'] + encoded_bedrooms_bins + encoded_condition + encoded_view + encoded_zipcode\n",
    "\n",
    "y = y_train\n",
    "x = X_train.filter(cols, axis=1)\n",
    "\n",
    "y2 = y_test\n",
    "x2 = X_test.filter(cols, axis=1)"
   ]
  },
  {
   "cell_type": "code",
   "execution_count": 90,
   "metadata": {},
   "outputs": [
    {
     "name": "stdout",
     "output_type": "stream",
     "text": [
      "training score: 0.6989517615281766\n",
      "    test score: 0.6899027601660042\n"
     ]
    }
   ],
   "source": [
    "X_train_scaled, X_test_scaled, train_preds, test_preds = scale_score(x, y, x2, y2)"
   ]
  },
  {
   "cell_type": "code",
   "execution_count": 91,
   "metadata": {},
   "outputs": [
    {
     "name": "stdout",
     "output_type": "stream",
     "text": [
      "\n",
      "Training Metrics:\n",
      "R2: 0.699\n",
      "Mean Absolute Error: 162749.536\n",
      "Mean Squared Error: 54163547027.992\n",
      "Root Mean Squared Error: 232730.632\n",
      "\n",
      "Testing Metrics:\n",
      "R2: 0.690\n",
      "Mean Absolute Error: 166953.530\n",
      "Mean Squared Error: 55111944617.223\n",
      "Root Mean Squared Error: 234759.333\n"
     ]
    }
   ],
   "source": [
    "get_train_test_metrics(y_train, train_preds, y_test, test_preds)"
   ]
  },
  {
   "cell_type": "markdown",
   "metadata": {},
   "source": [
    "### Model 8"
   ]
  },
  {
   "cell_type": "code",
   "execution_count": 92,
   "metadata": {},
   "outputs": [],
   "source": [
    "cols = ['bathrooms', 'sqft_living', 'sqft_living15', 'yr_built'] + encoded_bedrooms_bins + encoded_condition + encoded_zipcode\n",
    "\n",
    "y = y_train\n",
    "x = X_train.filter(cols, axis=1)\n",
    "\n",
    "y2 = y_test\n",
    "x2 = X_test.filter(cols, axis=1)"
   ]
  },
  {
   "cell_type": "code",
   "execution_count": 93,
   "metadata": {},
   "outputs": [
    {
     "name": "stdout",
     "output_type": "stream",
     "text": [
      "training score: 0.6895043788377538\n",
      "    test score: 0.6807824112906611\n"
     ]
    }
   ],
   "source": [
    "X_train_scaled, X_test_scaled, train_preds, test_preds = scale_score(x, y, x2, y2)"
   ]
  },
  {
   "cell_type": "code",
   "execution_count": 94,
   "metadata": {},
   "outputs": [
    {
     "name": "stdout",
     "output_type": "stream",
     "text": [
      "\n",
      "Training Metrics:\n",
      "R2: 0.690\n",
      "Mean Absolute Error: 165244.641\n",
      "Mean Squared Error: 55863287106.996\n",
      "Root Mean Squared Error: 236354.156\n",
      "\n",
      "Testing Metrics:\n",
      "R2: 0.681\n",
      "Mean Absolute Error: 169618.273\n",
      "Mean Squared Error: 56732856052.542\n",
      "Root Mean Squared Error: 238186.599\n"
     ]
    }
   ],
   "source": [
    "get_train_test_metrics(y_train, train_preds, y_test, test_preds)"
   ]
  },
  {
   "cell_type": "markdown",
   "metadata": {},
   "source": [
    "### Model 9"
   ]
  },
  {
   "cell_type": "code",
   "execution_count": 95,
   "metadata": {},
   "outputs": [],
   "source": [
    "cols = ['bathrooms', 'sqft_living', 'sqft_living15', 'yr_built'] + encoded_bedrooms_bins + encoded_condition + encoded_grade + encoded_view + encoded_zipcode\n",
    "\n",
    "y = y_train\n",
    "x = X_train.filter(cols, axis=1)\n",
    "\n",
    "y2 = y_test\n",
    "x2 = X_test.filter(cols, axis=1)"
   ]
  },
  {
   "cell_type": "code",
   "execution_count": 96,
   "metadata": {},
   "outputs": [
    {
     "name": "stdout",
     "output_type": "stream",
     "text": [
      "training score: 0.7161937276095207\n",
      "    test score: 0.7143180225533511\n"
     ]
    }
   ],
   "source": [
    "X_train_scaled, X_test_scaled, train_preds, test_preds = scale_score(x, y, x2, y2)"
   ]
  },
  {
   "cell_type": "code",
   "execution_count": 97,
   "metadata": {},
   "outputs": [
    {
     "name": "stdout",
     "output_type": "stream",
     "text": [
      "\n",
      "Training Metrics:\n",
      "R2: 0.716\n",
      "Mean Absolute Error: 157911.217\n",
      "Mean Squared Error: 51061432744.107\n",
      "Root Mean Squared Error: 225967.769\n",
      "\n",
      "Testing Metrics:\n",
      "R2: 0.714\n",
      "Mean Absolute Error: 160774.943\n",
      "Mean Squared Error: 50772748985.470\n",
      "Root Mean Squared Error: 225328.092\n"
     ]
    }
   ],
   "source": [
    "get_train_test_metrics(y_train, train_preds, y_test, test_preds)"
   ]
  },
  {
   "cell_type": "markdown",
   "metadata": {},
   "source": [
    "### Model 10"
   ]
  },
  {
   "cell_type": "code",
   "execution_count": 98,
   "metadata": {},
   "outputs": [],
   "source": [
    "cols = ['sqft_living', 'sqft_living15', 'yr_built'] + encoded_bedrooms_bins + encoded_condition + encoded_view + encoded_zipcode\n",
    "\n",
    "y = y_train\n",
    "x = X_train.filter(cols, axis=1)\n",
    "\n",
    "y2 = y_test\n",
    "x2 = X_test.filter(cols, axis=1)"
   ]
  },
  {
   "cell_type": "code",
   "execution_count": 99,
   "metadata": {},
   "outputs": [
    {
     "name": "stdout",
     "output_type": "stream",
     "text": [
      "training score: 0.698733033076854\n",
      "    test score: 0.689457895758157\n"
     ]
    }
   ],
   "source": [
    "X_train_scaled, X_test_scaled, train_preds, test_preds = scale_score(x, y, x2, y2)"
   ]
  },
  {
   "cell_type": "code",
   "execution_count": 100,
   "metadata": {},
   "outputs": [
    {
     "name": "stdout",
     "output_type": "stream",
     "text": [
      "\n",
      "Training Metrics:\n",
      "R2: 0.699\n",
      "Mean Absolute Error: 162799.534\n",
      "Mean Squared Error: 54202899886.590\n",
      "Root Mean Squared Error: 232815.162\n",
      "\n",
      "Testing Metrics:\n",
      "R2: 0.689\n",
      "Mean Absolute Error: 167085.115\n",
      "Mean Squared Error: 55191008018.821\n",
      "Root Mean Squared Error: 234927.666\n"
     ]
    }
   ],
   "source": [
    "get_train_test_metrics(y_train, train_preds, y_test, test_preds)"
   ]
  },
  {
   "cell_type": "markdown",
   "metadata": {},
   "source": [
    "### Model 11"
   ]
  },
  {
   "cell_type": "code",
   "execution_count": 101,
   "metadata": {},
   "outputs": [],
   "source": [
    "cols = ['sqft_living', 'sqft_living15', 'yr_built'] + encoded_bedrooms_bins + encoded_condition + encoded_floors + encoded_view + encoded_zipcode\n",
    "\n",
    "y = y_train\n",
    "x = X_train.filter(cols, axis=1)\n",
    "\n",
    "y2 = y_test\n",
    "x2 = X_test.filter(cols, axis=1)"
   ]
  },
  {
   "cell_type": "code",
   "execution_count": 102,
   "metadata": {},
   "outputs": [
    {
     "name": "stdout",
     "output_type": "stream",
     "text": [
      "training score: 0.7003330652824069\n",
      "    test score: 0.6897238504876955\n"
     ]
    }
   ],
   "source": [
    "X_train_scaled, X_test_scaled, train_preds, test_preds = scale_score(x, y, x2, y2)"
   ]
  },
  {
   "cell_type": "code",
   "execution_count": 103,
   "metadata": {},
   "outputs": [
    {
     "name": "stdout",
     "output_type": "stream",
     "text": [
      "\n",
      "Training Metrics:\n",
      "R2: 0.700\n",
      "Mean Absolute Error: 162465.828\n",
      "Mean Squared Error: 53915027683.611\n",
      "Root Mean Squared Error: 232196.097\n",
      "\n",
      "Testing Metrics:\n",
      "R2: 0.690\n",
      "Mean Absolute Error: 167126.933\n",
      "Mean Squared Error: 55143741289.415\n",
      "Root Mean Squared Error: 234827.045\n"
     ]
    }
   ],
   "source": [
    "get_train_test_metrics(y_train, train_preds, y_test, test_preds)"
   ]
  },
  {
   "cell_type": "markdown",
   "metadata": {},
   "source": [
    "### Model 11b"
   ]
  },
  {
   "cell_type": "code",
   "execution_count": 104,
   "metadata": {},
   "outputs": [],
   "source": [
    "cols = ['floors', 'sqft_living', 'sqft_living15', 'yr_built'] + encoded_bedrooms_bins + encoded_condition + encoded_view + encoded_zipcode\n",
    "\n",
    "y = y_train\n",
    "x = X_train.filter(cols, axis=1)\n",
    "\n",
    "y2 = y_test\n",
    "x2 = X_test.filter(cols, axis=1)"
   ]
  },
  {
   "cell_type": "code",
   "execution_count": 105,
   "metadata": {},
   "outputs": [
    {
     "name": "stdout",
     "output_type": "stream",
     "text": [
      "training score: 0.6989049004183276\n",
      "    test score: 0.6897882343435718\n"
     ]
    }
   ],
   "source": [
    "X_train_scaled, X_test_scaled, train_preds, test_preds = scale_score(x, y, x2, y2)"
   ]
  },
  {
   "cell_type": "code",
   "execution_count": 106,
   "metadata": {},
   "outputs": [
    {
     "name": "stdout",
     "output_type": "stream",
     "text": [
      "\n",
      "Training Metrics:\n",
      "R2: 0.699\n",
      "Mean Absolute Error: 162848.660\n",
      "Mean Squared Error: 54171978115.116\n",
      "Root Mean Squared Error: 232748.745\n",
      "\n",
      "Testing Metrics:\n",
      "R2: 0.690\n",
      "Mean Absolute Error: 167146.868\n",
      "Mean Squared Error: 55132298686.761\n",
      "Root Mean Squared Error: 234802.680\n"
     ]
    }
   ],
   "source": [
    "get_train_test_metrics(y_train, train_preds, y_test, test_preds)"
   ]
  },
  {
   "cell_type": "markdown",
   "metadata": {},
   "source": [
    "### Model 12"
   ]
  },
  {
   "cell_type": "code",
   "execution_count": 107,
   "metadata": {},
   "outputs": [],
   "source": [
    "cols = ['bathrooms', 'sqft_living', 'sqft_living15', 'yr_built'] + encoded_bedrooms_bins + encoded_condition + encoded_floors + encoded_grade + encoded_view + encoded_zipcode\n",
    "\n",
    "y = y_train\n",
    "x = X_train.filter(cols, axis=1)\n",
    "\n",
    "y2 = y_test\n",
    "x2 = X_test.filter(cols, axis=1)"
   ]
  },
  {
   "cell_type": "code",
   "execution_count": 108,
   "metadata": {},
   "outputs": [
    {
     "name": "stdout",
     "output_type": "stream",
     "text": [
      "training score: 0.7173771199241397\n",
      "    test score: 0.7147235914658157\n"
     ]
    }
   ],
   "source": [
    "X_train_scaled, X_test_scaled, train_preds, test_preds = scale_score(x, y, x2, y2)"
   ]
  },
  {
   "cell_type": "code",
   "execution_count": 109,
   "metadata": {},
   "outputs": [
    {
     "name": "stdout",
     "output_type": "stream",
     "text": [
      "\n",
      "Training Metrics:\n",
      "R2: 0.717\n",
      "Mean Absolute Error: 157544.977\n",
      "Mean Squared Error: 50848520934.323\n",
      "Root Mean Squared Error: 225496.166\n",
      "\n",
      "Testing Metrics:\n",
      "R2: 0.715\n",
      "Mean Absolute Error: 160423.041\n",
      "Mean Squared Error: 50700669364.722\n",
      "Root Mean Squared Error: 225168.091\n"
     ]
    }
   ],
   "source": [
    "get_train_test_metrics(y_train, train_preds, y_test, test_preds)"
   ]
  },
  {
   "cell_type": "markdown",
   "metadata": {},
   "source": [
    "### Model 12b"
   ]
  },
  {
   "cell_type": "code",
   "execution_count": 110,
   "metadata": {},
   "outputs": [],
   "source": [
    "cols = ['bathrooms', 'floors', 'sqft_living', 'sqft_living15', 'yr_built'] + encoded_bedrooms_bins + encoded_condition + encoded_grade + encoded_view + encoded_zipcode\n",
    "\n",
    "y = y_train\n",
    "x = X_train.filter(cols, axis=1)\n",
    "\n",
    "y2 = y_test\n",
    "x2 = X_test.filter(cols, axis=1)"
   ]
  },
  {
   "cell_type": "code",
   "execution_count": 111,
   "metadata": {},
   "outputs": [
    {
     "name": "stdout",
     "output_type": "stream",
     "text": [
      "training score: 0.7162223994437298\n",
      "    test score: 0.7143703988306243\n"
     ]
    }
   ],
   "source": [
    "X_train_scaled, X_test_scaled, train_preds, test_preds = scale_score(x, y, x2, y2)"
   ]
  },
  {
   "cell_type": "code",
   "execution_count": 112,
   "metadata": {},
   "outputs": [
    {
     "name": "stdout",
     "output_type": "stream",
     "text": [
      "\n",
      "Training Metrics:\n",
      "R2: 0.716\n",
      "Mean Absolute Error: 157882.063\n",
      "Mean Squared Error: 51056274207.892\n",
      "Root Mean Squared Error: 225956.355\n",
      "\n",
      "Testing Metrics:\n",
      "R2: 0.714\n",
      "Mean Absolute Error: 160713.089\n",
      "Mean Squared Error: 50763440426.342\n",
      "Root Mean Squared Error: 225307.435\n"
     ]
    }
   ],
   "source": [
    "get_train_test_metrics(y_train, train_preds, y_test, test_preds)"
   ]
  },
  {
   "cell_type": "markdown",
   "metadata": {},
   "source": [
    "### Model 13"
   ]
  },
  {
   "cell_type": "code",
   "execution_count": 113,
   "metadata": {},
   "outputs": [],
   "source": [
    "cols = ['bathrooms', 'floors', 'sqft_living', 'sqft_living15', 'sqft_patio', 'yr_built'] + encoded_bedrooms_bins + encoded_condition + encoded_grade + encoded_view + encoded_zipcode\n",
    "\n",
    "y = y_train\n",
    "x = X_train.filter(cols, axis=1)\n",
    "\n",
    "y2 = y_test\n",
    "x2 = X_test.filter(cols, axis=1)"
   ]
  },
  {
   "cell_type": "code",
   "execution_count": 114,
   "metadata": {},
   "outputs": [
    {
     "name": "stdout",
     "output_type": "stream",
     "text": [
      "training score: 0.7164341381921788\n",
      "    test score: 0.7145472235853253\n"
     ]
    }
   ],
   "source": [
    "X_train_scaled, X_test_scaled, train_preds, test_preds = scale_score(x, y, x2, y2)"
   ]
  },
  {
   "cell_type": "code",
   "execution_count": 115,
   "metadata": {},
   "outputs": [
    {
     "name": "stdout",
     "output_type": "stream",
     "text": [
      "\n",
      "Training Metrics:\n",
      "R2: 0.716\n",
      "Mean Absolute Error: 157782.518\n",
      "Mean Squared Error: 51018178912.210\n",
      "Root Mean Squared Error: 225872.041\n",
      "\n",
      "Testing Metrics:\n",
      "R2: 0.715\n",
      "Mean Absolute Error: 160556.701\n",
      "Mean Squared Error: 50732014296.612\n",
      "Root Mean Squared Error: 225237.684\n"
     ]
    }
   ],
   "source": [
    "get_train_test_metrics(y_train, train_preds, y_test, test_preds)"
   ]
  },
  {
   "cell_type": "markdown",
   "metadata": {},
   "source": [
    "### Model 14"
   ]
  },
  {
   "cell_type": "code",
   "execution_count": 116,
   "metadata": {},
   "outputs": [],
   "source": [
    "cols = ['bathrooms', 'floors', 'sqft_living', 'sqft_living15', 'sqft_patio', 'yr_built', 'yr_renovated'] + encoded_bedrooms_bins + encoded_condition + encoded_grade + encoded_view + encoded_zipcode\n",
    "\n",
    "y = y_train\n",
    "x = X_train.filter(cols, axis=1)\n",
    "\n",
    "y2 = y_test\n",
    "x2 = X_test.filter(cols, axis=1)"
   ]
  },
  {
   "cell_type": "code",
   "execution_count": 117,
   "metadata": {},
   "outputs": [
    {
     "name": "stdout",
     "output_type": "stream",
     "text": [
      "training score: 0.7169560064719889\n",
      "    test score: 0.7155881918540654\n"
     ]
    }
   ],
   "source": [
    "X_train_scaled, X_test_scaled, train_preds, test_preds = scale_score(x, y, x2, y2)"
   ]
  },
  {
   "cell_type": "code",
   "execution_count": 118,
   "metadata": {},
   "outputs": [
    {
     "name": "stdout",
     "output_type": "stream",
     "text": [
      "\n",
      "Training Metrics:\n",
      "R2: 0.717\n",
      "Mean Absolute Error: 157559.018\n",
      "Mean Squared Error: 50924286195.018\n",
      "Root Mean Squared Error: 225664.100\n",
      "\n",
      "Testing Metrics:\n",
      "R2: 0.716\n",
      "Mean Absolute Error: 160188.565\n",
      "Mean Squared Error: 50547008504.217\n",
      "Root Mean Squared Error: 224826.619\n"
     ]
    }
   ],
   "source": [
    "get_train_test_metrics(y_train, train_preds, y_test, test_preds)"
   ]
  },
  {
   "cell_type": "markdown",
   "metadata": {},
   "source": [
    "### Model 15"
   ]
  },
  {
   "cell_type": "code",
   "execution_count": 119,
   "metadata": {},
   "outputs": [],
   "source": [
    "cols = ['bathrooms', 'sqft_living', 'sqft_living15', 'yr_built', 'yr_renovated'] + encoded_bedrooms_bins + encoded_condition + encoded_floors + encoded_view + encoded_zipcode\n",
    "\n",
    "y = y_train\n",
    "x = X_train.filter(cols, axis=1)\n",
    "\n",
    "y2 = y_test\n",
    "x2 = X_test.filter(cols, axis=1)"
   ]
  },
  {
   "cell_type": "code",
   "execution_count": 120,
   "metadata": {},
   "outputs": [
    {
     "name": "stdout",
     "output_type": "stream",
     "text": [
      "training score: 0.7010991936334565\n",
      "    test score: 0.6913406510648726\n"
     ]
    }
   ],
   "source": [
    "X_train_scaled, X_test_scaled, train_preds, test_preds = scale_score(x, y, x2, y2)"
   ]
  },
  {
   "cell_type": "code",
   "execution_count": 121,
   "metadata": {},
   "outputs": [
    {
     "name": "stdout",
     "output_type": "stream",
     "text": [
      "\n",
      "Training Metrics:\n",
      "R2: 0.701\n",
      "Mean Absolute Error: 162206.101\n",
      "Mean Squared Error: 53777188547.989\n",
      "Root Mean Squared Error: 231899.091\n",
      "\n",
      "Testing Metrics:\n",
      "R2: 0.691\n",
      "Mean Absolute Error: 166539.611\n",
      "Mean Squared Error: 54856395862.173\n",
      "Root Mean Squared Error: 234214.423\n"
     ]
    }
   ],
   "source": [
    "get_train_test_metrics(y_train, train_preds, y_test, test_preds)"
   ]
  },
  {
   "cell_type": "markdown",
   "metadata": {},
   "source": [
    "### Model 16"
   ]
  },
  {
   "cell_type": "code",
   "execution_count": 122,
   "metadata": {},
   "outputs": [],
   "source": [
    "cols = ['sqft_living'] + encoded_zipcode\n",
    "\n",
    "y = y_train\n",
    "x = X_train.filter(cols, axis=1)\n",
    "\n",
    "y2 = y_test\n",
    "x2 = X_test.filter(cols, axis=1)"
   ]
  },
  {
   "cell_type": "code",
   "execution_count": 123,
   "metadata": {},
   "outputs": [
    {
     "name": "stdout",
     "output_type": "stream",
     "text": [
      "training score: 0.6812493344805675\n",
      "    test score: 0.6728941372488173\n"
     ]
    }
   ],
   "source": [
    "X_train_scaled, X_test_scaled, train_preds, test_preds = scale_score(x, y, x2, y2)"
   ]
  },
  {
   "cell_type": "code",
   "execution_count": 124,
   "metadata": {},
   "outputs": [
    {
     "name": "stdout",
     "output_type": "stream",
     "text": [
      "\n",
      "Training Metrics:\n",
      "R2: 0.681\n",
      "Mean Absolute Error: 168235.595\n",
      "Mean Squared Error: 57348505839.809\n",
      "Root Mean Squared Error: 239475.481\n",
      "\n",
      "Testing Metrics:\n",
      "R2: 0.673\n",
      "Mean Absolute Error: 172249.670\n",
      "Mean Squared Error: 58134797335.065\n",
      "Root Mean Squared Error: 241111.587\n"
     ]
    }
   ],
   "source": [
    "get_train_test_metrics(y_train, train_preds, y_test, test_preds)"
   ]
  }
 ],
 "metadata": {
  "kernelspec": {
   "display_name": "Python (learn-env)",
   "language": "python",
   "name": "learn-env"
  },
  "language_info": {
   "codemirror_mode": {
    "name": "ipython",
    "version": 3
   },
   "file_extension": ".py",
   "mimetype": "text/x-python",
   "name": "python",
   "nbconvert_exporter": "python",
   "pygments_lexer": "ipython3",
   "version": "3.9.12"
  }
 },
 "nbformat": 4,
 "nbformat_minor": 4
}
