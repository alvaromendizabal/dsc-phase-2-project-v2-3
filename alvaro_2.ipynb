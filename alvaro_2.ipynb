{
 "cells": [
  {
   "cell_type": "code",
   "execution_count": 1,
   "metadata": {},
   "outputs": [],
   "source": [
    "import numpy as np\n",
    "import pandas as pd\n",
    "from scipy import stats\n",
    "\n",
    "import warnings\n",
    "warnings.filterwarnings(action='ignore')\n",
    "\n",
    "import folium\n",
    "KC_coord = (47.4081,-121.9949)\n",
    "Seattle_coord = (47.6062,-122.3321)\n",
    "import matplotlib.pyplot as plt\n",
    "from matplotlib import ticker\n",
    "%matplotlib inline\n",
    "import seaborn as sns\n",
    "plt.style.use('seaborn-notebook')\n",
    "from yellowbrick.regressor import ResidualsPlot\n",
    "\n",
    "import statsmodels.api as sm\n",
    "from statsmodels.api import OLS\n",
    "\n",
    "from sklearn.dummy import DummyRegressor\n",
    "from sklearn.pipeline import make_pipeline\n",
    "from sklearn.compose import ColumnTransformer\n",
    "from sklearn.linear_model import LinearRegression\n",
    "from sklearn.model_selection import train_test_split\n",
    "from sklearn.metrics import r2_score, mean_squared_error, mean_absolute_error\n",
    "from sklearn.preprocessing import PolynomialFeatures, StandardScaler, OrdinalEncoder, OneHotEncoder"
   ]
  },
  {
   "cell_type": "code",
   "execution_count": 2,
   "metadata": {
    "scrolled": false
   },
   "outputs": [
    {
     "data": {
      "text/html": [
       "<div>\n",
       "<style scoped>\n",
       "    .dataframe tbody tr th:only-of-type {\n",
       "        vertical-align: middle;\n",
       "    }\n",
       "\n",
       "    .dataframe tbody tr th {\n",
       "        vertical-align: top;\n",
       "    }\n",
       "\n",
       "    .dataframe thead th {\n",
       "        text-align: right;\n",
       "    }\n",
       "</style>\n",
       "<table border=\"1\" class=\"dataframe\">\n",
       "  <thead>\n",
       "    <tr style=\"text-align: right;\">\n",
       "      <th></th>\n",
       "      <th>id</th>\n",
       "      <th>date</th>\n",
       "      <th>price</th>\n",
       "      <th>bedrooms</th>\n",
       "      <th>bathrooms</th>\n",
       "      <th>sqft_living</th>\n",
       "      <th>sqft_lot</th>\n",
       "      <th>floors</th>\n",
       "      <th>waterfront</th>\n",
       "      <th>greenbelt</th>\n",
       "      <th>...</th>\n",
       "      <th>sewer_system</th>\n",
       "      <th>sqft_above</th>\n",
       "      <th>sqft_basement</th>\n",
       "      <th>sqft_garage</th>\n",
       "      <th>sqft_patio</th>\n",
       "      <th>yr_built</th>\n",
       "      <th>yr_renovated</th>\n",
       "      <th>address</th>\n",
       "      <th>lat</th>\n",
       "      <th>long</th>\n",
       "    </tr>\n",
       "  </thead>\n",
       "  <tbody>\n",
       "    <tr>\n",
       "      <th>0</th>\n",
       "      <td>7399300360</td>\n",
       "      <td>2022-05-24</td>\n",
       "      <td>675000.0</td>\n",
       "      <td>4</td>\n",
       "      <td>1.0</td>\n",
       "      <td>1180</td>\n",
       "      <td>7140</td>\n",
       "      <td>1.0</td>\n",
       "      <td>NO</td>\n",
       "      <td>NO</td>\n",
       "      <td>...</td>\n",
       "      <td>PUBLIC</td>\n",
       "      <td>1180</td>\n",
       "      <td>0</td>\n",
       "      <td>0</td>\n",
       "      <td>40</td>\n",
       "      <td>1969</td>\n",
       "      <td>0</td>\n",
       "      <td>2102 Southeast 21st Court, Renton, Washington ...</td>\n",
       "      <td>47.461975</td>\n",
       "      <td>-122.19052</td>\n",
       "    </tr>\n",
       "    <tr>\n",
       "      <th>1</th>\n",
       "      <td>8910500230</td>\n",
       "      <td>2021-12-13</td>\n",
       "      <td>920000.0</td>\n",
       "      <td>5</td>\n",
       "      <td>2.5</td>\n",
       "      <td>2770</td>\n",
       "      <td>6703</td>\n",
       "      <td>1.0</td>\n",
       "      <td>NO</td>\n",
       "      <td>NO</td>\n",
       "      <td>...</td>\n",
       "      <td>PUBLIC</td>\n",
       "      <td>1570</td>\n",
       "      <td>1570</td>\n",
       "      <td>0</td>\n",
       "      <td>240</td>\n",
       "      <td>1950</td>\n",
       "      <td>0</td>\n",
       "      <td>11231 Greenwood Avenue North, Seattle, Washing...</td>\n",
       "      <td>47.711525</td>\n",
       "      <td>-122.35591</td>\n",
       "    </tr>\n",
       "    <tr>\n",
       "      <th>2</th>\n",
       "      <td>1180000275</td>\n",
       "      <td>2021-09-29</td>\n",
       "      <td>311000.0</td>\n",
       "      <td>6</td>\n",
       "      <td>2.0</td>\n",
       "      <td>2880</td>\n",
       "      <td>6156</td>\n",
       "      <td>1.0</td>\n",
       "      <td>NO</td>\n",
       "      <td>NO</td>\n",
       "      <td>...</td>\n",
       "      <td>PUBLIC</td>\n",
       "      <td>1580</td>\n",
       "      <td>1580</td>\n",
       "      <td>0</td>\n",
       "      <td>0</td>\n",
       "      <td>1956</td>\n",
       "      <td>0</td>\n",
       "      <td>8504 South 113th Street, Seattle, Washington 9...</td>\n",
       "      <td>47.502045</td>\n",
       "      <td>-122.22520</td>\n",
       "    </tr>\n",
       "    <tr>\n",
       "      <th>3</th>\n",
       "      <td>1604601802</td>\n",
       "      <td>2021-12-14</td>\n",
       "      <td>775000.0</td>\n",
       "      <td>3</td>\n",
       "      <td>3.0</td>\n",
       "      <td>2160</td>\n",
       "      <td>1400</td>\n",
       "      <td>2.0</td>\n",
       "      <td>NO</td>\n",
       "      <td>NO</td>\n",
       "      <td>...</td>\n",
       "      <td>PUBLIC</td>\n",
       "      <td>1090</td>\n",
       "      <td>1070</td>\n",
       "      <td>200</td>\n",
       "      <td>270</td>\n",
       "      <td>2010</td>\n",
       "      <td>0</td>\n",
       "      <td>4079 Letitia Avenue South, Seattle, Washington...</td>\n",
       "      <td>47.566110</td>\n",
       "      <td>-122.29020</td>\n",
       "    </tr>\n",
       "    <tr>\n",
       "      <th>4</th>\n",
       "      <td>8562780790</td>\n",
       "      <td>2021-08-24</td>\n",
       "      <td>592500.0</td>\n",
       "      <td>2</td>\n",
       "      <td>2.0</td>\n",
       "      <td>1120</td>\n",
       "      <td>758</td>\n",
       "      <td>2.0</td>\n",
       "      <td>NO</td>\n",
       "      <td>NO</td>\n",
       "      <td>...</td>\n",
       "      <td>PUBLIC</td>\n",
       "      <td>1120</td>\n",
       "      <td>550</td>\n",
       "      <td>550</td>\n",
       "      <td>30</td>\n",
       "      <td>2012</td>\n",
       "      <td>0</td>\n",
       "      <td>2193 Northwest Talus Drive, Issaquah, Washingt...</td>\n",
       "      <td>47.532470</td>\n",
       "      <td>-122.07188</td>\n",
       "    </tr>\n",
       "    <tr>\n",
       "      <th>...</th>\n",
       "      <td>...</td>\n",
       "      <td>...</td>\n",
       "      <td>...</td>\n",
       "      <td>...</td>\n",
       "      <td>...</td>\n",
       "      <td>...</td>\n",
       "      <td>...</td>\n",
       "      <td>...</td>\n",
       "      <td>...</td>\n",
       "      <td>...</td>\n",
       "      <td>...</td>\n",
       "      <td>...</td>\n",
       "      <td>...</td>\n",
       "      <td>...</td>\n",
       "      <td>...</td>\n",
       "      <td>...</td>\n",
       "      <td>...</td>\n",
       "      <td>...</td>\n",
       "      <td>...</td>\n",
       "      <td>...</td>\n",
       "      <td>...</td>\n",
       "    </tr>\n",
       "    <tr>\n",
       "      <th>30150</th>\n",
       "      <td>7834800180</td>\n",
       "      <td>2021-11-30</td>\n",
       "      <td>1555000.0</td>\n",
       "      <td>5</td>\n",
       "      <td>2.0</td>\n",
       "      <td>1910</td>\n",
       "      <td>4000</td>\n",
       "      <td>1.5</td>\n",
       "      <td>NO</td>\n",
       "      <td>NO</td>\n",
       "      <td>...</td>\n",
       "      <td>PUBLIC</td>\n",
       "      <td>1600</td>\n",
       "      <td>1130</td>\n",
       "      <td>0</td>\n",
       "      <td>210</td>\n",
       "      <td>1921</td>\n",
       "      <td>0</td>\n",
       "      <td>4673 Eastern Avenue North, Seattle, Washington...</td>\n",
       "      <td>47.664740</td>\n",
       "      <td>-122.32940</td>\n",
       "    </tr>\n",
       "    <tr>\n",
       "      <th>30151</th>\n",
       "      <td>194000695</td>\n",
       "      <td>2021-06-16</td>\n",
       "      <td>1313000.0</td>\n",
       "      <td>3</td>\n",
       "      <td>2.0</td>\n",
       "      <td>2020</td>\n",
       "      <td>5800</td>\n",
       "      <td>2.0</td>\n",
       "      <td>NO</td>\n",
       "      <td>NO</td>\n",
       "      <td>...</td>\n",
       "      <td>PUBLIC</td>\n",
       "      <td>2020</td>\n",
       "      <td>0</td>\n",
       "      <td>0</td>\n",
       "      <td>520</td>\n",
       "      <td>2011</td>\n",
       "      <td>0</td>\n",
       "      <td>4131 44th Avenue Southwest, Seattle, Washingto...</td>\n",
       "      <td>47.565610</td>\n",
       "      <td>-122.38851</td>\n",
       "    </tr>\n",
       "    <tr>\n",
       "      <th>30152</th>\n",
       "      <td>7960100080</td>\n",
       "      <td>2022-05-27</td>\n",
       "      <td>800000.0</td>\n",
       "      <td>3</td>\n",
       "      <td>2.0</td>\n",
       "      <td>1620</td>\n",
       "      <td>3600</td>\n",
       "      <td>1.0</td>\n",
       "      <td>NO</td>\n",
       "      <td>NO</td>\n",
       "      <td>...</td>\n",
       "      <td>PUBLIC</td>\n",
       "      <td>940</td>\n",
       "      <td>920</td>\n",
       "      <td>240</td>\n",
       "      <td>110</td>\n",
       "      <td>1995</td>\n",
       "      <td>0</td>\n",
       "      <td>910 Martin Luther King Jr Way, Seattle, Washin...</td>\n",
       "      <td>47.610395</td>\n",
       "      <td>-122.29585</td>\n",
       "    </tr>\n",
       "    <tr>\n",
       "      <th>30153</th>\n",
       "      <td>2781280080</td>\n",
       "      <td>2022-02-24</td>\n",
       "      <td>775000.0</td>\n",
       "      <td>3</td>\n",
       "      <td>2.5</td>\n",
       "      <td>2570</td>\n",
       "      <td>2889</td>\n",
       "      <td>2.0</td>\n",
       "      <td>NO</td>\n",
       "      <td>NO</td>\n",
       "      <td>...</td>\n",
       "      <td>PUBLIC</td>\n",
       "      <td>1830</td>\n",
       "      <td>740</td>\n",
       "      <td>480</td>\n",
       "      <td>100</td>\n",
       "      <td>2006</td>\n",
       "      <td>0</td>\n",
       "      <td>17127 114th Avenue Southeast, Renton, Washingt...</td>\n",
       "      <td>47.449490</td>\n",
       "      <td>-122.18908</td>\n",
       "    </tr>\n",
       "    <tr>\n",
       "      <th>30154</th>\n",
       "      <td>9557800100</td>\n",
       "      <td>2022-04-29</td>\n",
       "      <td>500000.0</td>\n",
       "      <td>3</td>\n",
       "      <td>1.5</td>\n",
       "      <td>1200</td>\n",
       "      <td>11058</td>\n",
       "      <td>1.0</td>\n",
       "      <td>NO</td>\n",
       "      <td>NO</td>\n",
       "      <td>...</td>\n",
       "      <td>PUBLIC</td>\n",
       "      <td>1200</td>\n",
       "      <td>0</td>\n",
       "      <td>420</td>\n",
       "      <td>0</td>\n",
       "      <td>1965</td>\n",
       "      <td>0</td>\n",
       "      <td>18615 7th Avenue South, Burien, Washington 981...</td>\n",
       "      <td>47.435840</td>\n",
       "      <td>-122.32634</td>\n",
       "    </tr>\n",
       "  </tbody>\n",
       "</table>\n",
       "<p>30155 rows × 25 columns</p>\n",
       "</div>"
      ],
      "text/plain": [
       "               id       date      price  bedrooms  bathrooms  sqft_living  \\\n",
       "0      7399300360 2022-05-24   675000.0         4        1.0         1180   \n",
       "1      8910500230 2021-12-13   920000.0         5        2.5         2770   \n",
       "2      1180000275 2021-09-29   311000.0         6        2.0         2880   \n",
       "3      1604601802 2021-12-14   775000.0         3        3.0         2160   \n",
       "4      8562780790 2021-08-24   592500.0         2        2.0         1120   \n",
       "...           ...        ...        ...       ...        ...          ...   \n",
       "30150  7834800180 2021-11-30  1555000.0         5        2.0         1910   \n",
       "30151   194000695 2021-06-16  1313000.0         3        2.0         2020   \n",
       "30152  7960100080 2022-05-27   800000.0         3        2.0         1620   \n",
       "30153  2781280080 2022-02-24   775000.0         3        2.5         2570   \n",
       "30154  9557800100 2022-04-29   500000.0         3        1.5         1200   \n",
       "\n",
       "       sqft_lot  floors waterfront greenbelt  ... sewer_system sqft_above  \\\n",
       "0          7140     1.0         NO        NO  ...       PUBLIC       1180   \n",
       "1          6703     1.0         NO        NO  ...       PUBLIC       1570   \n",
       "2          6156     1.0         NO        NO  ...       PUBLIC       1580   \n",
       "3          1400     2.0         NO        NO  ...       PUBLIC       1090   \n",
       "4           758     2.0         NO        NO  ...       PUBLIC       1120   \n",
       "...         ...     ...        ...       ...  ...          ...        ...   \n",
       "30150      4000     1.5         NO        NO  ...       PUBLIC       1600   \n",
       "30151      5800     2.0         NO        NO  ...       PUBLIC       2020   \n",
       "30152      3600     1.0         NO        NO  ...       PUBLIC        940   \n",
       "30153      2889     2.0         NO        NO  ...       PUBLIC       1830   \n",
       "30154     11058     1.0         NO        NO  ...       PUBLIC       1200   \n",
       "\n",
       "      sqft_basement sqft_garage sqft_patio yr_built  yr_renovated  \\\n",
       "0                 0           0         40     1969             0   \n",
       "1              1570           0        240     1950             0   \n",
       "2              1580           0          0     1956             0   \n",
       "3              1070         200        270     2010             0   \n",
       "4               550         550         30     2012             0   \n",
       "...             ...         ...        ...      ...           ...   \n",
       "30150          1130           0        210     1921             0   \n",
       "30151             0           0        520     2011             0   \n",
       "30152           920         240        110     1995             0   \n",
       "30153           740         480        100     2006             0   \n",
       "30154             0         420          0     1965             0   \n",
       "\n",
       "                                                 address        lat       long  \n",
       "0      2102 Southeast 21st Court, Renton, Washington ...  47.461975 -122.19052  \n",
       "1      11231 Greenwood Avenue North, Seattle, Washing...  47.711525 -122.35591  \n",
       "2      8504 South 113th Street, Seattle, Washington 9...  47.502045 -122.22520  \n",
       "3      4079 Letitia Avenue South, Seattle, Washington...  47.566110 -122.29020  \n",
       "4      2193 Northwest Talus Drive, Issaquah, Washingt...  47.532470 -122.07188  \n",
       "...                                                  ...        ...        ...  \n",
       "30150  4673 Eastern Avenue North, Seattle, Washington...  47.664740 -122.32940  \n",
       "30151  4131 44th Avenue Southwest, Seattle, Washingto...  47.565610 -122.38851  \n",
       "30152  910 Martin Luther King Jr Way, Seattle, Washin...  47.610395 -122.29585  \n",
       "30153  17127 114th Avenue Southeast, Renton, Washingt...  47.449490 -122.18908  \n",
       "30154  18615 7th Avenue South, Burien, Washington 981...  47.435840 -122.32634  \n",
       "\n",
       "[30155 rows x 25 columns]"
      ]
     },
     "execution_count": 2,
     "metadata": {},
     "output_type": "execute_result"
    }
   ],
   "source": [
    "# specify parse date to avoid object dtype for dates\n",
    "df = pd.read_csv('./data/kc_house_data_22.csv', parse_dates=['date']) \n",
    "df"
   ]
  },
  {
   "cell_type": "code",
   "execution_count": 3,
   "metadata": {},
   "outputs": [
    {
     "data": {
      "text/plain": [
       "30155"
      ]
     },
     "execution_count": 3,
     "metadata": {},
     "output_type": "execute_result"
    }
   ],
   "source": [
    "len(df)"
   ]
  },
  {
   "cell_type": "code",
   "execution_count": 4,
   "metadata": {},
   "outputs": [
    {
     "name": "stdout",
     "output_type": "stream",
     "text": [
      "<class 'pandas.core.frame.DataFrame'>\n",
      "RangeIndex: 30155 entries, 0 to 30154\n",
      "Data columns (total 25 columns):\n",
      " #   Column         Non-Null Count  Dtype         \n",
      "---  ------         --------------  -----         \n",
      " 0   id             30155 non-null  int64         \n",
      " 1   date           30155 non-null  datetime64[ns]\n",
      " 2   price          30155 non-null  float64       \n",
      " 3   bedrooms       30155 non-null  int64         \n",
      " 4   bathrooms      30155 non-null  float64       \n",
      " 5   sqft_living    30155 non-null  int64         \n",
      " 6   sqft_lot       30155 non-null  int64         \n",
      " 7   floors         30155 non-null  float64       \n",
      " 8   waterfront     30155 non-null  object        \n",
      " 9   greenbelt      30155 non-null  object        \n",
      " 10  nuisance       30155 non-null  object        \n",
      " 11  view           30155 non-null  object        \n",
      " 12  condition      30155 non-null  object        \n",
      " 13  grade          30155 non-null  object        \n",
      " 14  heat_source    30123 non-null  object        \n",
      " 15  sewer_system   30141 non-null  object        \n",
      " 16  sqft_above     30155 non-null  int64         \n",
      " 17  sqft_basement  30155 non-null  int64         \n",
      " 18  sqft_garage    30155 non-null  int64         \n",
      " 19  sqft_patio     30155 non-null  int64         \n",
      " 20  yr_built       30155 non-null  int64         \n",
      " 21  yr_renovated   30155 non-null  int64         \n",
      " 22  address        30155 non-null  object        \n",
      " 23  lat            30155 non-null  float64       \n",
      " 24  long           30155 non-null  float64       \n",
      "dtypes: datetime64[ns](1), float64(5), int64(10), object(9)\n",
      "memory usage: 5.8+ MB\n"
     ]
    }
   ],
   "source": [
    "df.info()"
   ]
  },
  {
   "cell_type": "markdown",
   "metadata": {},
   "source": [
    "# Set Zipcode"
   ]
  },
  {
   "cell_type": "code",
   "execution_count": 5,
   "metadata": {},
   "outputs": [
    {
     "data": {
      "text/plain": [
       "'2193 Northwest Talus Drive, Issaquah, Washington 98027, United States'"
      ]
     },
     "execution_count": 5,
     "metadata": {},
     "output_type": "execute_result"
    }
   ],
   "source": [
    "df['address'][4]"
   ]
  },
  {
   "cell_type": "code",
   "execution_count": 6,
   "metadata": {},
   "outputs": [
    {
     "data": {
      "text/html": [
       "<div>\n",
       "<style scoped>\n",
       "    .dataframe tbody tr th:only-of-type {\n",
       "        vertical-align: middle;\n",
       "    }\n",
       "\n",
       "    .dataframe tbody tr th {\n",
       "        vertical-align: top;\n",
       "    }\n",
       "\n",
       "    .dataframe thead th {\n",
       "        text-align: right;\n",
       "    }\n",
       "</style>\n",
       "<table border=\"1\" class=\"dataframe\">\n",
       "  <thead>\n",
       "    <tr style=\"text-align: right;\">\n",
       "      <th></th>\n",
       "      <th>id</th>\n",
       "      <th>date</th>\n",
       "      <th>price</th>\n",
       "      <th>bedrooms</th>\n",
       "      <th>bathrooms</th>\n",
       "      <th>sqft_living</th>\n",
       "      <th>sqft_lot</th>\n",
       "      <th>floors</th>\n",
       "      <th>waterfront</th>\n",
       "      <th>greenbelt</th>\n",
       "      <th>...</th>\n",
       "      <th>sqft_above</th>\n",
       "      <th>sqft_basement</th>\n",
       "      <th>sqft_garage</th>\n",
       "      <th>sqft_patio</th>\n",
       "      <th>yr_built</th>\n",
       "      <th>yr_renovated</th>\n",
       "      <th>address</th>\n",
       "      <th>lat</th>\n",
       "      <th>long</th>\n",
       "      <th>zipcode</th>\n",
       "    </tr>\n",
       "  </thead>\n",
       "  <tbody>\n",
       "    <tr>\n",
       "      <th>0</th>\n",
       "      <td>7399300360</td>\n",
       "      <td>2022-05-24</td>\n",
       "      <td>675000.0</td>\n",
       "      <td>4</td>\n",
       "      <td>1.0</td>\n",
       "      <td>1180</td>\n",
       "      <td>7140</td>\n",
       "      <td>1.0</td>\n",
       "      <td>NO</td>\n",
       "      <td>NO</td>\n",
       "      <td>...</td>\n",
       "      <td>1180</td>\n",
       "      <td>0</td>\n",
       "      <td>0</td>\n",
       "      <td>40</td>\n",
       "      <td>1969</td>\n",
       "      <td>0</td>\n",
       "      <td>2102 Southeast 21st Court, Renton, Washington ...</td>\n",
       "      <td>47.461975</td>\n",
       "      <td>-122.19052</td>\n",
       "      <td>98055</td>\n",
       "    </tr>\n",
       "    <tr>\n",
       "      <th>1</th>\n",
       "      <td>8910500230</td>\n",
       "      <td>2021-12-13</td>\n",
       "      <td>920000.0</td>\n",
       "      <td>5</td>\n",
       "      <td>2.5</td>\n",
       "      <td>2770</td>\n",
       "      <td>6703</td>\n",
       "      <td>1.0</td>\n",
       "      <td>NO</td>\n",
       "      <td>NO</td>\n",
       "      <td>...</td>\n",
       "      <td>1570</td>\n",
       "      <td>1570</td>\n",
       "      <td>0</td>\n",
       "      <td>240</td>\n",
       "      <td>1950</td>\n",
       "      <td>0</td>\n",
       "      <td>11231 Greenwood Avenue North, Seattle, Washing...</td>\n",
       "      <td>47.711525</td>\n",
       "      <td>-122.35591</td>\n",
       "      <td>98133</td>\n",
       "    </tr>\n",
       "    <tr>\n",
       "      <th>2</th>\n",
       "      <td>1180000275</td>\n",
       "      <td>2021-09-29</td>\n",
       "      <td>311000.0</td>\n",
       "      <td>6</td>\n",
       "      <td>2.0</td>\n",
       "      <td>2880</td>\n",
       "      <td>6156</td>\n",
       "      <td>1.0</td>\n",
       "      <td>NO</td>\n",
       "      <td>NO</td>\n",
       "      <td>...</td>\n",
       "      <td>1580</td>\n",
       "      <td>1580</td>\n",
       "      <td>0</td>\n",
       "      <td>0</td>\n",
       "      <td>1956</td>\n",
       "      <td>0</td>\n",
       "      <td>8504 South 113th Street, Seattle, Washington 9...</td>\n",
       "      <td>47.502045</td>\n",
       "      <td>-122.22520</td>\n",
       "      <td>98178</td>\n",
       "    </tr>\n",
       "    <tr>\n",
       "      <th>3</th>\n",
       "      <td>1604601802</td>\n",
       "      <td>2021-12-14</td>\n",
       "      <td>775000.0</td>\n",
       "      <td>3</td>\n",
       "      <td>3.0</td>\n",
       "      <td>2160</td>\n",
       "      <td>1400</td>\n",
       "      <td>2.0</td>\n",
       "      <td>NO</td>\n",
       "      <td>NO</td>\n",
       "      <td>...</td>\n",
       "      <td>1090</td>\n",
       "      <td>1070</td>\n",
       "      <td>200</td>\n",
       "      <td>270</td>\n",
       "      <td>2010</td>\n",
       "      <td>0</td>\n",
       "      <td>4079 Letitia Avenue South, Seattle, Washington...</td>\n",
       "      <td>47.566110</td>\n",
       "      <td>-122.29020</td>\n",
       "      <td>98118</td>\n",
       "    </tr>\n",
       "    <tr>\n",
       "      <th>4</th>\n",
       "      <td>8562780790</td>\n",
       "      <td>2021-08-24</td>\n",
       "      <td>592500.0</td>\n",
       "      <td>2</td>\n",
       "      <td>2.0</td>\n",
       "      <td>1120</td>\n",
       "      <td>758</td>\n",
       "      <td>2.0</td>\n",
       "      <td>NO</td>\n",
       "      <td>NO</td>\n",
       "      <td>...</td>\n",
       "      <td>1120</td>\n",
       "      <td>550</td>\n",
       "      <td>550</td>\n",
       "      <td>30</td>\n",
       "      <td>2012</td>\n",
       "      <td>0</td>\n",
       "      <td>2193 Northwest Talus Drive, Issaquah, Washingt...</td>\n",
       "      <td>47.532470</td>\n",
       "      <td>-122.07188</td>\n",
       "      <td>98027</td>\n",
       "    </tr>\n",
       "  </tbody>\n",
       "</table>\n",
       "<p>5 rows × 26 columns</p>\n",
       "</div>"
      ],
      "text/plain": [
       "           id       date     price  bedrooms  bathrooms  sqft_living  \\\n",
       "0  7399300360 2022-05-24  675000.0         4        1.0         1180   \n",
       "1  8910500230 2021-12-13  920000.0         5        2.5         2770   \n",
       "2  1180000275 2021-09-29  311000.0         6        2.0         2880   \n",
       "3  1604601802 2021-12-14  775000.0         3        3.0         2160   \n",
       "4  8562780790 2021-08-24  592500.0         2        2.0         1120   \n",
       "\n",
       "   sqft_lot  floors waterfront greenbelt  ... sqft_above sqft_basement  \\\n",
       "0      7140     1.0         NO        NO  ...       1180             0   \n",
       "1      6703     1.0         NO        NO  ...       1570          1570   \n",
       "2      6156     1.0         NO        NO  ...       1580          1580   \n",
       "3      1400     2.0         NO        NO  ...       1090          1070   \n",
       "4       758     2.0         NO        NO  ...       1120           550   \n",
       "\n",
       "  sqft_garage sqft_patio yr_built yr_renovated  \\\n",
       "0           0         40     1969            0   \n",
       "1           0        240     1950            0   \n",
       "2           0          0     1956            0   \n",
       "3         200        270     2010            0   \n",
       "4         550         30     2012            0   \n",
       "\n",
       "                                             address        lat       long  \\\n",
       "0  2102 Southeast 21st Court, Renton, Washington ...  47.461975 -122.19052   \n",
       "1  11231 Greenwood Avenue North, Seattle, Washing...  47.711525 -122.35591   \n",
       "2  8504 South 113th Street, Seattle, Washington 9...  47.502045 -122.22520   \n",
       "3  4079 Letitia Avenue South, Seattle, Washington...  47.566110 -122.29020   \n",
       "4  2193 Northwest Talus Drive, Issaquah, Washingt...  47.532470 -122.07188   \n",
       "\n",
       "   zipcode  \n",
       "0    98055  \n",
       "1    98133  \n",
       "2    98178  \n",
       "3    98118  \n",
       "4    98027  \n",
       "\n",
       "[5 rows x 26 columns]"
      ]
     },
     "execution_count": 6,
     "metadata": {},
     "output_type": "execute_result"
    }
   ],
   "source": [
    "zipcode = []\n",
    "\n",
    "for zips in df['address']:\n",
    "    zipcode.append(int(zips[-20:-15]))\n",
    "    \n",
    "df['zipcode'] = zipcode\n",
    "df.head()"
   ]
  },
  {
   "cell_type": "markdown",
   "metadata": {},
   "source": [
    "# Fill NaNs and Drop Duplicates"
   ]
  },
  {
   "cell_type": "markdown",
   "metadata": {},
   "source": [
    "### Duplicates"
   ]
  },
  {
   "cell_type": "code",
   "execution_count": 7,
   "metadata": {},
   "outputs": [
    {
     "data": {
      "text/plain": [
       "1"
      ]
     },
     "execution_count": 7,
     "metadata": {},
     "output_type": "execute_result"
    }
   ],
   "source": [
    "# Check number of duplicate id's\n",
    "df['id'].duplicated().sum()"
   ]
  },
  {
   "cell_type": "code",
   "execution_count": 8,
   "metadata": {},
   "outputs": [],
   "source": [
    "# Drop duplicates\n",
    "df = df.sort_values('id', ascending = False).drop_duplicates(subset = 'id', keep = 'first')"
   ]
  },
  {
   "cell_type": "code",
   "execution_count": 9,
   "metadata": {
    "scrolled": false
   },
   "outputs": [
    {
     "data": {
      "text/plain": [
       "0"
      ]
     },
     "execution_count": 9,
     "metadata": {},
     "output_type": "execute_result"
    }
   ],
   "source": [
    "# Ensure that there are no longer duplicates\n",
    "df.duplicated().sum()"
   ]
  },
  {
   "cell_type": "markdown",
   "metadata": {},
   "source": [
    "### Heat Source"
   ]
  },
  {
   "cell_type": "code",
   "execution_count": 10,
   "metadata": {},
   "outputs": [
    {
     "data": {
      "text/plain": [
       "id                0\n",
       "date              0\n",
       "price             0\n",
       "bedrooms          0\n",
       "bathrooms         0\n",
       "sqft_living       0\n",
       "sqft_lot          0\n",
       "floors            0\n",
       "waterfront        0\n",
       "greenbelt         0\n",
       "nuisance          0\n",
       "view              0\n",
       "condition         0\n",
       "grade             0\n",
       "heat_source      32\n",
       "sewer_system     14\n",
       "sqft_above        0\n",
       "sqft_basement     0\n",
       "sqft_garage       0\n",
       "sqft_patio        0\n",
       "yr_built          0\n",
       "yr_renovated      0\n",
       "address           0\n",
       "lat               0\n",
       "long              0\n",
       "zipcode           0\n",
       "dtype: int64"
      ]
     },
     "execution_count": 10,
     "metadata": {},
     "output_type": "execute_result"
    }
   ],
   "source": [
    "df.isna().sum()"
   ]
  },
  {
   "cell_type": "code",
   "execution_count": 11,
   "metadata": {
    "scrolled": true
   },
   "outputs": [
    {
     "name": "stdout",
     "output_type": "stream",
     "text": [
      "PUBLIC                25776\n",
      "PRIVATE                4355\n",
      "PRIVATE RESTRICTED        6\n",
      "PUBLIC RESTRICTED         3\n",
      "Name: sewer_system, dtype: int64\n"
     ]
    }
   ],
   "source": [
    "# Check out sewer_system\n",
    "print(df['sewer_system'].value_counts())"
   ]
  },
  {
   "cell_type": "code",
   "execution_count": 12,
   "metadata": {},
   "outputs": [],
   "source": [
    "df['heat_source'].fillna('Gas', inplace=True)"
   ]
  },
  {
   "cell_type": "code",
   "execution_count": 13,
   "metadata": {},
   "outputs": [
    {
     "data": {
      "text/plain": [
       "id                0\n",
       "date              0\n",
       "price             0\n",
       "bedrooms          0\n",
       "bathrooms         0\n",
       "sqft_living       0\n",
       "sqft_lot          0\n",
       "floors            0\n",
       "waterfront        0\n",
       "greenbelt         0\n",
       "nuisance          0\n",
       "view              0\n",
       "condition         0\n",
       "grade             0\n",
       "heat_source       0\n",
       "sewer_system     14\n",
       "sqft_above        0\n",
       "sqft_basement     0\n",
       "sqft_garage       0\n",
       "sqft_patio        0\n",
       "yr_built          0\n",
       "yr_renovated      0\n",
       "address           0\n",
       "lat               0\n",
       "long              0\n",
       "zipcode           0\n",
       "dtype: int64"
      ]
     },
     "execution_count": 13,
     "metadata": {},
     "output_type": "execute_result"
    }
   ],
   "source": [
    "df.isna().sum()"
   ]
  },
  {
   "cell_type": "markdown",
   "metadata": {},
   "source": [
    "### Sewer System"
   ]
  },
  {
   "cell_type": "code",
   "execution_count": 14,
   "metadata": {},
   "outputs": [
    {
     "name": "stdout",
     "output_type": "stream",
     "text": [
      "PUBLIC                25776\n",
      "PRIVATE                4355\n",
      "PRIVATE RESTRICTED        6\n",
      "PUBLIC RESTRICTED         3\n",
      "Name: sewer_system, dtype: int64\n"
     ]
    }
   ],
   "source": [
    "heat_count = print(df['sewer_system'].value_counts())"
   ]
  },
  {
   "cell_type": "code",
   "execution_count": 15,
   "metadata": {},
   "outputs": [],
   "source": [
    "df['sewer_system'].fillna('PUBLIC', inplace=True)"
   ]
  },
  {
   "cell_type": "code",
   "execution_count": 16,
   "metadata": {
    "scrolled": true
   },
   "outputs": [
    {
     "data": {
      "text/plain": [
       "id               0\n",
       "date             0\n",
       "price            0\n",
       "bedrooms         0\n",
       "bathrooms        0\n",
       "sqft_living      0\n",
       "sqft_lot         0\n",
       "floors           0\n",
       "waterfront       0\n",
       "greenbelt        0\n",
       "nuisance         0\n",
       "view             0\n",
       "condition        0\n",
       "grade            0\n",
       "heat_source      0\n",
       "sewer_system     0\n",
       "sqft_above       0\n",
       "sqft_basement    0\n",
       "sqft_garage      0\n",
       "sqft_patio       0\n",
       "yr_built         0\n",
       "yr_renovated     0\n",
       "address          0\n",
       "lat              0\n",
       "long             0\n",
       "zipcode          0\n",
       "dtype: int64"
      ]
     },
     "execution_count": 16,
     "metadata": {},
     "output_type": "execute_result"
    }
   ],
   "source": [
    "df.isna().sum()"
   ]
  },
  {
   "cell_type": "code",
   "execution_count": 17,
   "metadata": {},
   "outputs": [],
   "source": [
    "df.drop(['id', 'date'], axis=1, inplace=True)"
   ]
  },
  {
   "cell_type": "markdown",
   "metadata": {},
   "source": [
    "# Train-Test Split"
   ]
  },
  {
   "cell_type": "code",
   "execution_count": 18,
   "metadata": {},
   "outputs": [],
   "source": [
    "y = df['price']\n",
    "X = df.drop('price', axis=1)\n",
    "X_train, X_test, y_train, y_test = train_test_split(X, y, random_state=42, test_size=.25)"
   ]
  },
  {
   "cell_type": "markdown",
   "metadata": {},
   "source": [
    "# Helper Functions"
   ]
  },
  {
   "cell_type": "markdown",
   "metadata": {},
   "source": [
    "ohe executes 2 transformations, test and train. data for any given input variable: First, we use OneHotEncoder to split up our categorical variables. Second, we run a linear regression on encoded values using .fit(). Then, it takes in a training df ('df'), a test df ('df2') and a column name. Next, it returns the training df and the test df concatenated with newly encoded columns. Lastly, we return a list of these newly encoded column names. "
   ]
  },
  {
   "cell_type": "code",
   "execution_count": 19,
   "metadata": {},
   "outputs": [],
   "source": [
    "def ohe(df, df2, column):\n",
    "    for col in column:\n",
    "        train = df[[col]]\n",
    "        ohe = OneHotEncoder(drop='first', sparse=False, handle_unknown=\"ignore\")\n",
    "        ohe.fit(train)\n",
    "        encoded_train = ohe.transform(train)\n",
    "        col_labels = [f\"{col}_{f}\" for f in ohe.get_feature_names()]\n",
    "        encoded_train = pd.DataFrame(encoded_train, columns=col_labels, index=df.index)\n",
    "        df = pd.concat([df, encoded_train], axis=1)\n",
    "        \n",
    "        test = df2[[col]]\n",
    "        encoded_test = ohe.transform(test)\n",
    "        col_labels = [f\"{col}_{f}\" for f in ohe.get_feature_names()]\n",
    "        encoded_test = pd.DataFrame(encoded_test, columns=col_labels, index=df2.index)\n",
    "        df2 = pd.concat([df2, encoded_test], axis=1)\n",
    "        \n",
    "    return df, df2, encoded_train.columns.tolist()"
   ]
  },
  {
   "cell_type": "markdown",
   "metadata": {},
   "source": [
    "We run a Standard Scaler to scale all the values in the test data and training data so that our models results are in comparable units. Then, we score the scaled data to get the R2 to assess the strength of our model."
   ]
  },
  {
   "cell_type": "code",
   "execution_count": 20,
   "metadata": {},
   "outputs": [],
   "source": [
    "def scale_score(x, y, x2, y2):\n",
    "    scaler = StandardScaler()\n",
    "    scaler.fit(x)\n",
    "    X_train_scaled = scaler.transform(x)\n",
    "    X_test_scaled = scaler.transform(x2)\n",
    "\n",
    "    lr = LinearRegression()\n",
    "    lr.fit(X_train_scaled,y_train)\n",
    "\n",
    "    train_preds = lr.predict(X_train_scaled)\n",
    "    test_preds = lr.predict(X_test_scaled)\n",
    "    \n",
    "    print(f\"\"\"training score: {r2_score(y_train, train_preds)}\n",
    "    test score: {r2_score(y_test, test_preds)}\"\"\")\n",
    "    \n",
    "    return X_train_scaled, X_test_scaled, train_preds, test_preds"
   ]
  },
  {
   "cell_type": "markdown",
   "metadata": {},
   "source": [
    "Uses price and predictions to calculate Mean Absolute Error (MAE), Mean Squared Error (MSE) and Root Mean Squared Error (RSME) for the training and testing data sets. We will compare these values to evaluate model performance."
   ]
  },
  {
   "cell_type": "code",
   "execution_count": 21,
   "metadata": {},
   "outputs": [],
   "source": [
    "def get_train_test_metrics(y_train, train_preds,\n",
    "               y_test, test_preds):\n",
    "    \"\"\"\n",
    "    Prints different training and testing metrics, namely R2, MAE, MSE, RMSE\n",
    "    \"\"\"\n",
    "    print(\"\\nTraining Metrics:\")\n",
    "    print(f\"R2: {r2_score(y_train, train_preds):.3f}\")\n",
    "    print(f\"Mean Absolute Error: {mean_absolute_error(y_train, train_preds):.3f}\")\n",
    "    print(f\"Mean Squared Error: {mean_squared_error(y_train, train_preds):.3f}\")\n",
    "    print(f\"Root Mean Squared Error: {mean_squared_error(y_train, train_preds, squared=False):.3f}\")\n",
    "    \n",
    "    print(\"\\nTesting Metrics:\")\n",
    "    print(f\"R2: {r2_score(y_test, test_preds):.3f}\")\n",
    "    print(f\"Mean Absolute Error: {mean_absolute_error(y_test, test_preds):.3f}\")\n",
    "    print(f\"Mean Squared Error: {mean_squared_error(y_test, test_preds):.3f}\")\n",
    "    print(f\"Root Mean Squared Error: {mean_squared_error(y_test, test_preds, squared=False):.3f}\")"
   ]
  },
  {
   "cell_type": "markdown",
   "metadata": {},
   "source": [
    "# Outliers"
   ]
  },
  {
   "cell_type": "markdown",
   "metadata": {},
   "source": [
    "### Price"
   ]
  },
  {
   "cell_type": "code",
   "execution_count": 22,
   "metadata": {},
   "outputs": [
    {
     "name": "stdout",
     "output_type": "stream",
     "text": [
      "price_min: -330000.0 \n",
      "price_max: 2278000.0\n"
     ]
    }
   ],
   "source": [
    "# calculate 25, 75, iqr, whiskers for 'price'\n",
    "price_q75, price_q25 = np.percentile(df['price'], [75, 25])\n",
    "price_iqr = price_q75 - price_q25\n",
    "price_min = price_q25 - (1.5 * price_iqr)\n",
    "price_max = price_q75 + (1.5 * price_iqr)\n",
    "\n",
    "print(f\"\"\"price_min: {price_min} \n",
    "price_max: {price_max}\"\"\")"
   ]
  },
  {
   "cell_type": "code",
   "execution_count": 23,
   "metadata": {},
   "outputs": [],
   "source": [
    "df = df[df['price'] >= price_min]\n",
    "df = df[df['price'] <= price_max]"
   ]
  },
  {
   "cell_type": "markdown",
   "metadata": {},
   "source": [
    "### Sqft Lot"
   ]
  },
  {
   "cell_type": "code",
   "execution_count": 24,
   "metadata": {},
   "outputs": [
    {
     "name": "stdout",
     "output_type": "stream",
     "text": [
      "sqft_lot_min: -3378.0 \n",
      "sqft_lot_max: 18246.0\n"
     ]
    }
   ],
   "source": [
    "# calculate 25, 75, iqr, whiskers for 'sqft_lot'\n",
    "sqft_lot_q25, sqft_lot_q75 = np.percentile(df['sqft_lot'], [25, 75])\n",
    "sqft_lot_iqr = sqft_lot_q75 - sqft_lot_q25\n",
    "sqft_lot_min = sqft_lot_q25 - (1.5 * sqft_lot_iqr)\n",
    "sqft_lot_max = sqft_lot_q75 + (1.5 * sqft_lot_iqr)\n",
    "\n",
    "\n",
    "print(f\"\"\"sqft_lot_min: {sqft_lot_min} \n",
    "sqft_lot_max: {sqft_lot_max}\"\"\")"
   ]
  },
  {
   "cell_type": "code",
   "execution_count": 25,
   "metadata": {},
   "outputs": [],
   "source": [
    "# set df to include everything within the whiskers except the outliers\n",
    "df = df[df['sqft_lot'] >= sqft_lot_min]\n",
    "df = df[df['sqft_lot'] <= sqft_lot_max]"
   ]
  },
  {
   "cell_type": "markdown",
   "metadata": {},
   "source": [
    "# Categorical Variables"
   ]
  },
  {
   "cell_type": "code",
   "execution_count": 26,
   "metadata": {
    "scrolled": true
   },
   "outputs": [
    {
     "name": "stdout",
     "output_type": "stream",
     "text": [
      "<class 'pandas.core.frame.DataFrame'>\n",
      "Int64Index: 25027 entries, 26110 to 10844\n",
      "Data columns (total 24 columns):\n",
      " #   Column         Non-Null Count  Dtype  \n",
      "---  ------         --------------  -----  \n",
      " 0   price          25027 non-null  float64\n",
      " 1   bedrooms       25027 non-null  int64  \n",
      " 2   bathrooms      25027 non-null  float64\n",
      " 3   sqft_living    25027 non-null  int64  \n",
      " 4   sqft_lot       25027 non-null  int64  \n",
      " 5   floors         25027 non-null  float64\n",
      " 6   waterfront     25027 non-null  object \n",
      " 7   greenbelt      25027 non-null  object \n",
      " 8   nuisance       25027 non-null  object \n",
      " 9   view           25027 non-null  object \n",
      " 10  condition      25027 non-null  object \n",
      " 11  grade          25027 non-null  object \n",
      " 12  heat_source    25027 non-null  object \n",
      " 13  sewer_system   25027 non-null  object \n",
      " 14  sqft_above     25027 non-null  int64  \n",
      " 15  sqft_basement  25027 non-null  int64  \n",
      " 16  sqft_garage    25027 non-null  int64  \n",
      " 17  sqft_patio     25027 non-null  int64  \n",
      " 18  yr_built       25027 non-null  int64  \n",
      " 19  yr_renovated   25027 non-null  int64  \n",
      " 20  address        25027 non-null  object \n",
      " 21  lat            25027 non-null  float64\n",
      " 22  long           25027 non-null  float64\n",
      " 23  zipcode        25027 non-null  int64  \n",
      "dtypes: float64(5), int64(10), object(9)\n",
      "memory usage: 4.8+ MB\n"
     ]
    }
   ],
   "source": [
    "df.info()"
   ]
  },
  {
   "cell_type": "code",
   "execution_count": 27,
   "metadata": {
    "scrolled": true
   },
   "outputs": [
    {
     "name": "stdout",
     "output_type": "stream",
     "text": [
      "<class 'pandas.core.frame.DataFrame'>\n",
      "Int64Index: 25027 entries, 26110 to 10844\n",
      "Data columns (total 24 columns):\n",
      " #   Column         Non-Null Count  Dtype  \n",
      "---  ------         --------------  -----  \n",
      " 0   price          25027 non-null  float64\n",
      " 1   bedrooms       25027 non-null  int64  \n",
      " 2   bathrooms      25027 non-null  float64\n",
      " 3   sqft_living    25027 non-null  int64  \n",
      " 4   sqft_lot       25027 non-null  int64  \n",
      " 5   floors         25027 non-null  float64\n",
      " 6   waterfront     25027 non-null  object \n",
      " 7   greenbelt      25027 non-null  object \n",
      " 8   nuisance       25027 non-null  object \n",
      " 9   view           25027 non-null  object \n",
      " 10  condition      25027 non-null  object \n",
      " 11  grade          25027 non-null  object \n",
      " 12  heat_source    25027 non-null  object \n",
      " 13  sewer_system   25027 non-null  object \n",
      " 14  sqft_above     25027 non-null  int64  \n",
      " 15  sqft_basement  25027 non-null  int64  \n",
      " 16  sqft_garage    25027 non-null  int64  \n",
      " 17  sqft_patio     25027 non-null  int64  \n",
      " 18  yr_built       25027 non-null  int64  \n",
      " 19  yr_renovated   25027 non-null  int64  \n",
      " 20  address        25027 non-null  object \n",
      " 21  lat            25027 non-null  float64\n",
      " 22  long           25027 non-null  float64\n",
      " 23  zipcode        25027 non-null  int64  \n",
      "dtypes: float64(5), int64(10), object(9)\n",
      "memory usage: 4.8+ MB\n"
     ]
    }
   ],
   "source": [
    "df.info()"
   ]
  },
  {
   "cell_type": "markdown",
   "metadata": {},
   "source": [
    "### Bedrooms"
   ]
  },
  {
   "cell_type": "code",
   "execution_count": 28,
   "metadata": {},
   "outputs": [
    {
     "data": {
      "text/plain": [
       "3     11060\n",
       "4      7613\n",
       "2      3604\n",
       "5      2001\n",
       "6       335\n",
       "1       281\n",
       "7        56\n",
       "0        32\n",
       "8        29\n",
       "9        13\n",
       "10        2\n",
       "11        1\n",
       "Name: bedrooms, dtype: int64"
      ]
     },
     "execution_count": 28,
     "metadata": {},
     "output_type": "execute_result"
    }
   ],
   "source": [
    "bed_count = df['bedrooms'].value_counts()\n",
    "bed_count"
   ]
  },
  {
   "cell_type": "code",
   "execution_count": 29,
   "metadata": {},
   "outputs": [],
   "source": [
    "#df = df[df['bedrooms'] != 7]\n",
    "#df = df[df['bedrooms'] != 8]\n",
    "#df = df[df['bedrooms'] != 9]\n",
    "#df = df[df['bedrooms'] != 10]\n",
    "#df = df[df['bedrooms'] != 11]"
   ]
  },
  {
   "cell_type": "markdown",
   "metadata": {},
   "source": [
    "### Condition"
   ]
  },
  {
   "cell_type": "code",
   "execution_count": 30,
   "metadata": {},
   "outputs": [
    {
     "data": {
      "text/plain": [
       "Average      15585\n",
       "Good          6572\n",
       "Very Good     2671\n",
       "Fair           156\n",
       "Poor            43\n",
       "Name: condition, dtype: int64"
      ]
     },
     "execution_count": 30,
     "metadata": {},
     "output_type": "execute_result"
    }
   ],
   "source": [
    "condition_count = df['condition'].value_counts()\n",
    "condition_count"
   ]
  },
  {
   "cell_type": "code",
   "execution_count": 31,
   "metadata": {},
   "outputs": [],
   "source": [
    "X_train, X_test, encoded_condition = ohe(X_train, X_test, ['condition'])"
   ]
  },
  {
   "cell_type": "code",
   "execution_count": 32,
   "metadata": {},
   "outputs": [],
   "source": [
    "X_train['condition'] = X_train['condition'].map({'Very Good': 5, 'Good': 4, 'Average': 3, 'Fair': 2, 'Poor': 1})"
   ]
  },
  {
   "cell_type": "code",
   "execution_count": 33,
   "metadata": {},
   "outputs": [],
   "source": [
    "X_test['condition'] = X_test['condition'].map({'Very Good': 5, 'Good': 4, 'Average': 3, 'Fair': 2, 'Poor': 1})"
   ]
  },
  {
   "cell_type": "markdown",
   "metadata": {},
   "source": [
    "### Floors"
   ]
  },
  {
   "cell_type": "code",
   "execution_count": 34,
   "metadata": {},
   "outputs": [
    {
     "name": "stdout",
     "output_type": "stream",
     "text": [
      "1.0    11895\n",
      "2.0     9771\n",
      "1.5     2055\n",
      "3.0     1134\n",
      "2.5      127\n",
      "4.0       30\n",
      "3.5       15\n",
      "Name: floors, dtype: int64\n"
     ]
    }
   ],
   "source": [
    "floor_count = print(df['floors'].value_counts())"
   ]
  },
  {
   "cell_type": "code",
   "execution_count": 35,
   "metadata": {},
   "outputs": [],
   "source": [
    "X_train, X_test, encoded_floors = ohe(X_train, X_test, ['floors'])"
   ]
  },
  {
   "cell_type": "code",
   "execution_count": 36,
   "metadata": {},
   "outputs": [],
   "source": [
    "#X_train['floors'] = X_train['floors'].map({1.0: 1, 1.5: 1, 2.0: 2, 2.5: 2, 3.0: 3, 3.5: 3, 4.0: 4})"
   ]
  },
  {
   "cell_type": "code",
   "execution_count": 37,
   "metadata": {},
   "outputs": [],
   "source": [
    "#X_test['floors'] = X_test['floors'].map({1.0: 1, 1.5: 1, 2.0: 2, 2.5: 2, 3.0: 3, 3.5: 3, 4.0: 4})"
   ]
  },
  {
   "cell_type": "markdown",
   "metadata": {},
   "source": [
    "### Grade"
   ]
  },
  {
   "cell_type": "code",
   "execution_count": 38,
   "metadata": {},
   "outputs": [
    {
     "name": "stdout",
     "output_type": "stream",
     "text": [
      "7 Average        10684\n",
      "8 Good            8204\n",
      "9 Better          2696\n",
      "6 Low Average     2553\n",
      "10 Very Good       499\n",
      "5 Fair             293\n",
      "11 Excellent        56\n",
      "4 Low               31\n",
      "3 Poor               8\n",
      "12 Luxury            3\n",
      "Name: grade, dtype: int64\n"
     ]
    }
   ],
   "source": [
    "grade_count = print(df['grade'].value_counts())"
   ]
  },
  {
   "cell_type": "code",
   "execution_count": 39,
   "metadata": {},
   "outputs": [],
   "source": [
    "X_train, X_test, encoded_grade = ohe(X_train, X_test, ['grade'])"
   ]
  },
  {
   "cell_type": "code",
   "execution_count": 40,
   "metadata": {},
   "outputs": [],
   "source": [
    "#df = df[df['grade'] != '3 Poor']\n",
    "#df = df[df['grade'] != '2 Substandard']\n",
    "#df = df[df['grade'] != '13 Mansion']\n",
    "#df = df[df['grade'] != '12 Luxury']"
   ]
  },
  {
   "cell_type": "markdown",
   "metadata": {},
   "source": [
    "### Nuisance"
   ]
  },
  {
   "cell_type": "code",
   "execution_count": 41,
   "metadata": {},
   "outputs": [
    {
     "name": "stdout",
     "output_type": "stream",
     "text": [
      "NO     20779\n",
      "YES     4248\n",
      "Name: nuisance, dtype: int64\n"
     ]
    }
   ],
   "source": [
    "nuisance_count = print(df['nuisance'].value_counts())"
   ]
  },
  {
   "cell_type": "code",
   "execution_count": 42,
   "metadata": {},
   "outputs": [],
   "source": [
    "X_train, X_test, encoded_nuisance = ohe(X_train, X_test, ['nuisance'])"
   ]
  },
  {
   "cell_type": "code",
   "execution_count": 43,
   "metadata": {},
   "outputs": [],
   "source": [
    "X_train['nuisance'] = X_train['nuisance'].map({'NO': 0, 'YES': 1})"
   ]
  },
  {
   "cell_type": "code",
   "execution_count": 44,
   "metadata": {},
   "outputs": [],
   "source": [
    "X_test['nuisance'] = X_test['nuisance'].map({'NO': 0, 'YES': 1})"
   ]
  },
  {
   "cell_type": "markdown",
   "metadata": {},
   "source": [
    "### View"
   ]
  },
  {
   "cell_type": "code",
   "execution_count": 45,
   "metadata": {},
   "outputs": [
    {
     "data": {
      "text/plain": [
       "NONE         22808\n",
       "AVERAGE       1364\n",
       "GOOD           501\n",
       "EXCELLENT      192\n",
       "FAIR           162\n",
       "Name: view, dtype: int64"
      ]
     },
     "execution_count": 45,
     "metadata": {},
     "output_type": "execute_result"
    }
   ],
   "source": [
    "view_count = df['view'].value_counts()\n",
    "view_count"
   ]
  },
  {
   "cell_type": "code",
   "execution_count": 46,
   "metadata": {},
   "outputs": [],
   "source": [
    "X_train['view'].fillna('NONE', inplace=True)\n",
    "X_test['view'].fillna('NONE', inplace=True)"
   ]
  },
  {
   "cell_type": "code",
   "execution_count": 47,
   "metadata": {},
   "outputs": [],
   "source": [
    "X_train, X_test, encoded_view = ohe(X_train, X_test, ['view'])"
   ]
  },
  {
   "cell_type": "code",
   "execution_count": 48,
   "metadata": {},
   "outputs": [],
   "source": [
    "X_train['view'] = X_train['view'].map({'EXCELLENT': 5, 'GOOD': 4, 'AVERAGE': 3, 'FAIR': 2, 'NONE': 1})"
   ]
  },
  {
   "cell_type": "code",
   "execution_count": 49,
   "metadata": {},
   "outputs": [],
   "source": [
    "X_test['view'] = X_test['view'].map({'EXCELLENT': 5, 'GOOD': 4, 'AVERAGE': 3, 'FAIR': 2, 'NONE': 1})"
   ]
  },
  {
   "cell_type": "markdown",
   "metadata": {},
   "source": [
    "### Waterfront"
   ]
  },
  {
   "cell_type": "code",
   "execution_count": 50,
   "metadata": {},
   "outputs": [
    {
     "name": "stdout",
     "output_type": "stream",
     "text": [
      "NO     24886\n",
      "YES      141\n",
      "Name: waterfront, dtype: int64\n"
     ]
    }
   ],
   "source": [
    "waterfront_count = print(df['waterfront'].value_counts())"
   ]
  },
  {
   "cell_type": "code",
   "execution_count": 51,
   "metadata": {},
   "outputs": [],
   "source": [
    "X_train, X_test, encoded_waterfront = ohe(X_train, X_test, ['waterfront'])"
   ]
  },
  {
   "cell_type": "code",
   "execution_count": 52,
   "metadata": {},
   "outputs": [],
   "source": [
    "X_train['waterfront'] = X_train['waterfront'].map({'NO': 0, 'YES': 1})"
   ]
  },
  {
   "cell_type": "code",
   "execution_count": 53,
   "metadata": {},
   "outputs": [],
   "source": [
    "X_test['waterfront'] = X_test['waterfront'].map({'NO': 0, 'YES': 1})"
   ]
  },
  {
   "cell_type": "markdown",
   "metadata": {},
   "source": [
    "### Zipcode"
   ]
  },
  {
   "cell_type": "code",
   "execution_count": 54,
   "metadata": {},
   "outputs": [
    {
     "name": "stdout",
     "output_type": "stream",
     "text": [
      "98042    789\n",
      "98103    740\n",
      "98117    734\n",
      "98115    719\n",
      "98038    697\n",
      "        ... \n",
      "85040      1\n",
      "85207      1\n",
      "85210      1\n",
      "85295      1\n",
      "99705      1\n",
      "Name: zipcode, Length: 381, dtype: int64\n"
     ]
    }
   ],
   "source": [
    "zipcode_count = print(df['zipcode'].sort_values().value_counts())"
   ]
  },
  {
   "cell_type": "code",
   "execution_count": 55,
   "metadata": {},
   "outputs": [],
   "source": [
    "X_train, X_test, encoded_zipcode = ohe(X_train, X_test, ['zipcode'])"
   ]
  },
  {
   "cell_type": "markdown",
   "metadata": {},
   "source": [
    "# Mutlitcollinearity"
   ]
  },
  {
   "cell_type": "code",
   "execution_count": 56,
   "metadata": {},
   "outputs": [
    {
     "data": {
      "image/png": "[encoded data removed]",
      "text/plain": [
       "<Figure size 576x396 with 2 Axes>"
      ]
     },
     "metadata": {},
     "output_type": "display_data"
    }
   ],
   "source": [
    "sns.heatmap(df.corr());"
   ]
  },
  {
   "cell_type": "code",
   "execution_count": 57,
   "metadata": {
    "scrolled": true
   },
   "outputs": [
    {
     "data": {
      "text/html": [
       "<div>\n",
       "<style scoped>\n",
       "    .dataframe tbody tr th:only-of-type {\n",
       "        vertical-align: middle;\n",
       "    }\n",
       "\n",
       "    .dataframe tbody tr th {\n",
       "        vertical-align: top;\n",
       "    }\n",
       "\n",
       "    .dataframe thead th {\n",
       "        text-align: right;\n",
       "    }\n",
       "</style>\n",
       "<table border=\"1\" class=\"dataframe\">\n",
       "  <thead>\n",
       "    <tr style=\"text-align: right;\">\n",
       "      <th></th>\n",
       "      <th>price</th>\n",
       "      <th>bedrooms</th>\n",
       "      <th>bathrooms</th>\n",
       "      <th>sqft_living</th>\n",
       "      <th>sqft_lot</th>\n",
       "      <th>floors</th>\n",
       "      <th>sqft_above</th>\n",
       "      <th>sqft_basement</th>\n",
       "      <th>sqft_garage</th>\n",
       "      <th>sqft_patio</th>\n",
       "      <th>yr_built</th>\n",
       "      <th>yr_renovated</th>\n",
       "      <th>lat</th>\n",
       "      <th>long</th>\n",
       "      <th>zipcode</th>\n",
       "    </tr>\n",
       "  </thead>\n",
       "  <tbody>\n",
       "    <tr>\n",
       "      <th>price</th>\n",
       "      <td>1.000000</td>\n",
       "      <td>0.319345</td>\n",
       "      <td>0.425413</td>\n",
       "      <td>0.557284</td>\n",
       "      <td>0.058544</td>\n",
       "      <td>0.182945</td>\n",
       "      <td>0.455312</td>\n",
       "      <td>0.231022</td>\n",
       "      <td>0.198456</td>\n",
       "      <td>0.227199</td>\n",
       "      <td>0.051270</td>\n",
       "      <td>0.064573</td>\n",
       "      <td>0.082277</td>\n",
       "      <td>-0.028288</td>\n",
       "      <td>0.025380</td>\n",
       "    </tr>\n",
       "    <tr>\n",
       "      <th>bedrooms</th>\n",
       "      <td>0.319345</td>\n",
       "      <td>1.000000</td>\n",
       "      <td>0.560719</td>\n",
       "      <td>0.671188</td>\n",
       "      <td>0.209901</td>\n",
       "      <td>0.106436</td>\n",
       "      <td>0.553542</td>\n",
       "      <td>0.212148</td>\n",
       "      <td>0.307552</td>\n",
       "      <td>0.138330</td>\n",
       "      <td>0.122013</td>\n",
       "      <td>0.008187</td>\n",
       "      <td>0.111763</td>\n",
       "      <td>-0.115335</td>\n",
       "      <td>0.112877</td>\n",
       "    </tr>\n",
       "    <tr>\n",
       "      <th>bathrooms</th>\n",
       "      <td>0.425413</td>\n",
       "      <td>0.560719</td>\n",
       "      <td>1.000000</td>\n",
       "      <td>0.721762</td>\n",
       "      <td>-0.011429</td>\n",
       "      <td>0.401463</td>\n",
       "      <td>0.598813</td>\n",
       "      <td>0.200101</td>\n",
       "      <td>0.416721</td>\n",
       "      <td>0.256083</td>\n",
       "      <td>0.460196</td>\n",
       "      <td>0.024421</td>\n",
       "      <td>-0.029819</td>\n",
       "      <td>0.034185</td>\n",
       "      <td>-0.028815</td>\n",
       "    </tr>\n",
       "    <tr>\n",
       "      <th>sqft_living</th>\n",
       "      <td>0.557284</td>\n",
       "      <td>0.671188</td>\n",
       "      <td>0.721762</td>\n",
       "      <td>1.000000</td>\n",
       "      <td>0.204796</td>\n",
       "      <td>0.284234</td>\n",
       "      <td>0.850249</td>\n",
       "      <td>0.272561</td>\n",
       "      <td>0.461276</td>\n",
       "      <td>0.283702</td>\n",
       "      <td>0.290872</td>\n",
       "      <td>0.019010</td>\n",
       "      <td>0.102845</td>\n",
       "      <td>-0.097107</td>\n",
       "      <td>0.096055</td>\n",
       "    </tr>\n",
       "    <tr>\n",
       "      <th>sqft_lot</th>\n",
       "      <td>0.058544</td>\n",
       "      <td>0.209901</td>\n",
       "      <td>-0.011429</td>\n",
       "      <td>0.204796</td>\n",
       "      <td>1.000000</td>\n",
       "      <td>-0.447190</td>\n",
       "      <td>0.165028</td>\n",
       "      <td>0.064947</td>\n",
       "      <td>0.305747</td>\n",
       "      <td>0.132372</td>\n",
       "      <td>-0.199021</td>\n",
       "      <td>0.022022</td>\n",
       "      <td>0.221994</td>\n",
       "      <td>-0.238787</td>\n",
       "      <td>0.230718</td>\n",
       "    </tr>\n",
       "    <tr>\n",
       "      <th>floors</th>\n",
       "      <td>0.182945</td>\n",
       "      <td>0.106436</td>\n",
       "      <td>0.401463</td>\n",
       "      <td>0.284234</td>\n",
       "      <td>-0.447190</td>\n",
       "      <td>1.000000</td>\n",
       "      <td>0.452415</td>\n",
       "      <td>-0.294250</td>\n",
       "      <td>0.091384</td>\n",
       "      <td>0.125596</td>\n",
       "      <td>0.571859</td>\n",
       "      <td>-0.031698</td>\n",
       "      <td>-0.242464</td>\n",
       "      <td>0.253072</td>\n",
       "      <td>-0.238115</td>\n",
       "    </tr>\n",
       "    <tr>\n",
       "      <th>sqft_above</th>\n",
       "      <td>0.455312</td>\n",
       "      <td>0.553542</td>\n",
       "      <td>0.598813</td>\n",
       "      <td>0.850249</td>\n",
       "      <td>0.165028</td>\n",
       "      <td>0.452415</td>\n",
       "      <td>1.000000</td>\n",
       "      <td>-0.186333</td>\n",
       "      <td>0.516661</td>\n",
       "      <td>0.186799</td>\n",
       "      <td>0.405791</td>\n",
       "      <td>-0.007908</td>\n",
       "      <td>0.087617</td>\n",
       "      <td>-0.089152</td>\n",
       "      <td>0.091604</td>\n",
       "    </tr>\n",
       "    <tr>\n",
       "      <th>sqft_basement</th>\n",
       "      <td>0.231022</td>\n",
       "      <td>0.212148</td>\n",
       "      <td>0.200101</td>\n",
       "      <td>0.272561</td>\n",
       "      <td>0.064947</td>\n",
       "      <td>-0.294250</td>\n",
       "      <td>-0.186333</td>\n",
       "      <td>1.000000</td>\n",
       "      <td>-0.025290</td>\n",
       "      <td>0.168377</td>\n",
       "      <td>-0.285549</td>\n",
       "      <td>0.043702</td>\n",
       "      <td>0.063181</td>\n",
       "      <td>-0.046953</td>\n",
       "      <td>0.039229</td>\n",
       "    </tr>\n",
       "    <tr>\n",
       "      <th>sqft_garage</th>\n",
       "      <td>0.198456</td>\n",
       "      <td>0.307552</td>\n",
       "      <td>0.416721</td>\n",
       "      <td>0.461276</td>\n",
       "      <td>0.305747</td>\n",
       "      <td>0.091384</td>\n",
       "      <td>0.516661</td>\n",
       "      <td>-0.025290</td>\n",
       "      <td>1.000000</td>\n",
       "      <td>0.123306</td>\n",
       "      <td>0.450165</td>\n",
       "      <td>-0.114143</td>\n",
       "      <td>0.093052</td>\n",
       "      <td>-0.104572</td>\n",
       "      <td>0.105541</td>\n",
       "    </tr>\n",
       "    <tr>\n",
       "      <th>sqft_patio</th>\n",
       "      <td>0.227199</td>\n",
       "      <td>0.138330</td>\n",
       "      <td>0.256083</td>\n",
       "      <td>0.283702</td>\n",
       "      <td>0.132372</td>\n",
       "      <td>0.125596</td>\n",
       "      <td>0.186799</td>\n",
       "      <td>0.168377</td>\n",
       "      <td>0.123306</td>\n",
       "      <td>1.000000</td>\n",
       "      <td>0.130110</td>\n",
       "      <td>0.045366</td>\n",
       "      <td>-0.055513</td>\n",
       "      <td>0.058897</td>\n",
       "      <td>-0.059319</td>\n",
       "    </tr>\n",
       "    <tr>\n",
       "      <th>yr_built</th>\n",
       "      <td>0.051270</td>\n",
       "      <td>0.122013</td>\n",
       "      <td>0.460196</td>\n",
       "      <td>0.290872</td>\n",
       "      <td>-0.199021</td>\n",
       "      <td>0.571859</td>\n",
       "      <td>0.405791</td>\n",
       "      <td>-0.285549</td>\n",
       "      <td>0.450165</td>\n",
       "      <td>0.130110</td>\n",
       "      <td>1.000000</td>\n",
       "      <td>-0.231082</td>\n",
       "      <td>-0.225427</td>\n",
       "      <td>0.223265</td>\n",
       "      <td>-0.206134</td>\n",
       "    </tr>\n",
       "    <tr>\n",
       "      <th>yr_renovated</th>\n",
       "      <td>0.064573</td>\n",
       "      <td>0.008187</td>\n",
       "      <td>0.024421</td>\n",
       "      <td>0.019010</td>\n",
       "      <td>0.022022</td>\n",
       "      <td>-0.031698</td>\n",
       "      <td>-0.007908</td>\n",
       "      <td>0.043702</td>\n",
       "      <td>-0.114143</td>\n",
       "      <td>0.045366</td>\n",
       "      <td>-0.231082</td>\n",
       "      <td>1.000000</td>\n",
       "      <td>0.037519</td>\n",
       "      <td>-0.035757</td>\n",
       "      <td>0.033034</td>\n",
       "    </tr>\n",
       "    <tr>\n",
       "      <th>lat</th>\n",
       "      <td>0.082277</td>\n",
       "      <td>0.111763</td>\n",
       "      <td>-0.029819</td>\n",
       "      <td>0.102845</td>\n",
       "      <td>0.221994</td>\n",
       "      <td>-0.242464</td>\n",
       "      <td>0.087617</td>\n",
       "      <td>0.063181</td>\n",
       "      <td>0.093052</td>\n",
       "      <td>-0.055513</td>\n",
       "      <td>-0.225427</td>\n",
       "      <td>0.037519</td>\n",
       "      <td>1.000000</td>\n",
       "      <td>-0.756984</td>\n",
       "      <td>0.701271</td>\n",
       "    </tr>\n",
       "    <tr>\n",
       "      <th>long</th>\n",
       "      <td>-0.028288</td>\n",
       "      <td>-0.115335</td>\n",
       "      <td>0.034185</td>\n",
       "      <td>-0.097107</td>\n",
       "      <td>-0.238787</td>\n",
       "      <td>0.253072</td>\n",
       "      <td>-0.089152</td>\n",
       "      <td>-0.046953</td>\n",
       "      <td>-0.104572</td>\n",
       "      <td>0.058897</td>\n",
       "      <td>0.223265</td>\n",
       "      <td>-0.035757</td>\n",
       "      <td>-0.756984</td>\n",
       "      <td>1.000000</td>\n",
       "      <td>-0.977418</td>\n",
       "    </tr>\n",
       "    <tr>\n",
       "      <th>zipcode</th>\n",
       "      <td>0.025380</td>\n",
       "      <td>0.112877</td>\n",
       "      <td>-0.028815</td>\n",
       "      <td>0.096055</td>\n",
       "      <td>0.230718</td>\n",
       "      <td>-0.238115</td>\n",
       "      <td>0.091604</td>\n",
       "      <td>0.039229</td>\n",
       "      <td>0.105541</td>\n",
       "      <td>-0.059319</td>\n",
       "      <td>-0.206134</td>\n",
       "      <td>0.033034</td>\n",
       "      <td>0.701271</td>\n",
       "      <td>-0.977418</td>\n",
       "      <td>1.000000</td>\n",
       "    </tr>\n",
       "  </tbody>\n",
       "</table>\n",
       "</div>"
      ],
      "text/plain": [
       "                  price  bedrooms  bathrooms  sqft_living  sqft_lot    floors  \\\n",
       "price          1.000000  0.319345   0.425413     0.557284  0.058544  0.182945   \n",
       "bedrooms       0.319345  1.000000   0.560719     0.671188  0.209901  0.106436   \n",
       "bathrooms      0.425413  0.560719   1.000000     0.721762 -0.011429  0.401463   \n",
       "sqft_living    0.557284  0.671188   0.721762     1.000000  0.204796  0.284234   \n",
       "sqft_lot       0.058544  0.209901  -0.011429     0.204796  1.000000 -0.447190   \n",
       "floors         0.182945  0.106436   0.401463     0.284234 -0.447190  1.000000   \n",
       "sqft_above     0.455312  0.553542   0.598813     0.850249  0.165028  0.452415   \n",
       "sqft_basement  0.231022  0.212148   0.200101     0.272561  0.064947 -0.294250   \n",
       "sqft_garage    0.198456  0.307552   0.416721     0.461276  0.305747  0.091384   \n",
       "sqft_patio     0.227199  0.138330   0.256083     0.283702  0.132372  0.125596   \n",
       "yr_built       0.051270  0.122013   0.460196     0.290872 -0.199021  0.571859   \n",
       "yr_renovated   0.064573  0.008187   0.024421     0.019010  0.022022 -0.031698   \n",
       "lat            0.082277  0.111763  -0.029819     0.102845  0.221994 -0.242464   \n",
       "long          -0.028288 -0.115335   0.034185    -0.097107 -0.238787  0.253072   \n",
       "zipcode        0.025380  0.112877  -0.028815     0.096055  0.230718 -0.238115   \n",
       "\n",
       "               sqft_above  sqft_basement  sqft_garage  sqft_patio  yr_built  \\\n",
       "price            0.455312       0.231022     0.198456    0.227199  0.051270   \n",
       "bedrooms         0.553542       0.212148     0.307552    0.138330  0.122013   \n",
       "bathrooms        0.598813       0.200101     0.416721    0.256083  0.460196   \n",
       "sqft_living      0.850249       0.272561     0.461276    0.283702  0.290872   \n",
       "sqft_lot         0.165028       0.064947     0.305747    0.132372 -0.199021   \n",
       "floors           0.452415      -0.294250     0.091384    0.125596  0.571859   \n",
       "sqft_above       1.000000      -0.186333     0.516661    0.186799  0.405791   \n",
       "sqft_basement   -0.186333       1.000000    -0.025290    0.168377 -0.285549   \n",
       "sqft_garage      0.516661      -0.025290     1.000000    0.123306  0.450165   \n",
       "sqft_patio       0.186799       0.168377     0.123306    1.000000  0.130110   \n",
       "yr_built         0.405791      -0.285549     0.450165    0.130110  1.000000   \n",
       "yr_renovated    -0.007908       0.043702    -0.114143    0.045366 -0.231082   \n",
       "lat              0.087617       0.063181     0.093052   -0.055513 -0.225427   \n",
       "long            -0.089152      -0.046953    -0.104572    0.058897  0.223265   \n",
       "zipcode          0.091604       0.039229     0.105541   -0.059319 -0.206134   \n",
       "\n",
       "               yr_renovated       lat      long   zipcode  \n",
       "price              0.064573  0.082277 -0.028288  0.025380  \n",
       "bedrooms           0.008187  0.111763 -0.115335  0.112877  \n",
       "bathrooms          0.024421 -0.029819  0.034185 -0.028815  \n",
       "sqft_living        0.019010  0.102845 -0.097107  0.096055  \n",
       "sqft_lot           0.022022  0.221994 -0.238787  0.230718  \n",
       "floors            -0.031698 -0.242464  0.253072 -0.238115  \n",
       "sqft_above        -0.007908  0.087617 -0.089152  0.091604  \n",
       "sqft_basement      0.043702  0.063181 -0.046953  0.039229  \n",
       "sqft_garage       -0.114143  0.093052 -0.104572  0.105541  \n",
       "sqft_patio         0.045366 -0.055513  0.058897 -0.059319  \n",
       "yr_built          -0.231082 -0.225427  0.223265 -0.206134  \n",
       "yr_renovated       1.000000  0.037519 -0.035757  0.033034  \n",
       "lat                0.037519  1.000000 -0.756984  0.701271  \n",
       "long              -0.035757 -0.756984  1.000000 -0.977418  \n",
       "zipcode            0.033034  0.701271 -0.977418  1.000000  "
      ]
     },
     "execution_count": 57,
     "metadata": {},
     "output_type": "execute_result"
    }
   ],
   "source": [
    "df.corr()"
   ]
  },
  {
   "cell_type": "code",
   "execution_count": 58,
   "metadata": {},
   "outputs": [
    {
     "data": {
      "text/plain": [
       "price            1.000000\n",
       "sqft_living      0.557284\n",
       "sqft_above       0.455312\n",
       "bathrooms        0.425413\n",
       "bedrooms         0.319345\n",
       "sqft_basement    0.231022\n",
       "sqft_patio       0.227199\n",
       "sqft_garage      0.198456\n",
       "floors           0.182945\n",
       "lat              0.082277\n",
       "yr_renovated     0.064573\n",
       "sqft_lot         0.058544\n",
       "yr_built         0.051270\n",
       "long             0.028288\n",
       "zipcode          0.025380\n",
       "Name: price, dtype: float64"
      ]
     },
     "execution_count": 58,
     "metadata": {},
     "output_type": "execute_result"
    }
   ],
   "source": [
    "df.corr()['price'].abs().sort_values(ascending=False)"
   ]
  },
  {
   "cell_type": "code",
   "execution_count": 59,
   "metadata": {
    "scrolled": true
   },
   "outputs": [
    {
     "data": {
      "image/png": "[encoded data removed]",
      "text/plain": [
       "<Figure size 1008x648 with 2 Axes>"
      ]
     },
     "metadata": {},
     "output_type": "display_data"
    }
   ],
   "source": [
    "with sns.axes_style(\"darkgrid\"):\n",
    "    fig, ax = plt.subplots(figsize=(14, 9))\n",
    "    \n",
    "    mask = np.triu(np.ones_like(df.corr(), dtype=bool))\n",
    "    ax = sns.heatmap(abs(df.corr()),mask=mask,annot=True)\n",
    "    fig.savefig('images/Corelation_Heatmap_22',bbox_inches=\"tight\");"
   ]
  },
  {
   "cell_type": "code",
   "execution_count": 60,
   "metadata": {},
   "outputs": [],
   "source": [
    "#df.drop(['sqft_above'], axis=1, inplace=True)"
   ]
  },
  {
   "cell_type": "markdown",
   "metadata": {},
   "source": [
    "# Models"
   ]
  },
  {
   "cell_type": "code",
   "execution_count": 61,
   "metadata": {},
   "outputs": [
    {
     "name": "stdout",
     "output_type": "stream",
     "text": [
      "basemodel_dummy_score: 0.0\n",
      "\n",
      "test_dummy_score: -1.0777585264243328e-06\n"
     ]
    }
   ],
   "source": [
    "dummy = DummyRegressor()\n",
    "dummy.fit(X_train, y_train)\n",
    "basemodel_dummy_score = dummy.score(X_train, y_train)\n",
    "test_dummy_score = dummy.score(X_test, y_test)\n",
    "\n",
    "print(f\"\"\"basemodel_dummy_score: {basemodel_dummy_score}\n",
    "\n",
    "test_dummy_score: {test_dummy_score}\"\"\")"
   ]
  },
  {
   "cell_type": "markdown",
   "metadata": {},
   "source": [
    "### Model 1"
   ]
  },
  {
   "cell_type": "code",
   "execution_count": 62,
   "metadata": {},
   "outputs": [],
   "source": [
    "cols = ['sqft_living']\n",
    "\n",
    "y = y_train\n",
    "x = X_train.filter(cols, axis=1)\n",
    "\n",
    "y2 = y_test\n",
    "x2 = X_test.filter(cols, axis=1)"
   ]
  },
  {
   "cell_type": "code",
   "execution_count": 63,
   "metadata": {},
   "outputs": [
    {
     "name": "stdout",
     "output_type": "stream",
     "text": [
      "training score: 0.3691129698911009\n",
      "    test score: 0.3736435021360339\n"
     ]
    }
   ],
   "source": [
    "X_train_scaled, X_test_scaled, train_preds, test_preds = scale_score(x, y, x2, y2)"
   ]
  },
  {
   "cell_type": "code",
   "execution_count": 64,
   "metadata": {
    "scrolled": true
   },
   "outputs": [
    {
     "name": "stdout",
     "output_type": "stream",
     "text": [
      "\n",
      "Training Metrics:\n",
      "R2: 0.369\n",
      "Mean Absolute Error: 396450.899\n",
      "Mean Squared Error: 505092262603.181\n",
      "Root Mean Squared Error: 710698.433\n",
      "\n",
      "Testing Metrics:\n",
      "R2: 0.374\n",
      "Mean Absolute Error: 396331.088\n",
      "Mean Squared Error: 508546968888.510\n",
      "Root Mean Squared Error: 713124.792\n"
     ]
    }
   ],
   "source": [
    "get_train_test_metrics(y_train, train_preds, y_test, test_preds)"
   ]
  },
  {
   "cell_type": "markdown",
   "metadata": {},
   "source": [
    "### Model 2"
   ]
  },
  {
   "cell_type": "code",
   "execution_count": 65,
   "metadata": {},
   "outputs": [],
   "source": [
    "cols = encoded_zipcode\n",
    "\n",
    "y = y_train\n",
    "x = X_train.filter(cols, axis=1)\n",
    "\n",
    "y2 = y_test\n",
    "x2 = X_test.filter(cols, axis=1)"
   ]
  },
  {
   "cell_type": "code",
   "execution_count": 66,
   "metadata": {
    "scrolled": true
   },
   "outputs": [
    {
     "name": "stdout",
     "output_type": "stream",
     "text": [
      "training score: 0.3883254446533785\n",
      "    test score: 0.35395017258311456\n"
     ]
    }
   ],
   "source": [
    "X_train_scaled, X_test_scaled, train_preds, test_preds = scale_score(x, y, x2, y2)"
   ]
  },
  {
   "cell_type": "code",
   "execution_count": 67,
   "metadata": {},
   "outputs": [
    {
     "name": "stdout",
     "output_type": "stream",
     "text": [
      "\n",
      "Training Metrics:\n",
      "R2: 0.388\n",
      "Mean Absolute Error: 360124.872\n",
      "Mean Squared Error: 489710630258.939\n",
      "Root Mean Squared Error: 699793.277\n",
      "\n",
      "Testing Metrics:\n",
      "R2: 0.354\n",
      "Mean Absolute Error: 370104.965\n",
      "Mean Squared Error: 524536238714.262\n",
      "Root Mean Squared Error: 724248.741\n"
     ]
    }
   ],
   "source": [
    "get_train_test_metrics(y_train, train_preds, y_test, test_preds)"
   ]
  },
  {
   "cell_type": "markdown",
   "metadata": {},
   "source": [
    "### Model 3"
   ]
  },
  {
   "cell_type": "code",
   "execution_count": 68,
   "metadata": {},
   "outputs": [],
   "source": [
    "cols = encoded_grade\n",
    "\n",
    "y = y_train\n",
    "x = X_train.filter(cols, axis=1)\n",
    "\n",
    "y2 = y_test\n",
    "x2 = X_test.filter(cols, axis=1)"
   ]
  },
  {
   "cell_type": "code",
   "execution_count": 69,
   "metadata": {},
   "outputs": [
    {
     "name": "stdout",
     "output_type": "stream",
     "text": [
      "training score: 0.40994533984545645\n",
      "    test score: 0.40633859834151675\n"
     ]
    }
   ],
   "source": [
    "X_train_scaled, X_test_scaled, train_preds, test_preds = scale_score(x, y, x2, y2)"
   ]
  },
  {
   "cell_type": "code",
   "execution_count": 70,
   "metadata": {},
   "outputs": [
    {
     "name": "stdout",
     "output_type": "stream",
     "text": [
      "\n",
      "Training Metrics:\n",
      "R2: 0.410\n",
      "Mean Absolute Error: 387734.085\n",
      "Mean Squared Error: 472401601449.256\n",
      "Root Mean Squared Error: 687314.776\n",
      "\n",
      "Testing Metrics:\n",
      "R2: 0.406\n",
      "Mean Absolute Error: 383132.718\n",
      "Mean Squared Error: 482001395992.693\n",
      "Root Mean Squared Error: 694263.204\n"
     ]
    }
   ],
   "source": [
    "get_train_test_metrics(y_train, train_preds, y_test, test_preds)"
   ]
  },
  {
   "cell_type": "markdown",
   "metadata": {},
   "source": [
    "### Model 4"
   ]
  },
  {
   "cell_type": "code",
   "execution_count": 71,
   "metadata": {},
   "outputs": [],
   "source": [
    "cols = encoded_view\n",
    "\n",
    "y = y_train\n",
    "x = X_train.filter(cols, axis=1)\n",
    "\n",
    "y2 = y_test\n",
    "x2 = X_test.filter(cols, axis=1)"
   ]
  },
  {
   "cell_type": "code",
   "execution_count": 72,
   "metadata": {},
   "outputs": [
    {
     "name": "stdout",
     "output_type": "stream",
     "text": [
      "training score: 0.11253601058078844\n",
      "    test score: 0.13084725600605351\n"
     ]
    }
   ],
   "source": [
    "X_train_scaled, X_test_scaled, train_preds, test_preds = scale_score(x, y, x2, y2)"
   ]
  },
  {
   "cell_type": "code",
   "execution_count": 73,
   "metadata": {},
   "outputs": [
    {
     "name": "stdout",
     "output_type": "stream",
     "text": [
      "\n",
      "Training Metrics:\n",
      "R2: 0.113\n",
      "Mean Absolute Error: 502001.561\n",
      "Mean Squared Error: 710509446227.197\n",
      "Root Mean Squared Error: 842917.224\n",
      "\n",
      "Testing Metrics:\n",
      "R2: 0.131\n",
      "Mean Absolute Error: 492647.915\n",
      "Mean Squared Error: 705676391905.570\n",
      "Root Mean Squared Error: 840045.470\n"
     ]
    }
   ],
   "source": [
    "get_train_test_metrics(y_train, train_preds, y_test, test_preds)"
   ]
  },
  {
   "cell_type": "markdown",
   "metadata": {},
   "source": [
    "### Model 5"
   ]
  },
  {
   "cell_type": "code",
   "execution_count": 74,
   "metadata": {},
   "outputs": [],
   "source": [
    "cols = encoded_waterfront\n",
    "\n",
    "y = y_train\n",
    "x = X_train.filter(cols, axis=1)\n",
    "\n",
    "y2 = y_test\n",
    "x2 = X_test.filter(cols, axis=1)"
   ]
  },
  {
   "cell_type": "code",
   "execution_count": 75,
   "metadata": {},
   "outputs": [
    {
     "name": "stdout",
     "output_type": "stream",
     "text": [
      "training score: 0.050894181214294454\n",
      "    test score: 0.06259927381174424\n"
     ]
    }
   ],
   "source": [
    "X_train_scaled, X_test_scaled, train_preds, test_preds = scale_score(x, y, x2, y2)"
   ]
  },
  {
   "cell_type": "code",
   "execution_count": 76,
   "metadata": {},
   "outputs": [
    {
     "name": "stdout",
     "output_type": "stream",
     "text": [
      "\n",
      "Training Metrics:\n",
      "R2: 0.051\n",
      "Mean Absolute Error: 526886.842\n",
      "Mean Squared Error: 759860296030.445\n",
      "Root Mean Squared Error: 871699.659\n",
      "\n",
      "Testing Metrics:\n",
      "R2: 0.063\n",
      "Mean Absolute Error: 517532.650\n",
      "Mean Squared Error: 761087814308.042\n",
      "Root Mean Squared Error: 872403.470\n"
     ]
    }
   ],
   "source": [
    "get_train_test_metrics(y_train, train_preds, y_test, test_preds)"
   ]
  },
  {
   "cell_type": "markdown",
   "metadata": {},
   "source": [
    "### Model 6"
   ]
  },
  {
   "cell_type": "code",
   "execution_count": 77,
   "metadata": {},
   "outputs": [],
   "source": [
    "cols = encoded_grade + encoded_zipcode\n",
    "\n",
    "y = y_train\n",
    "x = X_train.filter(cols, axis=1)\n",
    "\n",
    "y2 = y_test\n",
    "x2 = X_test.filter(cols, axis=1)"
   ]
  },
  {
   "cell_type": "code",
   "execution_count": 78,
   "metadata": {},
   "outputs": [
    {
     "name": "stdout",
     "output_type": "stream",
     "text": [
      "training score: 0.58968027440473\n",
      "    test score: 0.5696729811939745\n"
     ]
    }
   ],
   "source": [
    "X_train_scaled, X_test_scaled, train_preds, test_preds = scale_score(x, y, x2, y2)"
   ]
  },
  {
   "cell_type": "code",
   "execution_count": 79,
   "metadata": {
    "scrolled": false
   },
   "outputs": [
    {
     "name": "stdout",
     "output_type": "stream",
     "text": [
      "\n",
      "Training Metrics:\n",
      "R2: 0.590\n",
      "Mean Absolute Error: 283444.933\n",
      "Mean Squared Error: 328504642987.917\n",
      "Root Mean Squared Error: 573153.246\n",
      "\n",
      "Testing Metrics:\n",
      "R2: 0.570\n",
      "Mean Absolute Error: 288427.745\n",
      "Mean Squared Error: 349388090952.897\n",
      "Root Mean Squared Error: 591090.595\n"
     ]
    }
   ],
   "source": [
    "get_train_test_metrics(y_train, train_preds, y_test, test_preds)"
   ]
  },
  {
   "cell_type": "markdown",
   "metadata": {},
   "source": [
    "### Model 7"
   ]
  },
  {
   "cell_type": "code",
   "execution_count": 80,
   "metadata": {},
   "outputs": [],
   "source": [
    "cols = encoded_grade + encoded_view + encoded_zipcode\n",
    "\n",
    "y = y_train\n",
    "x = X_train.filter(cols, axis=1)\n",
    "\n",
    "y2 = y_test\n",
    "x2 = X_test.filter(cols, axis=1)"
   ]
  },
  {
   "cell_type": "code",
   "execution_count": 81,
   "metadata": {},
   "outputs": [
    {
     "name": "stdout",
     "output_type": "stream",
     "text": [
      "training score: 0.6260577022688594\n",
      "    test score: 0.6098325191409901\n"
     ]
    }
   ],
   "source": [
    "X_train_scaled, X_test_scaled, train_preds, test_preds = scale_score(x, y, x2, y2)"
   ]
  },
  {
   "cell_type": "code",
   "execution_count": 82,
   "metadata": {
    "scrolled": true
   },
   "outputs": [
    {
     "name": "stdout",
     "output_type": "stream",
     "text": [
      "\n",
      "Training Metrics:\n",
      "R2: 0.626\n",
      "Mean Absolute Error: 275894.538\n",
      "Mean Squared Error: 299380637467.617\n",
      "Root Mean Squared Error: 547156.867\n",
      "\n",
      "Testing Metrics:\n",
      "R2: 0.610\n",
      "Mean Absolute Error: 281490.561\n",
      "Mean Squared Error: 316782040940.539\n",
      "Root Mean Squared Error: 562833.937\n"
     ]
    }
   ],
   "source": [
    "get_train_test_metrics(y_train, train_preds, y_test, test_preds)"
   ]
  },
  {
   "cell_type": "markdown",
   "metadata": {},
   "source": [
    "### Model 8"
   ]
  },
  {
   "cell_type": "code",
   "execution_count": 83,
   "metadata": {},
   "outputs": [],
   "source": [
    "cols = ['sqft_living'] + encoded_grade + encoded_zipcode\n",
    "\n",
    "y = y_train\n",
    "x = X_train.filter(cols, axis=1)\n",
    "\n",
    "y2 = y_test\n",
    "x2 = X_test.filter(cols, axis=1)"
   ]
  },
  {
   "cell_type": "code",
   "execution_count": 84,
   "metadata": {},
   "outputs": [
    {
     "name": "stdout",
     "output_type": "stream",
     "text": [
      "training score: 0.6340692139650601\n",
      "    test score: 0.6262915138458002\n"
     ]
    }
   ],
   "source": [
    "X_train_scaled, X_test_scaled, train_preds, test_preds = scale_score(x, y, x2, y2)"
   ]
  },
  {
   "cell_type": "code",
   "execution_count": 85,
   "metadata": {},
   "outputs": [
    {
     "name": "stdout",
     "output_type": "stream",
     "text": [
      "\n",
      "Training Metrics:\n",
      "R2: 0.634\n",
      "Mean Absolute Error: 253236.713\n",
      "Mean Squared Error: 292966569058.559\n",
      "Root Mean Squared Error: 541263.863\n",
      "\n",
      "Testing Metrics:\n",
      "R2: 0.626\n",
      "Mean Absolute Error: 256478.358\n",
      "Mean Squared Error: 303418769550.160\n",
      "Root Mean Squared Error: 550834.612\n"
     ]
    }
   ],
   "source": [
    "get_train_test_metrics(y_train, train_preds, y_test, test_preds)"
   ]
  },
  {
   "cell_type": "markdown",
   "metadata": {},
   "source": [
    "### Model 9"
   ]
  },
  {
   "cell_type": "code",
   "execution_count": 86,
   "metadata": {},
   "outputs": [],
   "source": [
    "cols = ['sqft_living'] + encoded_grade + encoded_view + encoded_zipcode\n",
    "\n",
    "y = y_train\n",
    "x = X_train.filter(cols, axis=1)\n",
    "\n",
    "y2 = y_test\n",
    "x2 = X_test.filter(cols, axis=1)"
   ]
  },
  {
   "cell_type": "code",
   "execution_count": 87,
   "metadata": {},
   "outputs": [
    {
     "name": "stdout",
     "output_type": "stream",
     "text": [
      "training score: 0.6636790843219613\n",
      "    test score: 0.6574085907343786\n"
     ]
    }
   ],
   "source": [
    "X_train_scaled, X_test_scaled, train_preds, test_preds = scale_score(x, y, x2, y2)"
   ]
  },
  {
   "cell_type": "code",
   "execution_count": 88,
   "metadata": {},
   "outputs": [
    {
     "name": "stdout",
     "output_type": "stream",
     "text": [
      "\n",
      "Training Metrics:\n",
      "R2: 0.664\n",
      "Mean Absolute Error: 247264.664\n",
      "Mean Squared Error: 269260714127.015\n",
      "Root Mean Squared Error: 518903.376\n",
      "\n",
      "Testing Metrics:\n",
      "R2: 0.657\n",
      "Mean Absolute Error: 250829.965\n",
      "Mean Squared Error: 278154411015.807\n",
      "Root Mean Squared Error: 527403.461\n"
     ]
    }
   ],
   "source": [
    "get_train_test_metrics(y_train, train_preds, y_test, test_preds)"
   ]
  },
  {
   "cell_type": "markdown",
   "metadata": {},
   "source": [
    "### Model 10"
   ]
  },
  {
   "cell_type": "code",
   "execution_count": 89,
   "metadata": {},
   "outputs": [],
   "source": [
    "cols = ['sqft_living'] + encoded_grade + encoded_view + encoded_waterfront + encoded_zipcode\n",
    "\n",
    "y = y_train\n",
    "x = X_train.filter(cols, axis=1)\n",
    "\n",
    "y2 = y_test\n",
    "x2 = X_test.filter(cols, axis=1)"
   ]
  },
  {
   "cell_type": "code",
   "execution_count": 90,
   "metadata": {},
   "outputs": [
    {
     "name": "stdout",
     "output_type": "stream",
     "text": [
      "training score: 0.6708804526325762\n",
      "    test score: 0.667819806639412\n"
     ]
    }
   ],
   "source": [
    "X_train_scaled, X_test_scaled, train_preds, test_preds = scale_score(x, y, x2, y2)"
   ]
  },
  {
   "cell_type": "code",
   "execution_count": 91,
   "metadata": {
    "scrolled": true
   },
   "outputs": [
    {
     "name": "stdout",
     "output_type": "stream",
     "text": [
      "\n",
      "Training Metrics:\n",
      "R2: 0.671\n",
      "Mean Absolute Error: 248299.567\n",
      "Mean Squared Error: 263495251785.494\n",
      "Root Mean Squared Error: 513317.886\n",
      "\n",
      "Testing Metrics:\n",
      "R2: 0.668\n",
      "Mean Absolute Error: 250564.100\n",
      "Mean Squared Error: 269701409715.422\n",
      "Root Mean Squared Error: 519327.844\n"
     ]
    }
   ],
   "source": [
    "get_train_test_metrics(y_train, train_preds, y_test, test_preds)"
   ]
  },
  {
   "cell_type": "code",
   "execution_count": 92,
   "metadata": {},
   "outputs": [
    {
     "data": {
      "text/html": [
       "<table class=\"simpletable\">\n",
       "<caption>OLS Regression Results</caption>\n",
       "<tr>\n",
       "  <th>Dep. Variable:</th>          <td>price</td>      <th>  R-squared:         </th>  <td>   0.411</td>  \n",
       "</tr>\n",
       "<tr>\n",
       "  <th>Model:</th>                   <td>OLS</td>       <th>  Adj. R-squared:    </th>  <td>   0.411</td>  \n",
       "</tr>\n",
       "<tr>\n",
       "  <th>Method:</th>             <td>Least Squares</td>  <th>  F-statistic:       </th>  <td>   5267.</td>  \n",
       "</tr>\n",
       "<tr>\n",
       "  <th>Date:</th>             <td>Tue, 02 Aug 2022</td> <th>  Prob (F-statistic):</th>   <td>  0.00</td>   \n",
       "</tr>\n",
       "<tr>\n",
       "  <th>Time:</th>                 <td>14:12:55</td>     <th>  Log-Likelihood:    </th> <td>-3.3602e+05</td>\n",
       "</tr>\n",
       "<tr>\n",
       "  <th>No. Observations:</th>      <td> 22615</td>      <th>  AIC:               </th>  <td>6.720e+05</td> \n",
       "</tr>\n",
       "<tr>\n",
       "  <th>Df Residuals:</th>          <td> 22611</td>      <th>  BIC:               </th>  <td>6.721e+05</td> \n",
       "</tr>\n",
       "<tr>\n",
       "  <th>Df Model:</th>              <td>     3</td>      <th>                     </th>      <td> </td>     \n",
       "</tr>\n",
       "<tr>\n",
       "  <th>Covariance Type:</th>      <td>nonrobust</td>    <th>                     </th>      <td> </td>     \n",
       "</tr>\n",
       "</table>\n",
       "<table class=\"simpletable\">\n",
       "<tr>\n",
       "       <td></td>          <th>coef</th>     <th>std err</th>      <th>t</th>      <th>P>|t|</th>  <th>[0.025</th>    <th>0.975]</th>  \n",
       "</tr>\n",
       "<tr>\n",
       "  <th>const</th>       <td>-1.741e+05</td> <td> 1.21e+04</td> <td>  -14.356</td> <td> 0.000</td> <td>-1.98e+05</td> <td> -1.5e+05</td>\n",
       "</tr>\n",
       "<tr>\n",
       "  <th>sqft_living</th> <td>  523.8455</td> <td>    4.839</td> <td>  108.245</td> <td> 0.000</td> <td>  514.360</td> <td>  533.331</td>\n",
       "</tr>\n",
       "<tr>\n",
       "  <th>view</th>        <td> 1.251e+05</td> <td> 6063.804</td> <td>   20.626</td> <td> 0.000</td> <td> 1.13e+05</td> <td> 1.37e+05</td>\n",
       "</tr>\n",
       "<tr>\n",
       "  <th>waterfront</th>  <td>   8.6e+05</td> <td> 3.86e+04</td> <td>   22.294</td> <td> 0.000</td> <td> 7.84e+05</td> <td> 9.36e+05</td>\n",
       "</tr>\n",
       "</table>\n",
       "<table class=\"simpletable\">\n",
       "<tr>\n",
       "  <th>Omnibus:</th>       <td>32223.693</td> <th>  Durbin-Watson:     </th>   <td>   2.001</td>  \n",
       "</tr>\n",
       "<tr>\n",
       "  <th>Prob(Omnibus):</th>  <td> 0.000</td>   <th>  Jarque-Bera (JB):  </th> <td>40261216.741</td>\n",
       "</tr>\n",
       "<tr>\n",
       "  <th>Skew:</th>           <td> 7.938</td>   <th>  Prob(JB):          </th>   <td>    0.00</td>  \n",
       "</tr>\n",
       "<tr>\n",
       "  <th>Kurtosis:</th>       <td>209.094</td>  <th>  Cond. No.          </th>   <td>1.97e+04</td>  \n",
       "</tr>\n",
       "</table><br/><br/>Notes:<br/>[1] Standard Errors assume that the covariance matrix of the errors is correctly specified.<br/>[2] The condition number is large, 1.97e+04. This might indicate that there are<br/>strong multicollinearity or other numerical problems."
      ],
      "text/plain": [
       "<class 'statsmodels.iolib.summary.Summary'>\n",
       "\"\"\"\n",
       "                            OLS Regression Results                            \n",
       "==============================================================================\n",
       "Dep. Variable:                  price   R-squared:                       0.411\n",
       "Model:                            OLS   Adj. R-squared:                  0.411\n",
       "Method:                 Least Squares   F-statistic:                     5267.\n",
       "Date:                Tue, 02 Aug 2022   Prob (F-statistic):               0.00\n",
       "Time:                        14:12:55   Log-Likelihood:            -3.3602e+05\n",
       "No. Observations:               22615   AIC:                         6.720e+05\n",
       "Df Residuals:                   22611   BIC:                         6.721e+05\n",
       "Df Model:                           3                                         \n",
       "Covariance Type:            nonrobust                                         \n",
       "===============================================================================\n",
       "                  coef    std err          t      P>|t|      [0.025      0.975]\n",
       "-------------------------------------------------------------------------------\n",
       "const       -1.741e+05   1.21e+04    -14.356      0.000   -1.98e+05    -1.5e+05\n",
       "sqft_living   523.8455      4.839    108.245      0.000     514.360     533.331\n",
       "view         1.251e+05   6063.804     20.626      0.000    1.13e+05    1.37e+05\n",
       "waterfront     8.6e+05   3.86e+04     22.294      0.000    7.84e+05    9.36e+05\n",
       "==============================================================================\n",
       "Omnibus:                    32223.693   Durbin-Watson:                   2.001\n",
       "Prob(Omnibus):                  0.000   Jarque-Bera (JB):         40261216.741\n",
       "Skew:                           7.938   Prob(JB):                         0.00\n",
       "Kurtosis:                     209.094   Cond. No.                     1.97e+04\n",
       "==============================================================================\n",
       "\n",
       "Notes:\n",
       "[1] Standard Errors assume that the covariance matrix of the errors is correctly specified.\n",
       "[2] The condition number is large, 1.97e+04. This might indicate that there are\n",
       "strong multicollinearity or other numerical problems.\n",
       "\"\"\""
      ]
     },
     "execution_count": 92,
     "metadata": {},
     "output_type": "execute_result"
    }
   ],
   "source": [
    "kcols = sm.OLS(y_train, sm.add_constant(X_train[['sqft_living', 'view', 'waterfront']])).fit()\n",
    "kcols.summary()"
   ]
  },
  {
   "cell_type": "markdown",
   "metadata": {},
   "source": [
    "### Model 11"
   ]
  },
  {
   "cell_type": "code",
   "execution_count": 93,
   "metadata": {},
   "outputs": [],
   "source": [
    "cols = ['bathrooms', 'bedrooms', 'floors', 'sqft_living', 'yr_built'] + encoded_zipcode + encoded_grade + encoded_view + encoded_waterfront\n",
    "\n",
    "y = y_train\n",
    "x = X_train.filter(cols, axis=1)\n",
    "\n",
    "y2 = y_test\n",
    "x2 = X_test.filter(cols, axis=1)"
   ]
  },
  {
   "cell_type": "code",
   "execution_count": 94,
   "metadata": {},
   "outputs": [
    {
     "name": "stdout",
     "output_type": "stream",
     "text": [
      "training score: 0.6719777553436752\n",
      "    test score: 0.6687600094585257\n"
     ]
    }
   ],
   "source": [
    "X_train_scaled, X_test_scaled, train_preds, test_preds = scale_score(x, y, x2, y2)"
   ]
  },
  {
   "cell_type": "code",
   "execution_count": 95,
   "metadata": {},
   "outputs": [
    {
     "name": "stdout",
     "output_type": "stream",
     "text": [
      "\n",
      "Training Metrics:\n",
      "R2: 0.672\n",
      "Mean Absolute Error: 247050.270\n",
      "Mean Squared Error: 262616744092.898\n",
      "Root Mean Squared Error: 512461.456\n",
      "\n",
      "Testing Metrics:\n",
      "R2: 0.669\n",
      "Mean Absolute Error: 249646.298\n",
      "Mean Squared Error: 268938046845.505\n",
      "Root Mean Squared Error: 518592.371\n"
     ]
    }
   ],
   "source": [
    "get_train_test_metrics(y_train, train_preds, y_test, test_preds)"
   ]
  }
 ],
 "metadata": {
  "kernelspec": {
   "display_name": "Python (learn-env)",
   "language": "python",
   "name": "learn-env"
  },
  "language_info": {
   "codemirror_mode": {
    "name": "ipython",
    "version": 3
   },
   "file_extension": ".py",
   "mimetype": "text/x-python",
   "name": "python",
   "nbconvert_exporter": "python",
   "pygments_lexer": "ipython3",
   "version": "3.9.12"
  }
 },
 "nbformat": 4,
 "nbformat_minor": 4
}
