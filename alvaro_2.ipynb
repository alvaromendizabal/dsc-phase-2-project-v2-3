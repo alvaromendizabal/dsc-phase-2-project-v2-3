{
 "cells": [
  {
   "cell_type": "code",
   "execution_count": 10,
   "metadata": {},
   "outputs": [
    {
     "name": "stdout",
     "output_type": "stream",
     "text": [
      "Requirement already satisfied: shapely in c:\\users\\alvaro\\anaconda3\\lib\\site-packages (1.8.2)\n",
      "Note: you may need to restart the kernel to use updated packages.\n"
     ]
    }
   ],
   "source": [
    "pip install shapely"
   ]
  },
  {
   "cell_type": "code",
   "execution_count": 22,
   "metadata": {},
   "outputs": [
    {
     "name": "stdout",
     "output_type": "stream",
     "text": [
      "Collecting gdal\n",
      "  Using cached GDAL-3.5.1.tar.gz (752 kB)\n",
      "Building wheels for collected packages: gdal\n",
      "  Building wheel for gdal (setup.py): started\n",
      "  Building wheel for gdal (setup.py): finished with status 'error'\n",
      "  Running setup.py clean for gdal\n",
      "Failed to build gdal\n",
      "Installing collected packages: gdal\n",
      "    Running setup.py install for gdal: started\n",
      "    Running setup.py install for gdal: finished with status 'error'\n",
      "Note: you may need to restart the kernel to use updated packages.\n"
     ]
    },
    {
     "name": "stderr",
     "output_type": "stream",
     "text": [
      "  ERROR: Command errored out with exit status 1:\n",
      "   command: 'C:\\Users\\alvaro\\anaconda3\\python.exe' -u -c 'import io, os, sys, setuptools, tokenize; sys.argv[0] = '\"'\"'C:\\\\Users\\\\alvaro\\\\AppData\\\\Local\\\\Temp\\\\pip-install-fpfe8xho\\\\gdal_57bca3cbf92045f6807d93152b99688d\\\\setup.py'\"'\"'; __file__='\"'\"'C:\\\\Users\\\\alvaro\\\\AppData\\\\Local\\\\Temp\\\\pip-install-fpfe8xho\\\\gdal_57bca3cbf92045f6807d93152b99688d\\\\setup.py'\"'\"';f = getattr(tokenize, '\"'\"'open'\"'\"', open)(__file__) if os.path.exists(__file__) else io.StringIO('\"'\"'from setuptools import setup; setup()'\"'\"');code = f.read().replace('\"'\"'\\r\\n'\"'\"', '\"'\"'\\n'\"'\"');f.close();exec(compile(code, __file__, '\"'\"'exec'\"'\"'))' bdist_wheel -d 'C:\\Users\\alvaro\\AppData\\Local\\Temp\\pip-wheel-2yi891_g'\n",
      "       cwd: C:\\Users\\alvaro\\AppData\\Local\\Temp\\pip-install-fpfe8xho\\gdal_57bca3cbf92045f6807d93152b99688d\\\n",
      "  Complete output (118 lines):\n",
      "  running bdist_wheel\n",
      "  running build\n",
      "  running build_py\n",
      "  creating build\n",
      "  creating build\\lib.win-amd64-cpython-39\n",
      "  creating build\\lib.win-amd64-cpython-39\\osgeo\n",
      "  copying osgeo\\gdal.py -> build\\lib.win-amd64-cpython-39\\osgeo\n",
      "  copying osgeo\\gdalconst.py -> build\\lib.win-amd64-cpython-39\\osgeo\n",
      "  copying osgeo\\gdalnumeric.py -> build\\lib.win-amd64-cpython-39\\osgeo\n",
      "  copying osgeo\\gdal_array.py -> build\\lib.win-amd64-cpython-39\\osgeo\n",
      "  copying osgeo\\gnm.py -> build\\lib.win-amd64-cpython-39\\osgeo\n",
      "  copying osgeo\\ogr.py -> build\\lib.win-amd64-cpython-39\\osgeo\n",
      "  copying osgeo\\osr.py -> build\\lib.win-amd64-cpython-39\\osgeo\n",
      "  copying osgeo\\utils.py -> build\\lib.win-amd64-cpython-39\\osgeo\n",
      "  copying osgeo\\__init__.py -> build\\lib.win-amd64-cpython-39\\osgeo\n",
      "  creating build\\lib.win-amd64-cpython-39\\osgeo_utils\n",
      "  copying gdal-utils\\osgeo_utils\\gdal2tiles.py -> build\\lib.win-amd64-cpython-39\\osgeo_utils\n",
      "  copying gdal-utils\\osgeo_utils\\gdal2xyz.py -> build\\lib.win-amd64-cpython-39\\osgeo_utils\n",
      "  copying gdal-utils\\osgeo_utils\\gdalattachpct.py -> build\\lib.win-amd64-cpython-39\\osgeo_utils\n",
      "  copying gdal-utils\\osgeo_utils\\gdalcompare.py -> build\\lib.win-amd64-cpython-39\\osgeo_utils\n",
      "  copying gdal-utils\\osgeo_utils\\gdalmove.py -> build\\lib.win-amd64-cpython-39\\osgeo_utils\n",
      "  copying gdal-utils\\osgeo_utils\\gdal_calc.py -> build\\lib.win-amd64-cpython-39\\osgeo_utils\n",
      "  copying gdal-utils\\osgeo_utils\\gdal_edit.py -> build\\lib.win-amd64-cpython-39\\osgeo_utils\n",
      "  copying gdal-utils\\osgeo_utils\\gdal_fillnodata.py -> build\\lib.win-amd64-cpython-39\\osgeo_utils\n",
      "  copying gdal-utils\\osgeo_utils\\gdal_merge.py -> build\\lib.win-amd64-cpython-39\\osgeo_utils\n",
      "  copying gdal-utils\\osgeo_utils\\gdal_pansharpen.py -> build\\lib.win-amd64-cpython-39\\osgeo_utils\n",
      "  copying gdal-utils\\osgeo_utils\\gdal_polygonize.py -> build\\lib.win-amd64-cpython-39\\osgeo_utils\n",
      "  copying gdal-utils\\osgeo_utils\\gdal_proximity.py -> build\\lib.win-amd64-cpython-39\\osgeo_utils\n",
      "  copying gdal-utils\\osgeo_utils\\gdal_retile.py -> build\\lib.win-amd64-cpython-39\\osgeo_utils\n",
      "  copying gdal-utils\\osgeo_utils\\gdal_sieve.py -> build\\lib.win-amd64-cpython-39\\osgeo_utils\n",
      "  copying gdal-utils\\osgeo_utils\\ogrmerge.py -> build\\lib.win-amd64-cpython-39\\osgeo_utils\n",
      "  copying gdal-utils\\osgeo_utils\\pct2rgb.py -> build\\lib.win-amd64-cpython-39\\osgeo_utils\n",
      "  copying gdal-utils\\osgeo_utils\\rgb2pct.py -> build\\lib.win-amd64-cpython-39\\osgeo_utils\n",
      "  copying gdal-utils\\osgeo_utils\\__init__.py -> build\\lib.win-amd64-cpython-39\\osgeo_utils\n",
      "  creating build\\lib.win-amd64-cpython-39\\osgeo_utils\\auxiliary\n",
      "  copying gdal-utils\\osgeo_utils\\auxiliary\\array_util.py -> build\\lib.win-amd64-cpython-39\\osgeo_utils\\auxiliary\n",
      "  copying gdal-utils\\osgeo_utils\\auxiliary\\base.py -> build\\lib.win-amd64-cpython-39\\osgeo_utils\\auxiliary\n",
      "  copying gdal-utils\\osgeo_utils\\auxiliary\\batch_creator.py -> build\\lib.win-amd64-cpython-39\\osgeo_utils\\auxiliary\n",
      "  copying gdal-utils\\osgeo_utils\\auxiliary\\color_palette.py -> build\\lib.win-amd64-cpython-39\\osgeo_utils\\auxiliary\n",
      "  copying gdal-utils\\osgeo_utils\\auxiliary\\color_table.py -> build\\lib.win-amd64-cpython-39\\osgeo_utils\\auxiliary\n",
      "  copying gdal-utils\\osgeo_utils\\auxiliary\\extent_util.py -> build\\lib.win-amd64-cpython-39\\osgeo_utils\\auxiliary\n",
      "  copying gdal-utils\\osgeo_utils\\auxiliary\\gdal_argparse.py -> build\\lib.win-amd64-cpython-39\\osgeo_utils\\auxiliary\n",
      "  copying gdal-utils\\osgeo_utils\\auxiliary\\numpy_util.py -> build\\lib.win-amd64-cpython-39\\osgeo_utils\\auxiliary\n",
      "  copying gdal-utils\\osgeo_utils\\auxiliary\\osr_util.py -> build\\lib.win-amd64-cpython-39\\osgeo_utils\\auxiliary\n",
      "  copying gdal-utils\\osgeo_utils\\auxiliary\\progress.py -> build\\lib.win-amd64-cpython-39\\osgeo_utils\\auxiliary\n",
      "  copying gdal-utils\\osgeo_utils\\auxiliary\\raster_creation.py -> build\\lib.win-amd64-cpython-39\\osgeo_utils\\auxiliary\n",
      "  copying gdal-utils\\osgeo_utils\\auxiliary\\rectangle.py -> build\\lib.win-amd64-cpython-39\\osgeo_utils\\auxiliary\n",
      "  copying gdal-utils\\osgeo_utils\\auxiliary\\util.py -> build\\lib.win-amd64-cpython-39\\osgeo_utils\\auxiliary\n",
      "  copying gdal-utils\\osgeo_utils\\auxiliary\\__init__.py -> build\\lib.win-amd64-cpython-39\\osgeo_utils\\auxiliary\n",
      "  creating build\\lib.win-amd64-cpython-39\\osgeo_utils\\samples\n",
      "  copying gdal-utils\\osgeo_utils\\samples\\assemblepoly.py -> build\\lib.win-amd64-cpython-39\\osgeo_utils\\samples\n",
      "  copying gdal-utils\\osgeo_utils\\samples\\build_jp2_from_xml.py -> build\\lib.win-amd64-cpython-39\\osgeo_utils\\samples\n",
      "  copying gdal-utils\\osgeo_utils\\samples\\classify.py -> build\\lib.win-amd64-cpython-39\\osgeo_utils\\samples\n",
      "  copying gdal-utils\\osgeo_utils\\samples\\crs2crs2grid.py -> build\\lib.win-amd64-cpython-39\\osgeo_utils\\samples\n",
      "  copying gdal-utils\\osgeo_utils\\samples\\densify.py -> build\\lib.win-amd64-cpython-39\\osgeo_utils\\samples\n",
      "  copying gdal-utils\\osgeo_utils\\samples\\dump_jp2.py -> build\\lib.win-amd64-cpython-39\\osgeo_utils\\samples\n",
      "  copying gdal-utils\\osgeo_utils\\samples\\epsg_tr.py -> build\\lib.win-amd64-cpython-39\\osgeo_utils\\samples\n",
      "  copying gdal-utils\\osgeo_utils\\samples\\esri2wkt.py -> build\\lib.win-amd64-cpython-39\\osgeo_utils\\samples\n",
      "  copying gdal-utils\\osgeo_utils\\samples\\fft.py -> build\\lib.win-amd64-cpython-39\\osgeo_utils\\samples\n",
      "  copying gdal-utils\\osgeo_utils\\samples\\fix_gpkg.py -> build\\lib.win-amd64-cpython-39\\osgeo_utils\\samples\n",
      "  copying gdal-utils\\osgeo_utils\\samples\\gcps2ogr.py -> build\\lib.win-amd64-cpython-39\\osgeo_utils\\samples\n",
      "  copying gdal-utils\\osgeo_utils\\samples\\gcps2vec.py -> build\\lib.win-amd64-cpython-39\\osgeo_utils\\samples\n",
      "  copying gdal-utils\\osgeo_utils\\samples\\gcps2wld.py -> build\\lib.win-amd64-cpython-39\\osgeo_utils\\samples\n",
      "  copying gdal-utils\\osgeo_utils\\samples\\gdal2grd.py -> build\\lib.win-amd64-cpython-39\\osgeo_utils\\samples\n",
      "  copying gdal-utils\\osgeo_utils\\samples\\gdalchksum.py -> build\\lib.win-amd64-cpython-39\\osgeo_utils\\samples\n",
      "  copying gdal-utils\\osgeo_utils\\samples\\gdalcopyproj.py -> build\\lib.win-amd64-cpython-39\\osgeo_utils\\samples\n",
      "  copying gdal-utils\\osgeo_utils\\samples\\gdalfilter.py -> build\\lib.win-amd64-cpython-39\\osgeo_utils\\samples\n",
      "  copying gdal-utils\\osgeo_utils\\samples\\gdalident.py -> build\\lib.win-amd64-cpython-39\\osgeo_utils\\samples\n",
      "  copying gdal-utils\\osgeo_utils\\samples\\gdalimport.py -> build\\lib.win-amd64-cpython-39\\osgeo_utils\\samples\n",
      "  copying gdal-utils\\osgeo_utils\\samples\\gdalinfo.py -> build\\lib.win-amd64-cpython-39\\osgeo_utils\\samples\n",
      "  copying gdal-utils\\osgeo_utils\\samples\\gdallocationinfo.py -> build\\lib.win-amd64-cpython-39\\osgeo_utils\\samples\n",
      "  copying gdal-utils\\osgeo_utils\\samples\\gdal_auth.py -> build\\lib.win-amd64-cpython-39\\osgeo_utils\\samples\n",
      "  copying gdal-utils\\osgeo_utils\\samples\\gdal_cp.py -> build\\lib.win-amd64-cpython-39\\osgeo_utils\\samples\n",
      "  copying gdal-utils\\osgeo_utils\\samples\\gdal_create_pdf.py -> build\\lib.win-amd64-cpython-39\\osgeo_utils\\samples\n",
      "  copying gdal-utils\\osgeo_utils\\samples\\gdal_ls.py -> build\\lib.win-amd64-cpython-39\\osgeo_utils\\samples\n",
      "  copying gdal-utils\\osgeo_utils\\samples\\gdal_lut.py -> build\\lib.win-amd64-cpython-39\\osgeo_utils\\samples\n",
      "  copying gdal-utils\\osgeo_utils\\samples\\gdal_mkdir.py -> build\\lib.win-amd64-cpython-39\\osgeo_utils\\samples\n",
      "  copying gdal-utils\\osgeo_utils\\samples\\gdal_remove_towgs84.py -> build\\lib.win-amd64-cpython-39\\osgeo_utils\\samples\n",
      "  copying gdal-utils\\osgeo_utils\\samples\\gdal_rm.py -> build\\lib.win-amd64-cpython-39\\osgeo_utils\\samples\n",
      "  copying gdal-utils\\osgeo_utils\\samples\\gdal_rmdir.py -> build\\lib.win-amd64-cpython-39\\osgeo_utils\\samples\n",
      "  copying gdal-utils\\osgeo_utils\\samples\\gdal_vrtmerge.py -> build\\lib.win-amd64-cpython-39\\osgeo_utils\\samples\n",
      "  copying gdal-utils\\osgeo_utils\\samples\\gdal_zip.py -> build\\lib.win-amd64-cpython-39\\osgeo_utils\\samples\n",
      "  copying gdal-utils\\osgeo_utils\\samples\\get_soundg.py -> build\\lib.win-amd64-cpython-39\\osgeo_utils\\samples\n",
      "  copying gdal-utils\\osgeo_utils\\samples\\histrep.py -> build\\lib.win-amd64-cpython-39\\osgeo_utils\\samples\n",
      "  copying gdal-utils\\osgeo_utils\\samples\\hsv_merge.py -> build\\lib.win-amd64-cpython-39\\osgeo_utils\\samples\n",
      "  copying gdal-utils\\osgeo_utils\\samples\\jpeg_in_tiff_extract.py -> build\\lib.win-amd64-cpython-39\\osgeo_utils\\samples\n",
      "  copying gdal-utils\\osgeo_utils\\samples\\load2odbc.py -> build\\lib.win-amd64-cpython-39\\osgeo_utils\\samples\n",
      "  copying gdal-utils\\osgeo_utils\\samples\\loslas2ntv2.py -> build\\lib.win-amd64-cpython-39\\osgeo_utils\\samples\n",
      "  copying gdal-utils\\osgeo_utils\\samples\\magphase.py -> build\\lib.win-amd64-cpython-39\\osgeo_utils\\samples\n",
      "  copying gdal-utils\\osgeo_utils\\samples\\make_fuzzer_friendly_archive.py -> build\\lib.win-amd64-cpython-39\\osgeo_utils\\samples\n",
      "  copying gdal-utils\\osgeo_utils\\samples\\mkgraticule.py -> build\\lib.win-amd64-cpython-39\\osgeo_utils\\samples\n",
      "  copying gdal-utils\\osgeo_utils\\samples\\ogr2ogr.py -> build\\lib.win-amd64-cpython-39\\osgeo_utils\\samples\n",
      "  copying gdal-utils\\osgeo_utils\\samples\\ogr2vrt.py -> build\\lib.win-amd64-cpython-39\\osgeo_utils\\samples\n",
      "  copying gdal-utils\\osgeo_utils\\samples\\ogrinfo.py -> build\\lib.win-amd64-cpython-39\\osgeo_utils\\samples\n",
      "  copying gdal-utils\\osgeo_utils\\samples\\ogrupdate.py -> build\\lib.win-amd64-cpython-39\\osgeo_utils\\samples\n",
      "  copying gdal-utils\\osgeo_utils\\samples\\ogr_build_junction_table.py -> build\\lib.win-amd64-cpython-39\\osgeo_utils\\samples\n",
      "  copying gdal-utils\\osgeo_utils\\samples\\ogr_dispatch.py -> build\\lib.win-amd64-cpython-39\\osgeo_utils\\samples\n",
      "  copying gdal-utils\\osgeo_utils\\samples\\ogr_layer_algebra.py -> build\\lib.win-amd64-cpython-39\\osgeo_utils\\samples\n",
      "  copying gdal-utils\\osgeo_utils\\samples\\rel.py -> build\\lib.win-amd64-cpython-39\\osgeo_utils\\samples\n",
      "  copying gdal-utils\\osgeo_utils\\samples\\tigerpoly.py -> build\\lib.win-amd64-cpython-39\\osgeo_utils\\samples\n",
      "  copying gdal-utils\\osgeo_utils\\samples\\tile_extent_from_raster.py -> build\\lib.win-amd64-cpython-39\\osgeo_utils\\samples\n",
      "  copying gdal-utils\\osgeo_utils\\samples\\tolatlong.py -> build\\lib.win-amd64-cpython-39\\osgeo_utils\\samples\n",
      "  copying gdal-utils\\osgeo_utils\\samples\\validate_cloud_optimized_geotiff.py -> build\\lib.win-amd64-cpython-39\\osgeo_utils\\samples\n",
      "  copying gdal-utils\\osgeo_utils\\samples\\validate_gpkg.py -> build\\lib.win-amd64-cpython-39\\osgeo_utils\\samples\n",
      "  copying gdal-utils\\osgeo_utils\\samples\\validate_jp2.py -> build\\lib.win-amd64-cpython-39\\osgeo_utils\\samples\n",
      "  copying gdal-utils\\osgeo_utils\\samples\\val_repl.py -> build\\lib.win-amd64-cpython-39\\osgeo_utils\\samples\n",
      "  copying gdal-utils\\osgeo_utils\\samples\\vec_tr.py -> build\\lib.win-amd64-cpython-39\\osgeo_utils\\samples\n",
      "  copying gdal-utils\\osgeo_utils\\samples\\vec_tr_spat.py -> build\\lib.win-amd64-cpython-39\\osgeo_utils\\samples\n",
      "  copying gdal-utils\\osgeo_utils\\samples\\wcs_virtds_params.py -> build\\lib.win-amd64-cpython-39\\osgeo_utils\\samples\n",
      "  copying gdal-utils\\osgeo_utils\\samples\\__init__.py -> build\\lib.win-amd64-cpython-39\\osgeo_utils\\samples\n",
      "  running build_ext\n",
      "  building 'osgeo._gdal' extension\n",
      "  building 'osgeo._gdalconst' extension\n",
      "  building 'osgeo._osr' extension\n",
      "  building 'osgeo._ogr' extension\n",
      "  building 'osgeo._gnm' extension\n",
      "  building 'osgeo._gdal_array' extension\n",
      "  error: Microsoft Visual C++ 14.0 or greater is required. Get it with \"Microsoft C++ Build Tools\": https://visualstudio.microsoft.com/visual-cpp-build-tools/\n",
      "  ----------------------------------------\n",
      "  ERROR: Failed building wheel for gdal\n",
      "    ERROR: Command errored out with exit status 1:\n",
      "     command: 'C:\\Users\\alvaro\\anaconda3\\python.exe' -u -c 'import io, os, sys, setuptools, tokenize; sys.argv[0] = '\"'\"'C:\\\\Users\\\\alvaro\\\\AppData\\\\Local\\\\Temp\\\\pip-install-fpfe8xho\\\\gdal_57bca3cbf92045f6807d93152b99688d\\\\setup.py'\"'\"'; __file__='\"'\"'C:\\\\Users\\\\alvaro\\\\AppData\\\\Local\\\\Temp\\\\pip-install-fpfe8xho\\\\gdal_57bca3cbf92045f6807d93152b99688d\\\\setup.py'\"'\"';f = getattr(tokenize, '\"'\"'open'\"'\"', open)(__file__) if os.path.exists(__file__) else io.StringIO('\"'\"'from setuptools import setup; setup()'\"'\"');code = f.read().replace('\"'\"'\\r\\n'\"'\"', '\"'\"'\\n'\"'\"');f.close();exec(compile(code, __file__, '\"'\"'exec'\"'\"'))' install --record 'C:\\Users\\alvaro\\AppData\\Local\\Temp\\pip-record-mw65t873\\install-record.txt' --single-version-externally-managed --compile --install-headers 'C:\\Users\\alvaro\\anaconda3\\Include\\gdal'\n",
      "         cwd: C:\\Users\\alvaro\\AppData\\Local\\Temp\\pip-install-fpfe8xho\\gdal_57bca3cbf92045f6807d93152b99688d\\\n",
      "    Complete output (120 lines):\n",
      "    running install\n",
      "    C:\\Users\\alvaro\\anaconda3\\lib\\site-packages\\setuptools\\command\\install.py:34: SetuptoolsDeprecationWarning: setup.py install is deprecated. Use build and pip and other standards-based tools.\n",
      "      warnings.warn(\n",
      "    running build\n",
      "    running build_py\n",
      "    creating build\n",
      "    creating build\\lib.win-amd64-cpython-39\n",
      "    creating build\\lib.win-amd64-cpython-39\\osgeo\n",
      "    copying osgeo\\gdal.py -> build\\lib.win-amd64-cpython-39\\osgeo\n",
      "    copying osgeo\\gdalconst.py -> build\\lib.win-amd64-cpython-39\\osgeo\n",
      "    copying osgeo\\gdalnumeric.py -> build\\lib.win-amd64-cpython-39\\osgeo\n",
      "    copying osgeo\\gdal_array.py -> build\\lib.win-amd64-cpython-39\\osgeo\n",
      "    copying osgeo\\gnm.py -> build\\lib.win-amd64-cpython-39\\osgeo\n",
      "    copying osgeo\\ogr.py -> build\\lib.win-amd64-cpython-39\\osgeo\n",
      "    copying osgeo\\osr.py -> build\\lib.win-amd64-cpython-39\\osgeo\n",
      "    copying osgeo\\utils.py -> build\\lib.win-amd64-cpython-39\\osgeo\n",
      "    copying osgeo\\__init__.py -> build\\lib.win-amd64-cpython-39\\osgeo\n",
      "    creating build\\lib.win-amd64-cpython-39\\osgeo_utils\n",
      "    copying gdal-utils\\osgeo_utils\\gdal2tiles.py -> build\\lib.win-amd64-cpython-39\\osgeo_utils\n",
      "    copying gdal-utils\\osgeo_utils\\gdal2xyz.py -> build\\lib.win-amd64-cpython-39\\osgeo_utils\n",
      "    copying gdal-utils\\osgeo_utils\\gdalattachpct.py -> build\\lib.win-amd64-cpython-39\\osgeo_utils\n",
      "    copying gdal-utils\\osgeo_utils\\gdalcompare.py -> build\\lib.win-amd64-cpython-39\\osgeo_utils\n",
      "    copying gdal-utils\\osgeo_utils\\gdalmove.py -> build\\lib.win-amd64-cpython-39\\osgeo_utils\n",
      "    copying gdal-utils\\osgeo_utils\\gdal_calc.py -> build\\lib.win-amd64-cpython-39\\osgeo_utils\n",
      "    copying gdal-utils\\osgeo_utils\\gdal_edit.py -> build\\lib.win-amd64-cpython-39\\osgeo_utils\n",
      "    copying gdal-utils\\osgeo_utils\\gdal_fillnodata.py -> build\\lib.win-amd64-cpython-39\\osgeo_utils\n",
      "    copying gdal-utils\\osgeo_utils\\gdal_merge.py -> build\\lib.win-amd64-cpython-39\\osgeo_utils\n",
      "    copying gdal-utils\\osgeo_utils\\gdal_pansharpen.py -> build\\lib.win-amd64-cpython-39\\osgeo_utils\n",
      "    copying gdal-utils\\osgeo_utils\\gdal_polygonize.py -> build\\lib.win-amd64-cpython-39\\osgeo_utils\n",
      "    copying gdal-utils\\osgeo_utils\\gdal_proximity.py -> build\\lib.win-amd64-cpython-39\\osgeo_utils\n",
      "    copying gdal-utils\\osgeo_utils\\gdal_retile.py -> build\\lib.win-amd64-cpython-39\\osgeo_utils\n",
      "    copying gdal-utils\\osgeo_utils\\gdal_sieve.py -> build\\lib.win-amd64-cpython-39\\osgeo_utils\n",
      "    copying gdal-utils\\osgeo_utils\\ogrmerge.py -> build\\lib.win-amd64-cpython-39\\osgeo_utils\n",
      "    copying gdal-utils\\osgeo_utils\\pct2rgb.py -> build\\lib.win-amd64-cpython-39\\osgeo_utils\n",
      "    copying gdal-utils\\osgeo_utils\\rgb2pct.py -> build\\lib.win-amd64-cpython-39\\osgeo_utils\n",
      "    copying gdal-utils\\osgeo_utils\\__init__.py -> build\\lib.win-amd64-cpython-39\\osgeo_utils\n",
      "    creating build\\lib.win-amd64-cpython-39\\osgeo_utils\\auxiliary\n",
      "    copying gdal-utils\\osgeo_utils\\auxiliary\\array_util.py -> build\\lib.win-amd64-cpython-39\\osgeo_utils\\auxiliary\n",
      "    copying gdal-utils\\osgeo_utils\\auxiliary\\base.py -> build\\lib.win-amd64-cpython-39\\osgeo_utils\\auxiliary\n",
      "    copying gdal-utils\\osgeo_utils\\auxiliary\\batch_creator.py -> build\\lib.win-amd64-cpython-39\\osgeo_utils\\auxiliary\n",
      "    copying gdal-utils\\osgeo_utils\\auxiliary\\color_palette.py -> build\\lib.win-amd64-cpython-39\\osgeo_utils\\auxiliary\n",
      "    copying gdal-utils\\osgeo_utils\\auxiliary\\color_table.py -> build\\lib.win-amd64-cpython-39\\osgeo_utils\\auxiliary\n",
      "    copying gdal-utils\\osgeo_utils\\auxiliary\\extent_util.py -> build\\lib.win-amd64-cpython-39\\osgeo_utils\\auxiliary\n",
      "    copying gdal-utils\\osgeo_utils\\auxiliary\\gdal_argparse.py -> build\\lib.win-amd64-cpython-39\\osgeo_utils\\auxiliary\n",
      "    copying gdal-utils\\osgeo_utils\\auxiliary\\numpy_util.py -> build\\lib.win-amd64-cpython-39\\osgeo_utils\\auxiliary\n",
      "    copying gdal-utils\\osgeo_utils\\auxiliary\\osr_util.py -> build\\lib.win-amd64-cpython-39\\osgeo_utils\\auxiliary\n",
      "    copying gdal-utils\\osgeo_utils\\auxiliary\\progress.py -> build\\lib.win-amd64-cpython-39\\osgeo_utils\\auxiliary\n",
      "    copying gdal-utils\\osgeo_utils\\auxiliary\\raster_creation.py -> build\\lib.win-amd64-cpython-39\\osgeo_utils\\auxiliary\n",
      "    copying gdal-utils\\osgeo_utils\\auxiliary\\rectangle.py -> build\\lib.win-amd64-cpython-39\\osgeo_utils\\auxiliary\n",
      "    copying gdal-utils\\osgeo_utils\\auxiliary\\util.py -> build\\lib.win-amd64-cpython-39\\osgeo_utils\\auxiliary\n",
      "    copying gdal-utils\\osgeo_utils\\auxiliary\\__init__.py -> build\\lib.win-amd64-cpython-39\\osgeo_utils\\auxiliary\n",
      "    creating build\\lib.win-amd64-cpython-39\\osgeo_utils\\samples\n",
      "    copying gdal-utils\\osgeo_utils\\samples\\assemblepoly.py -> build\\lib.win-amd64-cpython-39\\osgeo_utils\\samples\n",
      "    copying gdal-utils\\osgeo_utils\\samples\\build_jp2_from_xml.py -> build\\lib.win-amd64-cpython-39\\osgeo_utils\\samples\n",
      "    copying gdal-utils\\osgeo_utils\\samples\\classify.py -> build\\lib.win-amd64-cpython-39\\osgeo_utils\\samples\n",
      "    copying gdal-utils\\osgeo_utils\\samples\\crs2crs2grid.py -> build\\lib.win-amd64-cpython-39\\osgeo_utils\\samples\n",
      "    copying gdal-utils\\osgeo_utils\\samples\\densify.py -> build\\lib.win-amd64-cpython-39\\osgeo_utils\\samples\n",
      "    copying gdal-utils\\osgeo_utils\\samples\\dump_jp2.py -> build\\lib.win-amd64-cpython-39\\osgeo_utils\\samples\n",
      "    copying gdal-utils\\osgeo_utils\\samples\\epsg_tr.py -> build\\lib.win-amd64-cpython-39\\osgeo_utils\\samples\n",
      "    copying gdal-utils\\osgeo_utils\\samples\\esri2wkt.py -> build\\lib.win-amd64-cpython-39\\osgeo_utils\\samples\n",
      "    copying gdal-utils\\osgeo_utils\\samples\\fft.py -> build\\lib.win-amd64-cpython-39\\osgeo_utils\\samples\n",
      "    copying gdal-utils\\osgeo_utils\\samples\\fix_gpkg.py -> build\\lib.win-amd64-cpython-39\\osgeo_utils\\samples\n",
      "    copying gdal-utils\\osgeo_utils\\samples\\gcps2ogr.py -> build\\lib.win-amd64-cpython-39\\osgeo_utils\\samples\n",
      "    copying gdal-utils\\osgeo_utils\\samples\\gcps2vec.py -> build\\lib.win-amd64-cpython-39\\osgeo_utils\\samples\n",
      "    copying gdal-utils\\osgeo_utils\\samples\\gcps2wld.py -> build\\lib.win-amd64-cpython-39\\osgeo_utils\\samples\n",
      "    copying gdal-utils\\osgeo_utils\\samples\\gdal2grd.py -> build\\lib.win-amd64-cpython-39\\osgeo_utils\\samples\n",
      "    copying gdal-utils\\osgeo_utils\\samples\\gdalchksum.py -> build\\lib.win-amd64-cpython-39\\osgeo_utils\\samples\n",
      "    copying gdal-utils\\osgeo_utils\\samples\\gdalcopyproj.py -> build\\lib.win-amd64-cpython-39\\osgeo_utils\\samples\n",
      "    copying gdal-utils\\osgeo_utils\\samples\\gdalfilter.py -> build\\lib.win-amd64-cpython-39\\osgeo_utils\\samples\n",
      "    copying gdal-utils\\osgeo_utils\\samples\\gdalident.py -> build\\lib.win-amd64-cpython-39\\osgeo_utils\\samples\n",
      "    copying gdal-utils\\osgeo_utils\\samples\\gdalimport.py -> build\\lib.win-amd64-cpython-39\\osgeo_utils\\samples\n",
      "    copying gdal-utils\\osgeo_utils\\samples\\gdalinfo.py -> build\\lib.win-amd64-cpython-39\\osgeo_utils\\samples\n",
      "    copying gdal-utils\\osgeo_utils\\samples\\gdallocationinfo.py -> build\\lib.win-amd64-cpython-39\\osgeo_utils\\samples\n",
      "    copying gdal-utils\\osgeo_utils\\samples\\gdal_auth.py -> build\\lib.win-amd64-cpython-39\\osgeo_utils\\samples\n",
      "    copying gdal-utils\\osgeo_utils\\samples\\gdal_cp.py -> build\\lib.win-amd64-cpython-39\\osgeo_utils\\samples\n",
      "    copying gdal-utils\\osgeo_utils\\samples\\gdal_create_pdf.py -> build\\lib.win-amd64-cpython-39\\osgeo_utils\\samples\n",
      "    copying gdal-utils\\osgeo_utils\\samples\\gdal_ls.py -> build\\lib.win-amd64-cpython-39\\osgeo_utils\\samples\n",
      "    copying gdal-utils\\osgeo_utils\\samples\\gdal_lut.py -> build\\lib.win-amd64-cpython-39\\osgeo_utils\\samples\n",
      "    copying gdal-utils\\osgeo_utils\\samples\\gdal_mkdir.py -> build\\lib.win-amd64-cpython-39\\osgeo_utils\\samples\n",
      "    copying gdal-utils\\osgeo_utils\\samples\\gdal_remove_towgs84.py -> build\\lib.win-amd64-cpython-39\\osgeo_utils\\samples\n",
      "    copying gdal-utils\\osgeo_utils\\samples\\gdal_rm.py -> build\\lib.win-amd64-cpython-39\\osgeo_utils\\samples\n",
      "    copying gdal-utils\\osgeo_utils\\samples\\gdal_rmdir.py -> build\\lib.win-amd64-cpython-39\\osgeo_utils\\samples\n",
      "    copying gdal-utils\\osgeo_utils\\samples\\gdal_vrtmerge.py -> build\\lib.win-amd64-cpython-39\\osgeo_utils\\samples\n",
      "    copying gdal-utils\\osgeo_utils\\samples\\gdal_zip.py -> build\\lib.win-amd64-cpython-39\\osgeo_utils\\samples\n",
      "    copying gdal-utils\\osgeo_utils\\samples\\get_soundg.py -> build\\lib.win-amd64-cpython-39\\osgeo_utils\\samples\n",
      "    copying gdal-utils\\osgeo_utils\\samples\\histrep.py -> build\\lib.win-amd64-cpython-39\\osgeo_utils\\samples\n",
      "    copying gdal-utils\\osgeo_utils\\samples\\hsv_merge.py -> build\\lib.win-amd64-cpython-39\\osgeo_utils\\samples\n",
      "    copying gdal-utils\\osgeo_utils\\samples\\jpeg_in_tiff_extract.py -> build\\lib.win-amd64-cpython-39\\osgeo_utils\\samples\n",
      "    copying gdal-utils\\osgeo_utils\\samples\\load2odbc.py -> build\\lib.win-amd64-cpython-39\\osgeo_utils\\samples\n",
      "    copying gdal-utils\\osgeo_utils\\samples\\loslas2ntv2.py -> build\\lib.win-amd64-cpython-39\\osgeo_utils\\samples\n",
      "    copying gdal-utils\\osgeo_utils\\samples\\magphase.py -> build\\lib.win-amd64-cpython-39\\osgeo_utils\\samples\n",
      "    copying gdal-utils\\osgeo_utils\\samples\\make_fuzzer_friendly_archive.py -> build\\lib.win-amd64-cpython-39\\osgeo_utils\\samples\n",
      "    copying gdal-utils\\osgeo_utils\\samples\\mkgraticule.py -> build\\lib.win-amd64-cpython-39\\osgeo_utils\\samples\n",
      "    copying gdal-utils\\osgeo_utils\\samples\\ogr2ogr.py -> build\\lib.win-amd64-cpython-39\\osgeo_utils\\samples\n",
      "    copying gdal-utils\\osgeo_utils\\samples\\ogr2vrt.py -> build\\lib.win-amd64-cpython-39\\osgeo_utils\\samples\n",
      "    copying gdal-utils\\osgeo_utils\\samples\\ogrinfo.py -> build\\lib.win-amd64-cpython-39\\osgeo_utils\\samples\n",
      "    copying gdal-utils\\osgeo_utils\\samples\\ogrupdate.py -> build\\lib.win-amd64-cpython-39\\osgeo_utils\\samples\n",
      "    copying gdal-utils\\osgeo_utils\\samples\\ogr_build_junction_table.py -> build\\lib.win-amd64-cpython-39\\osgeo_utils\\samples\n",
      "    copying gdal-utils\\osgeo_utils\\samples\\ogr_dispatch.py -> build\\lib.win-amd64-cpython-39\\osgeo_utils\\samples\n",
      "    copying gdal-utils\\osgeo_utils\\samples\\ogr_layer_algebra.py -> build\\lib.win-amd64-cpython-39\\osgeo_utils\\samples\n",
      "    copying gdal-utils\\osgeo_utils\\samples\\rel.py -> build\\lib.win-amd64-cpython-39\\osgeo_utils\\samples\n",
      "    copying gdal-utils\\osgeo_utils\\samples\\tigerpoly.py -> build\\lib.win-amd64-cpython-39\\osgeo_utils\\samples\n",
      "    copying gdal-utils\\osgeo_utils\\samples\\tile_extent_from_raster.py -> build\\lib.win-amd64-cpython-39\\osgeo_utils\\samples\n",
      "    copying gdal-utils\\osgeo_utils\\samples\\tolatlong.py -> build\\lib.win-amd64-cpython-39\\osgeo_utils\\samples\n",
      "    copying gdal-utils\\osgeo_utils\\samples\\validate_cloud_optimized_geotiff.py -> build\\lib.win-amd64-cpython-39\\osgeo_utils\\samples\n",
      "    copying gdal-utils\\osgeo_utils\\samples\\validate_gpkg.py -> build\\lib.win-amd64-cpython-39\\osgeo_utils\\samples\n",
      "    copying gdal-utils\\osgeo_utils\\samples\\validate_jp2.py -> build\\lib.win-amd64-cpython-39\\osgeo_utils\\samples\n",
      "    copying gdal-utils\\osgeo_utils\\samples\\val_repl.py -> build\\lib.win-amd64-cpython-39\\osgeo_utils\\samples\n",
      "    copying gdal-utils\\osgeo_utils\\samples\\vec_tr.py -> build\\lib.win-amd64-cpython-39\\osgeo_utils\\samples\n",
      "    copying gdal-utils\\osgeo_utils\\samples\\vec_tr_spat.py -> build\\lib.win-amd64-cpython-39\\osgeo_utils\\samples\n",
      "    copying gdal-utils\\osgeo_utils\\samples\\wcs_virtds_params.py -> build\\lib.win-amd64-cpython-39\\osgeo_utils\\samples\n",
      "    copying gdal-utils\\osgeo_utils\\samples\\__init__.py -> build\\lib.win-amd64-cpython-39\\osgeo_utils\\samples\n",
      "    running build_ext\n",
      "    building 'osgeo._gdal' extension\n",
      "    building 'osgeo._gdalconst' extension\n",
      "    building 'osgeo._osr' extension\n",
      "    building 'osgeo._ogr' extension\n",
      "    building 'osgeo._gnm' extension\n",
      "    building 'osgeo._gdal_array' extension\n",
      "    error: Microsoft Visual C++ 14.0 or greater is required. Get it with \"Microsoft C++ Build Tools\": https://visualstudio.microsoft.com/visual-cpp-build-tools/\n",
      "    ----------------------------------------\n",
      "ERROR: Command errored out with exit status 1: 'C:\\Users\\alvaro\\anaconda3\\python.exe' -u -c 'import io, os, sys, setuptools, tokenize; sys.argv[0] = '\"'\"'C:\\\\Users\\\\alvaro\\\\AppData\\\\Local\\\\Temp\\\\pip-install-fpfe8xho\\\\gdal_57bca3cbf92045f6807d93152b99688d\\\\setup.py'\"'\"'; __file__='\"'\"'C:\\\\Users\\\\alvaro\\\\AppData\\\\Local\\\\Temp\\\\pip-install-fpfe8xho\\\\gdal_57bca3cbf92045f6807d93152b99688d\\\\setup.py'\"'\"';f = getattr(tokenize, '\"'\"'open'\"'\"', open)(__file__) if os.path.exists(__file__) else io.StringIO('\"'\"'from setuptools import setup; setup()'\"'\"');code = f.read().replace('\"'\"'\\r\\n'\"'\"', '\"'\"'\\n'\"'\"');f.close();exec(compile(code, __file__, '\"'\"'exec'\"'\"'))' install --record 'C:\\Users\\alvaro\\AppData\\Local\\Temp\\pip-record-mw65t873\\install-record.txt' --single-version-externally-managed --compile --install-headers 'C:\\Users\\alvaro\\anaconda3\\Include\\gdal' Check the logs for full command output.\n"
     ]
    }
   ],
   "source": [
    "pip install gdal"
   ]
  },
  {
   "cell_type": "code",
   "execution_count": 5,
   "metadata": {},
   "outputs": [
    {
     "ename": "ModuleNotFoundError",
     "evalue": "No module named 'geopandas'",
     "output_type": "error",
     "traceback": [
      "\u001b[1;31m---------------------------------------------------------------------------\u001b[0m",
      "\u001b[1;31mModuleNotFoundError\u001b[0m                       Traceback (most recent call last)",
      "Input \u001b[1;32mIn [5]\u001b[0m, in \u001b[0;36m<cell line: 9>\u001b[1;34m()\u001b[0m\n\u001b[0;32m      6\u001b[0m warnings\u001b[38;5;241m.\u001b[39mfilterwarnings(action\u001b[38;5;241m=\u001b[39m\u001b[38;5;124m'\u001b[39m\u001b[38;5;124mignore\u001b[39m\u001b[38;5;124m'\u001b[39m)\n\u001b[0;32m      8\u001b[0m \u001b[38;5;28;01mimport\u001b[39;00m \u001b[38;5;21;01mfolium\u001b[39;00m\n\u001b[1;32m----> 9\u001b[0m \u001b[38;5;28;01mimport\u001b[39;00m \u001b[38;5;21;01mgeopandas\u001b[39;00m \u001b[38;5;28;01mas\u001b[39;00m \u001b[38;5;21;01mgpd\u001b[39;00m\n\u001b[0;32m     10\u001b[0m KC_coord \u001b[38;5;241m=\u001b[39m (\u001b[38;5;241m47.4081\u001b[39m,\u001b[38;5;241m-\u001b[39m\u001b[38;5;241m121.9949\u001b[39m)\n\u001b[0;32m     11\u001b[0m Seattle_coord \u001b[38;5;241m=\u001b[39m (\u001b[38;5;241m47.6062\u001b[39m,\u001b[38;5;241m-\u001b[39m\u001b[38;5;241m122.3321\u001b[39m)\n",
      "\u001b[1;31mModuleNotFoundError\u001b[0m: No module named 'geopandas'"
     ]
    }
   ],
   "source": [
    "import numpy as np\n",
    "import pandas as pd\n",
    "from scipy import stats\n",
    "\n",
    "import warnings\n",
    "warnings.filterwarnings(action='ignore')\n",
    "\n",
    "import folium\n",
    "import geopandas as gpd\n",
    "KC_coord = (47.4081,-121.9949)\n",
    "Seattle_coord = (47.6062,-122.3321)\n",
    "import matplotlib.pyplot as plt\n",
    "from matplotlib import ticker\n",
    "%matplotlib inline\n",
    "import seaborn as sns\n",
    "plt.style.use('seaborn-notebook')\n",
    "from yellowbrick.regressor import ResidualsPlot\n",
    "\n",
    "import statsmodels.api as sm\n",
    "from statsmodels.api import OLS\n",
    "\n",
    "from sklearn.dummy import DummyRegressor\n",
    "from sklearn.pipeline import make_pipeline\n",
    "from sklearn.compose import ColumnTransformer\n",
    "from sklearn.linear_model import LinearRegression\n",
    "from sklearn.model_selection import train_test_split\n",
    "from sklearn.metrics import r2_score, mean_squared_error, mean_absolute_error\n",
    "from sklearn.preprocessing import PolynomialFeatures, StandardScaler, OrdinalEncoder, OneHotEncoder"
   ]
  },
  {
   "cell_type": "code",
   "execution_count": null,
   "metadata": {
    "scrolled": false
   },
   "outputs": [],
   "source": [
    "# specify parse date to avoid object dtype for dates\n",
    "df = pd.read_csv('./data/kc_house_data_22.csv', parse_dates=['date']) \n",
    "df"
   ]
  },
  {
   "cell_type": "code",
   "execution_count": null,
   "metadata": {},
   "outputs": [],
   "source": [
    "len(df)"
   ]
  },
  {
   "cell_type": "code",
   "execution_count": null,
   "metadata": {},
   "outputs": [],
   "source": [
    "df.info()"
   ]
  },
  {
   "cell_type": "markdown",
   "metadata": {},
   "source": [
    "# Set Zipcode"
   ]
  },
  {
   "cell_type": "code",
   "execution_count": null,
   "metadata": {},
   "outputs": [],
   "source": [
    "df['address'][4]"
   ]
  },
  {
   "cell_type": "code",
   "execution_count": null,
   "metadata": {},
   "outputs": [],
   "source": [
    "zipcode = []\n",
    "\n",
    "for zips in df['address']:\n",
    "    zipcode.append(int(zips[-20:-15]))\n",
    "    \n",
    "df['zipcode'] = zipcode\n",
    "df.head()"
   ]
  },
  {
   "cell_type": "markdown",
   "metadata": {},
   "source": [
    "# Fill NaNs and Drop Duplicates"
   ]
  },
  {
   "cell_type": "markdown",
   "metadata": {},
   "source": [
    "### Duplicates"
   ]
  },
  {
   "cell_type": "code",
   "execution_count": null,
   "metadata": {},
   "outputs": [],
   "source": [
    "# Check number of duplicate id's\n",
    "df['id'].duplicated().sum()"
   ]
  },
  {
   "cell_type": "code",
   "execution_count": null,
   "metadata": {},
   "outputs": [],
   "source": [
    "# Drop duplicates\n",
    "df = df.sort_values('id', ascending = False).drop_duplicates(subset = 'id', keep = 'first')"
   ]
  },
  {
   "cell_type": "code",
   "execution_count": null,
   "metadata": {
    "scrolled": false
   },
   "outputs": [],
   "source": [
    "# Ensure that there are no longer duplicates\n",
    "df.duplicated().sum()"
   ]
  },
  {
   "cell_type": "markdown",
   "metadata": {},
   "source": [
    "### Heat Source"
   ]
  },
  {
   "cell_type": "code",
   "execution_count": null,
   "metadata": {},
   "outputs": [],
   "source": [
    "df.isna().sum()"
   ]
  },
  {
   "cell_type": "code",
   "execution_count": null,
   "metadata": {
    "scrolled": true
   },
   "outputs": [],
   "source": [
    "# Check out sewer_system\n",
    "print(df['sewer_system'].value_counts())"
   ]
  },
  {
   "cell_type": "code",
   "execution_count": null,
   "metadata": {},
   "outputs": [],
   "source": [
    "df['heat_source'].fillna('Gas', inplace=True)"
   ]
  },
  {
   "cell_type": "code",
   "execution_count": null,
   "metadata": {},
   "outputs": [],
   "source": [
    "df.isna().sum()"
   ]
  },
  {
   "cell_type": "markdown",
   "metadata": {},
   "source": [
    "### Sewer System"
   ]
  },
  {
   "cell_type": "code",
   "execution_count": null,
   "metadata": {},
   "outputs": [],
   "source": [
    "heat_count = print(df['sewer_system'].value_counts())"
   ]
  },
  {
   "cell_type": "code",
   "execution_count": null,
   "metadata": {},
   "outputs": [],
   "source": [
    "df['sewer_system'].fillna('PUBLIC', inplace=True)"
   ]
  },
  {
   "cell_type": "code",
   "execution_count": null,
   "metadata": {
    "scrolled": true
   },
   "outputs": [],
   "source": [
    "df.isna().sum()"
   ]
  },
  {
   "cell_type": "code",
   "execution_count": null,
   "metadata": {},
   "outputs": [],
   "source": [
    "df.drop(['id', 'date'], axis=1, inplace=True)"
   ]
  },
  {
   "cell_type": "markdown",
   "metadata": {},
   "source": [
    "# Train-Test Split"
   ]
  },
  {
   "cell_type": "code",
   "execution_count": null,
   "metadata": {},
   "outputs": [],
   "source": [
    "y = df['price']\n",
    "X = df.drop('price', axis=1)\n",
    "X_train, X_test, y_train, y_test = train_test_split(X, y, random_state=42, test_size=.25)"
   ]
  },
  {
   "cell_type": "markdown",
   "metadata": {},
   "source": [
    "# Helper Functions"
   ]
  },
  {
   "cell_type": "markdown",
   "metadata": {},
   "source": [
    "ohe executes 2 transformations, test and train. data for any given input variable: First, we use OneHotEncoder to split up our categorical variables. Second, we run a linear regression on encoded values using .fit(). Then, it takes in a training df ('df'), a test df ('df2') and a column name. Next, it returns the training df and the test df concatenated with newly encoded columns. Lastly, we return a list of these newly encoded column names. "
   ]
  },
  {
   "cell_type": "code",
   "execution_count": null,
   "metadata": {},
   "outputs": [],
   "source": [
    "def ohe(df, df2, column):\n",
    "    for col in column:\n",
    "        train = df[[col]]\n",
    "        ohe = OneHotEncoder(drop='first', sparse=False, handle_unknown=\"ignore\")\n",
    "        ohe.fit(train)\n",
    "        encoded_train = ohe.transform(train)\n",
    "        col_labels = [f\"{col}_{f}\" for f in ohe.get_feature_names()]\n",
    "        encoded_train = pd.DataFrame(encoded_train, columns=col_labels, index=df.index)\n",
    "        df = pd.concat([df, encoded_train], axis=1)\n",
    "        \n",
    "        test = df2[[col]]\n",
    "        encoded_test = ohe.transform(test)\n",
    "        col_labels = [f\"{col}_{f}\" for f in ohe.get_feature_names()]\n",
    "        encoded_test = pd.DataFrame(encoded_test, columns=col_labels, index=df2.index)\n",
    "        df2 = pd.concat([df2, encoded_test], axis=1)\n",
    "        \n",
    "    return df, df2, encoded_train.columns.tolist()"
   ]
  },
  {
   "cell_type": "markdown",
   "metadata": {},
   "source": [
    "We run a Standard Scaler to scale all the values in the test data and training data so that our models results are in comparable units. Then, we score the scaled data to get the R2 to assess the strength of our model."
   ]
  },
  {
   "cell_type": "code",
   "execution_count": null,
   "metadata": {},
   "outputs": [],
   "source": [
    "def scale_score(x, y, x2, y2):\n",
    "    scaler = StandardScaler()\n",
    "    scaler.fit(x)\n",
    "    X_train_scaled = scaler.transform(x)\n",
    "    X_test_scaled = scaler.transform(x2)\n",
    "\n",
    "    lr = LinearRegression()\n",
    "    lr.fit(X_train_scaled,y_train)\n",
    "\n",
    "    train_preds = lr.predict(X_train_scaled)\n",
    "    test_preds = lr.predict(X_test_scaled)\n",
    "    \n",
    "    print(f\"\"\"training score: {r2_score(y_train, train_preds)}\n",
    "    test score: {r2_score(y_test, test_preds)}\"\"\")\n",
    "    \n",
    "    return X_train_scaled, X_test_scaled, train_preds, test_preds"
   ]
  },
  {
   "cell_type": "markdown",
   "metadata": {},
   "source": [
    "Uses price and predictions to calculate Mean Absolute Error (MAE), Mean Squared Error (MSE) and Root Mean Squared Error (RSME) for the training and testing data sets. We will compare these values to evaluate model performance."
   ]
  },
  {
   "cell_type": "code",
   "execution_count": null,
   "metadata": {},
   "outputs": [],
   "source": [
    "def get_train_test_metrics(y_train, train_preds,\n",
    "               y_test, test_preds):\n",
    "    \"\"\"\n",
    "    Prints different training and testing metrics, namely R2, MAE, MSE, RMSE\n",
    "    \"\"\"\n",
    "    print(\"\\nTraining Metrics:\")\n",
    "    print(f\"R2: {r2_score(y_train, train_preds):.3f}\")\n",
    "    print(f\"Mean Absolute Error: {mean_absolute_error(y_train, train_preds):.3f}\")\n",
    "    print(f\"Mean Squared Error: {mean_squared_error(y_train, train_preds):.3f}\")\n",
    "    print(f\"Root Mean Squared Error: {mean_squared_error(y_train, train_preds, squared=False):.3f}\")\n",
    "    \n",
    "    print(\"\\nTesting Metrics:\")\n",
    "    print(f\"R2: {r2_score(y_test, test_preds):.3f}\")\n",
    "    print(f\"Mean Absolute Error: {mean_absolute_error(y_test, test_preds):.3f}\")\n",
    "    print(f\"Mean Squared Error: {mean_squared_error(y_test, test_preds):.3f}\")\n",
    "    print(f\"Root Mean Squared Error: {mean_squared_error(y_test, test_preds, squared=False):.3f}\")"
   ]
  },
  {
   "cell_type": "markdown",
   "metadata": {},
   "source": [
    "# Outliers"
   ]
  },
  {
   "cell_type": "markdown",
   "metadata": {},
   "source": [
    "### Price"
   ]
  },
  {
   "cell_type": "code",
   "execution_count": null,
   "metadata": {},
   "outputs": [],
   "source": [
    "# calculate 25, 75, iqr, whiskers for 'price'\n",
    "price_q75, price_q25 = np.percentile(df['price'], [75, 25])\n",
    "price_iqr = price_q75 - price_q25\n",
    "price_min = price_q25 - (1.5 * price_iqr)\n",
    "price_max = price_q75 + (1.5 * price_iqr)\n",
    "\n",
    "print(f\"\"\"price_min: {price_min} \n",
    "price_max: {price_max}\"\"\")"
   ]
  },
  {
   "cell_type": "code",
   "execution_count": null,
   "metadata": {},
   "outputs": [],
   "source": [
    "df = df[df['price'] >= price_min]\n",
    "df = df[df['price'] <= price_max]"
   ]
  },
  {
   "cell_type": "markdown",
   "metadata": {},
   "source": [
    "### Sqft Lot"
   ]
  },
  {
   "cell_type": "code",
   "execution_count": null,
   "metadata": {},
   "outputs": [],
   "source": [
    "# calculate 25, 75, iqr, whiskers for 'sqft_lot'\n",
    "#sqft_lot_q25, sqft_lot_q75 = np.percentile(df['sqft_lot'], [25, 75])\n",
    "#sqft_lot_min = sqft_lot_q25 - (1.5 * sqft_lot_iqr)\n",
    "#sqft_lot_max = sqft_lot_q75 + (1.5 * sqft_lot_iqr)\n",
    "\n",
    "\n",
    "#print(f\"\"\"sqft_lot_min: {sqft_lot_min} \n",
    "#sqft_lot_max: {sqft_lot_max}\"\"\")"
   ]
  },
  {
   "cell_type": "code",
   "execution_count": null,
   "metadata": {},
   "outputs": [],
   "source": [
    "# set df to include everything within the whiskers except the outliers\n",
    "#df = df[df['sqft_lot'] >= sqft_lot_min]\n",
    "#df = df[df['sqft_lot'] <= sqft_lot_max]"
   ]
  },
  {
   "cell_type": "markdown",
   "metadata": {},
   "source": [
    "# Categorical Variables"
   ]
  },
  {
   "cell_type": "code",
   "execution_count": null,
   "metadata": {
    "scrolled": true
   },
   "outputs": [],
   "source": [
    "df.info()"
   ]
  },
  {
   "cell_type": "code",
   "execution_count": null,
   "metadata": {
    "scrolled": true
   },
   "outputs": [],
   "source": [
    "df.info()"
   ]
  },
  {
   "cell_type": "markdown",
   "metadata": {},
   "source": [
    "### Bedrooms"
   ]
  },
  {
   "cell_type": "code",
   "execution_count": null,
   "metadata": {},
   "outputs": [],
   "source": [
    "bed_count = df['bedrooms'].value_counts()\n",
    "bed_count"
   ]
  },
  {
   "cell_type": "code",
   "execution_count": null,
   "metadata": {},
   "outputs": [],
   "source": [
    "#df = df[df['bedrooms'] != 7]\n",
    "#df = df[df['bedrooms'] != 8]\n",
    "#df = df[df['bedrooms'] != 9]\n",
    "#df = df[df['bedrooms'] != 10]\n",
    "#df = df[df['bedrooms'] != 11]"
   ]
  },
  {
   "cell_type": "markdown",
   "metadata": {},
   "source": [
    "### Condition"
   ]
  },
  {
   "cell_type": "code",
   "execution_count": null,
   "metadata": {},
   "outputs": [],
   "source": [
    "condition_count = df['condition'].value_counts()\n",
    "condition_count"
   ]
  },
  {
   "cell_type": "code",
   "execution_count": null,
   "metadata": {},
   "outputs": [],
   "source": [
    "X_train, X_test, encoded_condition = ohe(X_train, X_test, ['condition'])"
   ]
  },
  {
   "cell_type": "code",
   "execution_count": null,
   "metadata": {},
   "outputs": [],
   "source": [
    "X_train['condition'] = X_train['condition'].map({'Very Good': 5, 'Good': 4, 'Average': 3, 'Fair': 2, 'Poor': 1})"
   ]
  },
  {
   "cell_type": "code",
   "execution_count": null,
   "metadata": {},
   "outputs": [],
   "source": [
    "X_test['condition'] = X_test['condition'].map({'Very Good': 5, 'Good': 4, 'Average': 3, 'Fair': 2, 'Poor': 1})"
   ]
  },
  {
   "cell_type": "markdown",
   "metadata": {},
   "source": [
    "### Floors"
   ]
  },
  {
   "cell_type": "code",
   "execution_count": null,
   "metadata": {},
   "outputs": [],
   "source": [
    "floor_count = print(df['floors'].value_counts())"
   ]
  },
  {
   "cell_type": "code",
   "execution_count": null,
   "metadata": {},
   "outputs": [],
   "source": [
    "X_train, X_test, encoded_floors = ohe(X_train, X_test, ['floors'])"
   ]
  },
  {
   "cell_type": "code",
   "execution_count": null,
   "metadata": {},
   "outputs": [],
   "source": [
    "#X_train['floors'] = X_train['floors'].map({1.0: 1, 1.5: 1, 2.0: 2, 2.5: 2, 3.0: 3, 3.5: 3, 4.0: 4})"
   ]
  },
  {
   "cell_type": "code",
   "execution_count": null,
   "metadata": {},
   "outputs": [],
   "source": [
    "#X_test['floors'] = X_test['floors'].map({1.0: 1, 1.5: 1, 2.0: 2, 2.5: 2, 3.0: 3, 3.5: 3, 4.0: 4})"
   ]
  },
  {
   "cell_type": "markdown",
   "metadata": {},
   "source": [
    "### Grade"
   ]
  },
  {
   "cell_type": "code",
   "execution_count": null,
   "metadata": {},
   "outputs": [],
   "source": [
    "grade_count = print(df['grade'].value_counts())"
   ]
  },
  {
   "cell_type": "code",
   "execution_count": null,
   "metadata": {},
   "outputs": [],
   "source": [
    "X_train, X_test, encoded_grade = ohe(X_train, X_test, ['grade'])"
   ]
  },
  {
   "cell_type": "code",
   "execution_count": null,
   "metadata": {},
   "outputs": [],
   "source": [
    "#df = df[df['grade'] != '3 Poor']\n",
    "#df = df[df['grade'] != '2 Substandard']\n",
    "#df = df[df['grade'] != '13 Mansion']\n",
    "#df = df[df['grade'] != '12 Luxury']"
   ]
  },
  {
   "cell_type": "markdown",
   "metadata": {},
   "source": [
    "### Nuisance"
   ]
  },
  {
   "cell_type": "code",
   "execution_count": null,
   "metadata": {},
   "outputs": [],
   "source": [
    "nuisance_count = print(df['nuisance'].value_counts())"
   ]
  },
  {
   "cell_type": "code",
   "execution_count": null,
   "metadata": {},
   "outputs": [],
   "source": [
    "X_train, X_test, encoded_nuisance = ohe(X_train, X_test, ['nuisance'])"
   ]
  },
  {
   "cell_type": "code",
   "execution_count": null,
   "metadata": {},
   "outputs": [],
   "source": [
    "X_train['nuisance'] = X_train['nuisance'].map({'NO': 0, 'YES': 1})"
   ]
  },
  {
   "cell_type": "code",
   "execution_count": null,
   "metadata": {},
   "outputs": [],
   "source": [
    "X_test['nuisance'] = X_test['nuisance'].map({'NO': 0, 'YES': 1})"
   ]
  },
  {
   "cell_type": "markdown",
   "metadata": {},
   "source": [
    "### View"
   ]
  },
  {
   "cell_type": "code",
   "execution_count": null,
   "metadata": {},
   "outputs": [],
   "source": [
    "view_count = df['view'].value_counts()\n",
    "view_count"
   ]
  },
  {
   "cell_type": "code",
   "execution_count": null,
   "metadata": {},
   "outputs": [],
   "source": [
    "X_train['view'].fillna('NONE', inplace=True)\n",
    "X_test['view'].fillna('NONE', inplace=True)"
   ]
  },
  {
   "cell_type": "code",
   "execution_count": null,
   "metadata": {},
   "outputs": [],
   "source": [
    "X_train, X_test, encoded_view = ohe(X_train, X_test, ['view'])"
   ]
  },
  {
   "cell_type": "code",
   "execution_count": null,
   "metadata": {},
   "outputs": [],
   "source": [
    "X_train['view'] = X_train['view'].map({'EXCELLENT': 5, 'GOOD': 4, 'AVERAGE': 3, 'FAIR': 2, 'NONE': 1})"
   ]
  },
  {
   "cell_type": "code",
   "execution_count": null,
   "metadata": {},
   "outputs": [],
   "source": [
    "X_test['view'] = X_test['view'].map({'EXCELLENT': 5, 'GOOD': 4, 'AVERAGE': 3, 'FAIR': 2, 'NONE': 1})"
   ]
  },
  {
   "cell_type": "markdown",
   "metadata": {},
   "source": [
    "### Waterfront"
   ]
  },
  {
   "cell_type": "code",
   "execution_count": null,
   "metadata": {},
   "outputs": [],
   "source": [
    "waterfront_count = print(df['waterfront'].value_counts())"
   ]
  },
  {
   "cell_type": "code",
   "execution_count": null,
   "metadata": {},
   "outputs": [],
   "source": [
    "X_train, X_test, encoded_waterfront = ohe(X_train, X_test, ['waterfront'])"
   ]
  },
  {
   "cell_type": "code",
   "execution_count": null,
   "metadata": {},
   "outputs": [],
   "source": [
    "X_train['waterfront'] = X_train['waterfront'].map({'NO': 0, 'YES': 1})"
   ]
  },
  {
   "cell_type": "code",
   "execution_count": null,
   "metadata": {},
   "outputs": [],
   "source": [
    "X_test['waterfront'] = X_test['waterfront'].map({'NO': 0, 'YES': 1})"
   ]
  },
  {
   "cell_type": "markdown",
   "metadata": {},
   "source": [
    "### Zipcode"
   ]
  },
  {
   "cell_type": "code",
   "execution_count": null,
   "metadata": {},
   "outputs": [],
   "source": [
    "zipcode_count = print(df['zipcode'].sort_values().value_counts())"
   ]
  },
  {
   "cell_type": "code",
   "execution_count": null,
   "metadata": {},
   "outputs": [],
   "source": [
    "X_train, X_test, encoded_zipcode = ohe(X_train, X_test, ['zipcode'])"
   ]
  },
  {
   "cell_type": "markdown",
   "metadata": {},
   "source": [
    "# Mutlitcollinearity"
   ]
  },
  {
   "cell_type": "code",
   "execution_count": null,
   "metadata": {},
   "outputs": [],
   "source": [
    "sns.heatmap(df.corr());"
   ]
  },
  {
   "cell_type": "code",
   "execution_count": null,
   "metadata": {
    "scrolled": true
   },
   "outputs": [],
   "source": [
    "df.corr()"
   ]
  },
  {
   "cell_type": "code",
   "execution_count": null,
   "metadata": {},
   "outputs": [],
   "source": [
    "df.corr()['price'].abs().sort_values(ascending=False)"
   ]
  },
  {
   "cell_type": "code",
   "execution_count": null,
   "metadata": {
    "scrolled": true
   },
   "outputs": [],
   "source": [
    "with sns.axes_style(\"darkgrid\"):\n",
    "    fig, ax = plt.subplots(figsize=(14, 9))\n",
    "    \n",
    "    mask = np.triu(np.ones_like(df.corr(), dtype=bool))\n",
    "    ax = sns.heatmap(abs(df.corr()),mask=mask,annot=True)\n",
    "    fig.savefig('images/Corelation_Heatmap_22',bbox_inches=\"tight\");"
   ]
  },
  {
   "cell_type": "code",
   "execution_count": null,
   "metadata": {},
   "outputs": [],
   "source": [
    "df.drop(['sqft_above', 'sqft_lot'], axis=1, inplace=True)"
   ]
  },
  {
   "cell_type": "markdown",
   "metadata": {},
   "source": [
    "# Models"
   ]
  },
  {
   "cell_type": "code",
   "execution_count": null,
   "metadata": {},
   "outputs": [],
   "source": [
    "dummy = DummyRegressor()\n",
    "dummy.fit(X_train, y_train)\n",
    "basemodel_dummy_score = dummy.score(X_train, y_train)\n",
    "test_dummy_score = dummy.score(X_test, y_test)\n",
    "\n",
    "print(f\"\"\"basemodel_dummy_score: {basemodel_dummy_score}\n",
    "\n",
    "test_dummy_score: {test_dummy_score}\"\"\")"
   ]
  },
  {
   "cell_type": "markdown",
   "metadata": {},
   "source": [
    "### Model 1"
   ]
  },
  {
   "cell_type": "code",
   "execution_count": null,
   "metadata": {},
   "outputs": [],
   "source": [
    "cols = ['sqft_living']\n",
    "\n",
    "y = y_train\n",
    "x = X_train.filter(cols, axis=1)\n",
    "\n",
    "y2 = y_test\n",
    "x2 = X_test.filter(cols, axis=1)"
   ]
  },
  {
   "cell_type": "code",
   "execution_count": null,
   "metadata": {},
   "outputs": [],
   "source": [
    "X_train_scaled, X_test_scaled, train_preds, test_preds = scale_score(x, y, x2, y2)"
   ]
  },
  {
   "cell_type": "code",
   "execution_count": null,
   "metadata": {
    "scrolled": true
   },
   "outputs": [],
   "source": [
    "get_train_test_metrics(y_train, train_preds, y_test, test_preds)"
   ]
  },
  {
   "cell_type": "markdown",
   "metadata": {},
   "source": [
    "### Model 2"
   ]
  },
  {
   "cell_type": "code",
   "execution_count": null,
   "metadata": {},
   "outputs": [],
   "source": [
    "cols = encoded_zipcode\n",
    "\n",
    "y = y_train\n",
    "x = X_train.filter(cols, axis=1)\n",
    "\n",
    "y2 = y_test\n",
    "x2 = X_test.filter(cols, axis=1)"
   ]
  },
  {
   "cell_type": "code",
   "execution_count": null,
   "metadata": {
    "scrolled": true
   },
   "outputs": [],
   "source": [
    "X_train_scaled, X_test_scaled, train_preds, test_preds = scale_score(x, y, x2, y2)"
   ]
  },
  {
   "cell_type": "code",
   "execution_count": null,
   "metadata": {},
   "outputs": [],
   "source": [
    "get_train_test_metrics(y_train, train_preds, y_test, test_preds)"
   ]
  },
  {
   "cell_type": "markdown",
   "metadata": {},
   "source": [
    "### Model 3"
   ]
  },
  {
   "cell_type": "code",
   "execution_count": null,
   "metadata": {},
   "outputs": [],
   "source": [
    "cols = encoded_grade\n",
    "\n",
    "y = y_train\n",
    "x = X_train.filter(cols, axis=1)\n",
    "\n",
    "y2 = y_test\n",
    "x2 = X_test.filter(cols, axis=1)"
   ]
  },
  {
   "cell_type": "code",
   "execution_count": null,
   "metadata": {},
   "outputs": [],
   "source": [
    "X_train_scaled, X_test_scaled, train_preds, test_preds = scale_score(x, y, x2, y2)"
   ]
  },
  {
   "cell_type": "code",
   "execution_count": null,
   "metadata": {},
   "outputs": [],
   "source": [
    "get_train_test_metrics(y_train, train_preds, y_test, test_preds)"
   ]
  },
  {
   "cell_type": "markdown",
   "metadata": {},
   "source": [
    "### Model 4"
   ]
  },
  {
   "cell_type": "code",
   "execution_count": null,
   "metadata": {},
   "outputs": [],
   "source": [
    "cols = encoded_view\n",
    "\n",
    "y = y_train\n",
    "x = X_train.filter(cols, axis=1)\n",
    "\n",
    "y2 = y_test\n",
    "x2 = X_test.filter(cols, axis=1)"
   ]
  },
  {
   "cell_type": "code",
   "execution_count": null,
   "metadata": {},
   "outputs": [],
   "source": [
    "X_train_scaled, X_test_scaled, train_preds, test_preds = scale_score(x, y, x2, y2)"
   ]
  },
  {
   "cell_type": "code",
   "execution_count": null,
   "metadata": {},
   "outputs": [],
   "source": [
    "get_train_test_metrics(y_train, train_preds, y_test, test_preds)"
   ]
  },
  {
   "cell_type": "markdown",
   "metadata": {},
   "source": [
    "### Model 5"
   ]
  },
  {
   "cell_type": "code",
   "execution_count": null,
   "metadata": {},
   "outputs": [],
   "source": [
    "cols = encoded_waterfront\n",
    "\n",
    "y = y_train\n",
    "x = X_train.filter(cols, axis=1)\n",
    "\n",
    "y2 = y_test\n",
    "x2 = X_test.filter(cols, axis=1)"
   ]
  },
  {
   "cell_type": "code",
   "execution_count": null,
   "metadata": {},
   "outputs": [],
   "source": [
    "X_train_scaled, X_test_scaled, train_preds, test_preds = scale_score(x, y, x2, y2)"
   ]
  },
  {
   "cell_type": "code",
   "execution_count": null,
   "metadata": {},
   "outputs": [],
   "source": [
    "get_train_test_metrics(y_train, train_preds, y_test, test_preds)"
   ]
  },
  {
   "cell_type": "markdown",
   "metadata": {},
   "source": [
    "### Model 6"
   ]
  },
  {
   "cell_type": "code",
   "execution_count": null,
   "metadata": {},
   "outputs": [],
   "source": [
    "cols = encoded_grade + encoded_zipcode\n",
    "\n",
    "y = y_train\n",
    "x = X_train.filter(cols, axis=1)\n",
    "\n",
    "y2 = y_test\n",
    "x2 = X_test.filter(cols, axis=1)"
   ]
  },
  {
   "cell_type": "code",
   "execution_count": null,
   "metadata": {},
   "outputs": [],
   "source": [
    "X_train_scaled, X_test_scaled, train_preds, test_preds = scale_score(x, y, x2, y2)"
   ]
  },
  {
   "cell_type": "code",
   "execution_count": null,
   "metadata": {
    "scrolled": false
   },
   "outputs": [],
   "source": [
    "get_train_test_metrics(y_train, train_preds, y_test, test_preds)"
   ]
  },
  {
   "cell_type": "markdown",
   "metadata": {},
   "source": [
    "### Model 7"
   ]
  },
  {
   "cell_type": "code",
   "execution_count": null,
   "metadata": {},
   "outputs": [],
   "source": [
    "cols = encoded_grade + encoded_view + encoded_zipcode\n",
    "\n",
    "y = y_train\n",
    "x = X_train.filter(cols, axis=1)\n",
    "\n",
    "y2 = y_test\n",
    "x2 = X_test.filter(cols, axis=1)"
   ]
  },
  {
   "cell_type": "code",
   "execution_count": null,
   "metadata": {},
   "outputs": [],
   "source": [
    "X_train_scaled, X_test_scaled, train_preds, test_preds = scale_score(x, y, x2, y2)"
   ]
  },
  {
   "cell_type": "code",
   "execution_count": null,
   "metadata": {
    "scrolled": true
   },
   "outputs": [],
   "source": [
    "get_train_test_metrics(y_train, train_preds, y_test, test_preds)"
   ]
  },
  {
   "cell_type": "markdown",
   "metadata": {},
   "source": [
    "### Model 8"
   ]
  },
  {
   "cell_type": "code",
   "execution_count": null,
   "metadata": {},
   "outputs": [],
   "source": [
    "cols = ['sqft_living'] + encoded_grade + encoded_zipcode\n",
    "\n",
    "y = y_train\n",
    "x = X_train.filter(cols, axis=1)\n",
    "\n",
    "y2 = y_test\n",
    "x2 = X_test.filter(cols, axis=1)"
   ]
  },
  {
   "cell_type": "code",
   "execution_count": null,
   "metadata": {},
   "outputs": [],
   "source": [
    "X_train_scaled, X_test_scaled, train_preds, test_preds = scale_score(x, y, x2, y2)"
   ]
  },
  {
   "cell_type": "code",
   "execution_count": null,
   "metadata": {
    "scrolled": true
   },
   "outputs": [],
   "source": [
    "get_train_test_metrics(y_train, train_preds, y_test, test_preds)"
   ]
  },
  {
   "cell_type": "code",
   "execution_count": null,
   "metadata": {},
   "outputs": [],
   "source": [
    "lr = LinearRegression()\n",
    "\n",
    "visualizer = ResidualsPlot(lr)\n",
    "\n",
    "visualizer.fit(X_train_scaled, y_train)  # Fit the training data to the visualizer\n",
    "visualizer.score(X_test_scaled, y_test)  # Evaluate the model on the test data\n",
    "visualizer.show()  \n",
    "plt.show()"
   ]
  },
  {
   "cell_type": "markdown",
   "metadata": {},
   "source": [
    "### Model 9"
   ]
  },
  {
   "cell_type": "code",
   "execution_count": null,
   "metadata": {},
   "outputs": [],
   "source": [
    "cols = ['sqft_living'] + encoded_grade + encoded_view + encoded_zipcode\n",
    "\n",
    "y = y_train\n",
    "x = X_train.filter(cols, axis=1)\n",
    "\n",
    "y2 = y_test\n",
    "x2 = X_test.filter(cols, axis=1)"
   ]
  },
  {
   "cell_type": "code",
   "execution_count": null,
   "metadata": {},
   "outputs": [],
   "source": [
    "X_train_scaled, X_test_scaled, train_preds, test_preds = scale_score(x, y, x2, y2)"
   ]
  },
  {
   "cell_type": "code",
   "execution_count": null,
   "metadata": {},
   "outputs": [],
   "source": [
    "get_train_test_metrics(y_train, train_preds, y_test, test_preds)"
   ]
  },
  {
   "cell_type": "code",
   "execution_count": null,
   "metadata": {},
   "outputs": [],
   "source": [
    "lr = LinearRegression()\n",
    "\n",
    "visualizer = ResidualsPlot(lr)\n",
    "\n",
    "visualizer.fit(X_train_scaled, y_train)  # Fit the training data to the visualizer\n",
    "visualizer.score(X_test_scaled, y_test)  # Evaluate the model on the test data\n",
    "visualizer.show()  \n",
    "plt.show()"
   ]
  },
  {
   "cell_type": "markdown",
   "metadata": {},
   "source": [
    "### Model 10"
   ]
  },
  {
   "cell_type": "code",
   "execution_count": null,
   "metadata": {},
   "outputs": [],
   "source": [
    "cols = ['sqft_living'] + encoded_grade + encoded_view + encoded_waterfront + encoded_zipcode\n",
    "\n",
    "y = y_train\n",
    "x = X_train.filter(cols, axis=1)\n",
    "\n",
    "y2 = y_test\n",
    "x2 = X_test.filter(cols, axis=1)"
   ]
  },
  {
   "cell_type": "code",
   "execution_count": null,
   "metadata": {},
   "outputs": [],
   "source": [
    "X_train_scaled, X_test_scaled, train_preds, test_preds = scale_score(x, y, x2, y2)"
   ]
  },
  {
   "cell_type": "code",
   "execution_count": null,
   "metadata": {
    "scrolled": false
   },
   "outputs": [],
   "source": [
    "get_train_test_metrics(y_train, train_preds, y_test, test_preds)"
   ]
  },
  {
   "cell_type": "code",
   "execution_count": null,
   "metadata": {},
   "outputs": [],
   "source": [
    "lr = LinearRegression()\n",
    "\n",
    "visualizer = ResidualsPlot(lr)\n",
    "\n",
    "visualizer.fit(X_train_scaled, y_train)  # Fit the training data to the visualizer\n",
    "visualizer.score(X_test_scaled, y_test)  # Evaluate the model on the test data\n",
    "visualizer.show()  \n",
    "plt.show()"
   ]
  },
  {
   "cell_type": "markdown",
   "metadata": {},
   "source": [
    "### Model 11"
   ]
  },
  {
   "cell_type": "code",
   "execution_count": null,
   "metadata": {},
   "outputs": [],
   "source": [
    "cols = ['bathrooms', 'bedrooms', 'floors', 'sqft_living', 'yr_built'] + encoded_zipcode + encoded_grade + encoded_view + encoded_waterfront\n",
    "\n",
    "y = y_train\n",
    "x = X_train.filter(cols, axis=1)\n",
    "\n",
    "y2 = y_test\n",
    "x2 = X_test.filter(cols, axis=1)"
   ]
  },
  {
   "cell_type": "code",
   "execution_count": null,
   "metadata": {},
   "outputs": [],
   "source": [
    "X_train_scaled, X_test_scaled, train_preds, test_preds = scale_score(x, y, x2, y2)"
   ]
  },
  {
   "cell_type": "code",
   "execution_count": null,
   "metadata": {
    "scrolled": true
   },
   "outputs": [],
   "source": [
    "get_train_test_metrics(y_train, train_preds, y_test, test_preds)"
   ]
  },
  {
   "cell_type": "markdown",
   "metadata": {},
   "source": [
    "# Visualizations"
   ]
  }
 ],
 "metadata": {
  "kernelspec": {
   "display_name": "Python (learn-env)",
   "language": "python",
   "name": "learn-env"
  },
  "language_info": {
   "codemirror_mode": {
    "name": "ipython",
    "version": 3
   },
   "file_extension": ".py",
   "mimetype": "text/x-python",
   "name": "python",
   "nbconvert_exporter": "python",
   "pygments_lexer": "ipython3",
   "version": "3.9.12"
  }
 },
 "nbformat": 4,
 "nbformat_minor": 4
}
