{
 "cells": [
  {
   "cell_type": "code",
   "execution_count": 1,
   "metadata": {},
   "outputs": [],
   "source": [
    "import numpy as np\n",
    "import pandas as pd\n",
    "from scipy import stats\n",
    "\n",
    "import warnings\n",
    "warnings.filterwarnings(action='ignore')\n",
    "\n",
    "import folium\n",
    "KC_coord = (47.4081,-121.9949)\n",
    "Seattle_coord = (47.6062,-122.3321)\n",
    "import matplotlib.pyplot as plt\n",
    "from matplotlib import ticker\n",
    "%matplotlib inline\n",
    "import seaborn as sns\n",
    "plt.style.use('seaborn-notebook')\n",
    "from yellowbrick.regressor import ResidualsPlot\n",
    "\n",
    "import statsmodels.api as sm\n",
    "from statsmodels.api import OLS\n",
    "\n",
    "from sklearn.dummy import DummyRegressor\n",
    "from sklearn.pipeline import make_pipeline\n",
    "from sklearn.compose import ColumnTransformer\n",
    "from sklearn.linear_model import LinearRegression\n",
    "from sklearn.model_selection import train_test_split\n",
    "from sklearn.metrics import r2_score, mean_squared_error, mean_absolute_error\n",
    "from sklearn.preprocessing import PolynomialFeatures, StandardScaler, OrdinalEncoder, OneHotEncoder"
   ]
  },
  {
   "cell_type": "code",
   "execution_count": 2,
   "metadata": {
    "scrolled": true
   },
   "outputs": [
    {
     "data": {
      "text/html": [
       "<div>\n",
       "<style scoped>\n",
       "    .dataframe tbody tr th:only-of-type {\n",
       "        vertical-align: middle;\n",
       "    }\n",
       "\n",
       "    .dataframe tbody tr th {\n",
       "        vertical-align: top;\n",
       "    }\n",
       "\n",
       "    .dataframe thead th {\n",
       "        text-align: right;\n",
       "    }\n",
       "</style>\n",
       "<table border=\"1\" class=\"dataframe\">\n",
       "  <thead>\n",
       "    <tr style=\"text-align: right;\">\n",
       "      <th></th>\n",
       "      <th>id</th>\n",
       "      <th>date</th>\n",
       "      <th>price</th>\n",
       "      <th>bedrooms</th>\n",
       "      <th>bathrooms</th>\n",
       "      <th>sqft_living</th>\n",
       "      <th>sqft_lot</th>\n",
       "      <th>floors</th>\n",
       "      <th>waterfront</th>\n",
       "      <th>greenbelt</th>\n",
       "      <th>...</th>\n",
       "      <th>sewer_system</th>\n",
       "      <th>sqft_above</th>\n",
       "      <th>sqft_basement</th>\n",
       "      <th>sqft_garage</th>\n",
       "      <th>sqft_patio</th>\n",
       "      <th>yr_built</th>\n",
       "      <th>yr_renovated</th>\n",
       "      <th>address</th>\n",
       "      <th>lat</th>\n",
       "      <th>long</th>\n",
       "    </tr>\n",
       "  </thead>\n",
       "  <tbody>\n",
       "    <tr>\n",
       "      <th>0</th>\n",
       "      <td>7399300360</td>\n",
       "      <td>2022-05-24</td>\n",
       "      <td>675000.0</td>\n",
       "      <td>4</td>\n",
       "      <td>1.0</td>\n",
       "      <td>1180</td>\n",
       "      <td>7140</td>\n",
       "      <td>1.0</td>\n",
       "      <td>NO</td>\n",
       "      <td>NO</td>\n",
       "      <td>...</td>\n",
       "      <td>PUBLIC</td>\n",
       "      <td>1180</td>\n",
       "      <td>0</td>\n",
       "      <td>0</td>\n",
       "      <td>40</td>\n",
       "      <td>1969</td>\n",
       "      <td>0</td>\n",
       "      <td>2102 Southeast 21st Court, Renton, Washington ...</td>\n",
       "      <td>47.461975</td>\n",
       "      <td>-122.19052</td>\n",
       "    </tr>\n",
       "    <tr>\n",
       "      <th>1</th>\n",
       "      <td>8910500230</td>\n",
       "      <td>2021-12-13</td>\n",
       "      <td>920000.0</td>\n",
       "      <td>5</td>\n",
       "      <td>2.5</td>\n",
       "      <td>2770</td>\n",
       "      <td>6703</td>\n",
       "      <td>1.0</td>\n",
       "      <td>NO</td>\n",
       "      <td>NO</td>\n",
       "      <td>...</td>\n",
       "      <td>PUBLIC</td>\n",
       "      <td>1570</td>\n",
       "      <td>1570</td>\n",
       "      <td>0</td>\n",
       "      <td>240</td>\n",
       "      <td>1950</td>\n",
       "      <td>0</td>\n",
       "      <td>11231 Greenwood Avenue North, Seattle, Washing...</td>\n",
       "      <td>47.711525</td>\n",
       "      <td>-122.35591</td>\n",
       "    </tr>\n",
       "    <tr>\n",
       "      <th>2</th>\n",
       "      <td>1180000275</td>\n",
       "      <td>2021-09-29</td>\n",
       "      <td>311000.0</td>\n",
       "      <td>6</td>\n",
       "      <td>2.0</td>\n",
       "      <td>2880</td>\n",
       "      <td>6156</td>\n",
       "      <td>1.0</td>\n",
       "      <td>NO</td>\n",
       "      <td>NO</td>\n",
       "      <td>...</td>\n",
       "      <td>PUBLIC</td>\n",
       "      <td>1580</td>\n",
       "      <td>1580</td>\n",
       "      <td>0</td>\n",
       "      <td>0</td>\n",
       "      <td>1956</td>\n",
       "      <td>0</td>\n",
       "      <td>8504 South 113th Street, Seattle, Washington 9...</td>\n",
       "      <td>47.502045</td>\n",
       "      <td>-122.22520</td>\n",
       "    </tr>\n",
       "    <tr>\n",
       "      <th>3</th>\n",
       "      <td>1604601802</td>\n",
       "      <td>2021-12-14</td>\n",
       "      <td>775000.0</td>\n",
       "      <td>3</td>\n",
       "      <td>3.0</td>\n",
       "      <td>2160</td>\n",
       "      <td>1400</td>\n",
       "      <td>2.0</td>\n",
       "      <td>NO</td>\n",
       "      <td>NO</td>\n",
       "      <td>...</td>\n",
       "      <td>PUBLIC</td>\n",
       "      <td>1090</td>\n",
       "      <td>1070</td>\n",
       "      <td>200</td>\n",
       "      <td>270</td>\n",
       "      <td>2010</td>\n",
       "      <td>0</td>\n",
       "      <td>4079 Letitia Avenue South, Seattle, Washington...</td>\n",
       "      <td>47.566110</td>\n",
       "      <td>-122.29020</td>\n",
       "    </tr>\n",
       "    <tr>\n",
       "      <th>4</th>\n",
       "      <td>8562780790</td>\n",
       "      <td>2021-08-24</td>\n",
       "      <td>592500.0</td>\n",
       "      <td>2</td>\n",
       "      <td>2.0</td>\n",
       "      <td>1120</td>\n",
       "      <td>758</td>\n",
       "      <td>2.0</td>\n",
       "      <td>NO</td>\n",
       "      <td>NO</td>\n",
       "      <td>...</td>\n",
       "      <td>PUBLIC</td>\n",
       "      <td>1120</td>\n",
       "      <td>550</td>\n",
       "      <td>550</td>\n",
       "      <td>30</td>\n",
       "      <td>2012</td>\n",
       "      <td>0</td>\n",
       "      <td>2193 Northwest Talus Drive, Issaquah, Washingt...</td>\n",
       "      <td>47.532470</td>\n",
       "      <td>-122.07188</td>\n",
       "    </tr>\n",
       "    <tr>\n",
       "      <th>...</th>\n",
       "      <td>...</td>\n",
       "      <td>...</td>\n",
       "      <td>...</td>\n",
       "      <td>...</td>\n",
       "      <td>...</td>\n",
       "      <td>...</td>\n",
       "      <td>...</td>\n",
       "      <td>...</td>\n",
       "      <td>...</td>\n",
       "      <td>...</td>\n",
       "      <td>...</td>\n",
       "      <td>...</td>\n",
       "      <td>...</td>\n",
       "      <td>...</td>\n",
       "      <td>...</td>\n",
       "      <td>...</td>\n",
       "      <td>...</td>\n",
       "      <td>...</td>\n",
       "      <td>...</td>\n",
       "      <td>...</td>\n",
       "      <td>...</td>\n",
       "    </tr>\n",
       "    <tr>\n",
       "      <th>30150</th>\n",
       "      <td>7834800180</td>\n",
       "      <td>2021-11-30</td>\n",
       "      <td>1555000.0</td>\n",
       "      <td>5</td>\n",
       "      <td>2.0</td>\n",
       "      <td>1910</td>\n",
       "      <td>4000</td>\n",
       "      <td>1.5</td>\n",
       "      <td>NO</td>\n",
       "      <td>NO</td>\n",
       "      <td>...</td>\n",
       "      <td>PUBLIC</td>\n",
       "      <td>1600</td>\n",
       "      <td>1130</td>\n",
       "      <td>0</td>\n",
       "      <td>210</td>\n",
       "      <td>1921</td>\n",
       "      <td>0</td>\n",
       "      <td>4673 Eastern Avenue North, Seattle, Washington...</td>\n",
       "      <td>47.664740</td>\n",
       "      <td>-122.32940</td>\n",
       "    </tr>\n",
       "    <tr>\n",
       "      <th>30151</th>\n",
       "      <td>194000695</td>\n",
       "      <td>2021-06-16</td>\n",
       "      <td>1313000.0</td>\n",
       "      <td>3</td>\n",
       "      <td>2.0</td>\n",
       "      <td>2020</td>\n",
       "      <td>5800</td>\n",
       "      <td>2.0</td>\n",
       "      <td>NO</td>\n",
       "      <td>NO</td>\n",
       "      <td>...</td>\n",
       "      <td>PUBLIC</td>\n",
       "      <td>2020</td>\n",
       "      <td>0</td>\n",
       "      <td>0</td>\n",
       "      <td>520</td>\n",
       "      <td>2011</td>\n",
       "      <td>0</td>\n",
       "      <td>4131 44th Avenue Southwest, Seattle, Washingto...</td>\n",
       "      <td>47.565610</td>\n",
       "      <td>-122.38851</td>\n",
       "    </tr>\n",
       "    <tr>\n",
       "      <th>30152</th>\n",
       "      <td>7960100080</td>\n",
       "      <td>2022-05-27</td>\n",
       "      <td>800000.0</td>\n",
       "      <td>3</td>\n",
       "      <td>2.0</td>\n",
       "      <td>1620</td>\n",
       "      <td>3600</td>\n",
       "      <td>1.0</td>\n",
       "      <td>NO</td>\n",
       "      <td>NO</td>\n",
       "      <td>...</td>\n",
       "      <td>PUBLIC</td>\n",
       "      <td>940</td>\n",
       "      <td>920</td>\n",
       "      <td>240</td>\n",
       "      <td>110</td>\n",
       "      <td>1995</td>\n",
       "      <td>0</td>\n",
       "      <td>910 Martin Luther King Jr Way, Seattle, Washin...</td>\n",
       "      <td>47.610395</td>\n",
       "      <td>-122.29585</td>\n",
       "    </tr>\n",
       "    <tr>\n",
       "      <th>30153</th>\n",
       "      <td>2781280080</td>\n",
       "      <td>2022-02-24</td>\n",
       "      <td>775000.0</td>\n",
       "      <td>3</td>\n",
       "      <td>2.5</td>\n",
       "      <td>2570</td>\n",
       "      <td>2889</td>\n",
       "      <td>2.0</td>\n",
       "      <td>NO</td>\n",
       "      <td>NO</td>\n",
       "      <td>...</td>\n",
       "      <td>PUBLIC</td>\n",
       "      <td>1830</td>\n",
       "      <td>740</td>\n",
       "      <td>480</td>\n",
       "      <td>100</td>\n",
       "      <td>2006</td>\n",
       "      <td>0</td>\n",
       "      <td>17127 114th Avenue Southeast, Renton, Washingt...</td>\n",
       "      <td>47.449490</td>\n",
       "      <td>-122.18908</td>\n",
       "    </tr>\n",
       "    <tr>\n",
       "      <th>30154</th>\n",
       "      <td>9557800100</td>\n",
       "      <td>2022-04-29</td>\n",
       "      <td>500000.0</td>\n",
       "      <td>3</td>\n",
       "      <td>1.5</td>\n",
       "      <td>1200</td>\n",
       "      <td>11058</td>\n",
       "      <td>1.0</td>\n",
       "      <td>NO</td>\n",
       "      <td>NO</td>\n",
       "      <td>...</td>\n",
       "      <td>PUBLIC</td>\n",
       "      <td>1200</td>\n",
       "      <td>0</td>\n",
       "      <td>420</td>\n",
       "      <td>0</td>\n",
       "      <td>1965</td>\n",
       "      <td>0</td>\n",
       "      <td>18615 7th Avenue South, Burien, Washington 981...</td>\n",
       "      <td>47.435840</td>\n",
       "      <td>-122.32634</td>\n",
       "    </tr>\n",
       "  </tbody>\n",
       "</table>\n",
       "<p>30155 rows × 25 columns</p>\n",
       "</div>"
      ],
      "text/plain": [
       "               id       date      price  bedrooms  bathrooms  sqft_living  \\\n",
       "0      7399300360 2022-05-24   675000.0         4        1.0         1180   \n",
       "1      8910500230 2021-12-13   920000.0         5        2.5         2770   \n",
       "2      1180000275 2021-09-29   311000.0         6        2.0         2880   \n",
       "3      1604601802 2021-12-14   775000.0         3        3.0         2160   \n",
       "4      8562780790 2021-08-24   592500.0         2        2.0         1120   \n",
       "...           ...        ...        ...       ...        ...          ...   \n",
       "30150  7834800180 2021-11-30  1555000.0         5        2.0         1910   \n",
       "30151   194000695 2021-06-16  1313000.0         3        2.0         2020   \n",
       "30152  7960100080 2022-05-27   800000.0         3        2.0         1620   \n",
       "30153  2781280080 2022-02-24   775000.0         3        2.5         2570   \n",
       "30154  9557800100 2022-04-29   500000.0         3        1.5         1200   \n",
       "\n",
       "       sqft_lot  floors waterfront greenbelt  ... sewer_system sqft_above  \\\n",
       "0          7140     1.0         NO        NO  ...       PUBLIC       1180   \n",
       "1          6703     1.0         NO        NO  ...       PUBLIC       1570   \n",
       "2          6156     1.0         NO        NO  ...       PUBLIC       1580   \n",
       "3          1400     2.0         NO        NO  ...       PUBLIC       1090   \n",
       "4           758     2.0         NO        NO  ...       PUBLIC       1120   \n",
       "...         ...     ...        ...       ...  ...          ...        ...   \n",
       "30150      4000     1.5         NO        NO  ...       PUBLIC       1600   \n",
       "30151      5800     2.0         NO        NO  ...       PUBLIC       2020   \n",
       "30152      3600     1.0         NO        NO  ...       PUBLIC        940   \n",
       "30153      2889     2.0         NO        NO  ...       PUBLIC       1830   \n",
       "30154     11058     1.0         NO        NO  ...       PUBLIC       1200   \n",
       "\n",
       "      sqft_basement sqft_garage sqft_patio yr_built  yr_renovated  \\\n",
       "0                 0           0         40     1969             0   \n",
       "1              1570           0        240     1950             0   \n",
       "2              1580           0          0     1956             0   \n",
       "3              1070         200        270     2010             0   \n",
       "4               550         550         30     2012             0   \n",
       "...             ...         ...        ...      ...           ...   \n",
       "30150          1130           0        210     1921             0   \n",
       "30151             0           0        520     2011             0   \n",
       "30152           920         240        110     1995             0   \n",
       "30153           740         480        100     2006             0   \n",
       "30154             0         420          0     1965             0   \n",
       "\n",
       "                                                 address        lat       long  \n",
       "0      2102 Southeast 21st Court, Renton, Washington ...  47.461975 -122.19052  \n",
       "1      11231 Greenwood Avenue North, Seattle, Washing...  47.711525 -122.35591  \n",
       "2      8504 South 113th Street, Seattle, Washington 9...  47.502045 -122.22520  \n",
       "3      4079 Letitia Avenue South, Seattle, Washington...  47.566110 -122.29020  \n",
       "4      2193 Northwest Talus Drive, Issaquah, Washingt...  47.532470 -122.07188  \n",
       "...                                                  ...        ...        ...  \n",
       "30150  4673 Eastern Avenue North, Seattle, Washington...  47.664740 -122.32940  \n",
       "30151  4131 44th Avenue Southwest, Seattle, Washingto...  47.565610 -122.38851  \n",
       "30152  910 Martin Luther King Jr Way, Seattle, Washin...  47.610395 -122.29585  \n",
       "30153  17127 114th Avenue Southeast, Renton, Washingt...  47.449490 -122.18908  \n",
       "30154  18615 7th Avenue South, Burien, Washington 981...  47.435840 -122.32634  \n",
       "\n",
       "[30155 rows x 25 columns]"
      ]
     },
     "execution_count": 2,
     "metadata": {},
     "output_type": "execute_result"
    }
   ],
   "source": [
    "# specify index_col=0 to avoid creating an \"Unnamed: 0\" column.\n",
    "# specify parse date to avoid object dtype for dates\n",
    "df = pd.read_csv('./data/kc_house_data_22.csv', parse_dates=['date']) \n",
    "df"
   ]
  },
  {
   "cell_type": "code",
   "execution_count": 3,
   "metadata": {},
   "outputs": [
    {
     "data": {
      "text/plain": [
       "30155"
      ]
     },
     "execution_count": 3,
     "metadata": {},
     "output_type": "execute_result"
    }
   ],
   "source": [
    "len(df)"
   ]
  },
  {
   "cell_type": "code",
   "execution_count": 4,
   "metadata": {
    "scrolled": true
   },
   "outputs": [
    {
     "data": {
      "image/png": "[encoded data removed]",
      "text/plain": [
       "<Figure size 576x396 with 2 Axes>"
      ]
     },
     "metadata": {},
     "output_type": "display_data"
    }
   ],
   "source": [
    "sns.heatmap(df.corr());"
   ]
  },
  {
   "cell_type": "code",
   "execution_count": 5,
   "metadata": {},
   "outputs": [
    {
     "data": {
      "text/html": [
       "<div>\n",
       "<style scoped>\n",
       "    .dataframe tbody tr th:only-of-type {\n",
       "        vertical-align: middle;\n",
       "    }\n",
       "\n",
       "    .dataframe tbody tr th {\n",
       "        vertical-align: top;\n",
       "    }\n",
       "\n",
       "    .dataframe thead th {\n",
       "        text-align: right;\n",
       "    }\n",
       "</style>\n",
       "<table border=\"1\" class=\"dataframe\">\n",
       "  <thead>\n",
       "    <tr style=\"text-align: right;\">\n",
       "      <th></th>\n",
       "      <th>id</th>\n",
       "      <th>date</th>\n",
       "      <th>price</th>\n",
       "      <th>bedrooms</th>\n",
       "      <th>bathrooms</th>\n",
       "      <th>sqft_living</th>\n",
       "      <th>sqft_lot</th>\n",
       "      <th>floors</th>\n",
       "      <th>waterfront</th>\n",
       "      <th>greenbelt</th>\n",
       "      <th>...</th>\n",
       "      <th>sqft_above</th>\n",
       "      <th>sqft_basement</th>\n",
       "      <th>sqft_garage</th>\n",
       "      <th>sqft_patio</th>\n",
       "      <th>yr_built</th>\n",
       "      <th>yr_renovated</th>\n",
       "      <th>address</th>\n",
       "      <th>lat</th>\n",
       "      <th>long</th>\n",
       "      <th>zipcode</th>\n",
       "    </tr>\n",
       "  </thead>\n",
       "  <tbody>\n",
       "    <tr>\n",
       "      <th>0</th>\n",
       "      <td>7399300360</td>\n",
       "      <td>2022-05-24</td>\n",
       "      <td>675000.0</td>\n",
       "      <td>4</td>\n",
       "      <td>1.0</td>\n",
       "      <td>1180</td>\n",
       "      <td>7140</td>\n",
       "      <td>1.0</td>\n",
       "      <td>NO</td>\n",
       "      <td>NO</td>\n",
       "      <td>...</td>\n",
       "      <td>1180</td>\n",
       "      <td>0</td>\n",
       "      <td>0</td>\n",
       "      <td>40</td>\n",
       "      <td>1969</td>\n",
       "      <td>0</td>\n",
       "      <td>2102 Southeast 21st Court, Renton, Washington ...</td>\n",
       "      <td>47.461975</td>\n",
       "      <td>-122.19052</td>\n",
       "      <td>98055</td>\n",
       "    </tr>\n",
       "    <tr>\n",
       "      <th>1</th>\n",
       "      <td>8910500230</td>\n",
       "      <td>2021-12-13</td>\n",
       "      <td>920000.0</td>\n",
       "      <td>5</td>\n",
       "      <td>2.5</td>\n",
       "      <td>2770</td>\n",
       "      <td>6703</td>\n",
       "      <td>1.0</td>\n",
       "      <td>NO</td>\n",
       "      <td>NO</td>\n",
       "      <td>...</td>\n",
       "      <td>1570</td>\n",
       "      <td>1570</td>\n",
       "      <td>0</td>\n",
       "      <td>240</td>\n",
       "      <td>1950</td>\n",
       "      <td>0</td>\n",
       "      <td>11231 Greenwood Avenue North, Seattle, Washing...</td>\n",
       "      <td>47.711525</td>\n",
       "      <td>-122.35591</td>\n",
       "      <td>98133</td>\n",
       "    </tr>\n",
       "    <tr>\n",
       "      <th>2</th>\n",
       "      <td>1180000275</td>\n",
       "      <td>2021-09-29</td>\n",
       "      <td>311000.0</td>\n",
       "      <td>6</td>\n",
       "      <td>2.0</td>\n",
       "      <td>2880</td>\n",
       "      <td>6156</td>\n",
       "      <td>1.0</td>\n",
       "      <td>NO</td>\n",
       "      <td>NO</td>\n",
       "      <td>...</td>\n",
       "      <td>1580</td>\n",
       "      <td>1580</td>\n",
       "      <td>0</td>\n",
       "      <td>0</td>\n",
       "      <td>1956</td>\n",
       "      <td>0</td>\n",
       "      <td>8504 South 113th Street, Seattle, Washington 9...</td>\n",
       "      <td>47.502045</td>\n",
       "      <td>-122.22520</td>\n",
       "      <td>98178</td>\n",
       "    </tr>\n",
       "    <tr>\n",
       "      <th>3</th>\n",
       "      <td>1604601802</td>\n",
       "      <td>2021-12-14</td>\n",
       "      <td>775000.0</td>\n",
       "      <td>3</td>\n",
       "      <td>3.0</td>\n",
       "      <td>2160</td>\n",
       "      <td>1400</td>\n",
       "      <td>2.0</td>\n",
       "      <td>NO</td>\n",
       "      <td>NO</td>\n",
       "      <td>...</td>\n",
       "      <td>1090</td>\n",
       "      <td>1070</td>\n",
       "      <td>200</td>\n",
       "      <td>270</td>\n",
       "      <td>2010</td>\n",
       "      <td>0</td>\n",
       "      <td>4079 Letitia Avenue South, Seattle, Washington...</td>\n",
       "      <td>47.566110</td>\n",
       "      <td>-122.29020</td>\n",
       "      <td>98118</td>\n",
       "    </tr>\n",
       "    <tr>\n",
       "      <th>4</th>\n",
       "      <td>8562780790</td>\n",
       "      <td>2021-08-24</td>\n",
       "      <td>592500.0</td>\n",
       "      <td>2</td>\n",
       "      <td>2.0</td>\n",
       "      <td>1120</td>\n",
       "      <td>758</td>\n",
       "      <td>2.0</td>\n",
       "      <td>NO</td>\n",
       "      <td>NO</td>\n",
       "      <td>...</td>\n",
       "      <td>1120</td>\n",
       "      <td>550</td>\n",
       "      <td>550</td>\n",
       "      <td>30</td>\n",
       "      <td>2012</td>\n",
       "      <td>0</td>\n",
       "      <td>2193 Northwest Talus Drive, Issaquah, Washingt...</td>\n",
       "      <td>47.532470</td>\n",
       "      <td>-122.07188</td>\n",
       "      <td>98027</td>\n",
       "    </tr>\n",
       "  </tbody>\n",
       "</table>\n",
       "<p>5 rows × 26 columns</p>\n",
       "</div>"
      ],
      "text/plain": [
       "           id       date     price  bedrooms  bathrooms  sqft_living  \\\n",
       "0  7399300360 2022-05-24  675000.0         4        1.0         1180   \n",
       "1  8910500230 2021-12-13  920000.0         5        2.5         2770   \n",
       "2  1180000275 2021-09-29  311000.0         6        2.0         2880   \n",
       "3  1604601802 2021-12-14  775000.0         3        3.0         2160   \n",
       "4  8562780790 2021-08-24  592500.0         2        2.0         1120   \n",
       "\n",
       "   sqft_lot  floors waterfront greenbelt  ... sqft_above sqft_basement  \\\n",
       "0      7140     1.0         NO        NO  ...       1180             0   \n",
       "1      6703     1.0         NO        NO  ...       1570          1570   \n",
       "2      6156     1.0         NO        NO  ...       1580          1580   \n",
       "3      1400     2.0         NO        NO  ...       1090          1070   \n",
       "4       758     2.0         NO        NO  ...       1120           550   \n",
       "\n",
       "  sqft_garage sqft_patio yr_built yr_renovated  \\\n",
       "0           0         40     1969            0   \n",
       "1           0        240     1950            0   \n",
       "2           0          0     1956            0   \n",
       "3         200        270     2010            0   \n",
       "4         550         30     2012            0   \n",
       "\n",
       "                                             address        lat       long  \\\n",
       "0  2102 Southeast 21st Court, Renton, Washington ...  47.461975 -122.19052   \n",
       "1  11231 Greenwood Avenue North, Seattle, Washing...  47.711525 -122.35591   \n",
       "2  8504 South 113th Street, Seattle, Washington 9...  47.502045 -122.22520   \n",
       "3  4079 Letitia Avenue South, Seattle, Washington...  47.566110 -122.29020   \n",
       "4  2193 Northwest Talus Drive, Issaquah, Washingt...  47.532470 -122.07188   \n",
       "\n",
       "   zipcode  \n",
       "0    98055  \n",
       "1    98133  \n",
       "2    98178  \n",
       "3    98118  \n",
       "4    98027  \n",
       "\n",
       "[5 rows x 26 columns]"
      ]
     },
     "execution_count": 5,
     "metadata": {},
     "output_type": "execute_result"
    }
   ],
   "source": [
    "zipcode = []\n",
    "\n",
    "for zips in df['address']:\n",
    "    zipcode.append(int(zips[-20:-15]))\n",
    "    \n",
    "df['zipcode'] = zipcode\n",
    "df.head()"
   ]
  },
  {
   "cell_type": "code",
   "execution_count": 6,
   "metadata": {},
   "outputs": [
    {
     "name": "stdout",
     "output_type": "stream",
     "text": [
      "<class 'pandas.core.frame.DataFrame'>\n",
      "RangeIndex: 30155 entries, 0 to 30154\n",
      "Data columns (total 26 columns):\n",
      " #   Column         Non-Null Count  Dtype         \n",
      "---  ------         --------------  -----         \n",
      " 0   id             30155 non-null  int64         \n",
      " 1   date           30155 non-null  datetime64[ns]\n",
      " 2   price          30155 non-null  float64       \n",
      " 3   bedrooms       30155 non-null  int64         \n",
      " 4   bathrooms      30155 non-null  float64       \n",
      " 5   sqft_living    30155 non-null  int64         \n",
      " 6   sqft_lot       30155 non-null  int64         \n",
      " 7   floors         30155 non-null  float64       \n",
      " 8   waterfront     30155 non-null  object        \n",
      " 9   greenbelt      30155 non-null  object        \n",
      " 10  nuisance       30155 non-null  object        \n",
      " 11  view           30155 non-null  object        \n",
      " 12  condition      30155 non-null  object        \n",
      " 13  grade          30155 non-null  object        \n",
      " 14  heat_source    30123 non-null  object        \n",
      " 15  sewer_system   30141 non-null  object        \n",
      " 16  sqft_above     30155 non-null  int64         \n",
      " 17  sqft_basement  30155 non-null  int64         \n",
      " 18  sqft_garage    30155 non-null  int64         \n",
      " 19  sqft_patio     30155 non-null  int64         \n",
      " 20  yr_built       30155 non-null  int64         \n",
      " 21  yr_renovated   30155 non-null  int64         \n",
      " 22  address        30155 non-null  object        \n",
      " 23  lat            30155 non-null  float64       \n",
      " 24  long           30155 non-null  float64       \n",
      " 25  zipcode        30155 non-null  int64         \n",
      "dtypes: datetime64[ns](1), float64(5), int64(11), object(9)\n",
      "memory usage: 6.0+ MB\n"
     ]
    }
   ],
   "source": [
    "df.info()"
   ]
  },
  {
   "cell_type": "markdown",
   "metadata": {},
   "source": [
    "# Helper Functions"
   ]
  },
  {
   "cell_type": "markdown",
   "metadata": {},
   "source": [
    "ohe executes 2 transformations, test and train. data for any given input variable: First, we use OneHotEncoder to split up our categorical variables. Second, we run a linear regression on encoded values using .fit(). Then, it takes in a training df ('df'), a test df ('df2') and a column name. Next, it returns the training df and the test df concatenated with newly encoded columns. Lastly, we return a list of these newly encoded column names. "
   ]
  },
  {
   "cell_type": "code",
   "execution_count": 7,
   "metadata": {},
   "outputs": [],
   "source": [
    "def ohe(df, df2, column):\n",
    "    for col in column:\n",
    "        train = df[[col]]\n",
    "        ohe = OneHotEncoder(drop='first', sparse=False, handle_unknown=\"ignore\")\n",
    "        ohe.fit(train)\n",
    "        encoded_train = ohe.transform(train)\n",
    "        col_labels = [f\"{col}_{f}\" for f in ohe.get_feature_names()]\n",
    "        encoded_train = pd.DataFrame(encoded_train, columns=col_labels, index=df.index)\n",
    "        df = pd.concat([df, encoded_train], axis=1)\n",
    "        \n",
    "        test = df2[[col]]\n",
    "        encoded_test = ohe.transform(test)\n",
    "        col_labels = [f\"{col}_{f}\" for f in ohe.get_feature_names()]\n",
    "        encoded_test = pd.DataFrame(encoded_test, columns=col_labels, index=df2.index)\n",
    "        df2 = pd.concat([df2, encoded_test], axis=1)\n",
    "        \n",
    "    return df, df2, encoded_train.columns.tolist()"
   ]
  },
  {
   "cell_type": "markdown",
   "metadata": {},
   "source": [
    "We run a Standard Scaler to scale all the values in the test data and training data so that our models results are in comparable units. Then, we score the scaled data to get the R2 to assess the strength of our model."
   ]
  },
  {
   "cell_type": "code",
   "execution_count": 8,
   "metadata": {},
   "outputs": [],
   "source": [
    "def scale_score(x, y, x2, y2):\n",
    "    scaler = StandardScaler()\n",
    "    scaler.fit(x)\n",
    "    X_train_scaled = scaler.transform(x)\n",
    "    X_test_scaled = scaler.transform(x2)\n",
    "\n",
    "    lr = LinearRegression()\n",
    "    lr.fit(X_train_scaled,y_train)\n",
    "\n",
    "    train_preds = lr.predict(X_train_scaled)\n",
    "    test_preds = lr.predict(X_test_scaled)\n",
    "    \n",
    "    print(f\"\"\"training score: {r2_score(y_train, train_preds)}\n",
    "    test score: {r2_score(y_test, test_preds)}\"\"\")\n",
    "    \n",
    "    return X_train_scaled, X_test_scaled, train_preds, test_preds"
   ]
  },
  {
   "cell_type": "markdown",
   "metadata": {},
   "source": [
    "Uses price and predictions to calculate Mean Absolute Error (MAE), Mean Squared Error (MSE) and Root Mean Squared Error (RSME) for the training and testing data sets. We will compare these values to evaluate model performance."
   ]
  },
  {
   "cell_type": "code",
   "execution_count": 9,
   "metadata": {},
   "outputs": [],
   "source": [
    "def get_train_test_metrics(y_train, train_preds,\n",
    "               y_test, test_preds):\n",
    "    \"\"\"\n",
    "    Prints different training and testing metrics, namely R2, MAE, MSE, RMSE\n",
    "    \"\"\"\n",
    "    print(\"\\nTraining Metrics:\")\n",
    "    print(f\"R2: {r2_score(y_train, train_preds):.3f}\")\n",
    "    print(f\"Mean Absolute Error: {mean_absolute_error(y_train, train_preds):.3f}\")\n",
    "    print(f\"Mean Squared Error: {mean_squared_error(y_train, train_preds):.3f}\")\n",
    "    print(f\"Root Mean Squared Error: {mean_squared_error(y_train, train_preds, squared=False):.3f}\")\n",
    "    \n",
    "    print(\"\\nTesting Metrics:\")\n",
    "    print(f\"R2: {r2_score(y_test, test_preds):.3f}\")\n",
    "    print(f\"Mean Absolute Error: {mean_absolute_error(y_test, test_preds):.3f}\")\n",
    "    print(f\"Mean Squared Error: {mean_squared_error(y_test, test_preds):.3f}\")\n",
    "    print(f\"Root Mean Squared Error: {mean_squared_error(y_test, test_preds, squared=False):.3f}\")"
   ]
  },
  {
   "cell_type": "markdown",
   "metadata": {},
   "source": [
    "# Outliers"
   ]
  },
  {
   "cell_type": "markdown",
   "metadata": {},
   "source": [
    "### Bedrooms"
   ]
  },
  {
   "cell_type": "code",
   "execution_count": 10,
   "metadata": {},
   "outputs": [
    {
     "name": "stdout",
     "output_type": "stream",
     "text": [
      "3     12754\n",
      "4      9597\n",
      "2      3936\n",
      "5      2798\n",
      "6       498\n",
      "1       391\n",
      "7        80\n",
      "0        44\n",
      "8        38\n",
      "9        14\n",
      "10        3\n",
      "11        1\n",
      "13        1\n",
      "Name: bedrooms, dtype: int64\n"
     ]
    }
   ],
   "source": [
    "bedrooms_count = print(df['bedrooms'].value_counts())"
   ]
  },
  {
   "cell_type": "code",
   "execution_count": 11,
   "metadata": {},
   "outputs": [],
   "source": [
    "#drop the 33 bedroom outlier \n",
    "df = df[df['bedrooms'] != 33]"
   ]
  },
  {
   "cell_type": "code",
   "execution_count": 12,
   "metadata": {},
   "outputs": [],
   "source": [
    "df['bedrooms_bin']=pd.cut(df['bedrooms'], bins=[0,1,2,3,4,5,6,99], labels=['1_bed','2_bed','3_bed','4_bed','5_bed','6_bed','7+_bed'])"
   ]
  },
  {
   "cell_type": "markdown",
   "metadata": {},
   "source": [
    "### Price"
   ]
  },
  {
   "cell_type": "code",
   "execution_count": 13,
   "metadata": {},
   "outputs": [
    {
     "name": "stdout",
     "output_type": "stream",
     "text": [
      "price_min: -330000.0 \n",
      "price_max: 2278000.0\n"
     ]
    }
   ],
   "source": [
    "# calculate 25, 75, iqr, whiskers for 'price'\n",
    "price_q25, price_q75 = np.percentile(df['price'], [25, 75])\n",
    "price_iqr = price_q75 - price_q25\n",
    "price_min = price_q25 - (1.5 * price_iqr)\n",
    "price_max = price_q75 + (1.5 * price_iqr)\n",
    "\n",
    "print(f\"\"\"price_min: {price_min} \n",
    "price_max: {price_max}\"\"\")"
   ]
  },
  {
   "cell_type": "code",
   "execution_count": 14,
   "metadata": {},
   "outputs": [],
   "source": [
    "df = df[df['price'] >= price_min]\n",
    "df = df[df['price'] <= price_max]"
   ]
  },
  {
   "cell_type": "markdown",
   "metadata": {},
   "source": [
    "### Sqft Lot"
   ]
  },
  {
   "cell_type": "code",
   "execution_count": 15,
   "metadata": {},
   "outputs": [
    {
     "name": "stdout",
     "output_type": "stream",
     "text": [
      "sqft_lot_min: -3378.0 \n",
      "sqft_lot_max: 18246.0\n"
     ]
    }
   ],
   "source": [
    "# calculate 25, 75, iqr, whiskers for 'sqft_lot'\n",
    "sqft_lot_q25, sqft_lot_q75 = np.percentile(df['sqft_lot'], [25, 75])\n",
    "sqft_lot_iqr = sqft_lot_q75 - sqft_lot_q25\n",
    "sqft_lot_min = sqft_lot_q25 - (1.5 * sqft_lot_iqr)\n",
    "sqft_lot_max = sqft_lot_q75 + (1.5 * sqft_lot_iqr)\n",
    "\n",
    "\n",
    "print(f\"\"\"sqft_lot_min: {sqft_lot_min} \n",
    "sqft_lot_max: {sqft_lot_max}\"\"\")"
   ]
  },
  {
   "cell_type": "code",
   "execution_count": 16,
   "metadata": {},
   "outputs": [],
   "source": [
    "# set df to include everything within the whiskers except the outliers\n",
    "df = df[df['sqft_lot'] >= sqft_lot_min]\n",
    "df = df[df['sqft_lot'] <= sqft_lot_max]"
   ]
  },
  {
   "cell_type": "markdown",
   "metadata": {},
   "source": [
    "### Floors"
   ]
  },
  {
   "cell_type": "code",
   "execution_count": 17,
   "metadata": {
    "scrolled": false
   },
   "outputs": [
    {
     "name": "stdout",
     "output_type": "stream",
     "text": [
      "1.0    11895\n",
      "2.0     9771\n",
      "1.5     2055\n",
      "3.0     1134\n",
      "2.5      127\n",
      "4.0       30\n",
      "3.5       15\n",
      "Name: floors, dtype: int64\n"
     ]
    }
   ],
   "source": [
    "floor_count = print(df['floors'].value_counts())"
   ]
  },
  {
   "cell_type": "code",
   "execution_count": 18,
   "metadata": {},
   "outputs": [],
   "source": [
    "df = df[df['floors'] != 4.0]\n",
    "df = df[df['floors'] != 3.5]"
   ]
  },
  {
   "cell_type": "markdown",
   "metadata": {},
   "source": [
    "### Grade"
   ]
  },
  {
   "cell_type": "code",
   "execution_count": 19,
   "metadata": {},
   "outputs": [
    {
     "name": "stdout",
     "output_type": "stream",
     "text": [
      "7 Average        10679\n",
      "8 Good            8175\n",
      "9 Better          2690\n",
      "6 Low Average     2553\n",
      "10 Very Good       495\n",
      "5 Fair             293\n",
      "11 Excellent        55\n",
      "4 Low               31\n",
      "3 Poor               8\n",
      "12 Luxury            3\n",
      "Name: grade, dtype: int64\n"
     ]
    }
   ],
   "source": [
    "grade_count = print(df['grade'].value_counts())"
   ]
  },
  {
   "cell_type": "code",
   "execution_count": 20,
   "metadata": {},
   "outputs": [],
   "source": [
    "df = df[df['grade'] != '3 Poor']\n",
    "df = df[df['grade'] != '12 Luxury']"
   ]
  },
  {
   "cell_type": "markdown",
   "metadata": {},
   "source": [
    "# Train-Test Split"
   ]
  },
  {
   "cell_type": "code",
   "execution_count": 21,
   "metadata": {},
   "outputs": [],
   "source": [
    "y = df['price']\n",
    "X = df.drop('price', axis=1)\n",
    "X_train, X_test, y_train, y_test = train_test_split(X, y, random_state=42, test_size=.25)"
   ]
  },
  {
   "cell_type": "markdown",
   "metadata": {},
   "source": [
    "# Categorical Variables"
   ]
  },
  {
   "cell_type": "code",
   "execution_count": 22,
   "metadata": {},
   "outputs": [
    {
     "name": "stdout",
     "output_type": "stream",
     "text": [
      "<class 'pandas.core.frame.DataFrame'>\n",
      "Int64Index: 24971 entries, 0 to 30154\n",
      "Data columns (total 27 columns):\n",
      " #   Column         Non-Null Count  Dtype         \n",
      "---  ------         --------------  -----         \n",
      " 0   id             24971 non-null  int64         \n",
      " 1   date           24971 non-null  datetime64[ns]\n",
      " 2   price          24971 non-null  float64       \n",
      " 3   bedrooms       24971 non-null  int64         \n",
      " 4   bathrooms      24971 non-null  float64       \n",
      " 5   sqft_living    24971 non-null  int64         \n",
      " 6   sqft_lot       24971 non-null  int64         \n",
      " 7   floors         24971 non-null  float64       \n",
      " 8   waterfront     24971 non-null  object        \n",
      " 9   greenbelt      24971 non-null  object        \n",
      " 10  nuisance       24971 non-null  object        \n",
      " 11  view           24971 non-null  object        \n",
      " 12  condition      24971 non-null  object        \n",
      " 13  grade          24971 non-null  object        \n",
      " 14  heat_source    24955 non-null  object        \n",
      " 15  sewer_system   24963 non-null  object        \n",
      " 16  sqft_above     24971 non-null  int64         \n",
      " 17  sqft_basement  24971 non-null  int64         \n",
      " 18  sqft_garage    24971 non-null  int64         \n",
      " 19  sqft_patio     24971 non-null  int64         \n",
      " 20  yr_built       24971 non-null  int64         \n",
      " 21  yr_renovated   24971 non-null  int64         \n",
      " 22  address        24971 non-null  object        \n",
      " 23  lat            24971 non-null  float64       \n",
      " 24  long           24971 non-null  float64       \n",
      " 25  zipcode        24971 non-null  int64         \n",
      " 26  bedrooms_bin   24943 non-null  category      \n",
      "dtypes: category(1), datetime64[ns](1), float64(5), int64(11), object(9)\n",
      "memory usage: 5.2+ MB\n"
     ]
    }
   ],
   "source": [
    "df.info()"
   ]
  },
  {
   "cell_type": "code",
   "execution_count": 23,
   "metadata": {},
   "outputs": [
    {
     "data": {
      "text/plain": [
       "id                0\n",
       "date              0\n",
       "price             0\n",
       "bedrooms          0\n",
       "bathrooms         0\n",
       "sqft_living       0\n",
       "sqft_lot          0\n",
       "floors            0\n",
       "waterfront        0\n",
       "greenbelt         0\n",
       "nuisance          0\n",
       "view              0\n",
       "condition         0\n",
       "grade             0\n",
       "heat_source      16\n",
       "sewer_system      8\n",
       "sqft_above        0\n",
       "sqft_basement     0\n",
       "sqft_garage       0\n",
       "sqft_patio        0\n",
       "yr_built          0\n",
       "yr_renovated      0\n",
       "address           0\n",
       "lat               0\n",
       "long              0\n",
       "zipcode           0\n",
       "bedrooms_bin     28\n",
       "dtype: int64"
      ]
     },
     "execution_count": 23,
     "metadata": {},
     "output_type": "execute_result"
    }
   ],
   "source": [
    "df.isna().sum()"
   ]
  },
  {
   "cell_type": "code",
   "execution_count": 24,
   "metadata": {},
   "outputs": [],
   "source": [
    "df.dropna(inplace=True)"
   ]
  },
  {
   "cell_type": "code",
   "execution_count": 25,
   "metadata": {
    "scrolled": true
   },
   "outputs": [
    {
     "data": {
      "text/plain": [
       "id               0\n",
       "date             0\n",
       "price            0\n",
       "bedrooms         0\n",
       "bathrooms        0\n",
       "sqft_living      0\n",
       "sqft_lot         0\n",
       "floors           0\n",
       "waterfront       0\n",
       "greenbelt        0\n",
       "nuisance         0\n",
       "view             0\n",
       "condition        0\n",
       "grade            0\n",
       "heat_source      0\n",
       "sewer_system     0\n",
       "sqft_above       0\n",
       "sqft_basement    0\n",
       "sqft_garage      0\n",
       "sqft_patio       0\n",
       "yr_built         0\n",
       "yr_renovated     0\n",
       "address          0\n",
       "lat              0\n",
       "long             0\n",
       "zipcode          0\n",
       "bedrooms_bin     0\n",
       "dtype: int64"
      ]
     },
     "execution_count": 25,
     "metadata": {},
     "output_type": "execute_result"
    }
   ],
   "source": [
    "df.isna().sum()"
   ]
  },
  {
   "cell_type": "code",
   "execution_count": 26,
   "metadata": {},
   "outputs": [
    {
     "data": {
      "text/html": [
       "<div>\n",
       "<style scoped>\n",
       "    .dataframe tbody tr th:only-of-type {\n",
       "        vertical-align: middle;\n",
       "    }\n",
       "\n",
       "    .dataframe tbody tr th {\n",
       "        vertical-align: top;\n",
       "    }\n",
       "\n",
       "    .dataframe thead th {\n",
       "        text-align: right;\n",
       "    }\n",
       "</style>\n",
       "<table border=\"1\" class=\"dataframe\">\n",
       "  <thead>\n",
       "    <tr style=\"text-align: right;\">\n",
       "      <th></th>\n",
       "      <th>id</th>\n",
       "      <th>price</th>\n",
       "      <th>bedrooms</th>\n",
       "      <th>bathrooms</th>\n",
       "      <th>sqft_living</th>\n",
       "      <th>sqft_lot</th>\n",
       "      <th>floors</th>\n",
       "      <th>waterfront</th>\n",
       "      <th>greenbelt</th>\n",
       "      <th>nuisance</th>\n",
       "      <th>...</th>\n",
       "      <th>sewer_system</th>\n",
       "      <th>sqft_above</th>\n",
       "      <th>sqft_patio</th>\n",
       "      <th>yr_built</th>\n",
       "      <th>yr_renovated</th>\n",
       "      <th>address</th>\n",
       "      <th>lat</th>\n",
       "      <th>long</th>\n",
       "      <th>zipcode</th>\n",
       "      <th>bedrooms_bin</th>\n",
       "    </tr>\n",
       "  </thead>\n",
       "  <tbody>\n",
       "    <tr>\n",
       "      <th>0</th>\n",
       "      <td>7399300360</td>\n",
       "      <td>675000.0</td>\n",
       "      <td>4</td>\n",
       "      <td>1.0</td>\n",
       "      <td>1180</td>\n",
       "      <td>7140</td>\n",
       "      <td>1.0</td>\n",
       "      <td>NO</td>\n",
       "      <td>NO</td>\n",
       "      <td>NO</td>\n",
       "      <td>...</td>\n",
       "      <td>PUBLIC</td>\n",
       "      <td>1180</td>\n",
       "      <td>40</td>\n",
       "      <td>1969</td>\n",
       "      <td>0</td>\n",
       "      <td>2102 Southeast 21st Court, Renton, Washington ...</td>\n",
       "      <td>47.461975</td>\n",
       "      <td>-122.19052</td>\n",
       "      <td>98055</td>\n",
       "      <td>4_bed</td>\n",
       "    </tr>\n",
       "    <tr>\n",
       "      <th>1</th>\n",
       "      <td>8910500230</td>\n",
       "      <td>920000.0</td>\n",
       "      <td>5</td>\n",
       "      <td>2.5</td>\n",
       "      <td>2770</td>\n",
       "      <td>6703</td>\n",
       "      <td>1.0</td>\n",
       "      <td>NO</td>\n",
       "      <td>NO</td>\n",
       "      <td>YES</td>\n",
       "      <td>...</td>\n",
       "      <td>PUBLIC</td>\n",
       "      <td>1570</td>\n",
       "      <td>240</td>\n",
       "      <td>1950</td>\n",
       "      <td>0</td>\n",
       "      <td>11231 Greenwood Avenue North, Seattle, Washing...</td>\n",
       "      <td>47.711525</td>\n",
       "      <td>-122.35591</td>\n",
       "      <td>98133</td>\n",
       "      <td>5_bed</td>\n",
       "    </tr>\n",
       "    <tr>\n",
       "      <th>2</th>\n",
       "      <td>1180000275</td>\n",
       "      <td>311000.0</td>\n",
       "      <td>6</td>\n",
       "      <td>2.0</td>\n",
       "      <td>2880</td>\n",
       "      <td>6156</td>\n",
       "      <td>1.0</td>\n",
       "      <td>NO</td>\n",
       "      <td>NO</td>\n",
       "      <td>NO</td>\n",
       "      <td>...</td>\n",
       "      <td>PUBLIC</td>\n",
       "      <td>1580</td>\n",
       "      <td>0</td>\n",
       "      <td>1956</td>\n",
       "      <td>0</td>\n",
       "      <td>8504 South 113th Street, Seattle, Washington 9...</td>\n",
       "      <td>47.502045</td>\n",
       "      <td>-122.22520</td>\n",
       "      <td>98178</td>\n",
       "      <td>6_bed</td>\n",
       "    </tr>\n",
       "    <tr>\n",
       "      <th>3</th>\n",
       "      <td>1604601802</td>\n",
       "      <td>775000.0</td>\n",
       "      <td>3</td>\n",
       "      <td>3.0</td>\n",
       "      <td>2160</td>\n",
       "      <td>1400</td>\n",
       "      <td>2.0</td>\n",
       "      <td>NO</td>\n",
       "      <td>NO</td>\n",
       "      <td>NO</td>\n",
       "      <td>...</td>\n",
       "      <td>PUBLIC</td>\n",
       "      <td>1090</td>\n",
       "      <td>270</td>\n",
       "      <td>2010</td>\n",
       "      <td>0</td>\n",
       "      <td>4079 Letitia Avenue South, Seattle, Washington...</td>\n",
       "      <td>47.566110</td>\n",
       "      <td>-122.29020</td>\n",
       "      <td>98118</td>\n",
       "      <td>3_bed</td>\n",
       "    </tr>\n",
       "    <tr>\n",
       "      <th>4</th>\n",
       "      <td>8562780790</td>\n",
       "      <td>592500.0</td>\n",
       "      <td>2</td>\n",
       "      <td>2.0</td>\n",
       "      <td>1120</td>\n",
       "      <td>758</td>\n",
       "      <td>2.0</td>\n",
       "      <td>NO</td>\n",
       "      <td>NO</td>\n",
       "      <td>YES</td>\n",
       "      <td>...</td>\n",
       "      <td>PUBLIC</td>\n",
       "      <td>1120</td>\n",
       "      <td>30</td>\n",
       "      <td>2012</td>\n",
       "      <td>0</td>\n",
       "      <td>2193 Northwest Talus Drive, Issaquah, Washingt...</td>\n",
       "      <td>47.532470</td>\n",
       "      <td>-122.07188</td>\n",
       "      <td>98027</td>\n",
       "      <td>2_bed</td>\n",
       "    </tr>\n",
       "  </tbody>\n",
       "</table>\n",
       "<p>5 rows × 24 columns</p>\n",
       "</div>"
      ],
      "text/plain": [
       "           id     price  bedrooms  bathrooms  sqft_living  sqft_lot  floors  \\\n",
       "0  7399300360  675000.0         4        1.0         1180      7140     1.0   \n",
       "1  8910500230  920000.0         5        2.5         2770      6703     1.0   \n",
       "2  1180000275  311000.0         6        2.0         2880      6156     1.0   \n",
       "3  1604601802  775000.0         3        3.0         2160      1400     2.0   \n",
       "4  8562780790  592500.0         2        2.0         1120       758     2.0   \n",
       "\n",
       "  waterfront greenbelt nuisance  ... sewer_system sqft_above sqft_patio  \\\n",
       "0         NO        NO       NO  ...       PUBLIC       1180         40   \n",
       "1         NO        NO      YES  ...       PUBLIC       1570        240   \n",
       "2         NO        NO       NO  ...       PUBLIC       1580          0   \n",
       "3         NO        NO       NO  ...       PUBLIC       1090        270   \n",
       "4         NO        NO      YES  ...       PUBLIC       1120         30   \n",
       "\n",
       "  yr_built yr_renovated                                            address  \\\n",
       "0     1969            0  2102 Southeast 21st Court, Renton, Washington ...   \n",
       "1     1950            0  11231 Greenwood Avenue North, Seattle, Washing...   \n",
       "2     1956            0  8504 South 113th Street, Seattle, Washington 9...   \n",
       "3     2010            0  4079 Letitia Avenue South, Seattle, Washington...   \n",
       "4     2012            0  2193 Northwest Talus Drive, Issaquah, Washingt...   \n",
       "\n",
       "         lat       long  zipcode bedrooms_bin  \n",
       "0  47.461975 -122.19052    98055        4_bed  \n",
       "1  47.711525 -122.35591    98133        5_bed  \n",
       "2  47.502045 -122.22520    98178        6_bed  \n",
       "3  47.566110 -122.29020    98118        3_bed  \n",
       "4  47.532470 -122.07188    98027        2_bed  \n",
       "\n",
       "[5 rows x 24 columns]"
      ]
     },
     "execution_count": 26,
     "metadata": {},
     "output_type": "execute_result"
    }
   ],
   "source": [
    "#drop the 33 bedroom outlier \n",
    "df.drop(['date', 'sqft_garage', 'sqft_basement'], axis=1, inplace=True)\n",
    "df.head()"
   ]
  },
  {
   "cell_type": "markdown",
   "metadata": {},
   "source": [
    "### Bedroom Bins"
   ]
  },
  {
   "cell_type": "code",
   "execution_count": 27,
   "metadata": {},
   "outputs": [],
   "source": [
    "X_train, X_test, encoded_bedrooms_bins = ohe(X_train, X_test, ['bedrooms_bin'])"
   ]
  },
  {
   "cell_type": "code",
   "execution_count": 28,
   "metadata": {},
   "outputs": [
    {
     "data": {
      "text/html": [
       "<div>\n",
       "<style scoped>\n",
       "    .dataframe tbody tr th:only-of-type {\n",
       "        vertical-align: middle;\n",
       "    }\n",
       "\n",
       "    .dataframe tbody tr th {\n",
       "        vertical-align: top;\n",
       "    }\n",
       "\n",
       "    .dataframe thead th {\n",
       "        text-align: right;\n",
       "    }\n",
       "</style>\n",
       "<table border=\"1\" class=\"dataframe\">\n",
       "  <thead>\n",
       "    <tr style=\"text-align: right;\">\n",
       "      <th></th>\n",
       "      <th>id</th>\n",
       "      <th>date</th>\n",
       "      <th>bedrooms</th>\n",
       "      <th>bathrooms</th>\n",
       "      <th>sqft_living</th>\n",
       "      <th>sqft_lot</th>\n",
       "      <th>floors</th>\n",
       "      <th>waterfront</th>\n",
       "      <th>greenbelt</th>\n",
       "      <th>nuisance</th>\n",
       "      <th>...</th>\n",
       "      <th>long</th>\n",
       "      <th>zipcode</th>\n",
       "      <th>bedrooms_bin</th>\n",
       "      <th>bedrooms_bin_x0_2_bed</th>\n",
       "      <th>bedrooms_bin_x0_3_bed</th>\n",
       "      <th>bedrooms_bin_x0_4_bed</th>\n",
       "      <th>bedrooms_bin_x0_5_bed</th>\n",
       "      <th>bedrooms_bin_x0_6_bed</th>\n",
       "      <th>bedrooms_bin_x0_7+_bed</th>\n",
       "      <th>bedrooms_bin_x0_nan</th>\n",
       "    </tr>\n",
       "  </thead>\n",
       "  <tbody>\n",
       "    <tr>\n",
       "      <th>29151</th>\n",
       "      <td>8010100195</td>\n",
       "      <td>2022-04-12</td>\n",
       "      <td>3</td>\n",
       "      <td>3.0</td>\n",
       "      <td>1940</td>\n",
       "      <td>4625</td>\n",
       "      <td>2.0</td>\n",
       "      <td>NO</td>\n",
       "      <td>NO</td>\n",
       "      <td>NO</td>\n",
       "      <td>...</td>\n",
       "      <td>-122.388940</td>\n",
       "      <td>98116</td>\n",
       "      <td>3_bed</td>\n",
       "      <td>0.0</td>\n",
       "      <td>1.0</td>\n",
       "      <td>0.0</td>\n",
       "      <td>0.0</td>\n",
       "      <td>0.0</td>\n",
       "      <td>0.0</td>\n",
       "      <td>0.0</td>\n",
       "    </tr>\n",
       "    <tr>\n",
       "      <th>25077</th>\n",
       "      <td>6699000610</td>\n",
       "      <td>2021-09-01</td>\n",
       "      <td>3</td>\n",
       "      <td>2.5</td>\n",
       "      <td>2460</td>\n",
       "      <td>5027</td>\n",
       "      <td>2.0</td>\n",
       "      <td>NO</td>\n",
       "      <td>NO</td>\n",
       "      <td>YES</td>\n",
       "      <td>...</td>\n",
       "      <td>-122.102170</td>\n",
       "      <td>98042</td>\n",
       "      <td>3_bed</td>\n",
       "      <td>0.0</td>\n",
       "      <td>1.0</td>\n",
       "      <td>0.0</td>\n",
       "      <td>0.0</td>\n",
       "      <td>0.0</td>\n",
       "      <td>0.0</td>\n",
       "      <td>0.0</td>\n",
       "    </tr>\n",
       "    <tr>\n",
       "      <th>10286</th>\n",
       "      <td>6762700370</td>\n",
       "      <td>2021-07-06</td>\n",
       "      <td>3</td>\n",
       "      <td>3.0</td>\n",
       "      <td>1550</td>\n",
       "      <td>1215</td>\n",
       "      <td>2.0</td>\n",
       "      <td>NO</td>\n",
       "      <td>NO</td>\n",
       "      <td>YES</td>\n",
       "      <td>...</td>\n",
       "      <td>-122.320637</td>\n",
       "      <td>98102</td>\n",
       "      <td>3_bed</td>\n",
       "      <td>0.0</td>\n",
       "      <td>1.0</td>\n",
       "      <td>0.0</td>\n",
       "      <td>0.0</td>\n",
       "      <td>0.0</td>\n",
       "      <td>0.0</td>\n",
       "      <td>0.0</td>\n",
       "    </tr>\n",
       "    <tr>\n",
       "      <th>502</th>\n",
       "      <td>4046710330</td>\n",
       "      <td>2021-12-01</td>\n",
       "      <td>3</td>\n",
       "      <td>2.5</td>\n",
       "      <td>1620</td>\n",
       "      <td>16606</td>\n",
       "      <td>2.0</td>\n",
       "      <td>NO</td>\n",
       "      <td>NO</td>\n",
       "      <td>NO</td>\n",
       "      <td>...</td>\n",
       "      <td>-121.913060</td>\n",
       "      <td>98014</td>\n",
       "      <td>3_bed</td>\n",
       "      <td>0.0</td>\n",
       "      <td>1.0</td>\n",
       "      <td>0.0</td>\n",
       "      <td>0.0</td>\n",
       "      <td>0.0</td>\n",
       "      <td>0.0</td>\n",
       "      <td>0.0</td>\n",
       "    </tr>\n",
       "    <tr>\n",
       "      <th>10979</th>\n",
       "      <td>1775920020</td>\n",
       "      <td>2021-10-15</td>\n",
       "      <td>3</td>\n",
       "      <td>3.0</td>\n",
       "      <td>2600</td>\n",
       "      <td>9450</td>\n",
       "      <td>1.0</td>\n",
       "      <td>NO</td>\n",
       "      <td>NO</td>\n",
       "      <td>NO</td>\n",
       "      <td>...</td>\n",
       "      <td>-122.103920</td>\n",
       "      <td>98072</td>\n",
       "      <td>3_bed</td>\n",
       "      <td>0.0</td>\n",
       "      <td>1.0</td>\n",
       "      <td>0.0</td>\n",
       "      <td>0.0</td>\n",
       "      <td>0.0</td>\n",
       "      <td>0.0</td>\n",
       "      <td>0.0</td>\n",
       "    </tr>\n",
       "  </tbody>\n",
       "</table>\n",
       "<p>5 rows × 33 columns</p>\n",
       "</div>"
      ],
      "text/plain": [
       "               id       date  bedrooms  bathrooms  sqft_living  sqft_lot  \\\n",
       "29151  8010100195 2022-04-12         3        3.0         1940      4625   \n",
       "25077  6699000610 2021-09-01         3        2.5         2460      5027   \n",
       "10286  6762700370 2021-07-06         3        3.0         1550      1215   \n",
       "502    4046710330 2021-12-01         3        2.5         1620     16606   \n",
       "10979  1775920020 2021-10-15         3        3.0         2600      9450   \n",
       "\n",
       "       floors waterfront greenbelt nuisance  ...        long zipcode  \\\n",
       "29151     2.0         NO        NO       NO  ... -122.388940   98116   \n",
       "25077     2.0         NO        NO      YES  ... -122.102170   98042   \n",
       "10286     2.0         NO        NO      YES  ... -122.320637   98102   \n",
       "502       2.0         NO        NO       NO  ... -121.913060   98014   \n",
       "10979     1.0         NO        NO       NO  ... -122.103920   98072   \n",
       "\n",
       "      bedrooms_bin bedrooms_bin_x0_2_bed bedrooms_bin_x0_3_bed  \\\n",
       "29151        3_bed                   0.0                   1.0   \n",
       "25077        3_bed                   0.0                   1.0   \n",
       "10286        3_bed                   0.0                   1.0   \n",
       "502          3_bed                   0.0                   1.0   \n",
       "10979        3_bed                   0.0                   1.0   \n",
       "\n",
       "       bedrooms_bin_x0_4_bed  bedrooms_bin_x0_5_bed  bedrooms_bin_x0_6_bed  \\\n",
       "29151                    0.0                    0.0                    0.0   \n",
       "25077                    0.0                    0.0                    0.0   \n",
       "10286                    0.0                    0.0                    0.0   \n",
       "502                      0.0                    0.0                    0.0   \n",
       "10979                    0.0                    0.0                    0.0   \n",
       "\n",
       "       bedrooms_bin_x0_7+_bed  bedrooms_bin_x0_nan  \n",
       "29151                     0.0                  0.0  \n",
       "25077                     0.0                  0.0  \n",
       "10286                     0.0                  0.0  \n",
       "502                       0.0                  0.0  \n",
       "10979                     0.0                  0.0  \n",
       "\n",
       "[5 rows x 33 columns]"
      ]
     },
     "execution_count": 28,
     "metadata": {},
     "output_type": "execute_result"
    }
   ],
   "source": [
    "X_train.head()"
   ]
  },
  {
   "cell_type": "markdown",
   "metadata": {},
   "source": [
    "### Condition"
   ]
  },
  {
   "cell_type": "code",
   "execution_count": 29,
   "metadata": {},
   "outputs": [
    {
     "data": {
      "text/plain": [
       "Average      15491\n",
       "Good          6569\n",
       "Very Good     2670\n",
       "Fair           154\n",
       "Poor            37\n",
       "Name: condition, dtype: int64"
      ]
     },
     "execution_count": 29,
     "metadata": {},
     "output_type": "execute_result"
    }
   ],
   "source": [
    "condition_count = df['condition'].value_counts()\n",
    "condition_count"
   ]
  },
  {
   "cell_type": "code",
   "execution_count": 30,
   "metadata": {},
   "outputs": [],
   "source": [
    "X_train, X_test, encoded_condition = ohe(X_train, X_test, ['condition'])"
   ]
  },
  {
   "cell_type": "code",
   "execution_count": 31,
   "metadata": {},
   "outputs": [],
   "source": [
    "X_train['condition'] = X_train['condition'].map({'Very Good': 5, 'Good': 4, 'Average': 3, 'Fair': 2, 'Poor': 1})"
   ]
  },
  {
   "cell_type": "code",
   "execution_count": 32,
   "metadata": {},
   "outputs": [],
   "source": [
    "X_test['condition'] = X_test['condition'].map({'Very Good': 5, 'Good': 4, 'Average': 3, 'Fair': 2, 'Poor': 1})"
   ]
  },
  {
   "cell_type": "markdown",
   "metadata": {},
   "source": [
    "### Floors"
   ]
  },
  {
   "cell_type": "code",
   "execution_count": 33,
   "metadata": {},
   "outputs": [
    {
     "name": "stdout",
     "output_type": "stream",
     "text": [
      "1.0    11872\n",
      "2.0     9752\n",
      "1.5     2051\n",
      "3.0     1119\n",
      "2.5      127\n",
      "Name: floors, dtype: int64\n"
     ]
    }
   ],
   "source": [
    "floor_count = print(df['floors'].value_counts())"
   ]
  },
  {
   "cell_type": "code",
   "execution_count": 34,
   "metadata": {},
   "outputs": [],
   "source": [
    "X_train, X_test, encoded_floors = ohe(X_train, X_test, ['floors'])"
   ]
  },
  {
   "cell_type": "code",
   "execution_count": 35,
   "metadata": {},
   "outputs": [],
   "source": [
    "X_train['floors'] = X_train['floors'].map({1.0: 1, 1.5: 1, 2.0: 2, 2.5: 2, 3.0: 3, 3.5: 3, 4.0: 4})"
   ]
  },
  {
   "cell_type": "code",
   "execution_count": 36,
   "metadata": {},
   "outputs": [],
   "source": [
    "X_test['floors'] = X_test['floors'].map({1.0: 1, 1.5: 1, 2.0: 2, 2.5: 2, 3.0: 3, 3.5: 3, 4.0: 4})"
   ]
  },
  {
   "cell_type": "markdown",
   "metadata": {},
   "source": [
    "### Grade"
   ]
  },
  {
   "cell_type": "code",
   "execution_count": 37,
   "metadata": {},
   "outputs": [],
   "source": [
    "X_train, X_test, encoded_grade = ohe(X_train, X_test, ['grade'])"
   ]
  },
  {
   "cell_type": "markdown",
   "metadata": {},
   "source": [
    "### View"
   ]
  },
  {
   "cell_type": "code",
   "execution_count": 38,
   "metadata": {},
   "outputs": [
    {
     "data": {
      "text/plain": [
       "0"
      ]
     },
     "execution_count": 38,
     "metadata": {},
     "output_type": "execute_result"
    }
   ],
   "source": [
    "X_train['view'].isna().sum()"
   ]
  },
  {
   "cell_type": "code",
   "execution_count": 39,
   "metadata": {},
   "outputs": [
    {
     "data": {
      "text/plain": [
       "NONE         22715\n",
       "AVERAGE       1357\n",
       "GOOD           499\n",
       "EXCELLENT      188\n",
       "FAIR           162\n",
       "Name: view, dtype: int64"
      ]
     },
     "execution_count": 39,
     "metadata": {},
     "output_type": "execute_result"
    }
   ],
   "source": [
    "view_count = df['view'].value_counts()\n",
    "view_count"
   ]
  },
  {
   "cell_type": "code",
   "execution_count": 40,
   "metadata": {},
   "outputs": [],
   "source": [
    "X_train['view'].fillna('NONE', inplace=True)\n",
    "X_test['view'].fillna('NONE', inplace=True)"
   ]
  },
  {
   "cell_type": "code",
   "execution_count": 41,
   "metadata": {},
   "outputs": [],
   "source": [
    "X_train, X_test, encoded_view = ohe(X_train, X_test, ['view'])"
   ]
  },
  {
   "cell_type": "code",
   "execution_count": 42,
   "metadata": {},
   "outputs": [],
   "source": [
    "X_train['view'] = X_train['view'].map({'EXCELLENT': 5, 'GOOD': 4, 'AVERAGE': 3, 'FAIR': 2, 'NONE': 1})"
   ]
  },
  {
   "cell_type": "code",
   "execution_count": 43,
   "metadata": {},
   "outputs": [],
   "source": [
    "X_test['view'] = X_test['view'].map({'EXCELLENT': 5, 'GOOD': 4, 'AVERAGE': 3, 'FAIR': 2, 'NONE': 1})"
   ]
  },
  {
   "cell_type": "markdown",
   "metadata": {},
   "source": [
    "### Waterfront"
   ]
  },
  {
   "cell_type": "code",
   "execution_count": 44,
   "metadata": {},
   "outputs": [],
   "source": [
    "X_train['waterfront'].fillna('NO', inplace=True)\n",
    "X_test['waterfront'].fillna('NO', inplace=True)"
   ]
  },
  {
   "cell_type": "code",
   "execution_count": 45,
   "metadata": {},
   "outputs": [],
   "source": [
    "waterfront_train = X_train[['waterfront']]\n",
    "\n",
    "encoder_waterfront = OrdinalEncoder()\n",
    "encoder_waterfront.fit(waterfront_train)\n",
    "encoder_waterfront.categories_[0]\n",
    "\n",
    "waterfront_encoded_train = encoder_waterfront.transform(waterfront_train)\n",
    "waterfront_encoded_train = waterfront_encoded_train.flatten()\n",
    "\n",
    "X_train['waterfront'] = waterfront_encoded_train"
   ]
  },
  {
   "cell_type": "code",
   "execution_count": 46,
   "metadata": {},
   "outputs": [],
   "source": [
    "waterfront_test = X_test[['waterfront']]\n",
    "\n",
    "encoder_waterfront = OrdinalEncoder()\n",
    "encoder_waterfront.fit(waterfront_test)\n",
    "encoder_waterfront.categories_[0]\n",
    "\n",
    "waterfront_encoded_test = encoder_waterfront.transform(waterfront_test)\n",
    "waterfront_encoded_test = waterfront_encoded_train.flatten()\n",
    "\n",
    "X_train['waterfront'] = waterfront_encoded_test"
   ]
  },
  {
   "cell_type": "markdown",
   "metadata": {},
   "source": [
    "### Zipcode"
   ]
  },
  {
   "cell_type": "code",
   "execution_count": 47,
   "metadata": {},
   "outputs": [],
   "source": [
    "X_train, X_test, encoded_zipcode = ohe(X_train, X_test, ['zipcode'])"
   ]
  },
  {
   "cell_type": "markdown",
   "metadata": {},
   "source": [
    "# Models"
   ]
  },
  {
   "cell_type": "code",
   "execution_count": 48,
   "metadata": {},
   "outputs": [
    {
     "name": "stdout",
     "output_type": "stream",
     "text": [
      "basemodel_dummy_score: 0.0\n",
      "\n",
      "test_dummy_score: -1.907619948449124e-06\n"
     ]
    }
   ],
   "source": [
    "dummy = DummyRegressor()\n",
    "dummy.fit(X_train, y_train)\n",
    "basemodel_dummy_score = dummy.score(X_train, y_train)\n",
    "test_dummy_score = dummy.score(X_test, y_test)\n",
    "\n",
    "print(f\"\"\"basemodel_dummy_score: {basemodel_dummy_score}\n",
    "\n",
    "test_dummy_score: {test_dummy_score}\"\"\")"
   ]
  },
  {
   "cell_type": "code",
   "execution_count": 49,
   "metadata": {},
   "outputs": [
    {
     "data": {
      "text/plain": [
       "price           1.000000\n",
       "sqft_living     0.556878\n",
       "sqft_above      0.454500\n",
       "bathrooms       0.425738\n",
       "bedrooms        0.320293\n",
       "sqft_patio      0.226745\n",
       "floors          0.185151\n",
       "lat             0.083383\n",
       "yr_renovated    0.065320\n",
       "sqft_lot        0.059200\n",
       "yr_built        0.050103\n",
       "long            0.029200\n",
       "zipcode         0.026609\n",
       "id              0.013460\n",
       "Name: price, dtype: float64"
      ]
     },
     "execution_count": 49,
     "metadata": {},
     "output_type": "execute_result"
    }
   ],
   "source": [
    "df.corr()['price'].abs().sort_values(ascending=False)"
   ]
  },
  {
   "cell_type": "code",
   "execution_count": 50,
   "metadata": {},
   "outputs": [
    {
     "data": {
      "image/png": "[encoded data removed]",
      "text/plain": [
       "<Figure size 1008x648 with 2 Axes>"
      ]
     },
     "metadata": {},
     "output_type": "display_data"
    }
   ],
   "source": [
    "with sns.axes_style(\"darkgrid\"):\n",
    "    f, ax = plt.subplots(figsize=(14, 9))\n",
    "    \n",
    "    mask = np.triu(np.ones_like(df.corr(), dtype=bool))\n",
    "    ax = sns.heatmap(abs(df.corr()),mask=mask,annot=True)\n",
    "    f.savefig('images/Corelation Heatmap',bbox_inches=\"tight\")"
   ]
  },
  {
   "cell_type": "markdown",
   "metadata": {},
   "source": [
    "### Model 1"
   ]
  },
  {
   "cell_type": "code",
   "execution_count": 51,
   "metadata": {},
   "outputs": [],
   "source": [
    "cols = ['sqft_living']\n",
    "\n",
    "y = y_train\n",
    "x = X_train.filter(cols, axis=1)\n",
    "\n",
    "y2 = y_test\n",
    "x2 = X_test.filter(cols, axis=1)"
   ]
  },
  {
   "cell_type": "code",
   "execution_count": 52,
   "metadata": {},
   "outputs": [
    {
     "name": "stdout",
     "output_type": "stream",
     "text": [
      "training score: 0.3089788970399302\n",
      "    test score: 0.31219525807903226\n"
     ]
    }
   ],
   "source": [
    "X_train_scaled, X_test_scaled, train_preds, test_preds = scale_score(x, y, x2, y2)"
   ]
  },
  {
   "cell_type": "code",
   "execution_count": 53,
   "metadata": {
    "scrolled": true
   },
   "outputs": [
    {
     "data": {
      "text/html": [
       "<table class=\"simpletable\">\n",
       "<caption>OLS Regression Results</caption>\n",
       "<tr>\n",
       "  <th>Dep. Variable:</th>          <td>price</td>      <th>  R-squared:         </th>  <td>   0.310</td>  \n",
       "</tr>\n",
       "<tr>\n",
       "  <th>Model:</th>                   <td>OLS</td>       <th>  Adj. R-squared:    </th>  <td>   0.310</td>  \n",
       "</tr>\n",
       "<tr>\n",
       "  <th>Method:</th>             <td>Least Squares</td>  <th>  F-statistic:       </th>  <td>1.120e+04</td> \n",
       "</tr>\n",
       "<tr>\n",
       "  <th>Date:</th>             <td>Mon, 01 Aug 2022</td> <th>  Prob (F-statistic):</th>   <td>  0.00</td>   \n",
       "</tr>\n",
       "<tr>\n",
       "  <th>Time:</th>                 <td>17:43:45</td>     <th>  Log-Likelihood:    </th> <td>-3.5378e+05</td>\n",
       "</tr>\n",
       "<tr>\n",
       "  <th>No. Observations:</th>      <td> 24921</td>      <th>  AIC:               </th>  <td>7.076e+05</td> \n",
       "</tr>\n",
       "<tr>\n",
       "  <th>Df Residuals:</th>          <td> 24919</td>      <th>  BIC:               </th>  <td>7.076e+05</td> \n",
       "</tr>\n",
       "<tr>\n",
       "  <th>Df Model:</th>              <td>     1</td>      <th>                     </th>      <td> </td>     \n",
       "</tr>\n",
       "<tr>\n",
       "  <th>Covariance Type:</th>      <td>nonrobust</td>    <th>                     </th>      <td> </td>     \n",
       "</tr>\n",
       "</table>\n",
       "<table class=\"simpletable\">\n",
       "<tr>\n",
       "       <td></td>          <th>coef</th>     <th>std err</th>      <th>t</th>      <th>P>|t|</th>  <th>[0.025</th>    <th>0.975]</th>  \n",
       "</tr>\n",
       "<tr>\n",
       "  <th>const</th>       <td> 3.188e+05</td> <td> 6150.683</td> <td>   51.828</td> <td> 0.000</td> <td> 3.07e+05</td> <td> 3.31e+05</td>\n",
       "</tr>\n",
       "<tr>\n",
       "  <th>sqft_living</th> <td>  313.3114</td> <td>    2.960</td> <td>  105.837</td> <td> 0.000</td> <td>  307.509</td> <td>  319.114</td>\n",
       "</tr>\n",
       "</table>\n",
       "<table class=\"simpletable\">\n",
       "<tr>\n",
       "  <th>Omnibus:</th>       <td>1376.678</td> <th>  Durbin-Watson:     </th> <td>   2.014</td>\n",
       "</tr>\n",
       "<tr>\n",
       "  <th>Prob(Omnibus):</th>  <td> 0.000</td>  <th>  Jarque-Bera (JB):  </th> <td>1725.245</td>\n",
       "</tr>\n",
       "<tr>\n",
       "  <th>Skew:</th>           <td> 0.553</td>  <th>  Prob(JB):          </th> <td>    0.00</td>\n",
       "</tr>\n",
       "<tr>\n",
       "  <th>Kurtosis:</th>       <td> 3.664</td>  <th>  Cond. No.          </th> <td>5.70e+03</td>\n",
       "</tr>\n",
       "</table><br/><br/>Notes:<br/>[1] Standard Errors assume that the covariance matrix of the errors is correctly specified.<br/>[2] The condition number is large, 5.7e+03. This might indicate that there are<br/>strong multicollinearity or other numerical problems."
      ],
      "text/plain": [
       "<class 'statsmodels.iolib.summary.Summary'>\n",
       "\"\"\"\n",
       "                            OLS Regression Results                            \n",
       "==============================================================================\n",
       "Dep. Variable:                  price   R-squared:                       0.310\n",
       "Model:                            OLS   Adj. R-squared:                  0.310\n",
       "Method:                 Least Squares   F-statistic:                 1.120e+04\n",
       "Date:                Mon, 01 Aug 2022   Prob (F-statistic):               0.00\n",
       "Time:                        17:43:45   Log-Likelihood:            -3.5378e+05\n",
       "No. Observations:               24921   AIC:                         7.076e+05\n",
       "Df Residuals:                   24919   BIC:                         7.076e+05\n",
       "Df Model:                           1                                         \n",
       "Covariance Type:            nonrobust                                         \n",
       "===============================================================================\n",
       "                  coef    std err          t      P>|t|      [0.025      0.975]\n",
       "-------------------------------------------------------------------------------\n",
       "const        3.188e+05   6150.683     51.828      0.000    3.07e+05    3.31e+05\n",
       "sqft_living   313.3114      2.960    105.837      0.000     307.509     319.114\n",
       "==============================================================================\n",
       "Omnibus:                     1376.678   Durbin-Watson:                   2.014\n",
       "Prob(Omnibus):                  0.000   Jarque-Bera (JB):             1725.245\n",
       "Skew:                           0.553   Prob(JB):                         0.00\n",
       "Kurtosis:                       3.664   Cond. No.                     5.70e+03\n",
       "==============================================================================\n",
       "\n",
       "Notes:\n",
       "[1] Standard Errors assume that the covariance matrix of the errors is correctly specified.\n",
       "[2] The condition number is large, 5.7e+03. This might indicate that there are\n",
       "strong multicollinearity or other numerical problems.\n",
       "\"\"\""
      ]
     },
     "execution_count": 53,
     "metadata": {},
     "output_type": "execute_result"
    }
   ],
   "source": [
    "y_sqft_liv = df['price']\n",
    "X_sqft_liv = df[['sqft_living']]\n",
    "\n",
    "model = sm.OLS(y_sqft_liv, sm.add_constant(X_sqft_liv)).fit()\n",
    "model_summary = model.summary()\n",
    "model_summary"
   ]
  },
  {
   "cell_type": "markdown",
   "metadata": {},
   "source": [
    "### Model 2"
   ]
  },
  {
   "cell_type": "code",
   "execution_count": 54,
   "metadata": {},
   "outputs": [],
   "source": [
    "cols = ['bathrooms', 'sqft_living', 'sqft_living15'] + encoded_zipcode\n",
    "\n",
    "y = y_train\n",
    "x = X_train.filter(cols, axis=1)\n",
    "\n",
    "y2 = y_test\n",
    "x2 = X_test.filter(cols, axis=1)"
   ]
  },
  {
   "cell_type": "code",
   "execution_count": 55,
   "metadata": {
    "scrolled": true
   },
   "outputs": [
    {
     "name": "stdout",
     "output_type": "stream",
     "text": [
      "training score: 0.68232984536161\n",
      "    test score: 0.6665717554969071\n"
     ]
    }
   ],
   "source": [
    "X_train_scaled, X_test_scaled, train_preds, test_preds=scale_score(x, y, x2, y2)"
   ]
  },
  {
   "cell_type": "code",
   "execution_count": 56,
   "metadata": {},
   "outputs": [
    {
     "name": "stdout",
     "output_type": "stream",
     "text": [
      "\n",
      "Training Metrics:\n",
      "R2: 0.682\n",
      "Mean Absolute Error: 169398.066\n",
      "Mean Squared Error: 57663623009.842\n",
      "Root Mean Squared Error: 240132.511\n",
      "\n",
      "Testing Metrics:\n",
      "R2: 0.667\n",
      "Mean Absolute Error: 172847.474\n",
      "Mean Squared Error: 60584987756.073\n",
      "Root Mean Squared Error: 246140.179\n"
     ]
    }
   ],
   "source": [
    "get_train_test_metrics(y_train, train_preds, y_test, test_preds)"
   ]
  },
  {
   "cell_type": "markdown",
   "metadata": {},
   "source": [
    "### Model 2b"
   ]
  },
  {
   "cell_type": "code",
   "execution_count": 57,
   "metadata": {},
   "outputs": [],
   "source": [
    "cols = ['bathrooms', 'sqft_living', 'sqft_living15', 'zipcode']\n",
    "\n",
    "y = y_train\n",
    "x = X_train.filter(cols, axis=1)\n",
    "\n",
    "y2 = y_test\n",
    "x2 = X_test.filter(cols, axis=1)"
   ]
  },
  {
   "cell_type": "code",
   "execution_count": 58,
   "metadata": {},
   "outputs": [
    {
     "name": "stdout",
     "output_type": "stream",
     "text": [
      "training score: 0.3105926934896127\n",
      "    test score: 0.3138961603080127\n"
     ]
    }
   ],
   "source": [
    "X_train_scaled, X_test_scaled, train_preds, test_preds = scale_score(x, y, x2, y2)"
   ]
  },
  {
   "cell_type": "code",
   "execution_count": 59,
   "metadata": {},
   "outputs": [
    {
     "name": "stdout",
     "output_type": "stream",
     "text": [
      "\n",
      "Training Metrics:\n",
      "R2: 0.311\n",
      "Mean Absolute Error: 275761.115\n",
      "Mean Squared Error: 125141510596.417\n",
      "Root Mean Squared Error: 353753.460\n",
      "\n",
      "Testing Metrics:\n",
      "R2: 0.314\n",
      "Mean Absolute Error: 275340.538\n",
      "Mean Squared Error: 124667281228.925\n",
      "Root Mean Squared Error: 353082.542\n"
     ]
    }
   ],
   "source": [
    "get_train_test_metrics(y_train, train_preds, y_test, test_preds)"
   ]
  },
  {
   "cell_type": "markdown",
   "metadata": {},
   "source": [
    "### Model 3"
   ]
  },
  {
   "cell_type": "code",
   "execution_count": 60,
   "metadata": {},
   "outputs": [],
   "source": [
    "cols = ['bedrooms', 'sqft_living', 'sqft_living15']\n",
    "\n",
    "y = y_train\n",
    "x = X_train.filter(cols, axis=1)\n",
    "\n",
    "y2 = y_test\n",
    "x2 = X_test.filter(cols, axis=1)"
   ]
  },
  {
   "cell_type": "code",
   "execution_count": 61,
   "metadata": {},
   "outputs": [
    {
     "name": "stdout",
     "output_type": "stream",
     "text": [
      "training score: 0.3152305604396356\n",
      "    test score: 0.3147910644320806\n"
     ]
    }
   ],
   "source": [
    "X_train_scaled, X_test_scaled, train_preds, test_preds = scale_score(x, y, x2, y2)"
   ]
  },
  {
   "cell_type": "code",
   "execution_count": 62,
   "metadata": {
    "scrolled": true
   },
   "outputs": [
    {
     "name": "stdout",
     "output_type": "stream",
     "text": [
      "\n",
      "Training Metrics:\n",
      "R2: 0.315\n",
      "Mean Absolute Error: 274238.210\n",
      "Mean Squared Error: 124299642994.217\n",
      "Root Mean Squared Error: 352561.545\n",
      "\n",
      "Testing Metrics:\n",
      "R2: 0.315\n",
      "Mean Absolute Error: 274627.317\n",
      "Mean Squared Error: 124504674262.379\n",
      "Root Mean Squared Error: 352852.199\n"
     ]
    }
   ],
   "source": [
    "get_train_test_metrics(y_train, train_preds, y_test, test_preds)"
   ]
  },
  {
   "cell_type": "markdown",
   "metadata": {},
   "source": [
    "### Model 3b"
   ]
  },
  {
   "cell_type": "code",
   "execution_count": 63,
   "metadata": {},
   "outputs": [],
   "source": [
    "cols = ['sqft_living', 'sqft_living15'] + encoded_bedrooms_bins + encoded_zipcode\n",
    "\n",
    "y = y_train\n",
    "x = X_train.filter(cols, axis=1)\n",
    "\n",
    "y2 = y_test\n",
    "x2 = X_test.filter(cols, axis=1)"
   ]
  },
  {
   "cell_type": "code",
   "execution_count": 64,
   "metadata": {},
   "outputs": [
    {
     "name": "stdout",
     "output_type": "stream",
     "text": [
      "training score: 0.684693764223347\n",
      "    test score: 0.6682086135517977\n"
     ]
    }
   ],
   "source": [
    "X_train_scaled, X_test_scaled, train_preds, test_preds = scale_score(x, y, x2, y2)"
   ]
  },
  {
   "cell_type": "code",
   "execution_count": 65,
   "metadata": {},
   "outputs": [
    {
     "name": "stdout",
     "output_type": "stream",
     "text": [
      "\n",
      "Training Metrics:\n",
      "R2: 0.685\n",
      "Mean Absolute Error: 168988.327\n",
      "Mean Squared Error: 57234523442.008\n",
      "Root Mean Squared Error: 239237.379\n",
      "\n",
      "Testing Metrics:\n",
      "R2: 0.668\n",
      "Mean Absolute Error: 173042.267\n",
      "Mean Squared Error: 60287565366.552\n",
      "Root Mean Squared Error: 245535.263\n"
     ]
    }
   ],
   "source": [
    "get_train_test_metrics(y_train, train_preds, y_test, test_preds)"
   ]
  },
  {
   "cell_type": "markdown",
   "metadata": {},
   "source": [
    "### Model 4"
   ]
  },
  {
   "cell_type": "code",
   "execution_count": 66,
   "metadata": {},
   "outputs": [],
   "source": [
    "cols = ['bedrooms', 'sqft_living'] + encoded_condition + encoded_zipcode \n",
    "\n",
    "y = y_train\n",
    "x = X_train.filter(cols, axis=1)\n",
    "\n",
    "y2 = y_test\n",
    "x2 = X_test.filter(cols, axis=1)"
   ]
  },
  {
   "cell_type": "code",
   "execution_count": 67,
   "metadata": {},
   "outputs": [
    {
     "name": "stdout",
     "output_type": "stream",
     "text": [
      "training score: 0.6889248543225941\n",
      "    test score: 0.6725081468828618\n"
     ]
    }
   ],
   "source": [
    "X_train_scaled, X_test_scaled, train_preds, test_preds = scale_score(x, y, x2, y2)"
   ]
  },
  {
   "cell_type": "code",
   "execution_count": 68,
   "metadata": {},
   "outputs": [
    {
     "name": "stdout",
     "output_type": "stream",
     "text": [
      "\n",
      "Training Metrics:\n",
      "R2: 0.689\n",
      "Mean Absolute Error: 166623.532\n",
      "Mean Squared Error: 56466494148.600\n",
      "Root Mean Squared Error: 237626.796\n",
      "\n",
      "Testing Metrics:\n",
      "R2: 0.673\n",
      "Mean Absolute Error: 170753.322\n",
      "Mean Squared Error: 59506326288.838\n",
      "Root Mean Squared Error: 243939.186\n"
     ]
    }
   ],
   "source": [
    "get_train_test_metrics(y_train, train_preds, y_test, test_preds)"
   ]
  },
  {
   "cell_type": "markdown",
   "metadata": {},
   "source": [
    "### Model 4b"
   ]
  },
  {
   "cell_type": "code",
   "execution_count": 69,
   "metadata": {},
   "outputs": [],
   "source": [
    "cols = ['sqft_living'] + encoded_bedrooms_bins + encoded_condition + encoded_zipcode\n",
    "\n",
    "y = y_train\n",
    "x = X_train.filter(cols, axis=1)\n",
    "\n",
    "y2 = y_test\n",
    "x2 = X_test.filter(cols, axis=1)"
   ]
  },
  {
   "cell_type": "code",
   "execution_count": 70,
   "metadata": {},
   "outputs": [
    {
     "name": "stdout",
     "output_type": "stream",
     "text": [
      "training score: 0.6908136621443169\n",
      "    test score: 0.6736796308013397\n"
     ]
    }
   ],
   "source": [
    "X_train_scaled, X_test_scaled, train_preds, test_preds = scale_score(x, y, x2, y2)"
   ]
  },
  {
   "cell_type": "code",
   "execution_count": 71,
   "metadata": {},
   "outputs": [
    {
     "name": "stdout",
     "output_type": "stream",
     "text": [
      "\n",
      "Training Metrics:\n",
      "R2: 0.691\n",
      "Mean Absolute Error: 166274.157\n",
      "Mean Squared Error: 56123636940.960\n",
      "Root Mean Squared Error: 236904.278\n",
      "\n",
      "Testing Metrics:\n",
      "R2: 0.674\n",
      "Mean Absolute Error: 170799.066\n",
      "Mean Squared Error: 59293463881.326\n",
      "Root Mean Squared Error: 243502.493\n"
     ]
    }
   ],
   "source": [
    "get_train_test_metrics(y_train, train_preds, y_test, test_preds)"
   ]
  },
  {
   "cell_type": "markdown",
   "metadata": {},
   "source": [
    "### Model 5"
   ]
  },
  {
   "cell_type": "code",
   "execution_count": 72,
   "metadata": {},
   "outputs": [],
   "source": [
    "cols = ['bathrooms', 'bedrooms', 'condition', 'sqft_living', 'view'] + encoded_zipcode\n",
    "\n",
    "y = y_train\n",
    "x = X_train.filter(cols, axis=1)\n",
    "\n",
    "y2 = y_test\n",
    "x2 = X_test.filter(cols, axis=1)"
   ]
  },
  {
   "cell_type": "code",
   "execution_count": 73,
   "metadata": {},
   "outputs": [
    {
     "name": "stdout",
     "output_type": "stream",
     "text": [
      "training score: 0.6972486714353232\n",
      "    test score: 0.6808945128193529\n"
     ]
    }
   ],
   "source": [
    "X_train_scaled, X_test_scaled, train_preds, test_preds = scale_score(x, y, x2, y2)"
   ]
  },
  {
   "cell_type": "code",
   "execution_count": 74,
   "metadata": {},
   "outputs": [
    {
     "name": "stdout",
     "output_type": "stream",
     "text": [
      "\n",
      "Training Metrics:\n",
      "R2: 0.697\n",
      "Mean Absolute Error: 164311.050\n",
      "Mean Squared Error: 54955551288.583\n",
      "Root Mean Squared Error: 234426.004\n",
      "\n",
      "Testing Metrics:\n",
      "R2: 0.681\n",
      "Mean Absolute Error: 167954.994\n",
      "Mean Squared Error: 57982496541.489\n",
      "Root Mean Squared Error: 240795.549\n"
     ]
    }
   ],
   "source": [
    "get_train_test_metrics(y_train, train_preds, y_test, test_preds)"
   ]
  },
  {
   "cell_type": "markdown",
   "metadata": {},
   "source": [
    "### Model 5b"
   ]
  },
  {
   "cell_type": "code",
   "execution_count": 75,
   "metadata": {},
   "outputs": [],
   "source": [
    "cols = ['bathrooms', 'sqft_living'] + encoded_bedrooms_bins + encoded_condition + encoded_view + encoded_zipcode\n",
    "\n",
    "y = y_train\n",
    "x = X_train.filter(cols, axis=1)\n",
    "\n",
    "y2 = y_test\n",
    "x2 = X_test.filter(cols, axis=1)"
   ]
  },
  {
   "cell_type": "code",
   "execution_count": 76,
   "metadata": {},
   "outputs": [
    {
     "name": "stdout",
     "output_type": "stream",
     "text": [
      "training score: 0.7006470602444432\n",
      "    test score: 0.6831452281032151\n"
     ]
    }
   ],
   "source": [
    "X_train_scaled, X_test_scaled, train_preds, test_preds = scale_score(x, y, x2, y2)"
   ]
  },
  {
   "cell_type": "code",
   "execution_count": 77,
   "metadata": {},
   "outputs": [
    {
     "name": "stdout",
     "output_type": "stream",
     "text": [
      "\n",
      "Training Metrics:\n",
      "R2: 0.701\n",
      "Mean Absolute Error: 163661.881\n",
      "Mean Squared Error: 54338674291.268\n",
      "Root Mean Squared Error: 233106.573\n",
      "\n",
      "Testing Metrics:\n",
      "R2: 0.683\n",
      "Mean Absolute Error: 168204.917\n",
      "Mean Squared Error: 57573534312.994\n",
      "Root Mean Squared Error: 239944.857\n"
     ]
    }
   ],
   "source": [
    "get_train_test_metrics(y_train, train_preds, y_test, test_preds)"
   ]
  },
  {
   "cell_type": "markdown",
   "metadata": {},
   "source": [
    "### Model 6"
   ]
  },
  {
   "cell_type": "code",
   "execution_count": 78,
   "metadata": {},
   "outputs": [],
   "source": [
    "cols = ['bathrooms', 'bedrooms', 'sqft_living', 'yr_built'] + encoded_condition + encoded_view + encoded_zipcode\n",
    "\n",
    "y = y_train\n",
    "x = X_train.filter(cols, axis=1)\n",
    "\n",
    "y2 = y_test\n",
    "x2 = X_test.filter(cols, axis=1)"
   ]
  },
  {
   "cell_type": "code",
   "execution_count": 79,
   "metadata": {},
   "outputs": [
    {
     "name": "stdout",
     "output_type": "stream",
     "text": [
      "training score: 0.6988045733191203\n",
      "    test score: 0.6817022825884351\n"
     ]
    }
   ],
   "source": [
    "X_train_scaled, X_test_scaled, train_preds, test_preds = scale_score(x, y, x2, y2)"
   ]
  },
  {
   "cell_type": "code",
   "execution_count": 80,
   "metadata": {},
   "outputs": [
    {
     "name": "stdout",
     "output_type": "stream",
     "text": [
      "\n",
      "Training Metrics:\n",
      "R2: 0.699\n",
      "Mean Absolute Error: 163995.234\n",
      "Mean Squared Error: 54673123309.884\n",
      "Root Mean Squared Error: 233822.846\n",
      "\n",
      "Testing Metrics:\n",
      "R2: 0.682\n",
      "Mean Absolute Error: 168079.740\n",
      "Mean Squared Error: 57835722168.363\n",
      "Root Mean Squared Error: 240490.586\n"
     ]
    }
   ],
   "source": [
    "get_train_test_metrics(y_train, train_preds, y_test, test_preds)"
   ]
  },
  {
   "cell_type": "markdown",
   "metadata": {},
   "source": [
    "### Model 6b"
   ]
  },
  {
   "cell_type": "code",
   "execution_count": 81,
   "metadata": {},
   "outputs": [],
   "source": [
    "cols = ['bathrooms', 'sqft_living', 'yr_built'] + encoded_bedrooms_bins + encoded_condition + encoded_view + encoded_zipcode\n",
    "\n",
    "y = y_train\n",
    "x = X_train.filter(cols, axis=1)\n",
    "\n",
    "y2 = y_test\n",
    "x2 = X_test.filter(cols, axis=1)"
   ]
  },
  {
   "cell_type": "code",
   "execution_count": 82,
   "metadata": {},
   "outputs": [
    {
     "name": "stdout",
     "output_type": "stream",
     "text": [
      "training score: 0.7006691844150505\n",
      "    test score: 0.683012085519833\n"
     ]
    }
   ],
   "source": [
    "X_train_scaled, X_test_scaled, train_preds, test_preds = scale_score(x, y, x2, y2)"
   ]
  },
  {
   "cell_type": "code",
   "execution_count": 83,
   "metadata": {},
   "outputs": [
    {
     "name": "stdout",
     "output_type": "stream",
     "text": [
      "\n",
      "Training Metrics:\n",
      "R2: 0.701\n",
      "Mean Absolute Error: 163700.709\n",
      "Mean Squared Error: 54334658302.310\n",
      "Root Mean Squared Error: 233097.959\n",
      "\n",
      "Testing Metrics:\n",
      "R2: 0.683\n",
      "Mean Absolute Error: 168254.937\n",
      "Mean Squared Error: 57597726749.948\n",
      "Root Mean Squared Error: 239995.264\n"
     ]
    }
   ],
   "source": [
    "get_train_test_metrics(y_train, train_preds, y_test, test_preds)"
   ]
  },
  {
   "cell_type": "markdown",
   "metadata": {},
   "source": [
    "### Model 7"
   ]
  },
  {
   "cell_type": "code",
   "execution_count": 84,
   "metadata": {},
   "outputs": [],
   "source": [
    "cols = ['bathrooms', 'bedrooms', 'sqft_living', 'sqft_living15', 'yr_built'] + encoded_condition + encoded_view + encoded_zipcode\n",
    "\n",
    "y = y_train\n",
    "x = X_train.filter(cols, axis=1)\n",
    "\n",
    "y2 = y_test\n",
    "x2 = X_test.filter(cols, axis=1)"
   ]
  },
  {
   "cell_type": "code",
   "execution_count": 85,
   "metadata": {},
   "outputs": [
    {
     "name": "stdout",
     "output_type": "stream",
     "text": [
      "training score: 0.6988045733191203\n",
      "    test score: 0.6817022825884351\n"
     ]
    }
   ],
   "source": [
    "X_train_scaled, X_test_scaled, train_preds, test_preds = scale_score(x, y, x2, y2)"
   ]
  },
  {
   "cell_type": "code",
   "execution_count": 86,
   "metadata": {},
   "outputs": [
    {
     "name": "stdout",
     "output_type": "stream",
     "text": [
      "\n",
      "Training Metrics:\n",
      "R2: 0.699\n",
      "Mean Absolute Error: 163995.234\n",
      "Mean Squared Error: 54673123309.884\n",
      "Root Mean Squared Error: 233822.846\n",
      "\n",
      "Testing Metrics:\n",
      "R2: 0.682\n",
      "Mean Absolute Error: 168079.740\n",
      "Mean Squared Error: 57835722168.363\n",
      "Root Mean Squared Error: 240490.586\n"
     ]
    }
   ],
   "source": [
    "get_train_test_metrics(y_train, train_preds, y_test, test_preds)"
   ]
  },
  {
   "cell_type": "markdown",
   "metadata": {},
   "source": [
    "### Model 7b"
   ]
  },
  {
   "cell_type": "code",
   "execution_count": 87,
   "metadata": {},
   "outputs": [],
   "source": [
    "cols = ['bathrooms', 'sqft_living', 'sqft_living15', 'yr_built'] + encoded_bedrooms_bins + encoded_condition + encoded_view + encoded_zipcode\n",
    "\n",
    "y = y_train\n",
    "x = X_train.filter(cols, axis=1)\n",
    "\n",
    "y2 = y_test\n",
    "x2 = X_test.filter(cols, axis=1)"
   ]
  },
  {
   "cell_type": "code",
   "execution_count": 88,
   "metadata": {},
   "outputs": [
    {
     "name": "stdout",
     "output_type": "stream",
     "text": [
      "training score: 0.7006691844150505\n",
      "    test score: 0.683012085519833\n"
     ]
    }
   ],
   "source": [
    "X_train_scaled, X_test_scaled, train_preds, test_preds = scale_score(x, y, x2, y2)"
   ]
  },
  {
   "cell_type": "code",
   "execution_count": 89,
   "metadata": {},
   "outputs": [
    {
     "name": "stdout",
     "output_type": "stream",
     "text": [
      "\n",
      "Training Metrics:\n",
      "R2: 0.701\n",
      "Mean Absolute Error: 163700.709\n",
      "Mean Squared Error: 54334658302.310\n",
      "Root Mean Squared Error: 233097.959\n",
      "\n",
      "Testing Metrics:\n",
      "R2: 0.683\n",
      "Mean Absolute Error: 168254.937\n",
      "Mean Squared Error: 57597726749.948\n",
      "Root Mean Squared Error: 239995.264\n"
     ]
    }
   ],
   "source": [
    "get_train_test_metrics(y_train, train_preds, y_test, test_preds)"
   ]
  },
  {
   "cell_type": "markdown",
   "metadata": {},
   "source": [
    "### Model 8"
   ]
  },
  {
   "cell_type": "code",
   "execution_count": 90,
   "metadata": {},
   "outputs": [],
   "source": [
    "cols = ['bathrooms', 'sqft_living', 'sqft_living15', 'yr_built'] + encoded_bedrooms_bins + encoded_condition + encoded_zipcode\n",
    "\n",
    "y = y_train\n",
    "x = X_train.filter(cols, axis=1)\n",
    "\n",
    "y2 = y_test\n",
    "x2 = X_test.filter(cols, axis=1)"
   ]
  },
  {
   "cell_type": "code",
   "execution_count": 91,
   "metadata": {},
   "outputs": [
    {
     "name": "stdout",
     "output_type": "stream",
     "text": [
      "training score: 0.6911493678417335\n",
      "    test score: 0.6740969164800565\n"
     ]
    }
   ],
   "source": [
    "X_train_scaled, X_test_scaled, train_preds, test_preds = scale_score(x, y, x2, y2)"
   ]
  },
  {
   "cell_type": "code",
   "execution_count": 92,
   "metadata": {},
   "outputs": [
    {
     "name": "stdout",
     "output_type": "stream",
     "text": [
      "\n",
      "Training Metrics:\n",
      "R2: 0.691\n",
      "Mean Absolute Error: 166204.158\n",
      "Mean Squared Error: 56062699498.473\n",
      "Root Mean Squared Error: 236775.631\n",
      "\n",
      "Testing Metrics:\n",
      "R2: 0.674\n",
      "Mean Absolute Error: 170670.174\n",
      "Mean Squared Error: 59217641727.227\n",
      "Root Mean Squared Error: 243346.752\n"
     ]
    }
   ],
   "source": [
    "get_train_test_metrics(y_train, train_preds, y_test, test_preds)"
   ]
  },
  {
   "cell_type": "markdown",
   "metadata": {},
   "source": [
    "### Model 9"
   ]
  },
  {
   "cell_type": "code",
   "execution_count": 93,
   "metadata": {},
   "outputs": [],
   "source": [
    "cols = ['bathrooms', 'sqft_living', 'sqft_living15', 'yr_built'] + encoded_bedrooms_bins + encoded_condition + encoded_grade + encoded_view + encoded_zipcode\n",
    "\n",
    "y = y_train\n",
    "x = X_train.filter(cols, axis=1)\n",
    "\n",
    "y2 = y_test\n",
    "x2 = X_test.filter(cols, axis=1)"
   ]
  },
  {
   "cell_type": "code",
   "execution_count": 94,
   "metadata": {},
   "outputs": [
    {
     "name": "stdout",
     "output_type": "stream",
     "text": [
      "training score: 0.7192120707111482\n",
      "    test score: 0.7093721485071913\n"
     ]
    }
   ],
   "source": [
    "X_train_scaled, X_test_scaled, train_preds, test_preds = scale_score(x, y, x2, y2)"
   ]
  },
  {
   "cell_type": "code",
   "execution_count": 95,
   "metadata": {},
   "outputs": [
    {
     "name": "stdout",
     "output_type": "stream",
     "text": [
      "\n",
      "Training Metrics:\n",
      "R2: 0.719\n",
      "Mean Absolute Error: 158346.018\n",
      "Mean Squared Error: 50968745611.804\n",
      "Root Mean Squared Error: 225762.587\n",
      "\n",
      "Testing Metrics:\n",
      "R2: 0.709\n",
      "Mean Absolute Error: 161654.452\n",
      "Mean Squared Error: 52808018260.440\n",
      "Root Mean Squared Error: 229799.953\n"
     ]
    }
   ],
   "source": [
    "get_train_test_metrics(y_train, train_preds, y_test, test_preds)"
   ]
  },
  {
   "cell_type": "markdown",
   "metadata": {},
   "source": [
    "### Model 10"
   ]
  },
  {
   "cell_type": "code",
   "execution_count": 96,
   "metadata": {},
   "outputs": [],
   "source": [
    "cols = ['sqft_living', 'sqft_living15', 'yr_built'] + encoded_bedrooms_bins + encoded_condition + encoded_view + encoded_zipcode\n",
    "\n",
    "y = y_train\n",
    "x = X_train.filter(cols, axis=1)\n",
    "\n",
    "y2 = y_test\n",
    "x2 = X_test.filter(cols, axis=1)"
   ]
  },
  {
   "cell_type": "code",
   "execution_count": 97,
   "metadata": {},
   "outputs": [
    {
     "name": "stdout",
     "output_type": "stream",
     "text": [
      "training score: 0.7004487145135774\n",
      "    test score: 0.6826373534862028\n"
     ]
    }
   ],
   "source": [
    "X_train_scaled, X_test_scaled, train_preds, test_preds = scale_score(x, y, x2, y2)"
   ]
  },
  {
   "cell_type": "code",
   "execution_count": 98,
   "metadata": {},
   "outputs": [
    {
     "name": "stdout",
     "output_type": "stream",
     "text": [
      "\n",
      "Training Metrics:\n",
      "R2: 0.700\n",
      "Mean Absolute Error: 163770.358\n",
      "Mean Squared Error: 54374678093.587\n",
      "Root Mean Squared Error: 233183.786\n",
      "\n",
      "Testing Metrics:\n",
      "R2: 0.683\n",
      "Mean Absolute Error: 168374.218\n",
      "Mean Squared Error: 57665816769.446\n",
      "Root Mean Squared Error: 240137.079\n"
     ]
    }
   ],
   "source": [
    "get_train_test_metrics(y_train, train_preds, y_test, test_preds)"
   ]
  },
  {
   "cell_type": "markdown",
   "metadata": {},
   "source": [
    "### Model 11"
   ]
  },
  {
   "cell_type": "code",
   "execution_count": 99,
   "metadata": {},
   "outputs": [],
   "source": [
    "cols = ['sqft_living', 'sqft_living15', 'yr_built'] + encoded_bedrooms_bins + encoded_condition + encoded_floors + encoded_view + encoded_zipcode\n",
    "\n",
    "y = y_train\n",
    "x = X_train.filter(cols, axis=1)\n",
    "\n",
    "y2 = y_test\n",
    "x2 = X_test.filter(cols, axis=1)"
   ]
  },
  {
   "cell_type": "code",
   "execution_count": 100,
   "metadata": {},
   "outputs": [
    {
     "name": "stdout",
     "output_type": "stream",
     "text": [
      "training score: 0.7020229499485455\n",
      "    test score: 0.6811240738916278\n"
     ]
    }
   ],
   "source": [
    "X_train_scaled, X_test_scaled, train_preds, test_preds = scale_score(x, y, x2, y2)"
   ]
  },
  {
   "cell_type": "code",
   "execution_count": 101,
   "metadata": {},
   "outputs": [
    {
     "name": "stdout",
     "output_type": "stream",
     "text": [
      "\n",
      "Training Metrics:\n",
      "R2: 0.702\n",
      "Mean Absolute Error: 163509.702\n",
      "Mean Squared Error: 54088922200.800\n",
      "Root Mean Squared Error: 232570.252\n",
      "\n",
      "Testing Metrics:\n",
      "R2: 0.681\n",
      "Mean Absolute Error: 168550.407\n",
      "Mean Squared Error: 57940784554.030\n",
      "Root Mean Squared Error: 240708.921\n"
     ]
    }
   ],
   "source": [
    "get_train_test_metrics(y_train, train_preds, y_test, test_preds)"
   ]
  },
  {
   "cell_type": "markdown",
   "metadata": {},
   "source": [
    "### Model 11b"
   ]
  },
  {
   "cell_type": "code",
   "execution_count": 102,
   "metadata": {},
   "outputs": [],
   "source": [
    "cols = ['floors', 'sqft_living', 'sqft_living15', 'yr_built'] + encoded_bedrooms_bins + encoded_condition + encoded_view + encoded_zipcode\n",
    "\n",
    "y = y_train\n",
    "x = X_train.filter(cols, axis=1)\n",
    "\n",
    "y2 = y_test\n",
    "x2 = X_test.filter(cols, axis=1)"
   ]
  },
  {
   "cell_type": "code",
   "execution_count": 103,
   "metadata": {},
   "outputs": [
    {
     "name": "stdout",
     "output_type": "stream",
     "text": [
      "training score: 0.7005715375574765\n",
      "    test score: 0.6833118117147947\n"
     ]
    }
   ],
   "source": [
    "X_train_scaled, X_test_scaled, train_preds, test_preds = scale_score(x, y, x2, y2)"
   ]
  },
  {
   "cell_type": "code",
   "execution_count": 104,
   "metadata": {},
   "outputs": [
    {
     "name": "stdout",
     "output_type": "stream",
     "text": [
      "\n",
      "Training Metrics:\n",
      "R2: 0.701\n",
      "Mean Absolute Error: 163818.627\n",
      "Mean Squared Error: 54352383201.867\n",
      "Root Mean Squared Error: 233135.976\n",
      "\n",
      "Testing Metrics:\n",
      "R2: 0.683\n",
      "Mean Absolute Error: 168356.840\n",
      "Mean Squared Error: 57543265533.326\n",
      "Root Mean Squared Error: 239881.774\n"
     ]
    }
   ],
   "source": [
    "get_train_test_metrics(y_train, train_preds, y_test, test_preds)"
   ]
  },
  {
   "cell_type": "markdown",
   "metadata": {},
   "source": [
    "### Model 12"
   ]
  },
  {
   "cell_type": "code",
   "execution_count": 105,
   "metadata": {},
   "outputs": [],
   "source": [
    "cols = ['bathrooms', 'sqft_living', 'sqft_living15', 'yr_built'] + encoded_bedrooms_bins + encoded_condition + encoded_floors + encoded_grade + encoded_view + encoded_zipcode\n",
    "\n",
    "y = y_train\n",
    "x = X_train.filter(cols, axis=1)\n",
    "\n",
    "y2 = y_test\n",
    "x2 = X_test.filter(cols, axis=1)"
   ]
  },
  {
   "cell_type": "code",
   "execution_count": 106,
   "metadata": {},
   "outputs": [
    {
     "name": "stdout",
     "output_type": "stream",
     "text": [
      "training score: 0.7204771019341121\n",
      "    test score: 0.707840146472128\n"
     ]
    }
   ],
   "source": [
    "X_train_scaled, X_test_scaled, train_preds, test_preds = scale_score(x, y, x2, y2)"
   ]
  },
  {
   "cell_type": "code",
   "execution_count": 107,
   "metadata": {},
   "outputs": [
    {
     "name": "stdout",
     "output_type": "stream",
     "text": [
      "\n",
      "Training Metrics:\n",
      "R2: 0.720\n",
      "Mean Absolute Error: 157925.826\n",
      "Mean Squared Error: 50739116600.480\n",
      "Root Mean Squared Error: 225253.450\n",
      "\n",
      "Testing Metrics:\n",
      "R2: 0.708\n",
      "Mean Absolute Error: 161770.269\n",
      "Mean Squared Error: 53086387972.865\n",
      "Root Mean Squared Error: 230404.835\n"
     ]
    }
   ],
   "source": [
    "get_train_test_metrics(y_train, train_preds, y_test, test_preds)"
   ]
  },
  {
   "cell_type": "markdown",
   "metadata": {},
   "source": [
    "### Model 12b"
   ]
  },
  {
   "cell_type": "code",
   "execution_count": 108,
   "metadata": {},
   "outputs": [],
   "source": [
    "cols = ['bathrooms', 'floors', 'sqft_living', 'sqft_living15', 'yr_built'] + encoded_bedrooms_bins + encoded_condition + encoded_grade + encoded_view + encoded_zipcode\n",
    "\n",
    "y = y_train\n",
    "x = X_train.filter(cols, axis=1)\n",
    "\n",
    "y2 = y_test\n",
    "x2 = X_test.filter(cols, axis=1)"
   ]
  },
  {
   "cell_type": "code",
   "execution_count": 109,
   "metadata": {},
   "outputs": [
    {
     "name": "stdout",
     "output_type": "stream",
     "text": [
      "training score: 0.7192806597995327\n",
      "    test score: 0.709156889358679\n"
     ]
    }
   ],
   "source": [
    "X_train_scaled, X_test_scaled, train_preds, test_preds = scale_score(x, y, x2, y2)"
   ]
  },
  {
   "cell_type": "code",
   "execution_count": 110,
   "metadata": {},
   "outputs": [
    {
     "name": "stdout",
     "output_type": "stream",
     "text": [
      "\n",
      "Training Metrics:\n",
      "R2: 0.719\n",
      "Mean Absolute Error: 158315.639\n",
      "Mean Squared Error: 50956295290.999\n",
      "Root Mean Squared Error: 225735.011\n",
      "\n",
      "Testing Metrics:\n",
      "R2: 0.709\n",
      "Mean Absolute Error: 161614.052\n",
      "Mean Squared Error: 52847131542.209\n",
      "Root Mean Squared Error: 229885.040\n"
     ]
    }
   ],
   "source": [
    "get_train_test_metrics(y_train, train_preds, y_test, test_preds)"
   ]
  },
  {
   "cell_type": "markdown",
   "metadata": {},
   "source": [
    "### Model 13"
   ]
  },
  {
   "cell_type": "code",
   "execution_count": 111,
   "metadata": {},
   "outputs": [],
   "source": [
    "cols = ['bathrooms', 'floors', 'sqft_living', 'sqft_living15', 'sqft_patio', 'yr_built'] + encoded_bedrooms_bins + encoded_condition + encoded_grade + encoded_view + encoded_zipcode\n",
    "\n",
    "y = y_train\n",
    "x = X_train.filter(cols, axis=1)\n",
    "\n",
    "y2 = y_test\n",
    "x2 = X_test.filter(cols, axis=1)"
   ]
  },
  {
   "cell_type": "code",
   "execution_count": 112,
   "metadata": {},
   "outputs": [
    {
     "name": "stdout",
     "output_type": "stream",
     "text": [
      "training score: 0.7194887964600178\n",
      "    test score: 0.7090467591953663\n"
     ]
    }
   ],
   "source": [
    "X_train_scaled, X_test_scaled, train_preds, test_preds = scale_score(x, y, x2, y2)"
   ]
  },
  {
   "cell_type": "code",
   "execution_count": 113,
   "metadata": {},
   "outputs": [
    {
     "name": "stdout",
     "output_type": "stream",
     "text": [
      "\n",
      "Training Metrics:\n",
      "R2: 0.719\n",
      "Mean Absolute Error: 158204.004\n",
      "Mean Squared Error: 50918514234.928\n",
      "Root Mean Squared Error: 225651.311\n",
      "\n",
      "Testing Metrics:\n",
      "R2: 0.709\n",
      "Mean Absolute Error: 161534.685\n",
      "Mean Squared Error: 52867142548.193\n",
      "Root Mean Squared Error: 229928.560\n"
     ]
    }
   ],
   "source": [
    "get_train_test_metrics(y_train, train_preds, y_test, test_preds)"
   ]
  },
  {
   "cell_type": "markdown",
   "metadata": {},
   "source": [
    "### Model 14"
   ]
  },
  {
   "cell_type": "code",
   "execution_count": 114,
   "metadata": {},
   "outputs": [],
   "source": [
    "cols = ['bathrooms', 'floors', 'sqft_living', 'sqft_living15', 'sqft_patio', 'yr_built', 'yr_renovated'] + encoded_bedrooms_bins + encoded_condition + encoded_grade + encoded_view + encoded_zipcode\n",
    "\n",
    "y = y_train\n",
    "x = X_train.filter(cols, axis=1)\n",
    "\n",
    "y2 = y_test\n",
    "x2 = X_test.filter(cols, axis=1)"
   ]
  },
  {
   "cell_type": "code",
   "execution_count": 115,
   "metadata": {},
   "outputs": [
    {
     "name": "stdout",
     "output_type": "stream",
     "text": [
      "training score: 0.7200217318125802\n",
      "    test score: 0.7101396435050835\n"
     ]
    }
   ],
   "source": [
    "X_train_scaled, X_test_scaled, train_preds, test_preds = scale_score(x, y, x2, y2)"
   ]
  },
  {
   "cell_type": "code",
   "execution_count": 116,
   "metadata": {},
   "outputs": [
    {
     "name": "stdout",
     "output_type": "stream",
     "text": [
      "\n",
      "Training Metrics:\n",
      "R2: 0.720\n",
      "Mean Absolute Error: 158011.916\n",
      "Mean Squared Error: 50821775580.666\n",
      "Root Mean Squared Error: 225436.855\n",
      "\n",
      "Testing Metrics:\n",
      "R2: 0.710\n",
      "Mean Absolute Error: 161071.723\n",
      "Mean Squared Error: 52668561943.176\n",
      "Root Mean Squared Error: 229496.322\n"
     ]
    }
   ],
   "source": [
    "get_train_test_metrics(y_train, train_preds, y_test, test_preds)"
   ]
  },
  {
   "cell_type": "markdown",
   "metadata": {},
   "source": [
    "### Model 15"
   ]
  },
  {
   "cell_type": "code",
   "execution_count": 117,
   "metadata": {},
   "outputs": [],
   "source": [
    "cols = ['bathrooms', 'sqft_living', 'sqft_living15', 'yr_built', 'yr_renovated'] + encoded_bedrooms_bins + encoded_condition + encoded_floors + encoded_view + encoded_zipcode\n",
    "\n",
    "y = y_train\n",
    "x = X_train.filter(cols, axis=1)\n",
    "\n",
    "y2 = y_test\n",
    "x2 = X_test.filter(cols, axis=1)"
   ]
  },
  {
   "cell_type": "code",
   "execution_count": 118,
   "metadata": {},
   "outputs": [
    {
     "name": "stdout",
     "output_type": "stream",
     "text": [
      "training score: 0.702806915583734\n",
      "    test score: 0.6825201573987683\n"
     ]
    }
   ],
   "source": [
    "X_train_scaled, X_test_scaled, train_preds, test_preds = scale_score(x, y, x2, y2)"
   ]
  },
  {
   "cell_type": "code",
   "execution_count": 119,
   "metadata": {},
   "outputs": [
    {
     "name": "stdout",
     "output_type": "stream",
     "text": [
      "\n",
      "Training Metrics:\n",
      "R2: 0.703\n",
      "Mean Absolute Error: 163222.834\n",
      "Mean Squared Error: 53946616421.739\n",
      "Root Mean Squared Error: 232264.109\n",
      "\n",
      "Testing Metrics:\n",
      "R2: 0.683\n",
      "Mean Absolute Error: 167947.466\n",
      "Mean Squared Error: 57687111676.639\n",
      "Root Mean Squared Error: 240181.414\n"
     ]
    }
   ],
   "source": [
    "get_train_test_metrics(y_train, train_preds, y_test, test_preds)"
   ]
  }
 ],
 "metadata": {
  "kernelspec": {
   "display_name": "Python (learn-env)",
   "language": "python",
   "name": "learn-env"
  },
  "language_info": {
   "codemirror_mode": {
    "name": "ipython",
    "version": 3
   },
   "file_extension": ".py",
   "mimetype": "text/x-python",
   "name": "python",
   "nbconvert_exporter": "python",
   "pygments_lexer": "ipython3",
   "version": "3.9.12"
  }
 },
 "nbformat": 4,
 "nbformat_minor": 4
}
